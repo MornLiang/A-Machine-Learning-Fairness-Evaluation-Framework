{
 "cells": [
  {
   "cell_type": "code",
   "execution_count": 13,
   "metadata": {},
   "outputs": [
    {
     "name": "stdout",
     "output_type": "stream",
     "text": [
      "Warning: Looks like you're using an outdated `kagglehub` version (installed: 0.3.5), please consider upgrading to the latest version (0.3.6).\n",
      "Path to dataset files: /home/morning/.cache/kagglehub/datasets/abhinaba1biswas/esophageal-cancer-dataset/versions/1\n"
     ]
    }
   ],
   "source": [
    "import kagglehub\n",
    "\n",
    "# Download latest version\n",
    "path = kagglehub.dataset_download(\"abhinaba1biswas/esophageal-cancer-dataset\")\n",
    "\n",
    "print(\"Path to dataset files:\", path)"
   ]
  },
  {
   "cell_type": "code",
   "execution_count": 14,
   "metadata": {},
   "outputs": [
    {
     "name": "stdout",
     "output_type": "stream",
     "text": [
      "['Esophageal_Dataset.csv']\n"
     ]
    }
   ],
   "source": [
    "import os\n",
    "print(os.listdir(path))"
   ]
  },
  {
   "cell_type": "code",
   "execution_count": 15,
   "metadata": {},
   "outputs": [],
   "source": [
    "import pandas as pd\n",
    "import fairtl_emd as fl"
   ]
  },
  {
   "cell_type": "code",
   "execution_count": 16,
   "metadata": {},
   "outputs": [],
   "source": [
    "df = pd.read_csv(f'{path}/Esophageal_Dataset.csv')"
   ]
  },
  {
   "cell_type": "code",
   "execution_count": 17,
   "metadata": {},
   "outputs": [
    {
     "data": {
      "text/html": [
       "<div>\n",
       "<style scoped>\n",
       "    .dataframe tbody tr th:only-of-type {\n",
       "        vertical-align: middle;\n",
       "    }\n",
       "\n",
       "    .dataframe tbody tr th {\n",
       "        vertical-align: top;\n",
       "    }\n",
       "\n",
       "    .dataframe thead th {\n",
       "        text-align: right;\n",
       "    }\n",
       "</style>\n",
       "<table border=\"1\" class=\"dataframe\">\n",
       "  <thead>\n",
       "    <tr style=\"text-align: right;\">\n",
       "      <th></th>\n",
       "      <th>Unnamed: 0</th>\n",
       "      <th>patient_barcode</th>\n",
       "      <th>tissue_source_site</th>\n",
       "      <th>patient_id</th>\n",
       "      <th>bcr_patient_uuid</th>\n",
       "      <th>informed_consent_verified</th>\n",
       "      <th>icd_o_3_site</th>\n",
       "      <th>icd_o_3_histology</th>\n",
       "      <th>icd_10</th>\n",
       "      <th>tissue_prospective_collection_indicator</th>\n",
       "      <th>...</th>\n",
       "      <th>primary_pathology_lymph_node_examined_count</th>\n",
       "      <th>primary_pathology_number_of_lymphnodes_positive_by_he</th>\n",
       "      <th>primary_pathology_number_of_lymphnodes_positive_by_ihc</th>\n",
       "      <th>primary_pathology_planned_surgery_status</th>\n",
       "      <th>primary_pathology_treatment_prior_to_surgery</th>\n",
       "      <th>primary_pathology_residual_tumor</th>\n",
       "      <th>primary_pathology_karnofsky_performance_score</th>\n",
       "      <th>primary_pathology_eastern_cancer_oncology_group</th>\n",
       "      <th>primary_pathology_radiation_therapy</th>\n",
       "      <th>primary_pathology_postoperative_rx_tx</th>\n",
       "    </tr>\n",
       "  </thead>\n",
       "  <tbody>\n",
       "    <tr>\n",
       "      <th>0</th>\n",
       "      <td>0</td>\n",
       "      <td>TCGA-2H-A9GF</td>\n",
       "      <td>2H</td>\n",
       "      <td>A9GF</td>\n",
       "      <td>0500F1A6-A528-43F3-B035-12D3B7C99C0F</td>\n",
       "      <td>YES</td>\n",
       "      <td>C15.5</td>\n",
       "      <td>8140/3</td>\n",
       "      <td>C15.5</td>\n",
       "      <td>NO</td>\n",
       "      <td>...</td>\n",
       "      <td>8.0</td>\n",
       "      <td>7.0</td>\n",
       "      <td>0.0</td>\n",
       "      <td>NaN</td>\n",
       "      <td>NaN</td>\n",
       "      <td>R1</td>\n",
       "      <td>NaN</td>\n",
       "      <td>NaN</td>\n",
       "      <td>NO</td>\n",
       "      <td>NO</td>\n",
       "    </tr>\n",
       "    <tr>\n",
       "      <th>1</th>\n",
       "      <td>1</td>\n",
       "      <td>TCGA-2H-A9GG</td>\n",
       "      <td>2H</td>\n",
       "      <td>A9GG</td>\n",
       "      <td>70084008-697D-442D-8F74-C12F8F598570</td>\n",
       "      <td>YES</td>\n",
       "      <td>C15.5</td>\n",
       "      <td>8140/3</td>\n",
       "      <td>C15.5</td>\n",
       "      <td>NO</td>\n",
       "      <td>...</td>\n",
       "      <td>19.0</td>\n",
       "      <td>4.0</td>\n",
       "      <td>0.0</td>\n",
       "      <td>NaN</td>\n",
       "      <td>NaN</td>\n",
       "      <td>R1</td>\n",
       "      <td>NaN</td>\n",
       "      <td>NaN</td>\n",
       "      <td>NO</td>\n",
       "      <td>NO</td>\n",
       "    </tr>\n",
       "    <tr>\n",
       "      <th>2</th>\n",
       "      <td>2</td>\n",
       "      <td>TCGA-2H-A9GH</td>\n",
       "      <td>2H</td>\n",
       "      <td>A9GH</td>\n",
       "      <td>606DC5B8-7625-42A6-A936-504EF25623A4</td>\n",
       "      <td>YES</td>\n",
       "      <td>C15.5</td>\n",
       "      <td>8140/3</td>\n",
       "      <td>C15.5</td>\n",
       "      <td>NO</td>\n",
       "      <td>...</td>\n",
       "      <td>30.0</td>\n",
       "      <td>1.0</td>\n",
       "      <td>0.0</td>\n",
       "      <td>NaN</td>\n",
       "      <td>NaN</td>\n",
       "      <td>R0</td>\n",
       "      <td>NaN</td>\n",
       "      <td>NaN</td>\n",
       "      <td>NO</td>\n",
       "      <td>NO</td>\n",
       "    </tr>\n",
       "    <tr>\n",
       "      <th>3</th>\n",
       "      <td>3</td>\n",
       "      <td>TCGA-2H-A9GI</td>\n",
       "      <td>2H</td>\n",
       "      <td>A9GI</td>\n",
       "      <td>CEAF98F8-517E-457A-BF29-ACFE22893D49</td>\n",
       "      <td>YES</td>\n",
       "      <td>C15.5</td>\n",
       "      <td>8140/3</td>\n",
       "      <td>C15.5</td>\n",
       "      <td>NO</td>\n",
       "      <td>...</td>\n",
       "      <td>8.0</td>\n",
       "      <td>4.0</td>\n",
       "      <td>0.0</td>\n",
       "      <td>NaN</td>\n",
       "      <td>NaN</td>\n",
       "      <td>R0</td>\n",
       "      <td>NaN</td>\n",
       "      <td>NaN</td>\n",
       "      <td>NO</td>\n",
       "      <td>NO</td>\n",
       "    </tr>\n",
       "    <tr>\n",
       "      <th>4</th>\n",
       "      <td>4</td>\n",
       "      <td>TCGA-2H-A9GJ</td>\n",
       "      <td>2H</td>\n",
       "      <td>A9GJ</td>\n",
       "      <td>EE47CD59-C8D8-4B1E-96DB-91C679E4106F</td>\n",
       "      <td>YES</td>\n",
       "      <td>C15.5</td>\n",
       "      <td>8140/3</td>\n",
       "      <td>C15.5</td>\n",
       "      <td>NO</td>\n",
       "      <td>...</td>\n",
       "      <td>19.0</td>\n",
       "      <td>0.0</td>\n",
       "      <td>0.0</td>\n",
       "      <td>NaN</td>\n",
       "      <td>NaN</td>\n",
       "      <td>R0</td>\n",
       "      <td>NaN</td>\n",
       "      <td>NaN</td>\n",
       "      <td>NO</td>\n",
       "      <td>NO</td>\n",
       "    </tr>\n",
       "  </tbody>\n",
       "</table>\n",
       "<p>5 rows × 85 columns</p>\n",
       "</div>"
      ],
      "text/plain": [
       "   Unnamed: 0 patient_barcode tissue_source_site patient_id  \\\n",
       "0           0    TCGA-2H-A9GF                 2H       A9GF   \n",
       "1           1    TCGA-2H-A9GG                 2H       A9GG   \n",
       "2           2    TCGA-2H-A9GH                 2H       A9GH   \n",
       "3           3    TCGA-2H-A9GI                 2H       A9GI   \n",
       "4           4    TCGA-2H-A9GJ                 2H       A9GJ   \n",
       "\n",
       "                       bcr_patient_uuid informed_consent_verified  \\\n",
       "0  0500F1A6-A528-43F3-B035-12D3B7C99C0F                       YES   \n",
       "1  70084008-697D-442D-8F74-C12F8F598570                       YES   \n",
       "2  606DC5B8-7625-42A6-A936-504EF25623A4                       YES   \n",
       "3  CEAF98F8-517E-457A-BF29-ACFE22893D49                       YES   \n",
       "4  EE47CD59-C8D8-4B1E-96DB-91C679E4106F                       YES   \n",
       "\n",
       "  icd_o_3_site icd_o_3_histology icd_10  \\\n",
       "0        C15.5            8140/3  C15.5   \n",
       "1        C15.5            8140/3  C15.5   \n",
       "2        C15.5            8140/3  C15.5   \n",
       "3        C15.5            8140/3  C15.5   \n",
       "4        C15.5            8140/3  C15.5   \n",
       "\n",
       "  tissue_prospective_collection_indicator  ...  \\\n",
       "0                                      NO  ...   \n",
       "1                                      NO  ...   \n",
       "2                                      NO  ...   \n",
       "3                                      NO  ...   \n",
       "4                                      NO  ...   \n",
       "\n",
       "  primary_pathology_lymph_node_examined_count  \\\n",
       "0                                         8.0   \n",
       "1                                        19.0   \n",
       "2                                        30.0   \n",
       "3                                         8.0   \n",
       "4                                        19.0   \n",
       "\n",
       "   primary_pathology_number_of_lymphnodes_positive_by_he  \\\n",
       "0                                                7.0       \n",
       "1                                                4.0       \n",
       "2                                                1.0       \n",
       "3                                                4.0       \n",
       "4                                                0.0       \n",
       "\n",
       "  primary_pathology_number_of_lymphnodes_positive_by_ihc  \\\n",
       "0                                                0.0       \n",
       "1                                                0.0       \n",
       "2                                                0.0       \n",
       "3                                                0.0       \n",
       "4                                                0.0       \n",
       "\n",
       "  primary_pathology_planned_surgery_status  \\\n",
       "0                                      NaN   \n",
       "1                                      NaN   \n",
       "2                                      NaN   \n",
       "3                                      NaN   \n",
       "4                                      NaN   \n",
       "\n",
       "   primary_pathology_treatment_prior_to_surgery  \\\n",
       "0                                           NaN   \n",
       "1                                           NaN   \n",
       "2                                           NaN   \n",
       "3                                           NaN   \n",
       "4                                           NaN   \n",
       "\n",
       "   primary_pathology_residual_tumor  \\\n",
       "0                                R1   \n",
       "1                                R1   \n",
       "2                                R0   \n",
       "3                                R0   \n",
       "4                                R0   \n",
       "\n",
       "  primary_pathology_karnofsky_performance_score  \\\n",
       "0                                           NaN   \n",
       "1                                           NaN   \n",
       "2                                           NaN   \n",
       "3                                           NaN   \n",
       "4                                           NaN   \n",
       "\n",
       "  primary_pathology_eastern_cancer_oncology_group  \\\n",
       "0                                             NaN   \n",
       "1                                             NaN   \n",
       "2                                             NaN   \n",
       "3                                             NaN   \n",
       "4                                             NaN   \n",
       "\n",
       "  primary_pathology_radiation_therapy primary_pathology_postoperative_rx_tx  \n",
       "0                                  NO                                    NO  \n",
       "1                                  NO                                    NO  \n",
       "2                                  NO                                    NO  \n",
       "3                                  NO                                    NO  \n",
       "4                                  NO                                    NO  \n",
       "\n",
       "[5 rows x 85 columns]"
      ]
     },
     "execution_count": 17,
     "metadata": {},
     "output_type": "execute_result"
    }
   ],
   "source": [
    "df.head()"
   ]
  },
  {
   "cell_type": "code",
   "execution_count": 18,
   "metadata": {},
   "outputs": [
    {
     "name": "stdout",
     "output_type": "stream",
     "text": [
      "Index(['Unnamed: 0', 'patient_barcode', 'tissue_source_site', 'patient_id',\n",
      "       'bcr_patient_uuid', 'informed_consent_verified', 'icd_o_3_site',\n",
      "       'icd_o_3_histology', 'icd_10',\n",
      "       'tissue_prospective_collection_indicator',\n",
      "       'tissue_retrospective_collection_indicator', 'days_to_birth',\n",
      "       'country_of_birth', 'gender', 'height', 'weight',\n",
      "       'country_of_procurement', 'state_province_of_procurement',\n",
      "       'city_of_procurement', 'race_list', 'ethnicity', 'other_dx',\n",
      "       'history_of_neoadjuvant_treatment', 'person_neoplasm_cancer_status',\n",
      "       'vital_status', 'days_to_last_followup', 'days_to_death',\n",
      "       'tobacco_smoking_history', 'age_began_smoking_in_years',\n",
      "       'stopped_smoking_year', 'number_pack_years_smoked',\n",
      "       'alcohol_history_documented', 'frequency_of_alcohol_consumption',\n",
      "       'amount_of_alcohol_consumption_per_day', 'reflux_history',\n",
      "       'antireflux_treatment_types', 'h_pylori_infection',\n",
      "       'initial_diagnosis_by', 'barretts_esophagus', 'goblet_cells_present',\n",
      "       'history_of_esophageal_cancer', 'number_of_relatives_diagnosed',\n",
      "       'has_new_tumor_events_information', 'day_of_form_completion',\n",
      "       'month_of_form_completion', 'year_of_form_completion',\n",
      "       'has_follow_ups_information', 'has_drugs_information',\n",
      "       'has_radiations_information', 'project', 'stage_event_system_version',\n",
      "       'stage_event_clinical_stage', 'stage_event_pathologic_stage',\n",
      "       'stage_event_tnm_categories', 'stage_event_psa',\n",
      "       'stage_event_gleason_grading', 'stage_event_ann_arbor',\n",
      "       'stage_event_serum_markers', 'stage_event_igcccg_stage',\n",
      "       'stage_event_masaoka_stage', 'primary_pathology_tumor_tissue_site',\n",
      "       'primary_pathology_esophageal_tumor_cental_location',\n",
      "       'primary_pathology_esophageal_tumor_involvement_sites',\n",
      "       'primary_pathology_histological_type',\n",
      "       'primary_pathology_columnar_metaplasia_present',\n",
      "       'primary_pathology_columnar_mucosa_goblet_cell_present',\n",
      "       'primary_pathology_columnar_mucosa_dysplasia',\n",
      "       'primary_pathology_neoplasm_histologic_grade',\n",
      "       'primary_pathology_days_to_initial_pathologic_diagnosis',\n",
      "       'primary_pathology_age_at_initial_pathologic_diagnosis',\n",
      "       'primary_pathology_year_of_initial_pathologic_diagnosis',\n",
      "       'primary_pathology_initial_pathologic_diagnosis_method',\n",
      "       'primary_pathology_init_pathology_dx_method_other',\n",
      "       'primary_pathology_lymph_node_metastasis_radiographic_evidence',\n",
      "       'primary_pathology_primary_lymph_node_presentation_assessment',\n",
      "       'primary_pathology_lymph_node_examined_count',\n",
      "       'primary_pathology_number_of_lymphnodes_positive_by_he',\n",
      "       'primary_pathology_number_of_lymphnodes_positive_by_ihc',\n",
      "       'primary_pathology_planned_surgery_status',\n",
      "       'primary_pathology_treatment_prior_to_surgery',\n",
      "       'primary_pathology_residual_tumor',\n",
      "       'primary_pathology_karnofsky_performance_score',\n",
      "       'primary_pathology_eastern_cancer_oncology_group',\n",
      "       'primary_pathology_radiation_therapy',\n",
      "       'primary_pathology_postoperative_rx_tx'],\n",
      "      dtype='object')\n"
     ]
    }
   ],
   "source": [
    "print(df.columns)"
   ]
  },
  {
   "cell_type": "code",
   "execution_count": 19,
   "metadata": {},
   "outputs": [
    {
     "name": "stdout",
     "output_type": "stream",
     "text": [
      "['Dead' 'Alive']\n"
     ]
    }
   ],
   "source": [
    "print(df['vital_status'].unique())"
   ]
  },
  {
   "cell_type": "code",
   "execution_count": 20,
   "metadata": {},
   "outputs": [
    {
     "data": {
      "text/plain": [
       "(3985, 85)"
      ]
     },
     "execution_count": 20,
     "metadata": {},
     "output_type": "execute_result"
    }
   ],
   "source": [
    "df.shape"
   ]
  },
  {
   "cell_type": "code",
   "execution_count": 21,
   "metadata": {},
   "outputs": [
    {
     "data": {
      "text/plain": [
       "array(['MALE', 'FEMALE'], dtype=object)"
      ]
     },
     "execution_count": 21,
     "metadata": {},
     "output_type": "execute_result"
    }
   ],
   "source": [
    "df['gender'].unique()"
   ]
  },
  {
   "cell_type": "code",
   "execution_count": 22,
   "metadata": {},
   "outputs": [
    {
     "name": "stdout",
     "output_type": "stream",
     "text": [
      "(0.10719459336146908, 0.0, array([[0.69962359, 0.10719459],\n",
      "       [0.        , 0.19318182]]))\n"
     ]
    }
   ],
   "source": [
    "female = fl.EMD(df, 'gender', 'vital_status', 'FEMALE', 1000)\n",
    "print(female)"
   ]
  },
  {
   "cell_type": "code",
   "execution_count": 23,
   "metadata": {},
   "outputs": [
    {
     "name": "stdout",
     "output_type": "stream",
     "text": [
      "(0.019599842538042478, 0.07, array([[0.30037641, 0.01959984],\n",
      "       [0.        , 0.68002375]]))\n"
     ]
    }
   ],
   "source": [
    "male = fl.EMD(df, 'gender', 'vital_status', 'MALE', 1000)\n",
    "print(male)"
   ]
  }
 ],
 "metadata": {
  "kernelspec": {
   "display_name": "f2ml",
   "language": "python",
   "name": "python3"
  },
  "language_info": {
   "codemirror_mode": {
    "name": "ipython",
    "version": 3
   },
   "file_extension": ".py",
   "mimetype": "text/x-python",
   "name": "python",
   "nbconvert_exporter": "python",
   "pygments_lexer": "ipython3",
   "version": "3.13.0"
  }
 },
 "nbformat": 4,
 "nbformat_minor": 2
}
