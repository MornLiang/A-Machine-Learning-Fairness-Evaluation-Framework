{
 "cells": [
  {
   "cell_type": "code",
   "execution_count": 6,
   "metadata": {},
   "outputs": [
    {
     "name": "stdout",
     "output_type": "stream",
     "text": [
      "{'uci_id': 827, 'name': 'Sepsis Survival Minimal Clinical Records', 'repository_url': 'https://archive.ics.uci.edu/dataset/827/sepsis+survival+minimal+clinical+records', 'data_url': 'https://archive.ics.uci.edu/static/public/827/data.csv', 'abstract': 'The dataset consists of 110,204 admissions of 84,811 hospitalized subjects between 2011 and 2012 in Norway who were diagnosed with infections, systemic inflammatory response syndrome, sepsis by causative microbes, or septic shock.  The prediction task is to determine whether a patient survived or is deceased at a time of about 9 days after collecting their medical record at the hospital.\\n\\nThis is an important prediction problem in clinical medicine. Sepsis is a life-threatening condition triggered by an immune overreaction to infection, leading to organ failure or even death. Sepsis is associated with immediate death risk, often killing patients within one hour. This renders many laboratory tests and hospital analyses impractical for timely diagnosis and treatment. Being able to predict the survival of patients within minutes with as few and easy-to-retrieve medical features as possible is very important.', 'area': 'Health and Medicine', 'tasks': ['Classification'], 'characteristics': ['Multivariate'], 'num_instances': 110341, 'num_features': 3, 'feature_types': ['Integer'], 'demographics': ['Age', 'Gender'], 'target_col': ['hospital_outcome_1alive_0dead'], 'index_col': None, 'has_missing_values': 'no', 'missing_values_symbol': None, 'year_of_dataset_creation': 2020, 'last_updated': 'Fri Nov 03 2023', 'dataset_doi': '10.24432/C53C8N', 'creators': ['Davide Chicco', 'Giuseppe Jurman'], 'intro_paper': {'ID': 223, 'type': 'NATIVE', 'title': 'Survival prediction of patients with sepsis from age, sex, and septic episode number alone', 'authors': 'D. Chicco, Giuseppe Jurman', 'venue': 'Scientific Reports 10', 'year': 2020, 'journal': None, 'DOI': '10.1038/s41598-020-73558-3', 'URL': 'https://www.nature.com/articles/s41598-020-73558-3', 'sha': None, 'corpus': None, 'arxiv': None, 'mag': None, 'acl': None, 'pmid': None, 'pmcid': None}, 'additional_info': {'summary': \"Primary cohort from Norway:\\n- 4 features for 110,204 patient admissions\\n- file: 's41598-020-73558-3_sepsis_survival_primary_cohort.csv'\\n\\nStudy cohort (a subset of the primary cohort) from Norway:\\n- 4 features for 19,051 patient admissions\\n- file: 's41598-020-73558-3_sepsis_survival_study_cohort.csv'\\n\\nValidation cohort from South Korea:\\n- 4 features for 137 patients\\n- file: 's41598-020-73558-3_sepsis_survival_validation_cohort.csv'\\n\\nThe validation cohort from South Korea was used by Chicco and Jurman (2020) as an external validation cohort to confirm the generalizability of their proposed approach. \", 'purpose': None, 'funded_by': None, 'instances_represent': 'For the primary cohort, they represent records of patients affected by sepsis potential preconditions (ante Sepsis-3 definition); for the study cohort, they represent only the patients’ admissions defined by the novel Sepsis-3 definition.', 'recommended_data_splits': 'No recommendation, standard train-test split could be used. Can use three-way holdout split (i.e., training, validation/development, testing) when doing model selection.', 'sensitive_data': 'Yes. It contains information about the gender and age of the patient.', 'preprocessing_description': 'All the categorical variables have been encoded (so no preprocessing is necessary).', 'variable_info': None, 'citation': 'Davide Chicco, Giuseppe Jurman, Survival prediction of patients with sepsis from age, sex, and septic episode number alone. Scientific Reports 10, 17156 (2020) https://doi.org/10.1038/s41598-020-73558-3\\n'}}\n",
      "                            name     role     type demographic  \\\n",
      "0                      age_years  Feature  Integer         Age   \n",
      "1              sex_0male_1female  Feature   Binary      Gender   \n",
      "2                 episode_number  Feature  Integer        None   \n",
      "3  hospital_outcome_1alive_0dead   Target   Binary        None   \n",
      "\n",
      "                                         description  units missing_values  \n",
      "0                       Age of the patient in years.  years             no  \n",
      "1  Gender of the patient. Values are encoded as f...   None             no  \n",
      "2                    Number of prior Sepsis episodes   None             no  \n",
      "3  Status of the patient after 9,351 days of bein...   None             no  \n"
     ]
    }
   ],
   "source": [
    "from ucimlrepo import fetch_ucirepo \n",
    "  \n",
    "# fetch dataset \n",
    "sepsis_survival_minimal_clinical_records = fetch_ucirepo(id=827) \n",
    "  \n",
    "# data (as pandas dataframes) \n",
    "X = sepsis_survival_minimal_clinical_records.data.features \n",
    "y = sepsis_survival_minimal_clinical_records.data.targets \n",
    "  \n",
    "# metadata \n",
    "print(sepsis_survival_minimal_clinical_records.metadata) \n",
    "  \n",
    "# variable information \n",
    "print(sepsis_survival_minimal_clinical_records.variables) \n"
   ]
  },
  {
   "cell_type": "code",
   "execution_count": 7,
   "metadata": {},
   "outputs": [
    {
     "data": {
      "text/html": [
       "<div>\n",
       "<style scoped>\n",
       "    .dataframe tbody tr th:only-of-type {\n",
       "        vertical-align: middle;\n",
       "    }\n",
       "\n",
       "    .dataframe tbody tr th {\n",
       "        vertical-align: top;\n",
       "    }\n",
       "\n",
       "    .dataframe thead th {\n",
       "        text-align: right;\n",
       "    }\n",
       "</style>\n",
       "<table border=\"1\" class=\"dataframe\">\n",
       "  <thead>\n",
       "    <tr style=\"text-align: right;\">\n",
       "      <th></th>\n",
       "      <th>age_years</th>\n",
       "      <th>sex_0male_1female</th>\n",
       "      <th>episode_number</th>\n",
       "      <th>hospital_outcome_1alive_0dead</th>\n",
       "    </tr>\n",
       "  </thead>\n",
       "  <tbody>\n",
       "    <tr>\n",
       "      <th>0</th>\n",
       "      <td>21</td>\n",
       "      <td>1</td>\n",
       "      <td>1</td>\n",
       "      <td>1</td>\n",
       "    </tr>\n",
       "    <tr>\n",
       "      <th>1</th>\n",
       "      <td>20</td>\n",
       "      <td>1</td>\n",
       "      <td>1</td>\n",
       "      <td>1</td>\n",
       "    </tr>\n",
       "    <tr>\n",
       "      <th>2</th>\n",
       "      <td>21</td>\n",
       "      <td>1</td>\n",
       "      <td>1</td>\n",
       "      <td>1</td>\n",
       "    </tr>\n",
       "    <tr>\n",
       "      <th>3</th>\n",
       "      <td>77</td>\n",
       "      <td>0</td>\n",
       "      <td>1</td>\n",
       "      <td>1</td>\n",
       "    </tr>\n",
       "    <tr>\n",
       "      <th>4</th>\n",
       "      <td>72</td>\n",
       "      <td>0</td>\n",
       "      <td>1</td>\n",
       "      <td>1</td>\n",
       "    </tr>\n",
       "  </tbody>\n",
       "</table>\n",
       "</div>"
      ],
      "text/plain": [
       "   age_years  sex_0male_1female  episode_number  hospital_outcome_1alive_0dead\n",
       "0         21                  1               1                              1\n",
       "1         20                  1               1                              1\n",
       "2         21                  1               1                              1\n",
       "3         77                  0               1                              1\n",
       "4         72                  0               1                              1"
      ]
     },
     "execution_count": 7,
     "metadata": {},
     "output_type": "execute_result"
    }
   ],
   "source": [
    "import pandas as pd\n",
    "\n",
    "feature = pd.DataFrame(X)\n",
    "feature.head()\n",
    "target = pd.DataFrame(y)\n",
    "df = pd.concat([feature, target], axis=1)\n",
    "df.head()"
   ]
  },
  {
   "cell_type": "code",
   "execution_count": 8,
   "metadata": {},
   "outputs": [
    {
     "name": "stdout",
     "output_type": "stream",
     "text": [
      "[1 0]\n"
     ]
    }
   ],
   "source": [
    "print(df['sex_0male_1female'].unique())"
   ]
  },
  {
   "cell_type": "code",
   "execution_count": 9,
   "metadata": {},
   "outputs": [
    {
     "name": "stdout",
     "output_type": "stream",
     "text": [
      "[1 0]\n"
     ]
    }
   ],
   "source": [
    "print(df['hospital_outcome_1alive_0dead'].unique())"
   ]
  },
  {
   "cell_type": "code",
   "execution_count": 10,
   "metadata": {},
   "outputs": [],
   "source": [
    "import fairtl as fl"
   ]
  },
  {
   "cell_type": "code",
   "execution_count": 11,
   "metadata": {},
   "outputs": [
    {
     "name": "stdout",
     "output_type": "stream",
     "text": [
      "(0.00547849659475419, 0.0, array([[0.92632838, 0.0054785 ],\n",
      "       [0.        , 0.06819312]]))\n"
     ]
    }
   ],
   "source": [
    "female = fl.EMD(df, 'sex_0male_1female', 'hospital_outcome_1alive_0dead', 1, 1000)\n",
    "print(female)"
   ]
  },
  {
   "cell_type": "code",
   "execution_count": 12,
   "metadata": {},
   "outputs": [
    {
     "name": "stdout",
     "output_type": "stream",
     "text": [
      "(0.004932656682923031, 0.0, array([[0.07367162, 0.00493266],\n",
      "       [0.        , 0.92139573]]))\n"
     ]
    }
   ],
   "source": [
    "male = fl.EMD(df, 'sex_0male_1female', 'hospital_outcome_1alive_0dead', 0, 1000)\n",
    "print(male)"
   ]
  },
  {
   "cell_type": "code",
   "execution_count": 13,
   "metadata": {},
   "outputs": [
    {
     "data": {
      "text/plain": [
       "(110341, 4)"
      ]
     },
     "execution_count": 13,
     "metadata": {},
     "output_type": "execute_result"
    }
   ],
   "source": [
    "df.shape"
   ]
  },
  {
   "cell_type": "code",
   "execution_count": null,
   "metadata": {},
   "outputs": [],
   "source": []
  }
 ],
 "metadata": {
  "kernelspec": {
   "display_name": "f2ml",
   "language": "python",
   "name": "python3"
  },
  "language_info": {
   "codemirror_mode": {
    "name": "ipython",
    "version": 3
   },
   "file_extension": ".py",
   "mimetype": "text/x-python",
   "name": "python",
   "nbconvert_exporter": "python",
   "pygments_lexer": "ipython3",
   "version": "3.13.0"
  }
 },
 "nbformat": 4,
 "nbformat_minor": 2
}
