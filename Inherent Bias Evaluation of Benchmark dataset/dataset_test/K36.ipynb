{
 "cells": [
  {
   "cell_type": "code",
   "execution_count": 31,
   "metadata": {},
   "outputs": [
    {
     "name": "stdout",
     "output_type": "stream",
     "text": [
      "Warning: Looks like you're using an outdated `kagglehub` version (installed: 0.3.5), please consider upgrading to the latest version (0.3.6).\n",
      "Path to dataset files: /home/morning/.cache/kagglehub/datasets/homelysmile/datacad/versions/2\n"
     ]
    }
   ],
   "source": [
    "import kagglehub\n",
    "\n",
    "# Download latest version\n",
    "path = kagglehub.dataset_download(\"homelysmile/datacad\")\n",
    "\n",
    "print(\"Path to dataset files:\", path)"
   ]
  },
  {
   "cell_type": "code",
   "execution_count": 32,
   "metadata": {},
   "outputs": [
    {
     "data": {
      "text/plain": [
       "['DataClean-fullage.csv']"
      ]
     },
     "execution_count": 32,
     "metadata": {},
     "output_type": "execute_result"
    }
   ],
   "source": [
    "import os\n",
    "os.listdir(path)"
   ]
  },
  {
   "cell_type": "code",
   "execution_count": 33,
   "metadata": {},
   "outputs": [],
   "source": [
    "import pandas as pd\n",
    "import fairtl_emd as fl"
   ]
  },
  {
   "cell_type": "code",
   "execution_count": 34,
   "metadata": {},
   "outputs": [],
   "source": [
    "df = pd.read_csv(f'{path}/DataClean-fullage.csv')"
   ]
  },
  {
   "cell_type": "code",
   "execution_count": 35,
   "metadata": {},
   "outputs": [
    {
     "data": {
      "text/html": [
       "<div>\n",
       "<style scoped>\n",
       "    .dataframe tbody tr th:only-of-type {\n",
       "        vertical-align: middle;\n",
       "    }\n",
       "\n",
       "    .dataframe tbody tr th {\n",
       "        vertical-align: top;\n",
       "    }\n",
       "\n",
       "    .dataframe thead th {\n",
       "        text-align: right;\n",
       "    }\n",
       "</style>\n",
       "<table border=\"1\" class=\"dataframe\">\n",
       "  <thead>\n",
       "    <tr style=\"text-align: right;\">\n",
       "      <th></th>\n",
       "      <th>sno</th>\n",
       "      <th>age</th>\n",
       "      <th>gender</th>\n",
       "      <th>type</th>\n",
       "      <th>day_icu</th>\n",
       "      <th>outcome</th>\n",
       "      <th>smoking</th>\n",
       "      <th>alcohol</th>\n",
       "      <th>diabetes</th>\n",
       "      <th>hypertension</th>\n",
       "      <th>...</th>\n",
       "      <th>chest_infection</th>\n",
       "      <th>count</th>\n",
       "      <th>haemoglobin</th>\n",
       "      <th>anaemia</th>\n",
       "      <th>severe_anaemia</th>\n",
       "      <th>glucose</th>\n",
       "      <th>group_age</th>\n",
       "      <th>group_plate</th>\n",
       "      <th>group_leuk</th>\n",
       "      <th>group_ejectf</th>\n",
       "    </tr>\n",
       "  </thead>\n",
       "  <tbody>\n",
       "    <tr>\n",
       "      <th>0</th>\n",
       "      <td>1</td>\n",
       "      <td>81</td>\n",
       "      <td>M</td>\n",
       "      <td>E</td>\n",
       "      <td>2</td>\n",
       "      <td>DISCHARGE</td>\n",
       "      <td>0</td>\n",
       "      <td>0</td>\n",
       "      <td>1</td>\n",
       "      <td>0</td>\n",
       "      <td>...</td>\n",
       "      <td>0</td>\n",
       "      <td>1</td>\n",
       "      <td>9.5</td>\n",
       "      <td>1</td>\n",
       "      <td>0</td>\n",
       "      <td>80.0</td>\n",
       "      <td>76-150</td>\n",
       "      <td>normal</td>\n",
       "      <td>high</td>\n",
       "      <td>d_normal</td>\n",
       "    </tr>\n",
       "    <tr>\n",
       "      <th>1</th>\n",
       "      <td>3</td>\n",
       "      <td>53</td>\n",
       "      <td>M</td>\n",
       "      <td>E</td>\n",
       "      <td>3</td>\n",
       "      <td>DISCHARGE</td>\n",
       "      <td>0</td>\n",
       "      <td>0</td>\n",
       "      <td>1</td>\n",
       "      <td>0</td>\n",
       "      <td>...</td>\n",
       "      <td>0</td>\n",
       "      <td>1</td>\n",
       "      <td>10.6</td>\n",
       "      <td>0</td>\n",
       "      <td>0</td>\n",
       "      <td>187.0</td>\n",
       "      <td>46-60</td>\n",
       "      <td>normal</td>\n",
       "      <td>high</td>\n",
       "      <td>d_normal</td>\n",
       "    </tr>\n",
       "    <tr>\n",
       "      <th>2</th>\n",
       "      <td>5</td>\n",
       "      <td>60</td>\n",
       "      <td>F</td>\n",
       "      <td>E</td>\n",
       "      <td>9</td>\n",
       "      <td>DISCHARGE</td>\n",
       "      <td>0</td>\n",
       "      <td>0</td>\n",
       "      <td>0</td>\n",
       "      <td>1</td>\n",
       "      <td>...</td>\n",
       "      <td>0</td>\n",
       "      <td>1</td>\n",
       "      <td>13.6</td>\n",
       "      <td>0</td>\n",
       "      <td>0</td>\n",
       "      <td>144.0</td>\n",
       "      <td>46-60</td>\n",
       "      <td>low</td>\n",
       "      <td>normal</td>\n",
       "      <td>d_normal</td>\n",
       "    </tr>\n",
       "    <tr>\n",
       "      <th>3</th>\n",
       "      <td>6</td>\n",
       "      <td>44</td>\n",
       "      <td>M</td>\n",
       "      <td>E</td>\n",
       "      <td>8</td>\n",
       "      <td>DISCHARGE</td>\n",
       "      <td>0</td>\n",
       "      <td>0</td>\n",
       "      <td>1</td>\n",
       "      <td>1</td>\n",
       "      <td>...</td>\n",
       "      <td>0</td>\n",
       "      <td>1</td>\n",
       "      <td>13.5</td>\n",
       "      <td>0</td>\n",
       "      <td>0</td>\n",
       "      <td>217.0</td>\n",
       "      <td>31-45</td>\n",
       "      <td>normal</td>\n",
       "      <td>high</td>\n",
       "      <td>d_normal</td>\n",
       "    </tr>\n",
       "    <tr>\n",
       "      <th>4</th>\n",
       "      <td>7</td>\n",
       "      <td>56</td>\n",
       "      <td>F</td>\n",
       "      <td>E</td>\n",
       "      <td>2</td>\n",
       "      <td>DISCHARGE</td>\n",
       "      <td>0</td>\n",
       "      <td>0</td>\n",
       "      <td>1</td>\n",
       "      <td>1</td>\n",
       "      <td>...</td>\n",
       "      <td>0</td>\n",
       "      <td>1</td>\n",
       "      <td>13.3</td>\n",
       "      <td>0</td>\n",
       "      <td>0</td>\n",
       "      <td>277.0</td>\n",
       "      <td>46-60</td>\n",
       "      <td>normal</td>\n",
       "      <td>high</td>\n",
       "      <td>d_normal</td>\n",
       "    </tr>\n",
       "  </tbody>\n",
       "</table>\n",
       "<p>5 rows × 53 columns</p>\n",
       "</div>"
      ],
      "text/plain": [
       "   sno  age gender type  day_icu    outcome  smoking  alcohol  diabetes  \\\n",
       "0    1   81      M    E        2  DISCHARGE        0        0         1   \n",
       "1    3   53      M    E        3  DISCHARGE        0        0         1   \n",
       "2    5   60      F    E        9  DISCHARGE        0        0         0   \n",
       "3    6   44      M    E        8  DISCHARGE        0        0         1   \n",
       "4    7   56      F    E        2  DISCHARGE        0        0         1   \n",
       "\n",
       "   hypertension  ...  chest_infection  count  haemoglobin  anaemia  \\\n",
       "0             0  ...                0      1          9.5        1   \n",
       "1             0  ...                0      1         10.6        0   \n",
       "2             1  ...                0      1         13.6        0   \n",
       "3             1  ...                0      1         13.5        0   \n",
       "4             1  ...                0      1         13.3        0   \n",
       "\n",
       "   severe_anaemia  glucose  group_age  group_plate  group_leuk  group_ejectf  \n",
       "0               0     80.0     76-150       normal        high      d_normal  \n",
       "1               0    187.0      46-60       normal        high      d_normal  \n",
       "2               0    144.0      46-60          low      normal      d_normal  \n",
       "3               0    217.0      31-45       normal        high      d_normal  \n",
       "4               0    277.0      46-60       normal        high      d_normal  \n",
       "\n",
       "[5 rows x 53 columns]"
      ]
     },
     "execution_count": 35,
     "metadata": {},
     "output_type": "execute_result"
    }
   ],
   "source": [
    "df.head()"
   ]
  },
  {
   "cell_type": "code",
   "execution_count": 36,
   "metadata": {},
   "outputs": [
    {
     "data": {
      "text/plain": [
       "Index(['sno', 'age', 'gender', 'type', 'day_icu', 'outcome', 'smoking',\n",
       "       'alcohol', 'diabetes', 'hypertension', 'cad', 'cardiomyopathy', 'ckd',\n",
       "       'leuk_count', 'platelets', 'urea', 'creatinine', 'bnp',\n",
       "       'raised_cardiac', 'eject_fraction', 'stable_angina', 'acs', 'stemi',\n",
       "       'atypical_chest_pain', 'heart_failure', 'hfref', 'hfnef', 'valvular',\n",
       "       'chb', 'sick_sinus', 'acute_kidney', 'cva_infract', 'cva_bleed',\n",
       "       'atrial_fibril', 'ventricular', 'psvt', 'congenital', 'urinary_tract',\n",
       "       'neuro_cardiogenic_syncope', 'orthostatic', 'infective_endocarditis',\n",
       "       'deep_venous', 'pulmonary_embolism', 'chest_infection', 'count',\n",
       "       'haemoglobin', 'anaemia', 'severe_anaemia', 'glucose', 'group_age',\n",
       "       'group_plate', 'group_leuk', 'group_ejectf'],\n",
       "      dtype='object')"
      ]
     },
     "execution_count": 36,
     "metadata": {},
     "output_type": "execute_result"
    }
   ],
   "source": [
    "df.columns"
   ]
  },
  {
   "cell_type": "code",
   "execution_count": 37,
   "metadata": {},
   "outputs": [
    {
     "data": {
      "text/plain": [
       "array(['M', 'F'], dtype=object)"
      ]
     },
     "execution_count": 37,
     "metadata": {},
     "output_type": "execute_result"
    }
   ],
   "source": [
    "df['gender'].unique()"
   ]
  },
  {
   "cell_type": "code",
   "execution_count": 38,
   "metadata": {},
   "outputs": [
    {
     "data": {
      "text/plain": [
       "array([0, 1])"
      ]
     },
     "execution_count": 38,
     "metadata": {},
     "output_type": "execute_result"
    }
   ],
   "source": [
    "df['cad'].unique()"
   ]
  },
  {
   "cell_type": "code",
   "execution_count": 39,
   "metadata": {},
   "outputs": [
    {
     "data": {
      "text/plain": [
       "(6611, 53)"
      ]
     },
     "execution_count": 39,
     "metadata": {},
     "output_type": "execute_result"
    }
   ],
   "source": [
    "df.shape"
   ]
  },
  {
   "cell_type": "code",
   "execution_count": 40,
   "metadata": {},
   "outputs": [
    {
     "name": "stdout",
     "output_type": "stream",
     "text": [
      "(0.02636874435072989, 0.019, array([[0.30282862, 0.02636874],\n",
      "       [0.        , 0.67080264]]))\n"
     ]
    }
   ],
   "source": [
    "female = fl.EMD(df, 'gender', 'cad', 'F', 1000)\n",
    "print(female)"
   ]
  },
  {
   "cell_type": "code",
   "execution_count": 41,
   "metadata": {},
   "outputs": [
    {
     "name": "stdout",
     "output_type": "stream",
     "text": [
      "(0.01686631738108435, 0.06, array([[0.69717138, 0.01686632],\n",
      "       [0.        , 0.2859623 ]]))\n"
     ]
    }
   ],
   "source": [
    "male = fl.EMD(df, 'gender', 'cad', 'M', 1000)\n",
    "print(male)"
   ]
  }
 ],
 "metadata": {
  "kernelspec": {
   "display_name": "f2ml",
   "language": "python",
   "name": "python3"
  },
  "language_info": {
   "codemirror_mode": {
    "name": "ipython",
    "version": 3
   },
   "file_extension": ".py",
   "mimetype": "text/x-python",
   "name": "python",
   "nbconvert_exporter": "python",
   "pygments_lexer": "ipython3",
   "version": "3.13.0"
  }
 },
 "nbformat": 4,
 "nbformat_minor": 2
}
