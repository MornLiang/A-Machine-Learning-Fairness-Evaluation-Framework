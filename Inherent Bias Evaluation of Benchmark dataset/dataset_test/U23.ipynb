{
 "cells": [
  {
   "cell_type": "code",
   "execution_count": 27,
   "metadata": {},
   "outputs": [],
   "source": [
    "import pandas as pd\n",
    "import fairtl as fl"
   ]
  },
  {
   "cell_type": "code",
   "execution_count": 28,
   "metadata": {},
   "outputs": [],
   "source": [
    "df = pd.read_csv('/mnt/c/Users/Morning/Desktop/tmp_dataset/parkinson+dataset+with+replicated+acoustic+features/ReplicatedAcousticFeatures-ParkinsonDatabase.csv')"
   ]
  },
  {
   "cell_type": "code",
   "execution_count": 29,
   "metadata": {},
   "outputs": [
    {
     "data": {
      "text/html": [
       "<div>\n",
       "<style scoped>\n",
       "    .dataframe tbody tr th:only-of-type {\n",
       "        vertical-align: middle;\n",
       "    }\n",
       "\n",
       "    .dataframe tbody tr th {\n",
       "        vertical-align: top;\n",
       "    }\n",
       "\n",
       "    .dataframe thead th {\n",
       "        text-align: right;\n",
       "    }\n",
       "</style>\n",
       "<table border=\"1\" class=\"dataframe\">\n",
       "  <thead>\n",
       "    <tr style=\"text-align: right;\">\n",
       "      <th></th>\n",
       "      <th>ID</th>\n",
       "      <th>Recording</th>\n",
       "      <th>Status</th>\n",
       "      <th>Gender</th>\n",
       "      <th>Jitter_rel</th>\n",
       "      <th>Jitter_abs</th>\n",
       "      <th>Jitter_RAP</th>\n",
       "      <th>Jitter_PPQ</th>\n",
       "      <th>Shim_loc</th>\n",
       "      <th>Shim_dB</th>\n",
       "      <th>...</th>\n",
       "      <th>Delta3</th>\n",
       "      <th>Delta4</th>\n",
       "      <th>Delta5</th>\n",
       "      <th>Delta6</th>\n",
       "      <th>Delta7</th>\n",
       "      <th>Delta8</th>\n",
       "      <th>Delta9</th>\n",
       "      <th>Delta10</th>\n",
       "      <th>Delta11</th>\n",
       "      <th>Delta12</th>\n",
       "    </tr>\n",
       "  </thead>\n",
       "  <tbody>\n",
       "    <tr>\n",
       "      <th>0</th>\n",
       "      <td>CONT-01</td>\n",
       "      <td>1</td>\n",
       "      <td>0</td>\n",
       "      <td>1</td>\n",
       "      <td>0.25546</td>\n",
       "      <td>0.000015</td>\n",
       "      <td>0.001467</td>\n",
       "      <td>0.001673</td>\n",
       "      <td>0.030256</td>\n",
       "      <td>0.26313</td>\n",
       "      <td>...</td>\n",
       "      <td>1.407701</td>\n",
       "      <td>1.417218</td>\n",
       "      <td>1.380352</td>\n",
       "      <td>1.420670</td>\n",
       "      <td>1.451240</td>\n",
       "      <td>1.440295</td>\n",
       "      <td>1.403678</td>\n",
       "      <td>1.405495</td>\n",
       "      <td>1.416705</td>\n",
       "      <td>1.354610</td>\n",
       "    </tr>\n",
       "    <tr>\n",
       "      <th>1</th>\n",
       "      <td>CONT-01</td>\n",
       "      <td>2</td>\n",
       "      <td>0</td>\n",
       "      <td>1</td>\n",
       "      <td>0.36964</td>\n",
       "      <td>0.000022</td>\n",
       "      <td>0.001932</td>\n",
       "      <td>0.002245</td>\n",
       "      <td>0.023146</td>\n",
       "      <td>0.20217</td>\n",
       "      <td>...</td>\n",
       "      <td>1.331232</td>\n",
       "      <td>1.227338</td>\n",
       "      <td>1.213377</td>\n",
       "      <td>1.352739</td>\n",
       "      <td>1.354242</td>\n",
       "      <td>1.365692</td>\n",
       "      <td>1.322870</td>\n",
       "      <td>1.314549</td>\n",
       "      <td>1.318999</td>\n",
       "      <td>1.323508</td>\n",
       "    </tr>\n",
       "    <tr>\n",
       "      <th>2</th>\n",
       "      <td>CONT-01</td>\n",
       "      <td>3</td>\n",
       "      <td>0</td>\n",
       "      <td>1</td>\n",
       "      <td>0.23514</td>\n",
       "      <td>0.000013</td>\n",
       "      <td>0.001353</td>\n",
       "      <td>0.001546</td>\n",
       "      <td>0.019338</td>\n",
       "      <td>0.16710</td>\n",
       "      <td>...</td>\n",
       "      <td>1.412304</td>\n",
       "      <td>1.324674</td>\n",
       "      <td>1.276088</td>\n",
       "      <td>1.429634</td>\n",
       "      <td>1.455996</td>\n",
       "      <td>1.368882</td>\n",
       "      <td>1.438053</td>\n",
       "      <td>1.388910</td>\n",
       "      <td>1.305469</td>\n",
       "      <td>1.305402</td>\n",
       "    </tr>\n",
       "    <tr>\n",
       "      <th>3</th>\n",
       "      <td>CONT-02</td>\n",
       "      <td>1</td>\n",
       "      <td>0</td>\n",
       "      <td>0</td>\n",
       "      <td>0.29320</td>\n",
       "      <td>0.000017</td>\n",
       "      <td>0.001105</td>\n",
       "      <td>0.001444</td>\n",
       "      <td>0.024716</td>\n",
       "      <td>0.20892</td>\n",
       "      <td>...</td>\n",
       "      <td>1.501200</td>\n",
       "      <td>1.534170</td>\n",
       "      <td>1.323993</td>\n",
       "      <td>1.496442</td>\n",
       "      <td>1.472926</td>\n",
       "      <td>1.643177</td>\n",
       "      <td>1.551286</td>\n",
       "      <td>1.638346</td>\n",
       "      <td>1.604008</td>\n",
       "      <td>1.621456</td>\n",
       "    </tr>\n",
       "    <tr>\n",
       "      <th>4</th>\n",
       "      <td>CONT-02</td>\n",
       "      <td>2</td>\n",
       "      <td>0</td>\n",
       "      <td>0</td>\n",
       "      <td>0.23075</td>\n",
       "      <td>0.000015</td>\n",
       "      <td>0.001073</td>\n",
       "      <td>0.001404</td>\n",
       "      <td>0.013119</td>\n",
       "      <td>0.11607</td>\n",
       "      <td>...</td>\n",
       "      <td>1.508468</td>\n",
       "      <td>1.334511</td>\n",
       "      <td>1.610694</td>\n",
       "      <td>1.685021</td>\n",
       "      <td>1.417614</td>\n",
       "      <td>1.574895</td>\n",
       "      <td>1.640088</td>\n",
       "      <td>1.533666</td>\n",
       "      <td>1.297536</td>\n",
       "      <td>1.382023</td>\n",
       "    </tr>\n",
       "  </tbody>\n",
       "</table>\n",
       "<p>5 rows × 48 columns</p>\n",
       "</div>"
      ],
      "text/plain": [
       "        ID  Recording  Status  Gender  Jitter_rel  Jitter_abs  Jitter_RAP  \\\n",
       "0  CONT-01          1       0       1     0.25546    0.000015    0.001467   \n",
       "1  CONT-01          2       0       1     0.36964    0.000022    0.001932   \n",
       "2  CONT-01          3       0       1     0.23514    0.000013    0.001353   \n",
       "3  CONT-02          1       0       0     0.29320    0.000017    0.001105   \n",
       "4  CONT-02          2       0       0     0.23075    0.000015    0.001073   \n",
       "\n",
       "   Jitter_PPQ  Shim_loc  Shim_dB  ...    Delta3    Delta4    Delta5    Delta6  \\\n",
       "0    0.001673  0.030256  0.26313  ...  1.407701  1.417218  1.380352  1.420670   \n",
       "1    0.002245  0.023146  0.20217  ...  1.331232  1.227338  1.213377  1.352739   \n",
       "2    0.001546  0.019338  0.16710  ...  1.412304  1.324674  1.276088  1.429634   \n",
       "3    0.001444  0.024716  0.20892  ...  1.501200  1.534170  1.323993  1.496442   \n",
       "4    0.001404  0.013119  0.11607  ...  1.508468  1.334511  1.610694  1.685021   \n",
       "\n",
       "     Delta7    Delta8    Delta9   Delta10   Delta11   Delta12  \n",
       "0  1.451240  1.440295  1.403678  1.405495  1.416705  1.354610  \n",
       "1  1.354242  1.365692  1.322870  1.314549  1.318999  1.323508  \n",
       "2  1.455996  1.368882  1.438053  1.388910  1.305469  1.305402  \n",
       "3  1.472926  1.643177  1.551286  1.638346  1.604008  1.621456  \n",
       "4  1.417614  1.574895  1.640088  1.533666  1.297536  1.382023  \n",
       "\n",
       "[5 rows x 48 columns]"
      ]
     },
     "execution_count": 29,
     "metadata": {},
     "output_type": "execute_result"
    }
   ],
   "source": [
    "df.head()"
   ]
  },
  {
   "cell_type": "code",
   "execution_count": 30,
   "metadata": {},
   "outputs": [
    {
     "data": {
      "text/plain": [
       "array([1, 0])"
      ]
     },
     "execution_count": 30,
     "metadata": {},
     "output_type": "execute_result"
    }
   ],
   "source": [
    "df['Gender'].unique()"
   ]
  },
  {
   "cell_type": "code",
   "execution_count": 31,
   "metadata": {},
   "outputs": [
    {
     "data": {
      "text/plain": [
       "array([0, 1])"
      ]
     },
     "execution_count": 31,
     "metadata": {},
     "output_type": "execute_result"
    }
   ],
   "source": [
    "df['Status'].unique()"
   ]
  },
  {
   "cell_type": "code",
   "execution_count": 32,
   "metadata": {},
   "outputs": [
    {
     "data": {
      "text/plain": [
       "(240, 48)"
      ]
     },
     "execution_count": 32,
     "metadata": {},
     "output_type": "execute_result"
    }
   ],
   "source": [
    "df.shape"
   ]
  },
  {
   "cell_type": "code",
   "execution_count": 33,
   "metadata": {},
   "outputs": [
    {
     "name": "stdout",
     "output_type": "stream",
     "text": [
      "(0.04166666666666663, 0.464, array([[0.5       , 0.04166667],\n",
      "       [0.        , 0.45833333]]))\n"
     ]
    }
   ],
   "source": [
    "female = fl.EMD(df, 'Gender', 'Status', 0, 1000)\n",
    "print(female)"
   ]
  },
  {
   "cell_type": "code",
   "execution_count": 34,
   "metadata": {},
   "outputs": [
    {
     "name": "stdout",
     "output_type": "stream",
     "text": [
      "(0.0625, 0.342, array([[0.5   , 0.0625],\n",
      "       [0.    , 0.4375]]))\n"
     ]
    }
   ],
   "source": [
    "male = fl.EMD(df, 'Gender', 'Status', 1, 1000)\n",
    "print(male)"
   ]
  }
 ],
 "metadata": {
  "kernelspec": {
   "display_name": "f2ml",
   "language": "python",
   "name": "python3"
  },
  "language_info": {
   "codemirror_mode": {
    "name": "ipython",
    "version": 3
   },
   "file_extension": ".py",
   "mimetype": "text/x-python",
   "name": "python",
   "nbconvert_exporter": "python",
   "pygments_lexer": "ipython3",
   "version": "3.13.1"
  }
 },
 "nbformat": 4,
 "nbformat_minor": 2
}
