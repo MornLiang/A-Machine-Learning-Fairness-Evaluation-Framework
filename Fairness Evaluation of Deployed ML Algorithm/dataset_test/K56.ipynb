{
 "cells": [
  {
   "cell_type": "code",
   "execution_count": 1,
   "metadata": {},
   "outputs": [
    {
     "name": "stderr",
     "output_type": "stream",
     "text": [
      "/home/morning/miniconda3/envs/f2ml/lib/python3.13/site-packages/tqdm/auto.py:21: TqdmWarning: IProgress not found. Please update jupyter and ipywidgets. See https://ipywidgets.readthedocs.io/en/stable/user_install.html\n",
      "  from .autonotebook import tqdm as notebook_tqdm\n"
     ]
    },
    {
     "name": "stdout",
     "output_type": "stream",
     "text": [
      "Warning: Looks like you're using an outdated `kagglehub` version (installed: 0.3.5), please consider upgrading to the latest version (0.3.6).\n",
      "Path to dataset files: /home/morning/.cache/kagglehub/datasets/ziya07/student-health-data/versions/1\n"
     ]
    }
   ],
   "source": [
    "import kagglehub\n",
    "\n",
    "# Download latest version\n",
    "path = kagglehub.dataset_download(\"ziya07/student-health-data\")\n",
    "\n",
    "print(\"Path to dataset files:\", path)"
   ]
  },
  {
   "cell_type": "code",
   "execution_count": 2,
   "metadata": {},
   "outputs": [
    {
     "data": {
      "text/plain": [
       "['student_health_data.csv']"
      ]
     },
     "execution_count": 2,
     "metadata": {},
     "output_type": "execute_result"
    }
   ],
   "source": [
    "import os\n",
    "os.listdir(path)"
   ]
  },
  {
   "cell_type": "code",
   "execution_count": 3,
   "metadata": {},
   "outputs": [],
   "source": [
    "import pandas as pd\n",
    "import fairtl_statisticaltest as fl\n",
    "from sklearn.feature_selection import VarianceThreshold\n",
    "from sklearn.preprocessing import StandardScaler\n",
    "from sklearn.model_selection import KFold\n",
    "from sklearn.preprocessing import OrdinalEncoder, LabelEncoder"
   ]
  },
  {
   "cell_type": "code",
   "execution_count": 4,
   "metadata": {},
   "outputs": [
    {
     "data": {
      "text/html": [
       "<div>\n",
       "<style scoped>\n",
       "    .dataframe tbody tr th:only-of-type {\n",
       "        vertical-align: middle;\n",
       "    }\n",
       "\n",
       "    .dataframe tbody tr th {\n",
       "        vertical-align: top;\n",
       "    }\n",
       "\n",
       "    .dataframe thead th {\n",
       "        text-align: right;\n",
       "    }\n",
       "</style>\n",
       "<table border=\"1\" class=\"dataframe\">\n",
       "  <thead>\n",
       "    <tr style=\"text-align: right;\">\n",
       "      <th></th>\n",
       "      <th>Student_ID</th>\n",
       "      <th>Age</th>\n",
       "      <th>Gender</th>\n",
       "      <th>Heart_Rate</th>\n",
       "      <th>Blood_Pressure_Systolic</th>\n",
       "      <th>Blood_Pressure_Diastolic</th>\n",
       "      <th>Stress_Level_Biosensor</th>\n",
       "      <th>Stress_Level_Self_Report</th>\n",
       "      <th>Physical_Activity</th>\n",
       "      <th>Sleep_Quality</th>\n",
       "      <th>Mood</th>\n",
       "      <th>Study_Hours</th>\n",
       "      <th>Project_Hours</th>\n",
       "      <th>Health_Risk_Level</th>\n",
       "    </tr>\n",
       "  </thead>\n",
       "  <tbody>\n",
       "    <tr>\n",
       "      <th>0</th>\n",
       "      <td>1</td>\n",
       "      <td>24</td>\n",
       "      <td>M</td>\n",
       "      <td>50.663217</td>\n",
       "      <td>122.173015</td>\n",
       "      <td>84.419860</td>\n",
       "      <td>3.137350</td>\n",
       "      <td>9.028669</td>\n",
       "      <td>High</td>\n",
       "      <td>Moderate</td>\n",
       "      <td>Happy</td>\n",
       "      <td>34.520973</td>\n",
       "      <td>16.800956</td>\n",
       "      <td>Moderate</td>\n",
       "    </tr>\n",
       "    <tr>\n",
       "      <th>1</th>\n",
       "      <td>2</td>\n",
       "      <td>21</td>\n",
       "      <td>F</td>\n",
       "      <td>57.926042</td>\n",
       "      <td>110.778407</td>\n",
       "      <td>75.696145</td>\n",
       "      <td>3.699078</td>\n",
       "      <td>5.819697</td>\n",
       "      <td>Moderate</td>\n",
       "      <td>Good</td>\n",
       "      <td>Stressed</td>\n",
       "      <td>16.763846</td>\n",
       "      <td>15.791154</td>\n",
       "      <td>Moderate</td>\n",
       "    </tr>\n",
       "    <tr>\n",
       "      <th>2</th>\n",
       "      <td>3</td>\n",
       "      <td>22</td>\n",
       "      <td>M</td>\n",
       "      <td>59.294219</td>\n",
       "      <td>109.375673</td>\n",
       "      <td>83.803814</td>\n",
       "      <td>6.785156</td>\n",
       "      <td>5.892360</td>\n",
       "      <td>Low</td>\n",
       "      <td>Moderate</td>\n",
       "      <td>Happy</td>\n",
       "      <td>44.203798</td>\n",
       "      <td>25.678437</td>\n",
       "      <td>Moderate</td>\n",
       "    </tr>\n",
       "    <tr>\n",
       "      <th>3</th>\n",
       "      <td>4</td>\n",
       "      <td>24</td>\n",
       "      <td>M</td>\n",
       "      <td>76.826232</td>\n",
       "      <td>125.142227</td>\n",
       "      <td>78.091587</td>\n",
       "      <td>6.408509</td>\n",
       "      <td>6.884001</td>\n",
       "      <td>High</td>\n",
       "      <td>Poor</td>\n",
       "      <td>Happy</td>\n",
       "      <td>21.776645</td>\n",
       "      <td>20.808391</td>\n",
       "      <td>High</td>\n",
       "    </tr>\n",
       "    <tr>\n",
       "      <th>4</th>\n",
       "      <td>5</td>\n",
       "      <td>20</td>\n",
       "      <td>M</td>\n",
       "      <td>68.342769</td>\n",
       "      <td>107.515592</td>\n",
       "      <td>80.674937</td>\n",
       "      <td>7.264719</td>\n",
       "      <td>4.483450</td>\n",
       "      <td>Moderate</td>\n",
       "      <td>Poor</td>\n",
       "      <td>Happy</td>\n",
       "      <td>8.964999</td>\n",
       "      <td>15.194045</td>\n",
       "      <td>Moderate</td>\n",
       "    </tr>\n",
       "  </tbody>\n",
       "</table>\n",
       "</div>"
      ],
      "text/plain": [
       "   Student_ID  Age Gender  Heart_Rate  Blood_Pressure_Systolic  \\\n",
       "0           1   24      M   50.663217               122.173015   \n",
       "1           2   21      F   57.926042               110.778407   \n",
       "2           3   22      M   59.294219               109.375673   \n",
       "3           4   24      M   76.826232               125.142227   \n",
       "4           5   20      M   68.342769               107.515592   \n",
       "\n",
       "   Blood_Pressure_Diastolic  Stress_Level_Biosensor  Stress_Level_Self_Report  \\\n",
       "0                 84.419860                3.137350                  9.028669   \n",
       "1                 75.696145                3.699078                  5.819697   \n",
       "2                 83.803814                6.785156                  5.892360   \n",
       "3                 78.091587                6.408509                  6.884001   \n",
       "4                 80.674937                7.264719                  4.483450   \n",
       "\n",
       "  Physical_Activity Sleep_Quality      Mood  Study_Hours  Project_Hours  \\\n",
       "0              High      Moderate     Happy    34.520973      16.800956   \n",
       "1          Moderate          Good  Stressed    16.763846      15.791154   \n",
       "2               Low      Moderate     Happy    44.203798      25.678437   \n",
       "3              High          Poor     Happy    21.776645      20.808391   \n",
       "4          Moderate          Poor     Happy     8.964999      15.194045   \n",
       "\n",
       "  Health_Risk_Level  \n",
       "0          Moderate  \n",
       "1          Moderate  \n",
       "2          Moderate  \n",
       "3              High  \n",
       "4          Moderate  "
      ]
     },
     "execution_count": 4,
     "metadata": {},
     "output_type": "execute_result"
    }
   ],
   "source": [
    "df = pd.read_csv(f\"{path}/student_health_data.csv\")\n",
    "df.head()"
   ]
  },
  {
   "cell_type": "code",
   "execution_count": 5,
   "metadata": {},
   "outputs": [
    {
     "data": {
      "text/plain": [
       "(1000, 14)"
      ]
     },
     "execution_count": 5,
     "metadata": {},
     "output_type": "execute_result"
    }
   ],
   "source": [
    "df.shape"
   ]
  },
  {
   "cell_type": "code",
   "execution_count": 6,
   "metadata": {},
   "outputs": [
    {
     "name": "stdout",
     "output_type": "stream",
     "text": [
      "<class 'pandas.core.frame.DataFrame'>\n",
      "RangeIndex: 1000 entries, 0 to 999\n",
      "Data columns (total 14 columns):\n",
      " #   Column                    Non-Null Count  Dtype  \n",
      "---  ------                    --------------  -----  \n",
      " 0   Student_ID                1000 non-null   int64  \n",
      " 1   Age                       1000 non-null   int64  \n",
      " 2   Gender                    1000 non-null   object \n",
      " 3   Heart_Rate                1000 non-null   float64\n",
      " 4   Blood_Pressure_Systolic   1000 non-null   float64\n",
      " 5   Blood_Pressure_Diastolic  1000 non-null   float64\n",
      " 6   Stress_Level_Biosensor    1000 non-null   float64\n",
      " 7   Stress_Level_Self_Report  1000 non-null   float64\n",
      " 8   Physical_Activity         1000 non-null   object \n",
      " 9   Sleep_Quality             1000 non-null   object \n",
      " 10  Mood                      1000 non-null   object \n",
      " 11  Study_Hours               1000 non-null   float64\n",
      " 12  Project_Hours             1000 non-null   float64\n",
      " 13  Health_Risk_Level         1000 non-null   object \n",
      "dtypes: float64(7), int64(2), object(5)\n",
      "memory usage: 109.5+ KB\n"
     ]
    }
   ],
   "source": [
    "df.info()"
   ]
  },
  {
   "cell_type": "code",
   "execution_count": 7,
   "metadata": {},
   "outputs": [
    {
     "data": {
      "text/plain": [
       "array(['M', 'F'], dtype=object)"
      ]
     },
     "execution_count": 7,
     "metadata": {},
     "output_type": "execute_result"
    }
   ],
   "source": [
    "df['Gender'].unique()"
   ]
  },
  {
   "cell_type": "code",
   "execution_count": 8,
   "metadata": {},
   "outputs": [
    {
     "data": {
      "text/html": [
       "<div>\n",
       "<style scoped>\n",
       "    .dataframe tbody tr th:only-of-type {\n",
       "        vertical-align: middle;\n",
       "    }\n",
       "\n",
       "    .dataframe tbody tr th {\n",
       "        vertical-align: top;\n",
       "    }\n",
       "\n",
       "    .dataframe thead th {\n",
       "        text-align: right;\n",
       "    }\n",
       "</style>\n",
       "<table border=\"1\" class=\"dataframe\">\n",
       "  <thead>\n",
       "    <tr style=\"text-align: right;\">\n",
       "      <th></th>\n",
       "      <th>Age</th>\n",
       "      <th>Gender</th>\n",
       "      <th>Heart_Rate</th>\n",
       "      <th>Blood_Pressure_Systolic</th>\n",
       "      <th>Blood_Pressure_Diastolic</th>\n",
       "      <th>Stress_Level_Biosensor</th>\n",
       "      <th>Stress_Level_Self_Report</th>\n",
       "      <th>Physical_Activity</th>\n",
       "      <th>Sleep_Quality</th>\n",
       "      <th>Mood</th>\n",
       "      <th>Study_Hours</th>\n",
       "      <th>Project_Hours</th>\n",
       "      <th>Health_Risk_Level</th>\n",
       "    </tr>\n",
       "  </thead>\n",
       "  <tbody>\n",
       "    <tr>\n",
       "      <th>0</th>\n",
       "      <td>24</td>\n",
       "      <td>1</td>\n",
       "      <td>50.663217</td>\n",
       "      <td>122.173015</td>\n",
       "      <td>84.419860</td>\n",
       "      <td>3.137350</td>\n",
       "      <td>9.028669</td>\n",
       "      <td>High</td>\n",
       "      <td>Moderate</td>\n",
       "      <td>Happy</td>\n",
       "      <td>34.520973</td>\n",
       "      <td>16.800956</td>\n",
       "      <td>Moderate</td>\n",
       "    </tr>\n",
       "    <tr>\n",
       "      <th>1</th>\n",
       "      <td>21</td>\n",
       "      <td>0</td>\n",
       "      <td>57.926042</td>\n",
       "      <td>110.778407</td>\n",
       "      <td>75.696145</td>\n",
       "      <td>3.699078</td>\n",
       "      <td>5.819697</td>\n",
       "      <td>Moderate</td>\n",
       "      <td>Good</td>\n",
       "      <td>Stressed</td>\n",
       "      <td>16.763846</td>\n",
       "      <td>15.791154</td>\n",
       "      <td>Moderate</td>\n",
       "    </tr>\n",
       "    <tr>\n",
       "      <th>2</th>\n",
       "      <td>22</td>\n",
       "      <td>1</td>\n",
       "      <td>59.294219</td>\n",
       "      <td>109.375673</td>\n",
       "      <td>83.803814</td>\n",
       "      <td>6.785156</td>\n",
       "      <td>5.892360</td>\n",
       "      <td>Low</td>\n",
       "      <td>Moderate</td>\n",
       "      <td>Happy</td>\n",
       "      <td>44.203798</td>\n",
       "      <td>25.678437</td>\n",
       "      <td>Moderate</td>\n",
       "    </tr>\n",
       "    <tr>\n",
       "      <th>3</th>\n",
       "      <td>24</td>\n",
       "      <td>1</td>\n",
       "      <td>76.826232</td>\n",
       "      <td>125.142227</td>\n",
       "      <td>78.091587</td>\n",
       "      <td>6.408509</td>\n",
       "      <td>6.884001</td>\n",
       "      <td>High</td>\n",
       "      <td>Poor</td>\n",
       "      <td>Happy</td>\n",
       "      <td>21.776645</td>\n",
       "      <td>20.808391</td>\n",
       "      <td>High</td>\n",
       "    </tr>\n",
       "    <tr>\n",
       "      <th>4</th>\n",
       "      <td>20</td>\n",
       "      <td>1</td>\n",
       "      <td>68.342769</td>\n",
       "      <td>107.515592</td>\n",
       "      <td>80.674937</td>\n",
       "      <td>7.264719</td>\n",
       "      <td>4.483450</td>\n",
       "      <td>Moderate</td>\n",
       "      <td>Poor</td>\n",
       "      <td>Happy</td>\n",
       "      <td>8.964999</td>\n",
       "      <td>15.194045</td>\n",
       "      <td>Moderate</td>\n",
       "    </tr>\n",
       "  </tbody>\n",
       "</table>\n",
       "</div>"
      ],
      "text/plain": [
       "   Age  Gender  Heart_Rate  Blood_Pressure_Systolic  Blood_Pressure_Diastolic  \\\n",
       "0   24       1   50.663217               122.173015                 84.419860   \n",
       "1   21       0   57.926042               110.778407                 75.696145   \n",
       "2   22       1   59.294219               109.375673                 83.803814   \n",
       "3   24       1   76.826232               125.142227                 78.091587   \n",
       "4   20       1   68.342769               107.515592                 80.674937   \n",
       "\n",
       "   Stress_Level_Biosensor  Stress_Level_Self_Report Physical_Activity  \\\n",
       "0                3.137350                  9.028669              High   \n",
       "1                3.699078                  5.819697          Moderate   \n",
       "2                6.785156                  5.892360               Low   \n",
       "3                6.408509                  6.884001              High   \n",
       "4                7.264719                  4.483450          Moderate   \n",
       "\n",
       "  Sleep_Quality      Mood  Study_Hours  Project_Hours Health_Risk_Level  \n",
       "0      Moderate     Happy    34.520973      16.800956          Moderate  \n",
       "1          Good  Stressed    16.763846      15.791154          Moderate  \n",
       "2      Moderate     Happy    44.203798      25.678437          Moderate  \n",
       "3          Poor     Happy    21.776645      20.808391              High  \n",
       "4          Poor     Happy     8.964999      15.194045          Moderate  "
      ]
     },
     "execution_count": 8,
     "metadata": {},
     "output_type": "execute_result"
    }
   ],
   "source": [
    "df['Gender'] = df['Gender'].map({'F': 0, 'M': 1})\n",
    "df.drop('Student_ID', axis=1, inplace=True)\n",
    "df.head()"
   ]
  },
  {
   "cell_type": "code",
   "execution_count": 9,
   "metadata": {},
   "outputs": [],
   "source": [
    "df['Physical_Activity'] = df['Physical_Activity'].map({'Low': 0, 'Moderate': 1, 'High': 2})\n",
    "df['Sleep_Quality'] = df['Sleep_Quality'].map({'Poor': 0, 'Moderate': 1, 'Good': 2})\n",
    "df['Mood'] = df['Mood'].map({'Happy': 0, 'Neutral': 1, 'Stressed': 2})\n",
    "df['Health_Risk_Level'] = df['Health_Risk_Level'].map({'Low': 0, 'Moderate':1, 'High': 2})"
   ]
  },
  {
   "cell_type": "code",
   "execution_count": 10,
   "metadata": {},
   "outputs": [
    {
     "data": {
      "text/html": [
       "<div>\n",
       "<style scoped>\n",
       "    .dataframe tbody tr th:only-of-type {\n",
       "        vertical-align: middle;\n",
       "    }\n",
       "\n",
       "    .dataframe tbody tr th {\n",
       "        vertical-align: top;\n",
       "    }\n",
       "\n",
       "    .dataframe thead th {\n",
       "        text-align: right;\n",
       "    }\n",
       "</style>\n",
       "<table border=\"1\" class=\"dataframe\">\n",
       "  <thead>\n",
       "    <tr style=\"text-align: right;\">\n",
       "      <th></th>\n",
       "      <th>Age</th>\n",
       "      <th>Gender</th>\n",
       "      <th>Heart_Rate</th>\n",
       "      <th>Blood_Pressure_Systolic</th>\n",
       "      <th>Blood_Pressure_Diastolic</th>\n",
       "      <th>Stress_Level_Biosensor</th>\n",
       "      <th>Stress_Level_Self_Report</th>\n",
       "      <th>Physical_Activity</th>\n",
       "      <th>Sleep_Quality</th>\n",
       "      <th>Mood</th>\n",
       "      <th>Study_Hours</th>\n",
       "      <th>Project_Hours</th>\n",
       "      <th>Health_Risk_Level</th>\n",
       "    </tr>\n",
       "  </thead>\n",
       "  <tbody>\n",
       "    <tr>\n",
       "      <th>0</th>\n",
       "      <td>24</td>\n",
       "      <td>1</td>\n",
       "      <td>50.663217</td>\n",
       "      <td>122.173015</td>\n",
       "      <td>84.419860</td>\n",
       "      <td>3.137350</td>\n",
       "      <td>9.028669</td>\n",
       "      <td>2</td>\n",
       "      <td>1</td>\n",
       "      <td>0</td>\n",
       "      <td>34.520973</td>\n",
       "      <td>16.800956</td>\n",
       "      <td>1</td>\n",
       "    </tr>\n",
       "    <tr>\n",
       "      <th>1</th>\n",
       "      <td>21</td>\n",
       "      <td>0</td>\n",
       "      <td>57.926042</td>\n",
       "      <td>110.778407</td>\n",
       "      <td>75.696145</td>\n",
       "      <td>3.699078</td>\n",
       "      <td>5.819697</td>\n",
       "      <td>1</td>\n",
       "      <td>2</td>\n",
       "      <td>2</td>\n",
       "      <td>16.763846</td>\n",
       "      <td>15.791154</td>\n",
       "      <td>1</td>\n",
       "    </tr>\n",
       "    <tr>\n",
       "      <th>2</th>\n",
       "      <td>22</td>\n",
       "      <td>1</td>\n",
       "      <td>59.294219</td>\n",
       "      <td>109.375673</td>\n",
       "      <td>83.803814</td>\n",
       "      <td>6.785156</td>\n",
       "      <td>5.892360</td>\n",
       "      <td>0</td>\n",
       "      <td>1</td>\n",
       "      <td>0</td>\n",
       "      <td>44.203798</td>\n",
       "      <td>25.678437</td>\n",
       "      <td>1</td>\n",
       "    </tr>\n",
       "    <tr>\n",
       "      <th>3</th>\n",
       "      <td>24</td>\n",
       "      <td>1</td>\n",
       "      <td>76.826232</td>\n",
       "      <td>125.142227</td>\n",
       "      <td>78.091587</td>\n",
       "      <td>6.408509</td>\n",
       "      <td>6.884001</td>\n",
       "      <td>2</td>\n",
       "      <td>0</td>\n",
       "      <td>0</td>\n",
       "      <td>21.776645</td>\n",
       "      <td>20.808391</td>\n",
       "      <td>2</td>\n",
       "    </tr>\n",
       "    <tr>\n",
       "      <th>4</th>\n",
       "      <td>20</td>\n",
       "      <td>1</td>\n",
       "      <td>68.342769</td>\n",
       "      <td>107.515592</td>\n",
       "      <td>80.674937</td>\n",
       "      <td>7.264719</td>\n",
       "      <td>4.483450</td>\n",
       "      <td>1</td>\n",
       "      <td>0</td>\n",
       "      <td>0</td>\n",
       "      <td>8.964999</td>\n",
       "      <td>15.194045</td>\n",
       "      <td>1</td>\n",
       "    </tr>\n",
       "  </tbody>\n",
       "</table>\n",
       "</div>"
      ],
      "text/plain": [
       "   Age  Gender  Heart_Rate  Blood_Pressure_Systolic  Blood_Pressure_Diastolic  \\\n",
       "0   24       1   50.663217               122.173015                 84.419860   \n",
       "1   21       0   57.926042               110.778407                 75.696145   \n",
       "2   22       1   59.294219               109.375673                 83.803814   \n",
       "3   24       1   76.826232               125.142227                 78.091587   \n",
       "4   20       1   68.342769               107.515592                 80.674937   \n",
       "\n",
       "   Stress_Level_Biosensor  Stress_Level_Self_Report  Physical_Activity  \\\n",
       "0                3.137350                  9.028669                  2   \n",
       "1                3.699078                  5.819697                  1   \n",
       "2                6.785156                  5.892360                  0   \n",
       "3                6.408509                  6.884001                  2   \n",
       "4                7.264719                  4.483450                  1   \n",
       "\n",
       "   Sleep_Quality  Mood  Study_Hours  Project_Hours  Health_Risk_Level  \n",
       "0              1     0    34.520973      16.800956                  1  \n",
       "1              2     2    16.763846      15.791154                  1  \n",
       "2              1     0    44.203798      25.678437                  1  \n",
       "3              0     0    21.776645      20.808391                  2  \n",
       "4              0     0     8.964999      15.194045                  1  "
      ]
     },
     "execution_count": 10,
     "metadata": {},
     "output_type": "execute_result"
    }
   ],
   "source": [
    "df.head()"
   ]
  },
  {
   "cell_type": "code",
   "execution_count": 11,
   "metadata": {},
   "outputs": [],
   "source": [
    "y = df['Health_Risk_Level'].values\n",
    "X = df.drop('Health_Risk_Level', axis=1)"
   ]
  },
  {
   "cell_type": "code",
   "execution_count": 12,
   "metadata": {},
   "outputs": [
    {
     "name": "stdout",
     "output_type": "stream",
     "text": [
      "(1000, 12)\n",
      "(1000, 12)\n"
     ]
    }
   ],
   "source": [
    "print(X.shape)\n",
    "selector = VarianceThreshold(threshold=0.1)\n",
    "X = selector.fit_transform(X)\n",
    "print(X.shape)"
   ]
  },
  {
   "cell_type": "code",
   "execution_count": 13,
   "metadata": {},
   "outputs": [
    {
     "name": "stdout",
     "output_type": "stream",
     "text": [
      "Female:  481\n",
      "Male:  519\n"
     ]
    }
   ],
   "source": [
    "# build mask\n",
    "gender_0_mask = df['Gender'] == 0\n",
    "gender_1_mask = df['Gender'] == 1\n",
    "\n",
    "count_gender_0 = gender_0_mask.sum()\n",
    "count_gender_1 = gender_1_mask.sum()\n",
    "\n",
    "print(\"Female: \", count_gender_0)\n",
    "print(\"Male: \", count_gender_1)\n",
    "\n",
    "scaler = StandardScaler()\n",
    "X_scaled = scaler.fit_transform(X)\n",
    "\n",
    "X_scaled_Gender_0 = X_scaled[gender_0_mask]\n",
    "X_scaled_Gender_1 = X_scaled[gender_1_mask]\n",
    "y_Gender_0 = y[gender_0_mask]\n",
    "y_Gender_1 = y[gender_1_mask]"
   ]
  },
  {
   "cell_type": "code",
   "execution_count": 14,
   "metadata": {},
   "outputs": [],
   "source": [
    "seed = 42\n",
    "models = fl.build_models(seed)\n",
    "\n",
    "results_list = []\n",
    "\n",
    "kf = KFold(n_splits=10, shuffle=True, random_state=seed)"
   ]
  },
  {
   "cell_type": "code",
   "execution_count": 15,
   "metadata": {},
   "outputs": [
    {
     "name": "stdout",
     "output_type": "stream",
     "text": [
      "Starting experiments for Female(0)\n",
      "Processing fold 1 for group Female\n",
      "Training and evaluating model: SVM\n",
      "Training and evaluating model: LR\n",
      "Training and evaluating model: KNN\n",
      "Training and evaluating model: RF\n",
      "Training and evaluating model: DT\n",
      "Training and evaluating model: ANN\n"
     ]
    },
    {
     "name": "stderr",
     "output_type": "stream",
     "text": [
      "/home/morning/miniconda3/envs/f2ml/lib/python3.13/site-packages/sklearn/neural_network/_multilayer_perceptron.py:691: ConvergenceWarning: Stochastic Optimizer: Maximum iterations (200) reached and the optimization hasn't converged yet.\n",
      "  warnings.warn(\n"
     ]
    },
    {
     "name": "stdout",
     "output_type": "stream",
     "text": [
      "Training and evaluating model: NB\n",
      "Processing fold 2 for group Female\n",
      "Training and evaluating model: SVM\n",
      "Training and evaluating model: LR\n",
      "Training and evaluating model: KNN\n",
      "Training and evaluating model: RF\n",
      "Training and evaluating model: DT\n",
      "Training and evaluating model: ANN\n"
     ]
    },
    {
     "name": "stderr",
     "output_type": "stream",
     "text": [
      "/home/morning/miniconda3/envs/f2ml/lib/python3.13/site-packages/sklearn/neural_network/_multilayer_perceptron.py:691: ConvergenceWarning: Stochastic Optimizer: Maximum iterations (200) reached and the optimization hasn't converged yet.\n",
      "  warnings.warn(\n"
     ]
    },
    {
     "name": "stdout",
     "output_type": "stream",
     "text": [
      "Training and evaluating model: NB\n",
      "Processing fold 3 for group Female\n",
      "Training and evaluating model: SVM\n",
      "Training and evaluating model: LR\n",
      "Training and evaluating model: KNN\n",
      "Training and evaluating model: RF\n",
      "Training and evaluating model: DT\n",
      "Training and evaluating model: ANN\n"
     ]
    },
    {
     "name": "stderr",
     "output_type": "stream",
     "text": [
      "/home/morning/miniconda3/envs/f2ml/lib/python3.13/site-packages/sklearn/neural_network/_multilayer_perceptron.py:691: ConvergenceWarning: Stochastic Optimizer: Maximum iterations (200) reached and the optimization hasn't converged yet.\n",
      "  warnings.warn(\n"
     ]
    },
    {
     "name": "stdout",
     "output_type": "stream",
     "text": [
      "Training and evaluating model: NB\n",
      "Processing fold 4 for group Female\n",
      "Training and evaluating model: SVM\n",
      "Training and evaluating model: LR\n",
      "Training and evaluating model: KNN\n",
      "Training and evaluating model: RF\n",
      "Training and evaluating model: DT\n",
      "Training and evaluating model: ANN\n"
     ]
    },
    {
     "name": "stderr",
     "output_type": "stream",
     "text": [
      "/home/morning/miniconda3/envs/f2ml/lib/python3.13/site-packages/sklearn/neural_network/_multilayer_perceptron.py:691: ConvergenceWarning: Stochastic Optimizer: Maximum iterations (200) reached and the optimization hasn't converged yet.\n",
      "  warnings.warn(\n"
     ]
    },
    {
     "name": "stdout",
     "output_type": "stream",
     "text": [
      "Training and evaluating model: NB\n",
      "Processing fold 5 for group Female\n",
      "Training and evaluating model: SVM\n",
      "Training and evaluating model: LR\n",
      "Training and evaluating model: KNN\n",
      "Training and evaluating model: RF\n",
      "Training and evaluating model: DT\n",
      "Training and evaluating model: ANN\n"
     ]
    },
    {
     "name": "stderr",
     "output_type": "stream",
     "text": [
      "/home/morning/miniconda3/envs/f2ml/lib/python3.13/site-packages/sklearn/neural_network/_multilayer_perceptron.py:691: ConvergenceWarning: Stochastic Optimizer: Maximum iterations (200) reached and the optimization hasn't converged yet.\n",
      "  warnings.warn(\n"
     ]
    },
    {
     "name": "stdout",
     "output_type": "stream",
     "text": [
      "Training and evaluating model: NB\n",
      "Processing fold 6 for group Female\n",
      "Training and evaluating model: SVM\n",
      "Training and evaluating model: LR\n",
      "Training and evaluating model: KNN\n",
      "Training and evaluating model: RF\n",
      "Training and evaluating model: DT\n",
      "Training and evaluating model: ANN\n"
     ]
    },
    {
     "name": "stderr",
     "output_type": "stream",
     "text": [
      "/home/morning/miniconda3/envs/f2ml/lib/python3.13/site-packages/sklearn/neural_network/_multilayer_perceptron.py:691: ConvergenceWarning: Stochastic Optimizer: Maximum iterations (200) reached and the optimization hasn't converged yet.\n",
      "  warnings.warn(\n"
     ]
    },
    {
     "name": "stdout",
     "output_type": "stream",
     "text": [
      "Training and evaluating model: NB\n",
      "Processing fold 7 for group Female\n",
      "Training and evaluating model: SVM\n",
      "Training and evaluating model: LR\n",
      "Training and evaluating model: KNN\n",
      "Training and evaluating model: RF\n",
      "Training and evaluating model: DT\n",
      "Training and evaluating model: ANN\n"
     ]
    },
    {
     "name": "stderr",
     "output_type": "stream",
     "text": [
      "/home/morning/miniconda3/envs/f2ml/lib/python3.13/site-packages/sklearn/neural_network/_multilayer_perceptron.py:691: ConvergenceWarning: Stochastic Optimizer: Maximum iterations (200) reached and the optimization hasn't converged yet.\n",
      "  warnings.warn(\n"
     ]
    },
    {
     "name": "stdout",
     "output_type": "stream",
     "text": [
      "Training and evaluating model: NB\n",
      "Processing fold 8 for group Female\n",
      "Training and evaluating model: SVM\n",
      "Training and evaluating model: LR\n",
      "Training and evaluating model: KNN\n",
      "Training and evaluating model: RF\n",
      "Training and evaluating model: DT\n",
      "Training and evaluating model: ANN\n"
     ]
    },
    {
     "name": "stderr",
     "output_type": "stream",
     "text": [
      "/home/morning/miniconda3/envs/f2ml/lib/python3.13/site-packages/sklearn/neural_network/_multilayer_perceptron.py:691: ConvergenceWarning: Stochastic Optimizer: Maximum iterations (200) reached and the optimization hasn't converged yet.\n",
      "  warnings.warn(\n"
     ]
    },
    {
     "name": "stdout",
     "output_type": "stream",
     "text": [
      "Training and evaluating model: NB\n",
      "Processing fold 9 for group Female\n",
      "Training and evaluating model: SVM\n",
      "Training and evaluating model: LR\n",
      "Training and evaluating model: KNN\n",
      "Training and evaluating model: RF\n",
      "Training and evaluating model: DT\n",
      "Training and evaluating model: ANN\n"
     ]
    },
    {
     "name": "stderr",
     "output_type": "stream",
     "text": [
      "/home/morning/miniconda3/envs/f2ml/lib/python3.13/site-packages/sklearn/neural_network/_multilayer_perceptron.py:691: ConvergenceWarning: Stochastic Optimizer: Maximum iterations (200) reached and the optimization hasn't converged yet.\n",
      "  warnings.warn(\n"
     ]
    },
    {
     "name": "stdout",
     "output_type": "stream",
     "text": [
      "Training and evaluating model: NB\n",
      "Processing fold 10 for group Female\n",
      "Training and evaluating model: SVM\n",
      "Training and evaluating model: LR\n",
      "Training and evaluating model: KNN\n",
      "Training and evaluating model: RF\n",
      "Training and evaluating model: DT\n",
      "Training and evaluating model: ANN\n"
     ]
    },
    {
     "name": "stderr",
     "output_type": "stream",
     "text": [
      "/home/morning/miniconda3/envs/f2ml/lib/python3.13/site-packages/sklearn/neural_network/_multilayer_perceptron.py:691: ConvergenceWarning: Stochastic Optimizer: Maximum iterations (200) reached and the optimization hasn't converged yet.\n",
      "  warnings.warn(\n"
     ]
    },
    {
     "name": "stdout",
     "output_type": "stream",
     "text": [
      "Training and evaluating model: NB\n",
      "Starting experiments for Male(1)\n",
      "Processing fold 1 for group Male\n",
      "Training and evaluating model: SVM\n",
      "Training and evaluating model: LR\n",
      "Training and evaluating model: KNN\n",
      "Training and evaluating model: RF\n",
      "Training and evaluating model: DT\n",
      "Training and evaluating model: ANN\n"
     ]
    },
    {
     "name": "stderr",
     "output_type": "stream",
     "text": [
      "/home/morning/miniconda3/envs/f2ml/lib/python3.13/site-packages/sklearn/neural_network/_multilayer_perceptron.py:691: ConvergenceWarning: Stochastic Optimizer: Maximum iterations (200) reached and the optimization hasn't converged yet.\n",
      "  warnings.warn(\n"
     ]
    },
    {
     "name": "stdout",
     "output_type": "stream",
     "text": [
      "Training and evaluating model: NB\n",
      "Processing fold 2 for group Male\n",
      "Training and evaluating model: SVM\n",
      "Training and evaluating model: LR\n",
      "Training and evaluating model: KNN\n",
      "Training and evaluating model: RF\n",
      "Training and evaluating model: DT\n",
      "Training and evaluating model: ANN\n"
     ]
    },
    {
     "name": "stderr",
     "output_type": "stream",
     "text": [
      "/home/morning/miniconda3/envs/f2ml/lib/python3.13/site-packages/sklearn/neural_network/_multilayer_perceptron.py:691: ConvergenceWarning: Stochastic Optimizer: Maximum iterations (200) reached and the optimization hasn't converged yet.\n",
      "  warnings.warn(\n"
     ]
    },
    {
     "name": "stdout",
     "output_type": "stream",
     "text": [
      "Training and evaluating model: NB\n",
      "Processing fold 3 for group Male\n",
      "Training and evaluating model: SVM\n",
      "Training and evaluating model: LR\n",
      "Training and evaluating model: KNN\n",
      "Training and evaluating model: RF\n",
      "Training and evaluating model: DT\n",
      "Training and evaluating model: ANN\n"
     ]
    },
    {
     "name": "stderr",
     "output_type": "stream",
     "text": [
      "/home/morning/miniconda3/envs/f2ml/lib/python3.13/site-packages/sklearn/neural_network/_multilayer_perceptron.py:691: ConvergenceWarning: Stochastic Optimizer: Maximum iterations (200) reached and the optimization hasn't converged yet.\n",
      "  warnings.warn(\n"
     ]
    },
    {
     "name": "stdout",
     "output_type": "stream",
     "text": [
      "Training and evaluating model: NB\n",
      "Processing fold 4 for group Male\n",
      "Training and evaluating model: SVM\n",
      "Training and evaluating model: LR\n",
      "Training and evaluating model: KNN\n",
      "Training and evaluating model: RF\n",
      "Training and evaluating model: DT\n",
      "Training and evaluating model: ANN\n"
     ]
    },
    {
     "name": "stderr",
     "output_type": "stream",
     "text": [
      "/home/morning/miniconda3/envs/f2ml/lib/python3.13/site-packages/sklearn/neural_network/_multilayer_perceptron.py:691: ConvergenceWarning: Stochastic Optimizer: Maximum iterations (200) reached and the optimization hasn't converged yet.\n",
      "  warnings.warn(\n"
     ]
    },
    {
     "name": "stdout",
     "output_type": "stream",
     "text": [
      "Training and evaluating model: NB\n",
      "Processing fold 5 for group Male\n",
      "Training and evaluating model: SVM\n",
      "Training and evaluating model: LR\n",
      "Training and evaluating model: KNN\n",
      "Training and evaluating model: RF\n",
      "Training and evaluating model: DT\n",
      "Training and evaluating model: ANN\n"
     ]
    },
    {
     "name": "stderr",
     "output_type": "stream",
     "text": [
      "/home/morning/miniconda3/envs/f2ml/lib/python3.13/site-packages/sklearn/neural_network/_multilayer_perceptron.py:691: ConvergenceWarning: Stochastic Optimizer: Maximum iterations (200) reached and the optimization hasn't converged yet.\n",
      "  warnings.warn(\n"
     ]
    },
    {
     "name": "stdout",
     "output_type": "stream",
     "text": [
      "Training and evaluating model: NB\n",
      "Processing fold 6 for group Male\n",
      "Training and evaluating model: SVM\n",
      "Training and evaluating model: LR\n",
      "Training and evaluating model: KNN\n",
      "Training and evaluating model: RF\n",
      "Training and evaluating model: DT\n",
      "Training and evaluating model: ANN\n"
     ]
    },
    {
     "name": "stderr",
     "output_type": "stream",
     "text": [
      "/home/morning/miniconda3/envs/f2ml/lib/python3.13/site-packages/sklearn/neural_network/_multilayer_perceptron.py:691: ConvergenceWarning: Stochastic Optimizer: Maximum iterations (200) reached and the optimization hasn't converged yet.\n",
      "  warnings.warn(\n"
     ]
    },
    {
     "name": "stdout",
     "output_type": "stream",
     "text": [
      "Training and evaluating model: NB\n",
      "Processing fold 7 for group Male\n",
      "Training and evaluating model: SVM\n",
      "Training and evaluating model: LR\n",
      "Training and evaluating model: KNN\n",
      "Training and evaluating model: RF\n",
      "Training and evaluating model: DT\n",
      "Training and evaluating model: ANN\n"
     ]
    },
    {
     "name": "stderr",
     "output_type": "stream",
     "text": [
      "/home/morning/miniconda3/envs/f2ml/lib/python3.13/site-packages/sklearn/neural_network/_multilayer_perceptron.py:691: ConvergenceWarning: Stochastic Optimizer: Maximum iterations (200) reached and the optimization hasn't converged yet.\n",
      "  warnings.warn(\n"
     ]
    },
    {
     "name": "stdout",
     "output_type": "stream",
     "text": [
      "Training and evaluating model: NB\n",
      "Processing fold 8 for group Male\n",
      "Training and evaluating model: SVM\n",
      "Training and evaluating model: LR\n",
      "Training and evaluating model: KNN\n",
      "Training and evaluating model: RF\n",
      "Training and evaluating model: DT\n",
      "Training and evaluating model: ANN\n"
     ]
    },
    {
     "name": "stderr",
     "output_type": "stream",
     "text": [
      "/home/morning/miniconda3/envs/f2ml/lib/python3.13/site-packages/sklearn/neural_network/_multilayer_perceptron.py:691: ConvergenceWarning: Stochastic Optimizer: Maximum iterations (200) reached and the optimization hasn't converged yet.\n",
      "  warnings.warn(\n"
     ]
    },
    {
     "name": "stdout",
     "output_type": "stream",
     "text": [
      "Training and evaluating model: NB\n",
      "Processing fold 9 for group Male\n",
      "Training and evaluating model: SVM\n",
      "Training and evaluating model: LR\n",
      "Training and evaluating model: KNN\n",
      "Training and evaluating model: RF\n",
      "Training and evaluating model: DT\n",
      "Training and evaluating model: ANN\n"
     ]
    },
    {
     "name": "stderr",
     "output_type": "stream",
     "text": [
      "/home/morning/miniconda3/envs/f2ml/lib/python3.13/site-packages/sklearn/neural_network/_multilayer_perceptron.py:691: ConvergenceWarning: Stochastic Optimizer: Maximum iterations (200) reached and the optimization hasn't converged yet.\n",
      "  warnings.warn(\n"
     ]
    },
    {
     "name": "stdout",
     "output_type": "stream",
     "text": [
      "Training and evaluating model: NB\n",
      "Processing fold 10 for group Male\n",
      "Training and evaluating model: SVM\n",
      "Training and evaluating model: LR\n",
      "Training and evaluating model: KNN\n",
      "Training and evaluating model: RF\n",
      "Training and evaluating model: DT\n",
      "Training and evaluating model: ANN\n",
      "Training and evaluating model: NB\n",
      "    Fold   Group   SVM_TPR   SVM_TNR   SVM_FPR   SVM_FNR  SVM_TP  SVM_TN  \\\n",
      "0      1  Female  0.969697  0.666667  0.333333  0.030303      32       6   \n",
      "1      2  Female  0.966667  0.700000  0.300000  0.033333      29       7   \n",
      "2      3  Female  1.000000  0.777778  0.222222  0.000000      29       7   \n",
      "3      4  Female  1.000000  0.833333  0.166667  0.000000      37       5   \n",
      "4      5  Female  0.935484  0.666667  0.333333  0.064516      29       8   \n",
      "5      6  Female  1.000000  0.916667  0.083333  0.000000      30      11   \n",
      "6      7  Female  1.000000  0.700000  0.300000  0.000000      35       7   \n",
      "7      8  Female  1.000000  0.375000  0.625000  0.000000      33       3   \n",
      "8      9  Female  1.000000  0.714286  0.285714  0.000000      34       5   \n",
      "9     10  Female  0.967742  0.857143  0.142857  0.032258      30       6   \n",
      "10     1    Male  0.966667  0.875000  0.125000  0.033333      29      14   \n",
      "11     2    Male  0.972222  0.818182  0.181818  0.027778      35       9   \n",
      "12     3    Male  1.000000  0.666667  0.333333  0.000000      35       6   \n",
      "13     4    Male  0.971429  0.714286  0.285714  0.028571      34       5   \n",
      "14     5    Male  0.973684  0.833333  0.166667  0.026316      37       5   \n",
      "15     6    Male  1.000000  0.909091  0.090909  0.000000      30      10   \n",
      "16     7    Male  1.000000  0.785714  0.214286  0.000000      31      11   \n",
      "17     8    Male  0.937500  0.846154  0.153846  0.062500      30      11   \n",
      "18     9    Male  0.970588  1.000000  0.000000  0.029412      33       5   \n",
      "19    10    Male  0.972973  0.500000  0.500000  0.027027      36       4   \n",
      "\n",
      "    SVM_FP  SVM_FN  ...  ANN_FP  ANN_FN  NB_TPR    NB_TNR    NB_FPR  NB_FNR  \\\n",
      "0        3       1  ...       1       2     1.0  0.777778  0.222222     0.0   \n",
      "1        3       1  ...       1       1     1.0  0.600000  0.400000     0.0   \n",
      "2        2       0  ...       1       0     1.0  0.666667  0.333333     0.0   \n",
      "3        1       0  ...       1       0     1.0  1.000000  0.000000     0.0   \n",
      "4        4       2  ...       5       2     1.0  0.500000  0.500000     0.0   \n",
      "5        1       0  ...       0       1     1.0  0.833333  0.166667     0.0   \n",
      "6        3       0  ...       1       0     1.0  0.600000  0.400000     0.0   \n",
      "7        5       0  ...       5       1     1.0  0.625000  0.375000     0.0   \n",
      "8        2       0  ...       0       1     1.0  0.714286  0.285714     0.0   \n",
      "9        1       1  ...       0       2     1.0  0.857143  0.142857     0.0   \n",
      "10       2       1  ...       2       1     1.0  0.812500  0.187500     0.0   \n",
      "11       2       1  ...       1       1     1.0  0.818182  0.181818     0.0   \n",
      "12       3       0  ...       3       2     1.0  0.555556  0.444444     0.0   \n",
      "13       2       1  ...       2       2     1.0  0.714286  0.285714     0.0   \n",
      "14       1       1  ...       1       0     1.0  0.833333  0.166667     0.0   \n",
      "15       1       0  ...       1       0     1.0  0.727273  0.272727     0.0   \n",
      "16       3       0  ...       1       0     1.0  0.857143  0.142857     0.0   \n",
      "17       2       2  ...       1       1     1.0  0.615385  0.384615     0.0   \n",
      "18       0       1  ...       0       0     1.0  0.800000  0.200000     0.0   \n",
      "19       4       1  ...       4       1     1.0  0.625000  0.375000     0.0   \n",
      "\n",
      "    NB_TP  NB_TN  NB_FP  NB_FN  \n",
      "0      33      7      2      0  \n",
      "1      30      6      4      0  \n",
      "2      29      6      3      0  \n",
      "3      37      6      0      0  \n",
      "4      31      6      6      0  \n",
      "5      31     10      2      0  \n",
      "6      35      6      4      0  \n",
      "7      33      5      3      0  \n",
      "8      34      5      2      0  \n",
      "9      31      6      1      0  \n",
      "10     31     13      3      0  \n",
      "11     36      9      2      0  \n",
      "12     35      5      4      0  \n",
      "13     35      5      2      0  \n",
      "14     38      5      1      0  \n",
      "15     30      8      3      0  \n",
      "16     31     12      2      0  \n",
      "17     32      8      5      0  \n",
      "18     36      4      1      0  \n",
      "19     37      5      3      0  \n",
      "\n",
      "[20 rows x 58 columns]\n"
     ]
    },
    {
     "name": "stderr",
     "output_type": "stream",
     "text": [
      "/home/morning/miniconda3/envs/f2ml/lib/python3.13/site-packages/sklearn/neural_network/_multilayer_perceptron.py:691: ConvergenceWarning: Stochastic Optimizer: Maximum iterations (200) reached and the optimization hasn't converged yet.\n",
      "  warnings.warn(\n"
     ]
    }
   ],
   "source": [
    "print(\"Starting experiments for Female(0)\")\n",
    "fl.run_experiment(kf, models, X_scaled_Gender_0, y_Gender_0, 'Female', results_list)\n",
    "\n",
    "print(\"Starting experiments for Male(1)\")\n",
    "fl.run_experiment(kf, models, X_scaled_Gender_1, y_Gender_1, 'Male', results_list)\n",
    "\n",
    "final_results_df = pd.concat(results_list, ignore_index=True)\n",
    "print(final_results_df)"
   ]
  },
  {
   "cell_type": "code",
   "execution_count": 16,
   "metadata": {},
   "outputs": [],
   "source": [
    "results_df = pd.concat(results_list, ignore_index=True)"
   ]
  },
  {
   "cell_type": "code",
   "execution_count": 17,
   "metadata": {},
   "outputs": [],
   "source": [
    "result_path = './results/K56_result.xlsx'\n",
    "results_df.to_excel(result_path, index=False)"
   ]
  },
  {
   "cell_type": "code",
   "execution_count": 18,
   "metadata": {},
   "outputs": [
    {
     "data": {
      "text/html": [
       "<div>\n",
       "<style scoped>\n",
       "    .dataframe tbody tr th:only-of-type {\n",
       "        vertical-align: middle;\n",
       "    }\n",
       "\n",
       "    .dataframe tbody tr th {\n",
       "        vertical-align: top;\n",
       "    }\n",
       "\n",
       "    .dataframe thead th {\n",
       "        text-align: right;\n",
       "    }\n",
       "</style>\n",
       "<table border=\"1\" class=\"dataframe\">\n",
       "  <thead>\n",
       "    <tr style=\"text-align: right;\">\n",
       "      <th></th>\n",
       "      <th>Fold</th>\n",
       "      <th>Group</th>\n",
       "      <th>SVM_TPR</th>\n",
       "      <th>SVM_TNR</th>\n",
       "      <th>SVM_FPR</th>\n",
       "      <th>SVM_FNR</th>\n",
       "      <th>SVM_TP</th>\n",
       "      <th>SVM_TN</th>\n",
       "      <th>SVM_FP</th>\n",
       "      <th>SVM_FN</th>\n",
       "      <th>...</th>\n",
       "      <th>ANN_FP</th>\n",
       "      <th>ANN_FN</th>\n",
       "      <th>NB_TPR</th>\n",
       "      <th>NB_TNR</th>\n",
       "      <th>NB_FPR</th>\n",
       "      <th>NB_FNR</th>\n",
       "      <th>NB_TP</th>\n",
       "      <th>NB_TN</th>\n",
       "      <th>NB_FP</th>\n",
       "      <th>NB_FN</th>\n",
       "    </tr>\n",
       "  </thead>\n",
       "  <tbody>\n",
       "    <tr>\n",
       "      <th>0</th>\n",
       "      <td>1</td>\n",
       "      <td>Female</td>\n",
       "      <td>0.969697</td>\n",
       "      <td>0.666667</td>\n",
       "      <td>0.333333</td>\n",
       "      <td>0.030303</td>\n",
       "      <td>32</td>\n",
       "      <td>6</td>\n",
       "      <td>3</td>\n",
       "      <td>1</td>\n",
       "      <td>...</td>\n",
       "      <td>1</td>\n",
       "      <td>2</td>\n",
       "      <td>1</td>\n",
       "      <td>0.777778</td>\n",
       "      <td>0.222222</td>\n",
       "      <td>0</td>\n",
       "      <td>33</td>\n",
       "      <td>7</td>\n",
       "      <td>2</td>\n",
       "      <td>0</td>\n",
       "    </tr>\n",
       "    <tr>\n",
       "      <th>1</th>\n",
       "      <td>2</td>\n",
       "      <td>Female</td>\n",
       "      <td>0.966667</td>\n",
       "      <td>0.700000</td>\n",
       "      <td>0.300000</td>\n",
       "      <td>0.033333</td>\n",
       "      <td>29</td>\n",
       "      <td>7</td>\n",
       "      <td>3</td>\n",
       "      <td>1</td>\n",
       "      <td>...</td>\n",
       "      <td>1</td>\n",
       "      <td>1</td>\n",
       "      <td>1</td>\n",
       "      <td>0.600000</td>\n",
       "      <td>0.400000</td>\n",
       "      <td>0</td>\n",
       "      <td>30</td>\n",
       "      <td>6</td>\n",
       "      <td>4</td>\n",
       "      <td>0</td>\n",
       "    </tr>\n",
       "    <tr>\n",
       "      <th>2</th>\n",
       "      <td>3</td>\n",
       "      <td>Female</td>\n",
       "      <td>1.000000</td>\n",
       "      <td>0.777778</td>\n",
       "      <td>0.222222</td>\n",
       "      <td>0.000000</td>\n",
       "      <td>29</td>\n",
       "      <td>7</td>\n",
       "      <td>2</td>\n",
       "      <td>0</td>\n",
       "      <td>...</td>\n",
       "      <td>1</td>\n",
       "      <td>0</td>\n",
       "      <td>1</td>\n",
       "      <td>0.666667</td>\n",
       "      <td>0.333333</td>\n",
       "      <td>0</td>\n",
       "      <td>29</td>\n",
       "      <td>6</td>\n",
       "      <td>3</td>\n",
       "      <td>0</td>\n",
       "    </tr>\n",
       "    <tr>\n",
       "      <th>3</th>\n",
       "      <td>4</td>\n",
       "      <td>Female</td>\n",
       "      <td>1.000000</td>\n",
       "      <td>0.833333</td>\n",
       "      <td>0.166667</td>\n",
       "      <td>0.000000</td>\n",
       "      <td>37</td>\n",
       "      <td>5</td>\n",
       "      <td>1</td>\n",
       "      <td>0</td>\n",
       "      <td>...</td>\n",
       "      <td>1</td>\n",
       "      <td>0</td>\n",
       "      <td>1</td>\n",
       "      <td>1.000000</td>\n",
       "      <td>0.000000</td>\n",
       "      <td>0</td>\n",
       "      <td>37</td>\n",
       "      <td>6</td>\n",
       "      <td>0</td>\n",
       "      <td>0</td>\n",
       "    </tr>\n",
       "    <tr>\n",
       "      <th>4</th>\n",
       "      <td>5</td>\n",
       "      <td>Female</td>\n",
       "      <td>0.935484</td>\n",
       "      <td>0.666667</td>\n",
       "      <td>0.333333</td>\n",
       "      <td>0.064516</td>\n",
       "      <td>29</td>\n",
       "      <td>8</td>\n",
       "      <td>4</td>\n",
       "      <td>2</td>\n",
       "      <td>...</td>\n",
       "      <td>5</td>\n",
       "      <td>2</td>\n",
       "      <td>1</td>\n",
       "      <td>0.500000</td>\n",
       "      <td>0.500000</td>\n",
       "      <td>0</td>\n",
       "      <td>31</td>\n",
       "      <td>6</td>\n",
       "      <td>6</td>\n",
       "      <td>0</td>\n",
       "    </tr>\n",
       "  </tbody>\n",
       "</table>\n",
       "<p>5 rows × 58 columns</p>\n",
       "</div>"
      ],
      "text/plain": [
       "   Fold   Group   SVM_TPR   SVM_TNR   SVM_FPR   SVM_FNR  SVM_TP  SVM_TN  \\\n",
       "0     1  Female  0.969697  0.666667  0.333333  0.030303      32       6   \n",
       "1     2  Female  0.966667  0.700000  0.300000  0.033333      29       7   \n",
       "2     3  Female  1.000000  0.777778  0.222222  0.000000      29       7   \n",
       "3     4  Female  1.000000  0.833333  0.166667  0.000000      37       5   \n",
       "4     5  Female  0.935484  0.666667  0.333333  0.064516      29       8   \n",
       "\n",
       "   SVM_FP  SVM_FN  ...  ANN_FP  ANN_FN  NB_TPR    NB_TNR    NB_FPR  NB_FNR  \\\n",
       "0       3       1  ...       1       2       1  0.777778  0.222222       0   \n",
       "1       3       1  ...       1       1       1  0.600000  0.400000       0   \n",
       "2       2       0  ...       1       0       1  0.666667  0.333333       0   \n",
       "3       1       0  ...       1       0       1  1.000000  0.000000       0   \n",
       "4       4       2  ...       5       2       1  0.500000  0.500000       0   \n",
       "\n",
       "   NB_TP  NB_TN  NB_FP  NB_FN  \n",
       "0     33      7      2      0  \n",
       "1     30      6      4      0  \n",
       "2     29      6      3      0  \n",
       "3     37      6      0      0  \n",
       "4     31      6      6      0  \n",
       "\n",
       "[5 rows x 58 columns]"
      ]
     },
     "execution_count": 18,
     "metadata": {},
     "output_type": "execute_result"
    }
   ],
   "source": [
    "df = pd.read_excel(result_path)\n",
    "df.head()"
   ]
  },
  {
   "cell_type": "code",
   "execution_count": 19,
   "metadata": {},
   "outputs": [
    {
     "name": "stdout",
     "output_type": "stream",
     "text": [
      "SVM -TPR: MannwhitneyuResult(statistic=np.float64(56.5), pvalue=np.float64(0.6342789545931454))\n",
      "SVM - FPR: TtestResult(statistic=np.float64(1.147211180799748), pvalue=np.float64(0.26631489638593686), df=np.float64(18.0))\n",
      "SVM - FN/FP: MannwhitneyuResult(statistic=np.float64(31.5), pvalue=np.float64(0.15268864987970437))\n",
      "DT -TPR: MannwhitneyuResult(statistic=np.float64(50.0), pvalue=np.float64(1.0))\n",
      "DT - FPR: MannwhitneyuResult(statistic=np.float64(50.5), pvalue=np.float64(1.0))\n",
      "DT - FN/FP: MannwhitneyuResult(statistic=np.float64(50.0), pvalue=np.float64(1.0))\n",
      "RF -TPR: MannwhitneyuResult(statistic=np.float64(50.0), pvalue=np.float64(1.0))\n",
      "RF - FPR: MannwhitneyuResult(statistic=np.float64(46.5), pvalue=np.float64(0.7975994275791178))\n",
      "RF - FN/FP: MannwhitneyuResult(statistic=np.float64(50.0), pvalue=np.float64(1.0))\n",
      "LR -TPR: TtestResult(statistic=np.float64(-0.6796920278737156), pvalue=np.float64(0.5053473981505123), df=np.float64(18.0))\n",
      "LR - FPR: TtestResult(statistic=np.float64(0.0812602182933039), pvalue=np.float64(0.9361317452061549), df=np.float64(18.0))\n",
      "LR - FN/FP: MannwhitneyuResult(statistic=np.float64(62.5), pvalue=np.float64(0.3570132730029949))\n",
      "KNN -TPR: MannwhitneyuResult(statistic=np.float64(42.0), pvalue=np.float64(0.5688554255386256))\n",
      "KNN - FPR: TtestResult(statistic=np.float64(-0.9226749968369957), pvalue=np.float64(0.371786465655742), df=np.float64(14.017136159599447))\n",
      "KNN - FN/FP: MannwhitneyuResult(statistic=np.float64(66.5), pvalue=np.float64(0.22331715360200388))\n",
      "ANN -TPR: MannwhitneyuResult(statistic=np.float64(35.5), pvalue=np.float64(0.2789926115344017))\n",
      "ANN - FPR: MannwhitneyuResult(statistic=np.float64(46.0), pvalue=np.float64(0.7900217196826306))\n",
      "ANN - FN/FP: MannwhitneyuResult(statistic=np.float64(63.0), pvalue=np.float64(0.33336646698650185))\n",
      "NB -TPR: MannwhitneyuResult(statistic=np.float64(50.0), pvalue=np.float64(1.0))\n",
      "NB - FPR: TtestResult(statistic=np.float64(0.3177582234025787), pvalue=np.float64(0.7543250371896805), df=np.float64(18.0))\n",
      "NB - FN/FP: MannwhitneyuResult(statistic=np.float64(50.0), pvalue=np.float64(1.0))\n"
     ]
    }
   ],
   "source": [
    "label = 'Female'\n",
    "\n",
    "fl.perform_t_tests(df, 'SVM', label)\n",
    "fl.perform_t_tests(df, 'DT', label)\n",
    "fl.perform_t_tests(df, 'RF', label)\n",
    "fl.perform_t_tests(df, 'LR', label)\n",
    "fl.perform_t_tests(df, 'KNN', label)\n",
    "fl.perform_t_tests(df, 'ANN', label)\n",
    "fl.perform_t_tests(df, 'NB', label)\n"
   ]
  }
 ],
 "metadata": {
  "kernelspec": {
   "display_name": "f2ml",
   "language": "python",
   "name": "python3"
  },
  "language_info": {
   "codemirror_mode": {
    "name": "ipython",
    "version": 3
   },
   "file_extension": ".py",
   "mimetype": "text/x-python",
   "name": "python",
   "nbconvert_exporter": "python",
   "pygments_lexer": "ipython3",
   "version": "3.13.1"
  }
 },
 "nbformat": 4,
 "nbformat_minor": 2
}
