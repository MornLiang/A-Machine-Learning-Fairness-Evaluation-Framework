{
 "cells": [
  {
   "cell_type": "code",
   "execution_count": 1,
   "metadata": {},
   "outputs": [
    {
     "name": "stderr",
     "output_type": "stream",
     "text": [
      "/home/morning/miniconda3/envs/f2ml/lib/python3.13/site-packages/tqdm/auto.py:21: TqdmWarning: IProgress not found. Please update jupyter and ipywidgets. See https://ipywidgets.readthedocs.io/en/stable/user_install.html\n",
      "  from .autonotebook import tqdm as notebook_tqdm\n"
     ]
    },
    {
     "name": "stdout",
     "output_type": "stream",
     "text": [
      "Warning: Looks like you're using an outdated `kagglehub` version (installed: 0.3.5), please consider upgrading to the latest version (0.3.6).\n",
      "Path to dataset files: /home/morning/.cache/kagglehub/datasets/rabieelkharoua/chronic-kidney-disease-dataset-analysis/versions/1\n"
     ]
    }
   ],
   "source": [
    "import kagglehub\n",
    "\n",
    "# Download latest version\n",
    "path = kagglehub.dataset_download(\"rabieelkharoua/chronic-kidney-disease-dataset-analysis\")\n",
    "\n",
    "print(\"Path to dataset files:\", path)"
   ]
  },
  {
   "cell_type": "code",
   "execution_count": 2,
   "metadata": {},
   "outputs": [
    {
     "data": {
      "text/plain": [
       "['Chronic_Kidney_Dsease_data.csv']"
      ]
     },
     "execution_count": 2,
     "metadata": {},
     "output_type": "execute_result"
    }
   ],
   "source": [
    "import os\n",
    "os.listdir(path)"
   ]
  },
  {
   "cell_type": "code",
   "execution_count": 3,
   "metadata": {},
   "outputs": [],
   "source": [
    "import pandas as pd\n",
    "import fairtl as fl\n",
    "from sklearn.feature_selection import VarianceThreshold\n",
    "from sklearn.preprocessing import StandardScaler\n",
    "from sklearn.model_selection import KFold\n",
    "from sklearn.preprocessing import OrdinalEncoder, LabelEncoder"
   ]
  },
  {
   "cell_type": "code",
   "execution_count": 4,
   "metadata": {},
   "outputs": [
    {
     "data": {
      "text/html": [
       "<div>\n",
       "<style scoped>\n",
       "    .dataframe tbody tr th:only-of-type {\n",
       "        vertical-align: middle;\n",
       "    }\n",
       "\n",
       "    .dataframe tbody tr th {\n",
       "        vertical-align: top;\n",
       "    }\n",
       "\n",
       "    .dataframe thead th {\n",
       "        text-align: right;\n",
       "    }\n",
       "</style>\n",
       "<table border=\"1\" class=\"dataframe\">\n",
       "  <thead>\n",
       "    <tr style=\"text-align: right;\">\n",
       "      <th></th>\n",
       "      <th>PatientID</th>\n",
       "      <th>Age</th>\n",
       "      <th>Gender</th>\n",
       "      <th>Ethnicity</th>\n",
       "      <th>SocioeconomicStatus</th>\n",
       "      <th>EducationLevel</th>\n",
       "      <th>BMI</th>\n",
       "      <th>Smoking</th>\n",
       "      <th>AlcoholConsumption</th>\n",
       "      <th>PhysicalActivity</th>\n",
       "      <th>...</th>\n",
       "      <th>Itching</th>\n",
       "      <th>QualityOfLifeScore</th>\n",
       "      <th>HeavyMetalsExposure</th>\n",
       "      <th>OccupationalExposureChemicals</th>\n",
       "      <th>WaterQuality</th>\n",
       "      <th>MedicalCheckupsFrequency</th>\n",
       "      <th>MedicationAdherence</th>\n",
       "      <th>HealthLiteracy</th>\n",
       "      <th>Diagnosis</th>\n",
       "      <th>DoctorInCharge</th>\n",
       "    </tr>\n",
       "  </thead>\n",
       "  <tbody>\n",
       "    <tr>\n",
       "      <th>0</th>\n",
       "      <td>1</td>\n",
       "      <td>71</td>\n",
       "      <td>0</td>\n",
       "      <td>0</td>\n",
       "      <td>0</td>\n",
       "      <td>2</td>\n",
       "      <td>31.069414</td>\n",
       "      <td>1</td>\n",
       "      <td>5.128112</td>\n",
       "      <td>1.676220</td>\n",
       "      <td>...</td>\n",
       "      <td>7.556302</td>\n",
       "      <td>76.076800</td>\n",
       "      <td>0</td>\n",
       "      <td>0</td>\n",
       "      <td>1</td>\n",
       "      <td>1.018824</td>\n",
       "      <td>4.966808</td>\n",
       "      <td>9.871449</td>\n",
       "      <td>1</td>\n",
       "      <td>Confidential</td>\n",
       "    </tr>\n",
       "    <tr>\n",
       "      <th>1</th>\n",
       "      <td>2</td>\n",
       "      <td>34</td>\n",
       "      <td>0</td>\n",
       "      <td>0</td>\n",
       "      <td>1</td>\n",
       "      <td>3</td>\n",
       "      <td>29.692119</td>\n",
       "      <td>1</td>\n",
       "      <td>18.609552</td>\n",
       "      <td>8.377574</td>\n",
       "      <td>...</td>\n",
       "      <td>6.836766</td>\n",
       "      <td>40.128498</td>\n",
       "      <td>0</td>\n",
       "      <td>0</td>\n",
       "      <td>0</td>\n",
       "      <td>3.923538</td>\n",
       "      <td>8.189275</td>\n",
       "      <td>7.161765</td>\n",
       "      <td>1</td>\n",
       "      <td>Confidential</td>\n",
       "    </tr>\n",
       "    <tr>\n",
       "      <th>2</th>\n",
       "      <td>3</td>\n",
       "      <td>80</td>\n",
       "      <td>1</td>\n",
       "      <td>1</td>\n",
       "      <td>0</td>\n",
       "      <td>1</td>\n",
       "      <td>37.394822</td>\n",
       "      <td>1</td>\n",
       "      <td>11.882429</td>\n",
       "      <td>9.607401</td>\n",
       "      <td>...</td>\n",
       "      <td>2.144722</td>\n",
       "      <td>92.872842</td>\n",
       "      <td>0</td>\n",
       "      <td>1</td>\n",
       "      <td>1</td>\n",
       "      <td>1.429906</td>\n",
       "      <td>7.624028</td>\n",
       "      <td>7.354632</td>\n",
       "      <td>1</td>\n",
       "      <td>Confidential</td>\n",
       "    </tr>\n",
       "    <tr>\n",
       "      <th>3</th>\n",
       "      <td>4</td>\n",
       "      <td>40</td>\n",
       "      <td>0</td>\n",
       "      <td>2</td>\n",
       "      <td>0</td>\n",
       "      <td>1</td>\n",
       "      <td>31.329680</td>\n",
       "      <td>0</td>\n",
       "      <td>16.020165</td>\n",
       "      <td>0.408871</td>\n",
       "      <td>...</td>\n",
       "      <td>7.077188</td>\n",
       "      <td>90.080321</td>\n",
       "      <td>0</td>\n",
       "      <td>0</td>\n",
       "      <td>0</td>\n",
       "      <td>3.226416</td>\n",
       "      <td>3.282688</td>\n",
       "      <td>6.629587</td>\n",
       "      <td>1</td>\n",
       "      <td>Confidential</td>\n",
       "    </tr>\n",
       "    <tr>\n",
       "      <th>4</th>\n",
       "      <td>5</td>\n",
       "      <td>43</td>\n",
       "      <td>0</td>\n",
       "      <td>1</td>\n",
       "      <td>1</td>\n",
       "      <td>2</td>\n",
       "      <td>23.726311</td>\n",
       "      <td>0</td>\n",
       "      <td>7.944146</td>\n",
       "      <td>0.780319</td>\n",
       "      <td>...</td>\n",
       "      <td>3.553118</td>\n",
       "      <td>5.258372</td>\n",
       "      <td>0</td>\n",
       "      <td>0</td>\n",
       "      <td>1</td>\n",
       "      <td>0.285466</td>\n",
       "      <td>3.849498</td>\n",
       "      <td>1.437385</td>\n",
       "      <td>1</td>\n",
       "      <td>Confidential</td>\n",
       "    </tr>\n",
       "  </tbody>\n",
       "</table>\n",
       "<p>5 rows × 54 columns</p>\n",
       "</div>"
      ],
      "text/plain": [
       "   PatientID  Age  Gender  Ethnicity  SocioeconomicStatus  EducationLevel  \\\n",
       "0          1   71       0          0                    0               2   \n",
       "1          2   34       0          0                    1               3   \n",
       "2          3   80       1          1                    0               1   \n",
       "3          4   40       0          2                    0               1   \n",
       "4          5   43       0          1                    1               2   \n",
       "\n",
       "         BMI  Smoking  AlcoholConsumption  PhysicalActivity  ...   Itching  \\\n",
       "0  31.069414        1            5.128112          1.676220  ...  7.556302   \n",
       "1  29.692119        1           18.609552          8.377574  ...  6.836766   \n",
       "2  37.394822        1           11.882429          9.607401  ...  2.144722   \n",
       "3  31.329680        0           16.020165          0.408871  ...  7.077188   \n",
       "4  23.726311        0            7.944146          0.780319  ...  3.553118   \n",
       "\n",
       "   QualityOfLifeScore  HeavyMetalsExposure  OccupationalExposureChemicals  \\\n",
       "0           76.076800                    0                              0   \n",
       "1           40.128498                    0                              0   \n",
       "2           92.872842                    0                              1   \n",
       "3           90.080321                    0                              0   \n",
       "4            5.258372                    0                              0   \n",
       "\n",
       "   WaterQuality  MedicalCheckupsFrequency  MedicationAdherence  \\\n",
       "0             1                  1.018824             4.966808   \n",
       "1             0                  3.923538             8.189275   \n",
       "2             1                  1.429906             7.624028   \n",
       "3             0                  3.226416             3.282688   \n",
       "4             1                  0.285466             3.849498   \n",
       "\n",
       "   HealthLiteracy  Diagnosis  DoctorInCharge  \n",
       "0        9.871449          1    Confidential  \n",
       "1        7.161765          1    Confidential  \n",
       "2        7.354632          1    Confidential  \n",
       "3        6.629587          1    Confidential  \n",
       "4        1.437385          1    Confidential  \n",
       "\n",
       "[5 rows x 54 columns]"
      ]
     },
     "execution_count": 4,
     "metadata": {},
     "output_type": "execute_result"
    }
   ],
   "source": [
    "df = pd.read_csv(f'{path}/Chronic_Kidney_Dsease_data.csv')\n",
    "df.head()"
   ]
  },
  {
   "cell_type": "code",
   "execution_count": 5,
   "metadata": {},
   "outputs": [
    {
     "data": {
      "text/plain": [
       "(1659, 54)"
      ]
     },
     "execution_count": 5,
     "metadata": {},
     "output_type": "execute_result"
    }
   ],
   "source": [
    "df.shape"
   ]
  },
  {
   "cell_type": "code",
   "execution_count": 6,
   "metadata": {},
   "outputs": [
    {
     "name": "stdout",
     "output_type": "stream",
     "text": [
      "<class 'pandas.core.frame.DataFrame'>\n",
      "RangeIndex: 1659 entries, 0 to 1658\n",
      "Data columns (total 54 columns):\n",
      " #   Column                         Non-Null Count  Dtype  \n",
      "---  ------                         --------------  -----  \n",
      " 0   PatientID                      1659 non-null   int64  \n",
      " 1   Age                            1659 non-null   int64  \n",
      " 2   Gender                         1659 non-null   int64  \n",
      " 3   Ethnicity                      1659 non-null   int64  \n",
      " 4   SocioeconomicStatus            1659 non-null   int64  \n",
      " 5   EducationLevel                 1659 non-null   int64  \n",
      " 6   BMI                            1659 non-null   float64\n",
      " 7   Smoking                        1659 non-null   int64  \n",
      " 8   AlcoholConsumption             1659 non-null   float64\n",
      " 9   PhysicalActivity               1659 non-null   float64\n",
      " 10  DietQuality                    1659 non-null   float64\n",
      " 11  SleepQuality                   1659 non-null   float64\n",
      " 12  FamilyHistoryKidneyDisease     1659 non-null   int64  \n",
      " 13  FamilyHistoryHypertension      1659 non-null   int64  \n",
      " 14  FamilyHistoryDiabetes          1659 non-null   int64  \n",
      " 15  PreviousAcuteKidneyInjury      1659 non-null   int64  \n",
      " 16  UrinaryTractInfections         1659 non-null   int64  \n",
      " 17  SystolicBP                     1659 non-null   int64  \n",
      " 18  DiastolicBP                    1659 non-null   int64  \n",
      " 19  FastingBloodSugar              1659 non-null   float64\n",
      " 20  HbA1c                          1659 non-null   float64\n",
      " 21  SerumCreatinine                1659 non-null   float64\n",
      " 22  BUNLevels                      1659 non-null   float64\n",
      " 23  GFR                            1659 non-null   float64\n",
      " 24  ProteinInUrine                 1659 non-null   float64\n",
      " 25  ACR                            1659 non-null   float64\n",
      " 26  SerumElectrolytesSodium        1659 non-null   float64\n",
      " 27  SerumElectrolytesPotassium     1659 non-null   float64\n",
      " 28  SerumElectrolytesCalcium       1659 non-null   float64\n",
      " 29  SerumElectrolytesPhosphorus    1659 non-null   float64\n",
      " 30  HemoglobinLevels               1659 non-null   float64\n",
      " 31  CholesterolTotal               1659 non-null   float64\n",
      " 32  CholesterolLDL                 1659 non-null   float64\n",
      " 33  CholesterolHDL                 1659 non-null   float64\n",
      " 34  CholesterolTriglycerides       1659 non-null   float64\n",
      " 35  ACEInhibitors                  1659 non-null   int64  \n",
      " 36  Diuretics                      1659 non-null   int64  \n",
      " 37  NSAIDsUse                      1659 non-null   float64\n",
      " 38  Statins                        1659 non-null   int64  \n",
      " 39  AntidiabeticMedications        1659 non-null   int64  \n",
      " 40  Edema                          1659 non-null   int64  \n",
      " 41  FatigueLevels                  1659 non-null   float64\n",
      " 42  NauseaVomiting                 1659 non-null   float64\n",
      " 43  MuscleCramps                   1659 non-null   float64\n",
      " 44  Itching                        1659 non-null   float64\n",
      " 45  QualityOfLifeScore             1659 non-null   float64\n",
      " 46  HeavyMetalsExposure            1659 non-null   int64  \n",
      " 47  OccupationalExposureChemicals  1659 non-null   int64  \n",
      " 48  WaterQuality                   1659 non-null   int64  \n",
      " 49  MedicalCheckupsFrequency       1659 non-null   float64\n",
      " 50  MedicationAdherence            1659 non-null   float64\n",
      " 51  HealthLiteracy                 1659 non-null   float64\n",
      " 52  Diagnosis                      1659 non-null   int64  \n",
      " 53  DoctorInCharge                 1659 non-null   object \n",
      "dtypes: float64(30), int64(23), object(1)\n",
      "memory usage: 700.0+ KB\n"
     ]
    }
   ],
   "source": [
    "df.info()"
   ]
  },
  {
   "cell_type": "code",
   "execution_count": 7,
   "metadata": {},
   "outputs": [
    {
     "name": "stdout",
     "output_type": "stream",
     "text": [
      "0\n"
     ]
    }
   ],
   "source": [
    "nan_count = df.isna().sum().sum()\n",
    "print(nan_count)"
   ]
  },
  {
   "cell_type": "code",
   "execution_count": 8,
   "metadata": {},
   "outputs": [
    {
     "data": {
      "text/plain": [
       "array([0, 1])"
      ]
     },
     "execution_count": 8,
     "metadata": {},
     "output_type": "execute_result"
    }
   ],
   "source": [
    "df['Gender'].unique()"
   ]
  },
  {
   "cell_type": "code",
   "execution_count": 9,
   "metadata": {},
   "outputs": [],
   "source": [
    "df.drop('DoctorInCharge', inplace=True, axis=1)"
   ]
  },
  {
   "cell_type": "code",
   "execution_count": 10,
   "metadata": {},
   "outputs": [],
   "source": [
    "y = df['Diagnosis'].values\n",
    "X = df.drop('Diagnosis', axis=1)"
   ]
  },
  {
   "cell_type": "code",
   "execution_count": 11,
   "metadata": {},
   "outputs": [
    {
     "name": "stdout",
     "output_type": "stream",
     "text": [
      "(1659, 52)\n",
      "(1659, 49)\n"
     ]
    }
   ],
   "source": [
    "print(X.shape)\n",
    "selector = VarianceThreshold(threshold=0.1)\n",
    "X = selector.fit_transform(X)\n",
    "print(X.shape)"
   ]
  },
  {
   "cell_type": "code",
   "execution_count": 12,
   "metadata": {},
   "outputs": [
    {
     "name": "stdout",
     "output_type": "stream",
     "text": [
      "Female:  804\n",
      "Male:  855\n"
     ]
    }
   ],
   "source": [
    "# build mask\n",
    "gender_0_mask = df['Gender'] == 0\n",
    "gender_1_mask = df['Gender'] == 1\n",
    "\n",
    "count_gender_0 = gender_0_mask.sum()\n",
    "count_gender_1 = gender_1_mask.sum()\n",
    "\n",
    "print(\"Female: \", count_gender_0)\n",
    "print(\"Male: \", count_gender_1)\n",
    "\n",
    "scaler = StandardScaler()\n",
    "X_scaled = scaler.fit_transform(X)\n",
    "\n",
    "X_scaled_Gender_0 = X_scaled[gender_0_mask]\n",
    "X_scaled_Gender_1 = X_scaled[gender_1_mask]\n",
    "y_Gender_0 = y[gender_0_mask]\n",
    "y_Gender_1 = y[gender_1_mask]"
   ]
  },
  {
   "cell_type": "code",
   "execution_count": 13,
   "metadata": {},
   "outputs": [],
   "source": [
    "seed = 42\n",
    "models = fl.build_models(seed)\n",
    "\n",
    "results_list = []\n",
    "\n",
    "kf = KFold(n_splits=10, shuffle=True, random_state=seed)"
   ]
  },
  {
   "cell_type": "code",
   "execution_count": 14,
   "metadata": {},
   "outputs": [
    {
     "name": "stdout",
     "output_type": "stream",
     "text": [
      "Starting experiments for Female(0)\n",
      "Processing fold 1 for group Female\n",
      "Training and evaluating model: SVM\n",
      "Training and evaluating model: LR\n",
      "Training and evaluating model: KNN\n",
      "Training and evaluating model: RF\n",
      "Training and evaluating model: DT\n",
      "Training and evaluating model: ANN\n"
     ]
    },
    {
     "name": "stderr",
     "output_type": "stream",
     "text": [
      "/home/morning/miniconda3/envs/f2ml/lib/python3.13/site-packages/sklearn/neural_network/_multilayer_perceptron.py:691: ConvergenceWarning: Stochastic Optimizer: Maximum iterations (200) reached and the optimization hasn't converged yet.\n",
      "  warnings.warn(\n"
     ]
    },
    {
     "name": "stdout",
     "output_type": "stream",
     "text": [
      "Training and evaluating model: NB\n",
      "Processing fold 2 for group Female\n",
      "Training and evaluating model: SVM\n",
      "Training and evaluating model: LR\n",
      "Training and evaluating model: KNN\n",
      "Training and evaluating model: RF\n",
      "Training and evaluating model: DT\n",
      "Training and evaluating model: ANN\n"
     ]
    },
    {
     "name": "stderr",
     "output_type": "stream",
     "text": [
      "/home/morning/miniconda3/envs/f2ml/lib/python3.13/site-packages/sklearn/neural_network/_multilayer_perceptron.py:691: ConvergenceWarning: Stochastic Optimizer: Maximum iterations (200) reached and the optimization hasn't converged yet.\n",
      "  warnings.warn(\n"
     ]
    },
    {
     "name": "stdout",
     "output_type": "stream",
     "text": [
      "Training and evaluating model: NB\n",
      "Processing fold 3 for group Female\n",
      "Training and evaluating model: SVM\n",
      "Training and evaluating model: LR\n",
      "Training and evaluating model: KNN\n",
      "Training and evaluating model: RF\n",
      "Training and evaluating model: DT\n",
      "Training and evaluating model: ANN\n"
     ]
    },
    {
     "name": "stderr",
     "output_type": "stream",
     "text": [
      "/home/morning/miniconda3/envs/f2ml/lib/python3.13/site-packages/sklearn/neural_network/_multilayer_perceptron.py:691: ConvergenceWarning: Stochastic Optimizer: Maximum iterations (200) reached and the optimization hasn't converged yet.\n",
      "  warnings.warn(\n"
     ]
    },
    {
     "name": "stdout",
     "output_type": "stream",
     "text": [
      "Training and evaluating model: NB\n",
      "Processing fold 4 for group Female\n",
      "Training and evaluating model: SVM\n",
      "Training and evaluating model: LR\n",
      "Training and evaluating model: KNN\n",
      "Training and evaluating model: RF\n",
      "Training and evaluating model: DT\n",
      "Training and evaluating model: ANN\n"
     ]
    },
    {
     "name": "stderr",
     "output_type": "stream",
     "text": [
      "/home/morning/miniconda3/envs/f2ml/lib/python3.13/site-packages/sklearn/neural_network/_multilayer_perceptron.py:691: ConvergenceWarning: Stochastic Optimizer: Maximum iterations (200) reached and the optimization hasn't converged yet.\n",
      "  warnings.warn(\n"
     ]
    },
    {
     "name": "stdout",
     "output_type": "stream",
     "text": [
      "Training and evaluating model: NB\n",
      "Processing fold 5 for group Female\n",
      "Training and evaluating model: SVM\n",
      "Training and evaluating model: LR\n",
      "Training and evaluating model: KNN\n",
      "Training and evaluating model: RF\n",
      "Training and evaluating model: DT\n",
      "Training and evaluating model: ANN\n"
     ]
    },
    {
     "name": "stderr",
     "output_type": "stream",
     "text": [
      "/home/morning/miniconda3/envs/f2ml/lib/python3.13/site-packages/sklearn/neural_network/_multilayer_perceptron.py:691: ConvergenceWarning: Stochastic Optimizer: Maximum iterations (200) reached and the optimization hasn't converged yet.\n",
      "  warnings.warn(\n"
     ]
    },
    {
     "name": "stdout",
     "output_type": "stream",
     "text": [
      "Training and evaluating model: NB\n",
      "Processing fold 6 for group Female\n",
      "Training and evaluating model: SVM\n",
      "Training and evaluating model: LR\n",
      "Training and evaluating model: KNN\n",
      "Training and evaluating model: RF\n",
      "Training and evaluating model: DT\n",
      "Training and evaluating model: ANN\n"
     ]
    },
    {
     "name": "stderr",
     "output_type": "stream",
     "text": [
      "/home/morning/miniconda3/envs/f2ml/lib/python3.13/site-packages/sklearn/neural_network/_multilayer_perceptron.py:691: ConvergenceWarning: Stochastic Optimizer: Maximum iterations (200) reached and the optimization hasn't converged yet.\n",
      "  warnings.warn(\n"
     ]
    },
    {
     "name": "stdout",
     "output_type": "stream",
     "text": [
      "Training and evaluating model: NB\n",
      "Processing fold 7 for group Female\n",
      "Training and evaluating model: SVM\n",
      "Training and evaluating model: LR\n",
      "Training and evaluating model: KNN\n",
      "Training and evaluating model: RF\n",
      "Training and evaluating model: DT\n",
      "Training and evaluating model: ANN\n"
     ]
    },
    {
     "name": "stderr",
     "output_type": "stream",
     "text": [
      "/home/morning/miniconda3/envs/f2ml/lib/python3.13/site-packages/sklearn/neural_network/_multilayer_perceptron.py:691: ConvergenceWarning: Stochastic Optimizer: Maximum iterations (200) reached and the optimization hasn't converged yet.\n",
      "  warnings.warn(\n"
     ]
    },
    {
     "name": "stdout",
     "output_type": "stream",
     "text": [
      "Training and evaluating model: NB\n",
      "Processing fold 8 for group Female\n",
      "Training and evaluating model: SVM\n",
      "Training and evaluating model: LR\n",
      "Training and evaluating model: KNN\n",
      "Training and evaluating model: RF\n",
      "Training and evaluating model: DT\n",
      "Training and evaluating model: ANN\n"
     ]
    },
    {
     "name": "stderr",
     "output_type": "stream",
     "text": [
      "/home/morning/miniconda3/envs/f2ml/lib/python3.13/site-packages/sklearn/neural_network/_multilayer_perceptron.py:691: ConvergenceWarning: Stochastic Optimizer: Maximum iterations (200) reached and the optimization hasn't converged yet.\n",
      "  warnings.warn(\n"
     ]
    },
    {
     "name": "stdout",
     "output_type": "stream",
     "text": [
      "Training and evaluating model: NB\n",
      "Processing fold 9 for group Female\n",
      "Training and evaluating model: SVM\n",
      "Training and evaluating model: LR\n",
      "Training and evaluating model: KNN\n",
      "Training and evaluating model: RF\n",
      "Training and evaluating model: DT\n",
      "Training and evaluating model: ANN\n"
     ]
    },
    {
     "name": "stderr",
     "output_type": "stream",
     "text": [
      "/home/morning/miniconda3/envs/f2ml/lib/python3.13/site-packages/sklearn/neural_network/_multilayer_perceptron.py:691: ConvergenceWarning: Stochastic Optimizer: Maximum iterations (200) reached and the optimization hasn't converged yet.\n",
      "  warnings.warn(\n"
     ]
    },
    {
     "name": "stdout",
     "output_type": "stream",
     "text": [
      "Training and evaluating model: NB\n",
      "Processing fold 10 for group Female\n",
      "Training and evaluating model: SVM\n",
      "Training and evaluating model: LR\n",
      "Training and evaluating model: KNN\n",
      "Training and evaluating model: RF\n",
      "Training and evaluating model: DT\n",
      "Training and evaluating model: ANN\n"
     ]
    },
    {
     "name": "stderr",
     "output_type": "stream",
     "text": [
      "/home/morning/miniconda3/envs/f2ml/lib/python3.13/site-packages/sklearn/neural_network/_multilayer_perceptron.py:691: ConvergenceWarning: Stochastic Optimizer: Maximum iterations (200) reached and the optimization hasn't converged yet.\n",
      "  warnings.warn(\n"
     ]
    },
    {
     "name": "stdout",
     "output_type": "stream",
     "text": [
      "Training and evaluating model: NB\n",
      "Starting experiments for Male(1)\n",
      "Processing fold 1 for group Male\n",
      "Training and evaluating model: SVM\n",
      "Training and evaluating model: LR\n",
      "Training and evaluating model: KNN\n",
      "Training and evaluating model: RF\n",
      "Training and evaluating model: DT\n",
      "Training and evaluating model: ANN\n"
     ]
    },
    {
     "name": "stderr",
     "output_type": "stream",
     "text": [
      "/home/morning/miniconda3/envs/f2ml/lib/python3.13/site-packages/sklearn/neural_network/_multilayer_perceptron.py:691: ConvergenceWarning: Stochastic Optimizer: Maximum iterations (200) reached and the optimization hasn't converged yet.\n",
      "  warnings.warn(\n"
     ]
    },
    {
     "name": "stdout",
     "output_type": "stream",
     "text": [
      "Training and evaluating model: NB\n",
      "Processing fold 2 for group Male\n",
      "Training and evaluating model: SVM\n",
      "Training and evaluating model: LR\n",
      "Training and evaluating model: KNN\n",
      "Training and evaluating model: RF\n",
      "Training and evaluating model: DT\n",
      "Training and evaluating model: ANN\n"
     ]
    },
    {
     "name": "stderr",
     "output_type": "stream",
     "text": [
      "/home/morning/miniconda3/envs/f2ml/lib/python3.13/site-packages/sklearn/neural_network/_multilayer_perceptron.py:691: ConvergenceWarning: Stochastic Optimizer: Maximum iterations (200) reached and the optimization hasn't converged yet.\n",
      "  warnings.warn(\n"
     ]
    },
    {
     "name": "stdout",
     "output_type": "stream",
     "text": [
      "Training and evaluating model: NB\n",
      "Processing fold 3 for group Male\n",
      "Training and evaluating model: SVM\n",
      "Training and evaluating model: LR\n",
      "Training and evaluating model: KNN\n",
      "Training and evaluating model: RF\n",
      "Training and evaluating model: DT\n",
      "Training and evaluating model: ANN\n"
     ]
    },
    {
     "name": "stderr",
     "output_type": "stream",
     "text": [
      "/home/morning/miniconda3/envs/f2ml/lib/python3.13/site-packages/sklearn/neural_network/_multilayer_perceptron.py:691: ConvergenceWarning: Stochastic Optimizer: Maximum iterations (200) reached and the optimization hasn't converged yet.\n",
      "  warnings.warn(\n"
     ]
    },
    {
     "name": "stdout",
     "output_type": "stream",
     "text": [
      "Training and evaluating model: NB\n",
      "Processing fold 4 for group Male\n",
      "Training and evaluating model: SVM\n",
      "Training and evaluating model: LR\n",
      "Training and evaluating model: KNN\n",
      "Training and evaluating model: RF\n",
      "Training and evaluating model: DT\n",
      "Training and evaluating model: ANN\n"
     ]
    },
    {
     "name": "stderr",
     "output_type": "stream",
     "text": [
      "/home/morning/miniconda3/envs/f2ml/lib/python3.13/site-packages/sklearn/neural_network/_multilayer_perceptron.py:691: ConvergenceWarning: Stochastic Optimizer: Maximum iterations (200) reached and the optimization hasn't converged yet.\n",
      "  warnings.warn(\n"
     ]
    },
    {
     "name": "stdout",
     "output_type": "stream",
     "text": [
      "Training and evaluating model: NB\n",
      "Processing fold 5 for group Male\n",
      "Training and evaluating model: SVM\n",
      "Training and evaluating model: LR\n",
      "Training and evaluating model: KNN\n",
      "Training and evaluating model: RF\n",
      "Training and evaluating model: DT\n",
      "Training and evaluating model: ANN\n"
     ]
    },
    {
     "name": "stderr",
     "output_type": "stream",
     "text": [
      "/home/morning/miniconda3/envs/f2ml/lib/python3.13/site-packages/sklearn/neural_network/_multilayer_perceptron.py:691: ConvergenceWarning: Stochastic Optimizer: Maximum iterations (200) reached and the optimization hasn't converged yet.\n",
      "  warnings.warn(\n"
     ]
    },
    {
     "name": "stdout",
     "output_type": "stream",
     "text": [
      "Training and evaluating model: NB\n",
      "Processing fold 6 for group Male\n",
      "Training and evaluating model: SVM\n",
      "Training and evaluating model: LR\n",
      "Training and evaluating model: KNN\n",
      "Training and evaluating model: RF\n",
      "Training and evaluating model: DT\n",
      "Training and evaluating model: ANN\n"
     ]
    },
    {
     "name": "stderr",
     "output_type": "stream",
     "text": [
      "/home/morning/miniconda3/envs/f2ml/lib/python3.13/site-packages/sklearn/neural_network/_multilayer_perceptron.py:691: ConvergenceWarning: Stochastic Optimizer: Maximum iterations (200) reached and the optimization hasn't converged yet.\n",
      "  warnings.warn(\n"
     ]
    },
    {
     "name": "stdout",
     "output_type": "stream",
     "text": [
      "Training and evaluating model: NB\n",
      "Processing fold 7 for group Male\n",
      "Training and evaluating model: SVM\n",
      "Training and evaluating model: LR\n",
      "Training and evaluating model: KNN\n",
      "Training and evaluating model: RF\n",
      "Training and evaluating model: DT\n",
      "Training and evaluating model: ANN\n"
     ]
    },
    {
     "name": "stderr",
     "output_type": "stream",
     "text": [
      "/home/morning/miniconda3/envs/f2ml/lib/python3.13/site-packages/sklearn/neural_network/_multilayer_perceptron.py:691: ConvergenceWarning: Stochastic Optimizer: Maximum iterations (200) reached and the optimization hasn't converged yet.\n",
      "  warnings.warn(\n"
     ]
    },
    {
     "name": "stdout",
     "output_type": "stream",
     "text": [
      "Training and evaluating model: NB\n",
      "Processing fold 8 for group Male\n",
      "Training and evaluating model: SVM\n",
      "Training and evaluating model: LR\n",
      "Training and evaluating model: KNN\n",
      "Training and evaluating model: RF\n",
      "Training and evaluating model: DT\n",
      "Training and evaluating model: ANN\n"
     ]
    },
    {
     "name": "stderr",
     "output_type": "stream",
     "text": [
      "/home/morning/miniconda3/envs/f2ml/lib/python3.13/site-packages/sklearn/neural_network/_multilayer_perceptron.py:691: ConvergenceWarning: Stochastic Optimizer: Maximum iterations (200) reached and the optimization hasn't converged yet.\n",
      "  warnings.warn(\n"
     ]
    },
    {
     "name": "stdout",
     "output_type": "stream",
     "text": [
      "Training and evaluating model: NB\n",
      "Processing fold 9 for group Male\n",
      "Training and evaluating model: SVM\n",
      "Training and evaluating model: LR\n",
      "Training and evaluating model: KNN\n",
      "Training and evaluating model: RF\n",
      "Training and evaluating model: DT\n",
      "Training and evaluating model: ANN\n"
     ]
    },
    {
     "name": "stderr",
     "output_type": "stream",
     "text": [
      "/home/morning/miniconda3/envs/f2ml/lib/python3.13/site-packages/sklearn/neural_network/_multilayer_perceptron.py:691: ConvergenceWarning: Stochastic Optimizer: Maximum iterations (200) reached and the optimization hasn't converged yet.\n",
      "  warnings.warn(\n"
     ]
    },
    {
     "name": "stdout",
     "output_type": "stream",
     "text": [
      "Training and evaluating model: NB\n",
      "Processing fold 10 for group Male\n",
      "Training and evaluating model: SVM\n",
      "Training and evaluating model: LR\n",
      "Training and evaluating model: KNN\n",
      "Training and evaluating model: RF\n",
      "Training and evaluating model: DT\n",
      "Training and evaluating model: ANN\n",
      "Training and evaluating model: NB\n",
      "    Fold   Group  SVM_TPR  SVM_TNR  SVM_FPR  SVM_FNR  SVM_TP  SVM_TN  SVM_FP  \\\n",
      "0      1  Female      1.0      0.0      1.0      0.0      75       0       6   \n",
      "1      2  Female      1.0      0.0      1.0      0.0      74       0       7   \n",
      "2      3  Female      1.0      0.0      1.0      0.0      76       0       5   \n",
      "3      4  Female      1.0      0.0      1.0      0.0      73       0       8   \n",
      "4      5  Female      1.0      0.0      1.0      0.0      74       0       6   \n",
      "5      6  Female      1.0      0.0      1.0      0.0      73       0       7   \n",
      "6      7  Female      1.0      0.0      1.0      0.0      68       0      12   \n",
      "7      8  Female      1.0      0.0      1.0      0.0      70       0      10   \n",
      "8      9  Female      1.0      0.0      1.0      0.0      71       0       9   \n",
      "9     10  Female      1.0      0.0      1.0      0.0      75       0       5   \n",
      "10     1    Male      1.0      0.0      1.0      0.0      82       0       4   \n",
      "11     2    Male      1.0      0.0      1.0      0.0      77       0       9   \n",
      "12     3    Male      1.0      0.0      1.0      0.0      83       0       3   \n",
      "13     4    Male      1.0      0.0      1.0      0.0      77       0       9   \n",
      "14     5    Male      1.0      0.0      1.0      0.0      80       0       6   \n",
      "15     6    Male      1.0      0.0      1.0      0.0      80       0       5   \n",
      "16     7    Male      1.0      0.0      1.0      0.0      78       0       7   \n",
      "17     8    Male      1.0      0.0      1.0      0.0      78       0       7   \n",
      "18     9    Male      1.0      0.0      1.0      0.0      80       0       5   \n",
      "19    10    Male      1.0      0.0      1.0      0.0      80       0       5   \n",
      "\n",
      "    SVM_FN  ...  ANN_FP  ANN_FN    NB_TPR    NB_TNR    NB_FPR    NB_FNR  \\\n",
      "0        0  ...       5       3  0.986667  0.166667  0.833333  0.013333   \n",
      "1        0  ...       5       4  1.000000  0.000000  1.000000  0.000000   \n",
      "2        0  ...       5       3  0.934211  0.000000  1.000000  0.065789   \n",
      "3        0  ...       7       0  0.972603  0.000000  1.000000  0.027397   \n",
      "4        0  ...       3       0  0.972973  0.333333  0.666667  0.027027   \n",
      "5        0  ...       6       3  0.972603  0.142857  0.857143  0.027397   \n",
      "6        0  ...      12       2  0.985294  0.000000  1.000000  0.014706   \n",
      "7        0  ...       8       1  0.942857  0.200000  0.800000  0.057143   \n",
      "8        0  ...       4       2  0.985915  0.555556  0.444444  0.014085   \n",
      "9        0  ...       3       3  0.973333  0.400000  0.600000  0.026667   \n",
      "10       0  ...       3       3  0.987805  0.500000  0.500000  0.012195   \n",
      "11       0  ...       7       0  1.000000  0.444444  0.555556  0.000000   \n",
      "12       0  ...       3       3  0.987952  0.333333  0.666667  0.012048   \n",
      "13       0  ...       7       1  0.987013  0.222222  0.777778  0.012987   \n",
      "14       0  ...       6       3  0.937500  0.166667  0.833333  0.062500   \n",
      "15       0  ...       5       1  0.975000  0.000000  1.000000  0.025000   \n",
      "16       0  ...       6       2  0.961538  0.142857  0.857143  0.038462   \n",
      "17       0  ...       6       2  0.948718  0.142857  0.857143  0.051282   \n",
      "18       0  ...       4       0  1.000000  0.200000  0.800000  0.000000   \n",
      "19       0  ...       4       1  1.000000  0.200000  0.800000  0.000000   \n",
      "\n",
      "    NB_TP  NB_TN  NB_FP  NB_FN  \n",
      "0      74      1      5      1  \n",
      "1      74      0      7      0  \n",
      "2      71      0      5      5  \n",
      "3      71      0      8      2  \n",
      "4      72      2      4      2  \n",
      "5      71      1      6      2  \n",
      "6      67      0     12      1  \n",
      "7      66      2      8      4  \n",
      "8      70      5      4      1  \n",
      "9      73      2      3      2  \n",
      "10     81      2      2      1  \n",
      "11     77      4      5      0  \n",
      "12     82      1      2      1  \n",
      "13     76      2      7      1  \n",
      "14     75      1      5      5  \n",
      "15     78      0      5      2  \n",
      "16     75      1      6      3  \n",
      "17     74      1      6      4  \n",
      "18     80      1      4      0  \n",
      "19     80      1      4      0  \n",
      "\n",
      "[20 rows x 58 columns]\n"
     ]
    },
    {
     "name": "stderr",
     "output_type": "stream",
     "text": [
      "/home/morning/miniconda3/envs/f2ml/lib/python3.13/site-packages/sklearn/neural_network/_multilayer_perceptron.py:691: ConvergenceWarning: Stochastic Optimizer: Maximum iterations (200) reached and the optimization hasn't converged yet.\n",
      "  warnings.warn(\n"
     ]
    }
   ],
   "source": [
    "print(\"Starting experiments for Female(0)\")\n",
    "fl.run_experiment(kf, models, X_scaled_Gender_0, y_Gender_0, 'Female', results_list)\n",
    "\n",
    "print(\"Starting experiments for Male(1)\")\n",
    "fl.run_experiment(kf, models, X_scaled_Gender_1, y_Gender_1, 'Male', results_list)\n",
    "\n",
    "final_results_df = pd.concat(results_list, ignore_index=True)\n",
    "print(final_results_df)"
   ]
  },
  {
   "cell_type": "code",
   "execution_count": 15,
   "metadata": {},
   "outputs": [],
   "source": [
    "results_df = pd.concat(results_list, ignore_index=True)"
   ]
  },
  {
   "cell_type": "code",
   "execution_count": 16,
   "metadata": {},
   "outputs": [],
   "source": [
    "result_path = './results/k114_result.xlsx'\n",
    "results_df.to_excel(result_path, index=False)"
   ]
  },
  {
   "cell_type": "code",
   "execution_count": 17,
   "metadata": {},
   "outputs": [
    {
     "data": {
      "text/html": [
       "<div>\n",
       "<style scoped>\n",
       "    .dataframe tbody tr th:only-of-type {\n",
       "        vertical-align: middle;\n",
       "    }\n",
       "\n",
       "    .dataframe tbody tr th {\n",
       "        vertical-align: top;\n",
       "    }\n",
       "\n",
       "    .dataframe thead th {\n",
       "        text-align: right;\n",
       "    }\n",
       "</style>\n",
       "<table border=\"1\" class=\"dataframe\">\n",
       "  <thead>\n",
       "    <tr style=\"text-align: right;\">\n",
       "      <th></th>\n",
       "      <th>Fold</th>\n",
       "      <th>Group</th>\n",
       "      <th>SVM_TPR</th>\n",
       "      <th>SVM_TNR</th>\n",
       "      <th>SVM_FPR</th>\n",
       "      <th>SVM_FNR</th>\n",
       "      <th>SVM_TP</th>\n",
       "      <th>SVM_TN</th>\n",
       "      <th>SVM_FP</th>\n",
       "      <th>SVM_FN</th>\n",
       "      <th>...</th>\n",
       "      <th>ANN_FP</th>\n",
       "      <th>ANN_FN</th>\n",
       "      <th>NB_TPR</th>\n",
       "      <th>NB_TNR</th>\n",
       "      <th>NB_FPR</th>\n",
       "      <th>NB_FNR</th>\n",
       "      <th>NB_TP</th>\n",
       "      <th>NB_TN</th>\n",
       "      <th>NB_FP</th>\n",
       "      <th>NB_FN</th>\n",
       "    </tr>\n",
       "  </thead>\n",
       "  <tbody>\n",
       "    <tr>\n",
       "      <th>0</th>\n",
       "      <td>1</td>\n",
       "      <td>Female</td>\n",
       "      <td>1</td>\n",
       "      <td>0</td>\n",
       "      <td>1</td>\n",
       "      <td>0</td>\n",
       "      <td>75</td>\n",
       "      <td>0</td>\n",
       "      <td>6</td>\n",
       "      <td>0</td>\n",
       "      <td>...</td>\n",
       "      <td>5</td>\n",
       "      <td>3</td>\n",
       "      <td>0.986667</td>\n",
       "      <td>0.166667</td>\n",
       "      <td>0.833333</td>\n",
       "      <td>0.013333</td>\n",
       "      <td>74</td>\n",
       "      <td>1</td>\n",
       "      <td>5</td>\n",
       "      <td>1</td>\n",
       "    </tr>\n",
       "    <tr>\n",
       "      <th>1</th>\n",
       "      <td>2</td>\n",
       "      <td>Female</td>\n",
       "      <td>1</td>\n",
       "      <td>0</td>\n",
       "      <td>1</td>\n",
       "      <td>0</td>\n",
       "      <td>74</td>\n",
       "      <td>0</td>\n",
       "      <td>7</td>\n",
       "      <td>0</td>\n",
       "      <td>...</td>\n",
       "      <td>5</td>\n",
       "      <td>4</td>\n",
       "      <td>1.000000</td>\n",
       "      <td>0.000000</td>\n",
       "      <td>1.000000</td>\n",
       "      <td>0.000000</td>\n",
       "      <td>74</td>\n",
       "      <td>0</td>\n",
       "      <td>7</td>\n",
       "      <td>0</td>\n",
       "    </tr>\n",
       "    <tr>\n",
       "      <th>2</th>\n",
       "      <td>3</td>\n",
       "      <td>Female</td>\n",
       "      <td>1</td>\n",
       "      <td>0</td>\n",
       "      <td>1</td>\n",
       "      <td>0</td>\n",
       "      <td>76</td>\n",
       "      <td>0</td>\n",
       "      <td>5</td>\n",
       "      <td>0</td>\n",
       "      <td>...</td>\n",
       "      <td>5</td>\n",
       "      <td>3</td>\n",
       "      <td>0.934211</td>\n",
       "      <td>0.000000</td>\n",
       "      <td>1.000000</td>\n",
       "      <td>0.065789</td>\n",
       "      <td>71</td>\n",
       "      <td>0</td>\n",
       "      <td>5</td>\n",
       "      <td>5</td>\n",
       "    </tr>\n",
       "    <tr>\n",
       "      <th>3</th>\n",
       "      <td>4</td>\n",
       "      <td>Female</td>\n",
       "      <td>1</td>\n",
       "      <td>0</td>\n",
       "      <td>1</td>\n",
       "      <td>0</td>\n",
       "      <td>73</td>\n",
       "      <td>0</td>\n",
       "      <td>8</td>\n",
       "      <td>0</td>\n",
       "      <td>...</td>\n",
       "      <td>7</td>\n",
       "      <td>0</td>\n",
       "      <td>0.972603</td>\n",
       "      <td>0.000000</td>\n",
       "      <td>1.000000</td>\n",
       "      <td>0.027397</td>\n",
       "      <td>71</td>\n",
       "      <td>0</td>\n",
       "      <td>8</td>\n",
       "      <td>2</td>\n",
       "    </tr>\n",
       "    <tr>\n",
       "      <th>4</th>\n",
       "      <td>5</td>\n",
       "      <td>Female</td>\n",
       "      <td>1</td>\n",
       "      <td>0</td>\n",
       "      <td>1</td>\n",
       "      <td>0</td>\n",
       "      <td>74</td>\n",
       "      <td>0</td>\n",
       "      <td>6</td>\n",
       "      <td>0</td>\n",
       "      <td>...</td>\n",
       "      <td>3</td>\n",
       "      <td>0</td>\n",
       "      <td>0.972973</td>\n",
       "      <td>0.333333</td>\n",
       "      <td>0.666667</td>\n",
       "      <td>0.027027</td>\n",
       "      <td>72</td>\n",
       "      <td>2</td>\n",
       "      <td>4</td>\n",
       "      <td>2</td>\n",
       "    </tr>\n",
       "  </tbody>\n",
       "</table>\n",
       "<p>5 rows × 58 columns</p>\n",
       "</div>"
      ],
      "text/plain": [
       "   Fold   Group  SVM_TPR  SVM_TNR  SVM_FPR  SVM_FNR  SVM_TP  SVM_TN  SVM_FP  \\\n",
       "0     1  Female        1        0        1        0      75       0       6   \n",
       "1     2  Female        1        0        1        0      74       0       7   \n",
       "2     3  Female        1        0        1        0      76       0       5   \n",
       "3     4  Female        1        0        1        0      73       0       8   \n",
       "4     5  Female        1        0        1        0      74       0       6   \n",
       "\n",
       "   SVM_FN  ...  ANN_FP  ANN_FN    NB_TPR    NB_TNR    NB_FPR    NB_FNR  NB_TP  \\\n",
       "0       0  ...       5       3  0.986667  0.166667  0.833333  0.013333     74   \n",
       "1       0  ...       5       4  1.000000  0.000000  1.000000  0.000000     74   \n",
       "2       0  ...       5       3  0.934211  0.000000  1.000000  0.065789     71   \n",
       "3       0  ...       7       0  0.972603  0.000000  1.000000  0.027397     71   \n",
       "4       0  ...       3       0  0.972973  0.333333  0.666667  0.027027     72   \n",
       "\n",
       "   NB_TN  NB_FP  NB_FN  \n",
       "0      1      5      1  \n",
       "1      0      7      0  \n",
       "2      0      5      5  \n",
       "3      0      8      2  \n",
       "4      2      4      2  \n",
       "\n",
       "[5 rows x 58 columns]"
      ]
     },
     "execution_count": 17,
     "metadata": {},
     "output_type": "execute_result"
    }
   ],
   "source": [
    "df = pd.read_excel(result_path)\n",
    "df.head()"
   ]
  },
  {
   "cell_type": "code",
   "execution_count": 18,
   "metadata": {},
   "outputs": [
    {
     "name": "stdout",
     "output_type": "stream",
     "text": [
      "SVM -TPR: MannwhitneyuResult(statistic=np.float64(50.0), pvalue=np.float64(1.0))\n",
      "SVM - FPR: MannwhitneyuResult(statistic=np.float64(50.0), pvalue=np.float64(1.0))\n",
      "SVM - FN/FP: MannwhitneyuResult(statistic=np.float64(50.0), pvalue=np.float64(1.0))\n",
      "DT -TPR: MannwhitneyuResult(statistic=np.float64(31.0), pvalue=np.float64(0.1614988122969947))\n",
      "DT - FPR: TtestResult(statistic=np.float64(-0.1293740600243537), pvalue=np.float64(0.898496378901599), df=np.float64(18.0))\n",
      "DT - FN/FP: MannwhitneyuResult(statistic=np.float64(58.0), pvalue=np.float64(0.5704604728984778))\n",
      "RF -TPR: MannwhitneyuResult(statistic=np.float64(38.5), pvalue=np.float64(0.23426628444669173))\n",
      "RF - FPR: MannwhitneyuResult(statistic=np.float64(20.0), pvalue=np.float64(0.005971963624595338))\n",
      "RF - FN/FP: MannwhitneyuResult(statistic=np.float64(61.5), pvalue=np.float64(0.2339062109885507))\n",
      "LR -TPR: TtestResult(statistic=np.float64(-0.9772080401841955), pvalue=np.float64(0.3414178677210178), df=np.float64(18.0))\n",
      "LR - FPR: TtestResult(statistic=np.float64(-2.4118269229231224), pvalue=np.float64(0.030785600422777715), df=np.float64(13.475307065334494))\n",
      "LR - FN/FP: TtestResult(statistic=np.float64(0.9560068223122659), pvalue=np.float64(0.35173328392311176), df=np.float64(18.0))\n",
      "KNN -TPR: MannwhitneyuResult(statistic=np.float64(32.5), pvalue=np.float64(0.1469305542751446))\n",
      "KNN - FPR: MannwhitneyuResult(statistic=np.float64(45.0), pvalue=np.float64(0.36812025069351895))\n",
      "KNN - FN/FP: MannwhitneyuResult(statistic=np.float64(60.5), pvalue=np.float64(0.3935421945288845))\n",
      "ANN -TPR: TtestResult(statistic=np.float64(-1.180026673277577), pvalue=np.float64(0.2533501488280946), df=np.float64(18.0))\n",
      "ANN - FPR: MannwhitneyuResult(statistic=np.float64(39.0), pvalue=np.float64(0.42225053322802353))\n",
      "ANN - FN/FP: MannwhitneyuResult(statistic=np.float64(54.5), pvalue=np.float64(0.7608820121117055))\n",
      "NB -TPR: TtestResult(statistic=np.float64(-0.6207758191479895), pvalue=np.float64(0.5425284635443197), df=np.float64(18.0))\n",
      "NB - FPR: TtestResult(statistic=np.float64(0.7100864386604417), pvalue=np.float64(0.48674896160061254), df=np.float64(18.0))\n",
      "NB - FN/FP: TtestResult(statistic=np.float64(0.052264803094797835), pvalue=np.float64(0.9588933629628383), df=np.float64(18.0))\n"
     ]
    }
   ],
   "source": [
    "label = 'Female'\n",
    "\n",
    "fl.perform_t_tests(df, 'SVM', label)\n",
    "fl.perform_t_tests(df, 'DT', label)\n",
    "fl.perform_t_tests(df, 'RF', label)\n",
    "fl.perform_t_tests(df, 'LR', label)\n",
    "fl.perform_t_tests(df, 'KNN', label)\n",
    "fl.perform_t_tests(df, 'ANN', label)\n",
    "fl.perform_t_tests(df, 'NB', label)\n"
   ]
  }
 ],
 "metadata": {
  "kernelspec": {
   "display_name": "f2ml",
   "language": "python",
   "name": "python3"
  },
  "language_info": {
   "codemirror_mode": {
    "name": "ipython",
    "version": 3
   },
   "file_extension": ".py",
   "mimetype": "text/x-python",
   "name": "python",
   "nbconvert_exporter": "python",
   "pygments_lexer": "ipython3",
   "version": "3.13.1"
  }
 },
 "nbformat": 4,
 "nbformat_minor": 2
}
