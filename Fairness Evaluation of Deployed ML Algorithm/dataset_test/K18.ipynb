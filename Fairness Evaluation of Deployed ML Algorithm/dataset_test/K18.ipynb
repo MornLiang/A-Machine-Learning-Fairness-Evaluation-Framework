{
 "cells": [
  {
   "cell_type": "code",
   "execution_count": 1,
   "metadata": {},
   "outputs": [
    {
     "name": "stderr",
     "output_type": "stream",
     "text": [
      "/home/morning/miniconda3/envs/f2ml/lib/python3.13/site-packages/tqdm/auto.py:21: TqdmWarning: IProgress not found. Please update jupyter and ipywidgets. See https://ipywidgets.readthedocs.io/en/stable/user_install.html\n",
      "  from .autonotebook import tqdm as notebook_tqdm\n"
     ]
    },
    {
     "name": "stdout",
     "output_type": "stream",
     "text": [
      "Warning: Looks like you're using an outdated `kagglehub` version (installed: 0.3.5), please consider upgrading to the latest version (0.3.6).\n",
      "Path to dataset files: /home/morning/.cache/kagglehub/datasets/kapoorprakhar/cardio-health-risk-assessment-dataset/versions/1\n"
     ]
    }
   ],
   "source": [
    "import kagglehub\n",
    "\n",
    "# Download latest version\n",
    "path = kagglehub.dataset_download(\"kapoorprakhar/cardio-health-risk-assessment-dataset\")\n",
    "\n",
    "print(\"Path to dataset files:\", path)"
   ]
  },
  {
   "cell_type": "code",
   "execution_count": 2,
   "metadata": {},
   "outputs": [
    {
     "data": {
      "text/plain": [
       "['Heart_Disease_Prediction.csv']"
      ]
     },
     "execution_count": 2,
     "metadata": {},
     "output_type": "execute_result"
    }
   ],
   "source": [
    "import os\n",
    "os.listdir(path)"
   ]
  },
  {
   "cell_type": "code",
   "execution_count": 3,
   "metadata": {},
   "outputs": [],
   "source": [
    "import pandas as pd\n",
    "import fairtl_statisticaltest as fl\n",
    "from sklearn.feature_selection import VarianceThreshold\n",
    "from sklearn.preprocessing import StandardScaler\n",
    "from sklearn.model_selection import KFold\n",
    "from sklearn.preprocessing import OrdinalEncoder, LabelEncoder\n",
    "from sklearn.preprocessing import OneHotEncoder"
   ]
  },
  {
   "cell_type": "code",
   "execution_count": 4,
   "metadata": {},
   "outputs": [
    {
     "data": {
      "text/html": [
       "<div>\n",
       "<style scoped>\n",
       "    .dataframe tbody tr th:only-of-type {\n",
       "        vertical-align: middle;\n",
       "    }\n",
       "\n",
       "    .dataframe tbody tr th {\n",
       "        vertical-align: top;\n",
       "    }\n",
       "\n",
       "    .dataframe thead th {\n",
       "        text-align: right;\n",
       "    }\n",
       "</style>\n",
       "<table border=\"1\" class=\"dataframe\">\n",
       "  <thead>\n",
       "    <tr style=\"text-align: right;\">\n",
       "      <th></th>\n",
       "      <th>Age</th>\n",
       "      <th>Sex</th>\n",
       "      <th>Chest pain type</th>\n",
       "      <th>BP</th>\n",
       "      <th>Cholesterol</th>\n",
       "      <th>FBS over 120</th>\n",
       "      <th>EKG results</th>\n",
       "      <th>Max HR</th>\n",
       "      <th>Exercise angina</th>\n",
       "      <th>ST depression</th>\n",
       "      <th>Slope of ST</th>\n",
       "      <th>Number of vessels fluro</th>\n",
       "      <th>Thallium</th>\n",
       "      <th>Heart Disease</th>\n",
       "    </tr>\n",
       "  </thead>\n",
       "  <tbody>\n",
       "    <tr>\n",
       "      <th>0</th>\n",
       "      <td>70</td>\n",
       "      <td>1</td>\n",
       "      <td>4</td>\n",
       "      <td>130</td>\n",
       "      <td>322</td>\n",
       "      <td>0</td>\n",
       "      <td>2</td>\n",
       "      <td>109</td>\n",
       "      <td>0</td>\n",
       "      <td>2.4</td>\n",
       "      <td>2</td>\n",
       "      <td>3</td>\n",
       "      <td>3</td>\n",
       "      <td>Presence</td>\n",
       "    </tr>\n",
       "    <tr>\n",
       "      <th>1</th>\n",
       "      <td>80</td>\n",
       "      <td>0</td>\n",
       "      <td>3</td>\n",
       "      <td>115</td>\n",
       "      <td>564</td>\n",
       "      <td>0</td>\n",
       "      <td>2</td>\n",
       "      <td>160</td>\n",
       "      <td>0</td>\n",
       "      <td>1.6</td>\n",
       "      <td>2</td>\n",
       "      <td>0</td>\n",
       "      <td>7</td>\n",
       "      <td>Absence</td>\n",
       "    </tr>\n",
       "    <tr>\n",
       "      <th>2</th>\n",
       "      <td>55</td>\n",
       "      <td>1</td>\n",
       "      <td>2</td>\n",
       "      <td>124</td>\n",
       "      <td>261</td>\n",
       "      <td>0</td>\n",
       "      <td>0</td>\n",
       "      <td>141</td>\n",
       "      <td>0</td>\n",
       "      <td>0.3</td>\n",
       "      <td>1</td>\n",
       "      <td>0</td>\n",
       "      <td>7</td>\n",
       "      <td>Presence</td>\n",
       "    </tr>\n",
       "    <tr>\n",
       "      <th>3</th>\n",
       "      <td>65</td>\n",
       "      <td>1</td>\n",
       "      <td>4</td>\n",
       "      <td>128</td>\n",
       "      <td>263</td>\n",
       "      <td>0</td>\n",
       "      <td>0</td>\n",
       "      <td>105</td>\n",
       "      <td>1</td>\n",
       "      <td>0.2</td>\n",
       "      <td>2</td>\n",
       "      <td>1</td>\n",
       "      <td>7</td>\n",
       "      <td>Absence</td>\n",
       "    </tr>\n",
       "    <tr>\n",
       "      <th>4</th>\n",
       "      <td>45</td>\n",
       "      <td>0</td>\n",
       "      <td>2</td>\n",
       "      <td>120</td>\n",
       "      <td>269</td>\n",
       "      <td>0</td>\n",
       "      <td>2</td>\n",
       "      <td>121</td>\n",
       "      <td>1</td>\n",
       "      <td>0.2</td>\n",
       "      <td>1</td>\n",
       "      <td>1</td>\n",
       "      <td>3</td>\n",
       "      <td>Absence</td>\n",
       "    </tr>\n",
       "  </tbody>\n",
       "</table>\n",
       "</div>"
      ],
      "text/plain": [
       "   Age  Sex  Chest pain type   BP  Cholesterol  FBS over 120  EKG results  \\\n",
       "0   70    1                4  130          322             0            2   \n",
       "1   80    0                3  115          564             0            2   \n",
       "2   55    1                2  124          261             0            0   \n",
       "3   65    1                4  128          263             0            0   \n",
       "4   45    0                2  120          269             0            2   \n",
       "\n",
       "   Max HR  Exercise angina  ST depression  Slope of ST  \\\n",
       "0     109                0            2.4            2   \n",
       "1     160                0            1.6            2   \n",
       "2     141                0            0.3            1   \n",
       "3     105                1            0.2            2   \n",
       "4     121                1            0.2            1   \n",
       "\n",
       "   Number of vessels fluro  Thallium Heart Disease  \n",
       "0                        3         3      Presence  \n",
       "1                        0         7       Absence  \n",
       "2                        0         7      Presence  \n",
       "3                        1         7       Absence  \n",
       "4                        1         3       Absence  "
      ]
     },
     "execution_count": 4,
     "metadata": {},
     "output_type": "execute_result"
    }
   ],
   "source": [
    "df = pd.read_csv(f'{path}/Heart_Disease_Prediction.csv')\n",
    "df.head()"
   ]
  },
  {
   "cell_type": "code",
   "execution_count": 5,
   "metadata": {},
   "outputs": [
    {
     "data": {
      "text/plain": [
       "(270, 14)"
      ]
     },
     "execution_count": 5,
     "metadata": {},
     "output_type": "execute_result"
    }
   ],
   "source": [
    "df.shape"
   ]
  },
  {
   "cell_type": "code",
   "execution_count": 6,
   "metadata": {},
   "outputs": [
    {
     "data": {
      "text/plain": [
       "array(['Presence', 'Absence'], dtype=object)"
      ]
     },
     "execution_count": 6,
     "metadata": {},
     "output_type": "execute_result"
    }
   ],
   "source": [
    "df['Heart Disease'].unique()"
   ]
  },
  {
   "cell_type": "code",
   "execution_count": 7,
   "metadata": {},
   "outputs": [],
   "source": [
    "df['Heart Disease'] = df['Heart Disease'].map({'Absence': 0, 'Presence': 1})"
   ]
  },
  {
   "cell_type": "code",
   "execution_count": 8,
   "metadata": {},
   "outputs": [
    {
     "name": "stdout",
     "output_type": "stream",
     "text": [
      "<class 'pandas.core.frame.DataFrame'>\n",
      "RangeIndex: 270 entries, 0 to 269\n",
      "Data columns (total 14 columns):\n",
      " #   Column                   Non-Null Count  Dtype  \n",
      "---  ------                   --------------  -----  \n",
      " 0   Age                      270 non-null    int64  \n",
      " 1   Sex                      270 non-null    int64  \n",
      " 2   Chest pain type          270 non-null    int64  \n",
      " 3   BP                       270 non-null    int64  \n",
      " 4   Cholesterol              270 non-null    int64  \n",
      " 5   FBS over 120             270 non-null    int64  \n",
      " 6   EKG results              270 non-null    int64  \n",
      " 7   Max HR                   270 non-null    int64  \n",
      " 8   Exercise angina          270 non-null    int64  \n",
      " 9   ST depression            270 non-null    float64\n",
      " 10  Slope of ST              270 non-null    int64  \n",
      " 11  Number of vessels fluro  270 non-null    int64  \n",
      " 12  Thallium                 270 non-null    int64  \n",
      " 13  Heart Disease            270 non-null    int64  \n",
      "dtypes: float64(1), int64(13)\n",
      "memory usage: 29.7 KB\n"
     ]
    }
   ],
   "source": [
    "df.info()"
   ]
  },
  {
   "cell_type": "code",
   "execution_count": 9,
   "metadata": {},
   "outputs": [
    {
     "data": {
      "text/html": [
       "<div>\n",
       "<style scoped>\n",
       "    .dataframe tbody tr th:only-of-type {\n",
       "        vertical-align: middle;\n",
       "    }\n",
       "\n",
       "    .dataframe tbody tr th {\n",
       "        vertical-align: top;\n",
       "    }\n",
       "\n",
       "    .dataframe thead th {\n",
       "        text-align: right;\n",
       "    }\n",
       "</style>\n",
       "<table border=\"1\" class=\"dataframe\">\n",
       "  <thead>\n",
       "    <tr style=\"text-align: right;\">\n",
       "      <th></th>\n",
       "      <th>Age</th>\n",
       "      <th>Sex</th>\n",
       "      <th>Chest pain type</th>\n",
       "      <th>BP</th>\n",
       "      <th>Cholesterol</th>\n",
       "      <th>FBS over 120</th>\n",
       "      <th>EKG results</th>\n",
       "      <th>Max HR</th>\n",
       "      <th>Exercise angina</th>\n",
       "      <th>ST depression</th>\n",
       "      <th>Slope of ST</th>\n",
       "      <th>Number of vessels fluro</th>\n",
       "      <th>Thallium</th>\n",
       "      <th>Heart Disease</th>\n",
       "    </tr>\n",
       "  </thead>\n",
       "  <tbody>\n",
       "    <tr>\n",
       "      <th>0</th>\n",
       "      <td>70</td>\n",
       "      <td>1</td>\n",
       "      <td>4</td>\n",
       "      <td>130</td>\n",
       "      <td>322</td>\n",
       "      <td>0</td>\n",
       "      <td>2</td>\n",
       "      <td>109</td>\n",
       "      <td>0</td>\n",
       "      <td>2.4</td>\n",
       "      <td>2</td>\n",
       "      <td>3</td>\n",
       "      <td>3</td>\n",
       "      <td>1</td>\n",
       "    </tr>\n",
       "    <tr>\n",
       "      <th>1</th>\n",
       "      <td>80</td>\n",
       "      <td>0</td>\n",
       "      <td>3</td>\n",
       "      <td>115</td>\n",
       "      <td>564</td>\n",
       "      <td>0</td>\n",
       "      <td>2</td>\n",
       "      <td>160</td>\n",
       "      <td>0</td>\n",
       "      <td>1.6</td>\n",
       "      <td>2</td>\n",
       "      <td>0</td>\n",
       "      <td>7</td>\n",
       "      <td>0</td>\n",
       "    </tr>\n",
       "    <tr>\n",
       "      <th>2</th>\n",
       "      <td>55</td>\n",
       "      <td>1</td>\n",
       "      <td>2</td>\n",
       "      <td>124</td>\n",
       "      <td>261</td>\n",
       "      <td>0</td>\n",
       "      <td>0</td>\n",
       "      <td>141</td>\n",
       "      <td>0</td>\n",
       "      <td>0.3</td>\n",
       "      <td>1</td>\n",
       "      <td>0</td>\n",
       "      <td>7</td>\n",
       "      <td>1</td>\n",
       "    </tr>\n",
       "    <tr>\n",
       "      <th>3</th>\n",
       "      <td>65</td>\n",
       "      <td>1</td>\n",
       "      <td>4</td>\n",
       "      <td>128</td>\n",
       "      <td>263</td>\n",
       "      <td>0</td>\n",
       "      <td>0</td>\n",
       "      <td>105</td>\n",
       "      <td>1</td>\n",
       "      <td>0.2</td>\n",
       "      <td>2</td>\n",
       "      <td>1</td>\n",
       "      <td>7</td>\n",
       "      <td>0</td>\n",
       "    </tr>\n",
       "    <tr>\n",
       "      <th>4</th>\n",
       "      <td>45</td>\n",
       "      <td>0</td>\n",
       "      <td>2</td>\n",
       "      <td>120</td>\n",
       "      <td>269</td>\n",
       "      <td>0</td>\n",
       "      <td>2</td>\n",
       "      <td>121</td>\n",
       "      <td>1</td>\n",
       "      <td>0.2</td>\n",
       "      <td>1</td>\n",
       "      <td>1</td>\n",
       "      <td>3</td>\n",
       "      <td>0</td>\n",
       "    </tr>\n",
       "  </tbody>\n",
       "</table>\n",
       "</div>"
      ],
      "text/plain": [
       "   Age  Sex  Chest pain type   BP  Cholesterol  FBS over 120  EKG results  \\\n",
       "0   70    1                4  130          322             0            2   \n",
       "1   80    0                3  115          564             0            2   \n",
       "2   55    1                2  124          261             0            0   \n",
       "3   65    1                4  128          263             0            0   \n",
       "4   45    0                2  120          269             0            2   \n",
       "\n",
       "   Max HR  Exercise angina  ST depression  Slope of ST  \\\n",
       "0     109                0            2.4            2   \n",
       "1     160                0            1.6            2   \n",
       "2     141                0            0.3            1   \n",
       "3     105                1            0.2            2   \n",
       "4     121                1            0.2            1   \n",
       "\n",
       "   Number of vessels fluro  Thallium  Heart Disease  \n",
       "0                        3         3              1  \n",
       "1                        0         7              0  \n",
       "2                        0         7              1  \n",
       "3                        1         7              0  \n",
       "4                        1         3              0  "
      ]
     },
     "execution_count": 9,
     "metadata": {},
     "output_type": "execute_result"
    }
   ],
   "source": [
    "df.head()"
   ]
  },
  {
   "cell_type": "code",
   "execution_count": 10,
   "metadata": {},
   "outputs": [],
   "source": [
    "y = df['Heart Disease'].values\n",
    "X = df.drop('Heart Disease', axis=1)"
   ]
  },
  {
   "cell_type": "code",
   "execution_count": 11,
   "metadata": {},
   "outputs": [
    {
     "name": "stdout",
     "output_type": "stream",
     "text": [
      "(270, 13)\n",
      "(270, 13)\n"
     ]
    }
   ],
   "source": [
    "print(X.shape)\n",
    "selector = VarianceThreshold(threshold=0.1)\n",
    "X = selector.fit_transform(X)\n",
    "print(X.shape)"
   ]
  },
  {
   "cell_type": "code",
   "execution_count": 12,
   "metadata": {},
   "outputs": [
    {
     "name": "stdout",
     "output_type": "stream",
     "text": [
      "Female:  87\n",
      "Male:  183\n"
     ]
    }
   ],
   "source": [
    "# build mask\n",
    "gender_0_mask = df['Sex'] == 0\n",
    "gender_1_mask = df['Sex'] == 1\n",
    "\n",
    "count_gender_0 = gender_0_mask.sum()\n",
    "count_gender_1 = gender_1_mask.sum()\n",
    "\n",
    "print(\"Female: \", count_gender_0)\n",
    "print(\"Male: \", count_gender_1)\n",
    "\n",
    "scaler = StandardScaler()\n",
    "X_scaled = scaler.fit_transform(X)\n",
    "\n",
    "X_scaled_Gender_0 = X_scaled[gender_0_mask]\n",
    "X_scaled_Gender_1 = X_scaled[gender_1_mask]\n",
    "y_Gender_0 = y[gender_0_mask]\n",
    "y_Gender_1 = y[gender_1_mask]"
   ]
  },
  {
   "cell_type": "code",
   "execution_count": 13,
   "metadata": {},
   "outputs": [],
   "source": [
    "seed = 42\n",
    "models = fl.build_models(seed)\n",
    "\n",
    "results_list = []\n",
    "\n",
    "kf = KFold(n_splits=5, shuffle=True, random_state=seed)"
   ]
  },
  {
   "cell_type": "code",
   "execution_count": 14,
   "metadata": {},
   "outputs": [
    {
     "name": "stdout",
     "output_type": "stream",
     "text": [
      "Starting experiments for Female(0)\n",
      "Processing fold 1 for group Female\n",
      "Training and evaluating model: SVM\n",
      "Training and evaluating model: LR\n",
      "Training and evaluating model: KNN\n",
      "Training and evaluating model: RF\n",
      "Training and evaluating model: DT\n",
      "Training and evaluating model: ANN\n",
      "Training and evaluating model: NB\n",
      "Processing fold 2 for group Female\n",
      "Training and evaluating model: SVM\n",
      "Training and evaluating model: LR\n",
      "Training and evaluating model: KNN\n",
      "Training and evaluating model: RF\n"
     ]
    },
    {
     "name": "stderr",
     "output_type": "stream",
     "text": [
      "/home/morning/miniconda3/envs/f2ml/lib/python3.13/site-packages/sklearn/neural_network/_multilayer_perceptron.py:691: ConvergenceWarning: Stochastic Optimizer: Maximum iterations (200) reached and the optimization hasn't converged yet.\n",
      "  warnings.warn(\n"
     ]
    },
    {
     "name": "stdout",
     "output_type": "stream",
     "text": [
      "Training and evaluating model: DT\n",
      "Training and evaluating model: ANN\n",
      "Training and evaluating model: NB\n",
      "Processing fold 3 for group Female\n",
      "Training and evaluating model: SVM\n",
      "Training and evaluating model: LR\n",
      "Training and evaluating model: KNN\n",
      "Training and evaluating model: RF\n"
     ]
    },
    {
     "name": "stderr",
     "output_type": "stream",
     "text": [
      "/home/morning/miniconda3/envs/f2ml/lib/python3.13/site-packages/sklearn/neural_network/_multilayer_perceptron.py:691: ConvergenceWarning: Stochastic Optimizer: Maximum iterations (200) reached and the optimization hasn't converged yet.\n",
      "  warnings.warn(\n"
     ]
    },
    {
     "name": "stdout",
     "output_type": "stream",
     "text": [
      "Training and evaluating model: DT\n",
      "Training and evaluating model: ANN\n",
      "Training and evaluating model: NB\n",
      "Processing fold 4 for group Female\n",
      "Training and evaluating model: SVM\n",
      "Training and evaluating model: LR\n",
      "Training and evaluating model: KNN\n",
      "Training and evaluating model: RF\n"
     ]
    },
    {
     "name": "stderr",
     "output_type": "stream",
     "text": [
      "/home/morning/miniconda3/envs/f2ml/lib/python3.13/site-packages/sklearn/neural_network/_multilayer_perceptron.py:691: ConvergenceWarning: Stochastic Optimizer: Maximum iterations (200) reached and the optimization hasn't converged yet.\n",
      "  warnings.warn(\n"
     ]
    },
    {
     "name": "stdout",
     "output_type": "stream",
     "text": [
      "Training and evaluating model: DT\n",
      "Training and evaluating model: ANN\n",
      "Training and evaluating model: NB\n",
      "Processing fold 5 for group Female\n",
      "Training and evaluating model: SVM\n",
      "Training and evaluating model: LR\n",
      "Training and evaluating model: KNN\n",
      "Training and evaluating model: RF\n"
     ]
    },
    {
     "name": "stderr",
     "output_type": "stream",
     "text": [
      "/home/morning/miniconda3/envs/f2ml/lib/python3.13/site-packages/sklearn/neural_network/_multilayer_perceptron.py:691: ConvergenceWarning: Stochastic Optimizer: Maximum iterations (200) reached and the optimization hasn't converged yet.\n",
      "  warnings.warn(\n"
     ]
    },
    {
     "name": "stdout",
     "output_type": "stream",
     "text": [
      "Training and evaluating model: DT\n",
      "Training and evaluating model: ANN\n",
      "Training and evaluating model: NB\n",
      "Starting experiments for Male(1)\n",
      "Processing fold 1 for group Male\n",
      "Training and evaluating model: SVM\n",
      "Training and evaluating model: LR\n",
      "Training and evaluating model: KNN\n",
      "Training and evaluating model: RF\n"
     ]
    },
    {
     "name": "stderr",
     "output_type": "stream",
     "text": [
      "/home/morning/miniconda3/envs/f2ml/lib/python3.13/site-packages/sklearn/neural_network/_multilayer_perceptron.py:691: ConvergenceWarning: Stochastic Optimizer: Maximum iterations (200) reached and the optimization hasn't converged yet.\n",
      "  warnings.warn(\n"
     ]
    },
    {
     "name": "stdout",
     "output_type": "stream",
     "text": [
      "Training and evaluating model: DT\n",
      "Training and evaluating model: ANN\n",
      "Training and evaluating model: NB\n",
      "Processing fold 2 for group Male\n",
      "Training and evaluating model: SVM\n",
      "Training and evaluating model: LR\n",
      "Training and evaluating model: KNN\n",
      "Training and evaluating model: RF\n"
     ]
    },
    {
     "name": "stderr",
     "output_type": "stream",
     "text": [
      "/home/morning/miniconda3/envs/f2ml/lib/python3.13/site-packages/sklearn/neural_network/_multilayer_perceptron.py:691: ConvergenceWarning: Stochastic Optimizer: Maximum iterations (200) reached and the optimization hasn't converged yet.\n",
      "  warnings.warn(\n"
     ]
    },
    {
     "name": "stdout",
     "output_type": "stream",
     "text": [
      "Training and evaluating model: DT\n",
      "Training and evaluating model: ANN\n",
      "Training and evaluating model: NB\n",
      "Processing fold 3 for group Male\n",
      "Training and evaluating model: SVM\n",
      "Training and evaluating model: LR\n",
      "Training and evaluating model: KNN\n",
      "Training and evaluating model: RF\n"
     ]
    },
    {
     "name": "stderr",
     "output_type": "stream",
     "text": [
      "/home/morning/miniconda3/envs/f2ml/lib/python3.13/site-packages/sklearn/neural_network/_multilayer_perceptron.py:691: ConvergenceWarning: Stochastic Optimizer: Maximum iterations (200) reached and the optimization hasn't converged yet.\n",
      "  warnings.warn(\n"
     ]
    },
    {
     "name": "stdout",
     "output_type": "stream",
     "text": [
      "Training and evaluating model: DT\n",
      "Training and evaluating model: ANN\n",
      "Training and evaluating model: NB\n",
      "Processing fold 4 for group Male\n",
      "Training and evaluating model: SVM\n",
      "Training and evaluating model: LR\n",
      "Training and evaluating model: KNN\n",
      "Training and evaluating model: RF\n"
     ]
    },
    {
     "name": "stderr",
     "output_type": "stream",
     "text": [
      "/home/morning/miniconda3/envs/f2ml/lib/python3.13/site-packages/sklearn/neural_network/_multilayer_perceptron.py:691: ConvergenceWarning: Stochastic Optimizer: Maximum iterations (200) reached and the optimization hasn't converged yet.\n",
      "  warnings.warn(\n"
     ]
    },
    {
     "name": "stdout",
     "output_type": "stream",
     "text": [
      "Training and evaluating model: DT\n",
      "Training and evaluating model: ANN\n",
      "Training and evaluating model: NB\n",
      "Processing fold 5 for group Male\n",
      "Training and evaluating model: SVM\n",
      "Training and evaluating model: LR\n",
      "Training and evaluating model: KNN\n",
      "Training and evaluating model: RF\n"
     ]
    },
    {
     "name": "stderr",
     "output_type": "stream",
     "text": [
      "/home/morning/miniconda3/envs/f2ml/lib/python3.13/site-packages/sklearn/neural_network/_multilayer_perceptron.py:691: ConvergenceWarning: Stochastic Optimizer: Maximum iterations (200) reached and the optimization hasn't converged yet.\n",
      "  warnings.warn(\n"
     ]
    },
    {
     "name": "stdout",
     "output_type": "stream",
     "text": [
      "Training and evaluating model: DT\n",
      "Training and evaluating model: ANN\n",
      "Training and evaluating model: NB\n",
      "   Fold   Group   SVM_TPR   SVM_TNR   SVM_FPR   SVM_FNR  SVM_TP  SVM_TN  \\\n",
      "0     1  Female  0.500000  1.000000  0.000000  0.500000       1      16   \n",
      "1     2  Female  0.750000  1.000000  0.000000  0.250000       3      14   \n",
      "2     3  Female  0.400000  1.000000  0.000000  0.600000       2      12   \n",
      "3     4  Female  1.000000  0.933333  0.066667  0.000000       2      14   \n",
      "4     5  Female  0.428571  0.900000  0.100000  0.571429       3       9   \n",
      "5     1    Male  0.736842  0.888889  0.111111  0.263158      14      16   \n",
      "6     2    Male  0.760000  0.750000  0.250000  0.240000      19       9   \n",
      "7     3    Male  0.807692  0.909091  0.090909  0.192308      21      10   \n",
      "8     4    Male  0.928571  0.545455  0.454545  0.071429      13      12   \n",
      "9     5    Male  0.812500  0.750000  0.250000  0.187500      13      15   \n",
      "\n",
      "   SVM_FP  SVM_FN  ...  ANN_FP  ANN_FN    NB_TPR    NB_TNR    NB_FPR  \\\n",
      "0       0       1  ...       1       0  1.000000  0.937500  0.062500   \n",
      "1       0       1  ...       0       1  1.000000  0.928571  0.071429   \n",
      "2       0       3  ...       2       0  0.800000  0.916667  0.083333   \n",
      "3       1       0  ...       1       0  1.000000  0.933333  0.066667   \n",
      "4       1       4  ...       1       3  0.571429  0.700000  0.300000   \n",
      "5       2       5  ...       3       5  0.736842  0.833333  0.166667   \n",
      "6       3       6  ...       2       7  0.680000  0.583333  0.416667   \n",
      "7       1       5  ...       1       4  0.769231  0.818182  0.181818   \n",
      "8      10       1  ...       8       2  1.000000  0.590909  0.409091   \n",
      "9       5       3  ...       5       3  0.812500  0.900000  0.100000   \n",
      "\n",
      "     NB_FNR  NB_TP  NB_TN  NB_FP  NB_FN  \n",
      "0  0.000000      2     15      1      0  \n",
      "1  0.000000      4     13      1      0  \n",
      "2  0.200000      4     11      1      1  \n",
      "3  0.000000      2     14      1      0  \n",
      "4  0.428571      4      7      3      3  \n",
      "5  0.263158     14     15      3      5  \n",
      "6  0.320000     17      7      5      8  \n",
      "7  0.230769     20      9      2      6  \n",
      "8  0.000000     14     13      9      0  \n",
      "9  0.187500     13     18      2      3  \n",
      "\n",
      "[10 rows x 58 columns]\n"
     ]
    },
    {
     "name": "stderr",
     "output_type": "stream",
     "text": [
      "/home/morning/miniconda3/envs/f2ml/lib/python3.13/site-packages/sklearn/neural_network/_multilayer_perceptron.py:691: ConvergenceWarning: Stochastic Optimizer: Maximum iterations (200) reached and the optimization hasn't converged yet.\n",
      "  warnings.warn(\n"
     ]
    }
   ],
   "source": [
    "print(\"Starting experiments for Female(0)\")\n",
    "fl.run_experiment(kf, models, X_scaled_Gender_0, y_Gender_0, 'Female', results_list)\n",
    "\n",
    "print(\"Starting experiments for Male(1)\")\n",
    "fl.run_experiment(kf, models, X_scaled_Gender_1, y_Gender_1, 'Male', results_list)\n",
    "\n",
    "final_results_df = pd.concat(results_list, ignore_index=True)\n",
    "print(final_results_df)"
   ]
  },
  {
   "cell_type": "code",
   "execution_count": 15,
   "metadata": {},
   "outputs": [],
   "source": [
    "results_df = pd.concat(results_list, ignore_index=True)"
   ]
  },
  {
   "cell_type": "code",
   "execution_count": 16,
   "metadata": {},
   "outputs": [],
   "source": [
    "result_path = './results/K18_result.xlsx'\n",
    "results_df.to_excel(result_path, index=False)"
   ]
  },
  {
   "cell_type": "code",
   "execution_count": 17,
   "metadata": {},
   "outputs": [
    {
     "data": {
      "text/html": [
       "<div>\n",
       "<style scoped>\n",
       "    .dataframe tbody tr th:only-of-type {\n",
       "        vertical-align: middle;\n",
       "    }\n",
       "\n",
       "    .dataframe tbody tr th {\n",
       "        vertical-align: top;\n",
       "    }\n",
       "\n",
       "    .dataframe thead th {\n",
       "        text-align: right;\n",
       "    }\n",
       "</style>\n",
       "<table border=\"1\" class=\"dataframe\">\n",
       "  <thead>\n",
       "    <tr style=\"text-align: right;\">\n",
       "      <th></th>\n",
       "      <th>Fold</th>\n",
       "      <th>Group</th>\n",
       "      <th>SVM_TPR</th>\n",
       "      <th>SVM_TNR</th>\n",
       "      <th>SVM_FPR</th>\n",
       "      <th>SVM_FNR</th>\n",
       "      <th>SVM_TP</th>\n",
       "      <th>SVM_TN</th>\n",
       "      <th>SVM_FP</th>\n",
       "      <th>SVM_FN</th>\n",
       "      <th>...</th>\n",
       "      <th>ANN_FP</th>\n",
       "      <th>ANN_FN</th>\n",
       "      <th>NB_TPR</th>\n",
       "      <th>NB_TNR</th>\n",
       "      <th>NB_FPR</th>\n",
       "      <th>NB_FNR</th>\n",
       "      <th>NB_TP</th>\n",
       "      <th>NB_TN</th>\n",
       "      <th>NB_FP</th>\n",
       "      <th>NB_FN</th>\n",
       "    </tr>\n",
       "  </thead>\n",
       "  <tbody>\n",
       "    <tr>\n",
       "      <th>0</th>\n",
       "      <td>1</td>\n",
       "      <td>Female</td>\n",
       "      <td>0.500000</td>\n",
       "      <td>1.000000</td>\n",
       "      <td>0.000000</td>\n",
       "      <td>0.500000</td>\n",
       "      <td>1</td>\n",
       "      <td>16</td>\n",
       "      <td>0</td>\n",
       "      <td>1</td>\n",
       "      <td>...</td>\n",
       "      <td>1</td>\n",
       "      <td>0</td>\n",
       "      <td>1.000000</td>\n",
       "      <td>0.937500</td>\n",
       "      <td>0.062500</td>\n",
       "      <td>0.000000</td>\n",
       "      <td>2</td>\n",
       "      <td>15</td>\n",
       "      <td>1</td>\n",
       "      <td>0</td>\n",
       "    </tr>\n",
       "    <tr>\n",
       "      <th>1</th>\n",
       "      <td>2</td>\n",
       "      <td>Female</td>\n",
       "      <td>0.750000</td>\n",
       "      <td>1.000000</td>\n",
       "      <td>0.000000</td>\n",
       "      <td>0.250000</td>\n",
       "      <td>3</td>\n",
       "      <td>14</td>\n",
       "      <td>0</td>\n",
       "      <td>1</td>\n",
       "      <td>...</td>\n",
       "      <td>0</td>\n",
       "      <td>1</td>\n",
       "      <td>1.000000</td>\n",
       "      <td>0.928571</td>\n",
       "      <td>0.071429</td>\n",
       "      <td>0.000000</td>\n",
       "      <td>4</td>\n",
       "      <td>13</td>\n",
       "      <td>1</td>\n",
       "      <td>0</td>\n",
       "    </tr>\n",
       "    <tr>\n",
       "      <th>2</th>\n",
       "      <td>3</td>\n",
       "      <td>Female</td>\n",
       "      <td>0.400000</td>\n",
       "      <td>1.000000</td>\n",
       "      <td>0.000000</td>\n",
       "      <td>0.600000</td>\n",
       "      <td>2</td>\n",
       "      <td>12</td>\n",
       "      <td>0</td>\n",
       "      <td>3</td>\n",
       "      <td>...</td>\n",
       "      <td>2</td>\n",
       "      <td>0</td>\n",
       "      <td>0.800000</td>\n",
       "      <td>0.916667</td>\n",
       "      <td>0.083333</td>\n",
       "      <td>0.200000</td>\n",
       "      <td>4</td>\n",
       "      <td>11</td>\n",
       "      <td>1</td>\n",
       "      <td>1</td>\n",
       "    </tr>\n",
       "    <tr>\n",
       "      <th>3</th>\n",
       "      <td>4</td>\n",
       "      <td>Female</td>\n",
       "      <td>1.000000</td>\n",
       "      <td>0.933333</td>\n",
       "      <td>0.066667</td>\n",
       "      <td>0.000000</td>\n",
       "      <td>2</td>\n",
       "      <td>14</td>\n",
       "      <td>1</td>\n",
       "      <td>0</td>\n",
       "      <td>...</td>\n",
       "      <td>1</td>\n",
       "      <td>0</td>\n",
       "      <td>1.000000</td>\n",
       "      <td>0.933333</td>\n",
       "      <td>0.066667</td>\n",
       "      <td>0.000000</td>\n",
       "      <td>2</td>\n",
       "      <td>14</td>\n",
       "      <td>1</td>\n",
       "      <td>0</td>\n",
       "    </tr>\n",
       "    <tr>\n",
       "      <th>4</th>\n",
       "      <td>5</td>\n",
       "      <td>Female</td>\n",
       "      <td>0.428571</td>\n",
       "      <td>0.900000</td>\n",
       "      <td>0.100000</td>\n",
       "      <td>0.571429</td>\n",
       "      <td>3</td>\n",
       "      <td>9</td>\n",
       "      <td>1</td>\n",
       "      <td>4</td>\n",
       "      <td>...</td>\n",
       "      <td>1</td>\n",
       "      <td>3</td>\n",
       "      <td>0.571429</td>\n",
       "      <td>0.700000</td>\n",
       "      <td>0.300000</td>\n",
       "      <td>0.428571</td>\n",
       "      <td>4</td>\n",
       "      <td>7</td>\n",
       "      <td>3</td>\n",
       "      <td>3</td>\n",
       "    </tr>\n",
       "  </tbody>\n",
       "</table>\n",
       "<p>5 rows × 58 columns</p>\n",
       "</div>"
      ],
      "text/plain": [
       "   Fold   Group   SVM_TPR   SVM_TNR   SVM_FPR   SVM_FNR  SVM_TP  SVM_TN  \\\n",
       "0     1  Female  0.500000  1.000000  0.000000  0.500000       1      16   \n",
       "1     2  Female  0.750000  1.000000  0.000000  0.250000       3      14   \n",
       "2     3  Female  0.400000  1.000000  0.000000  0.600000       2      12   \n",
       "3     4  Female  1.000000  0.933333  0.066667  0.000000       2      14   \n",
       "4     5  Female  0.428571  0.900000  0.100000  0.571429       3       9   \n",
       "\n",
       "   SVM_FP  SVM_FN  ...  ANN_FP  ANN_FN    NB_TPR    NB_TNR    NB_FPR  \\\n",
       "0       0       1  ...       1       0  1.000000  0.937500  0.062500   \n",
       "1       0       1  ...       0       1  1.000000  0.928571  0.071429   \n",
       "2       0       3  ...       2       0  0.800000  0.916667  0.083333   \n",
       "3       1       0  ...       1       0  1.000000  0.933333  0.066667   \n",
       "4       1       4  ...       1       3  0.571429  0.700000  0.300000   \n",
       "\n",
       "     NB_FNR  NB_TP  NB_TN  NB_FP  NB_FN  \n",
       "0  0.000000      2     15      1      0  \n",
       "1  0.000000      4     13      1      0  \n",
       "2  0.200000      4     11      1      1  \n",
       "3  0.000000      2     14      1      0  \n",
       "4  0.428571      4      7      3      3  \n",
       "\n",
       "[5 rows x 58 columns]"
      ]
     },
     "execution_count": 17,
     "metadata": {},
     "output_type": "execute_result"
    }
   ],
   "source": [
    "df = pd.read_excel(result_path)\n",
    "df.head()"
   ]
  },
  {
   "cell_type": "code",
   "execution_count": 18,
   "metadata": {},
   "outputs": [
    {
     "name": "stdout",
     "output_type": "stream",
     "text": [
      "SVM -TPR: TtestResult(statistic=np.float64(-1.6271302987475333), pvalue=np.float64(0.14236078760425624), df=np.float64(8.0))\n",
      "SVM - FPR: MannwhitneyuResult(statistic=np.float64(1.0), pvalue=np.float64(0.019624414976639706))\n",
      "SVM - FN/FP: TtestResult(statistic=np.float64(1.8257418582458775), pvalue=np.float64(0.10532192113422431), df=np.float64(8.0))\n",
      "DT -TPR: TtestResult(statistic=np.float64(-2.4426956364529735), pvalue=np.float64(0.040394307478818905), df=np.float64(8.0))\n",
      "DT - FPR: TtestResult(statistic=np.float64(-3.998938797668668), pvalue=np.float64(0.003955627458726489), df=np.float64(8.0))\n",
      "DT - FN/FP: MannwhitneyuResult(statistic=np.float64(13.0), pvalue=np.float64(1.0))\n",
      "RF -TPR: TtestResult(statistic=np.float64(-1.3877510905390327), pvalue=np.float64(0.20264061752396306), df=np.float64(8.0))\n",
      "RF - FPR: TtestResult(statistic=np.float64(-3.5086414890706994), pvalue=np.float64(0.00797744129484177), df=np.float64(8.0))\n",
      "RF - FN/FP: MannwhitneyuResult(statistic=np.float64(17.0), pvalue=np.float64(0.42063492063492064))\n",
      "LR -TPR: TtestResult(statistic=np.float64(-1.4347002087194223), pvalue=np.float64(0.18928607979814024), df=np.float64(8.0))\n",
      "LR - FPR: TtestResult(statistic=np.float64(-2.9913422663826954), pvalue=np.float64(0.01729850134486993), df=np.float64(8.0))\n",
      "LR - FN/FP: MannwhitneyuResult(statistic=np.float64(15.0), pvalue=np.float64(0.6904761904761905))\n",
      "KNN -TPR: TtestResult(statistic=np.float64(-3.75960222631657), pvalue=np.float64(0.005547486388063948), df=np.float64(8.0))\n",
      "KNN - FPR: MannwhitneyuResult(statistic=np.float64(0.0), pvalue=np.float64(0.011159425282914755))\n",
      "KNN - FN/FP: TtestResult(statistic=np.float64(1.8565582431643475), pvalue=np.float64(0.1369451233618815), df=np.float64(4.0))\n",
      "ANN -TPR: MannwhitneyuResult(statistic=np.float64(17.0), pvalue=np.float64(0.39761475195653073))\n",
      "ANN - FPR: TtestResult(statistic=np.float64(-2.3864601266334664), pvalue=np.float64(0.044098793270884756), df=np.float64(8.0))\n",
      "ANN - FN/FP: MannwhitneyuResult(statistic=np.float64(8.0), pvalue=np.float64(0.39761475195653073))\n",
      "NB -TPR: MannwhitneyuResult(statistic=np.float64(16.5), pvalue=np.float64(0.4506437276804216))\n",
      "NB - FPR: MannwhitneyuResult(statistic=np.float64(3.0), pvalue=np.float64(0.05555555555555555))\n",
      "NB - FN/FP: MannwhitneyuResult(statistic=np.float64(3.5), pvalue=np.float64(0.06695528231736841))\n"
     ]
    }
   ],
   "source": [
    "label = 'Female'\n",
    "\n",
    "fl.perform_t_tests(df, 'SVM', label)\n",
    "fl.perform_t_tests(df, 'DT', label)\n",
    "fl.perform_t_tests(df, 'RF', label)\n",
    "fl.perform_t_tests(df, 'LR', label)\n",
    "fl.perform_t_tests(df, 'KNN', label)\n",
    "fl.perform_t_tests(df, 'ANN', label)\n",
    "fl.perform_t_tests(df, 'NB', label)\n"
   ]
  }
 ],
 "metadata": {
  "kernelspec": {
   "display_name": "f2ml",
   "language": "python",
   "name": "python3"
  },
  "language_info": {
   "codemirror_mode": {
    "name": "ipython",
    "version": 3
   },
   "file_extension": ".py",
   "mimetype": "text/x-python",
   "name": "python",
   "nbconvert_exporter": "python",
   "pygments_lexer": "ipython3",
   "version": "3.13.0"
  }
 },
 "nbformat": 4,
 "nbformat_minor": 2
}
