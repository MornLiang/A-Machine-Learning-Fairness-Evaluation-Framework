{
 "cells": [
  {
   "cell_type": "code",
   "execution_count": 1,
   "metadata": {},
   "outputs": [
    {
     "name": "stderr",
     "output_type": "stream",
     "text": [
      "/home/morning/miniconda3/envs/f2ml/lib/python3.13/site-packages/tqdm/auto.py:21: TqdmWarning: IProgress not found. Please update jupyter and ipywidgets. See https://ipywidgets.readthedocs.io/en/stable/user_install.html\n",
      "  from .autonotebook import tqdm as notebook_tqdm\n"
     ]
    },
    {
     "name": "stdout",
     "output_type": "stream",
     "text": [
      "Warning: Looks like you're using an outdated `kagglehub` version (installed: 0.3.5), please consider upgrading to the latest version (0.3.6).\n",
      "Path to dataset files: /home/morning/.cache/kagglehub/datasets/andrewmvd/heart-failure-clinical-data/versions/1\n"
     ]
    }
   ],
   "source": [
    "import kagglehub\n",
    "\n",
    "# Download latest version\n",
    "path = kagglehub.dataset_download(\"andrewmvd/heart-failure-clinical-data\")\n",
    "\n",
    "print(\"Path to dataset files:\", path)"
   ]
  },
  {
   "cell_type": "code",
   "execution_count": 2,
   "metadata": {},
   "outputs": [
    {
     "data": {
      "text/plain": [
       "['heart_failure_clinical_records_dataset.csv']"
      ]
     },
     "execution_count": 2,
     "metadata": {},
     "output_type": "execute_result"
    }
   ],
   "source": [
    "import os\n",
    "os.listdir(path)"
   ]
  },
  {
   "cell_type": "code",
   "execution_count": 3,
   "metadata": {},
   "outputs": [],
   "source": [
    "import fairtl as fl\n",
    "import pandas as pd\n",
    "from sklearn.feature_selection import VarianceThreshold\n",
    "from sklearn.preprocessing import StandardScaler\n",
    "from sklearn.model_selection import KFold"
   ]
  },
  {
   "cell_type": "code",
   "execution_count": 4,
   "metadata": {},
   "outputs": [
    {
     "data": {
      "text/html": [
       "<div>\n",
       "<style scoped>\n",
       "    .dataframe tbody tr th:only-of-type {\n",
       "        vertical-align: middle;\n",
       "    }\n",
       "\n",
       "    .dataframe tbody tr th {\n",
       "        vertical-align: top;\n",
       "    }\n",
       "\n",
       "    .dataframe thead th {\n",
       "        text-align: right;\n",
       "    }\n",
       "</style>\n",
       "<table border=\"1\" class=\"dataframe\">\n",
       "  <thead>\n",
       "    <tr style=\"text-align: right;\">\n",
       "      <th></th>\n",
       "      <th>age</th>\n",
       "      <th>anaemia</th>\n",
       "      <th>creatinine_phosphokinase</th>\n",
       "      <th>diabetes</th>\n",
       "      <th>ejection_fraction</th>\n",
       "      <th>high_blood_pressure</th>\n",
       "      <th>platelets</th>\n",
       "      <th>serum_creatinine</th>\n",
       "      <th>serum_sodium</th>\n",
       "      <th>sex</th>\n",
       "      <th>smoking</th>\n",
       "      <th>time</th>\n",
       "      <th>DEATH_EVENT</th>\n",
       "    </tr>\n",
       "  </thead>\n",
       "  <tbody>\n",
       "    <tr>\n",
       "      <th>0</th>\n",
       "      <td>75.0</td>\n",
       "      <td>0</td>\n",
       "      <td>582</td>\n",
       "      <td>0</td>\n",
       "      <td>20</td>\n",
       "      <td>1</td>\n",
       "      <td>265000.00</td>\n",
       "      <td>1.9</td>\n",
       "      <td>130</td>\n",
       "      <td>1</td>\n",
       "      <td>0</td>\n",
       "      <td>4</td>\n",
       "      <td>1</td>\n",
       "    </tr>\n",
       "    <tr>\n",
       "      <th>1</th>\n",
       "      <td>55.0</td>\n",
       "      <td>0</td>\n",
       "      <td>7861</td>\n",
       "      <td>0</td>\n",
       "      <td>38</td>\n",
       "      <td>0</td>\n",
       "      <td>263358.03</td>\n",
       "      <td>1.1</td>\n",
       "      <td>136</td>\n",
       "      <td>1</td>\n",
       "      <td>0</td>\n",
       "      <td>6</td>\n",
       "      <td>1</td>\n",
       "    </tr>\n",
       "    <tr>\n",
       "      <th>2</th>\n",
       "      <td>65.0</td>\n",
       "      <td>0</td>\n",
       "      <td>146</td>\n",
       "      <td>0</td>\n",
       "      <td>20</td>\n",
       "      <td>0</td>\n",
       "      <td>162000.00</td>\n",
       "      <td>1.3</td>\n",
       "      <td>129</td>\n",
       "      <td>1</td>\n",
       "      <td>1</td>\n",
       "      <td>7</td>\n",
       "      <td>1</td>\n",
       "    </tr>\n",
       "    <tr>\n",
       "      <th>3</th>\n",
       "      <td>50.0</td>\n",
       "      <td>1</td>\n",
       "      <td>111</td>\n",
       "      <td>0</td>\n",
       "      <td>20</td>\n",
       "      <td>0</td>\n",
       "      <td>210000.00</td>\n",
       "      <td>1.9</td>\n",
       "      <td>137</td>\n",
       "      <td>1</td>\n",
       "      <td>0</td>\n",
       "      <td>7</td>\n",
       "      <td>1</td>\n",
       "    </tr>\n",
       "    <tr>\n",
       "      <th>4</th>\n",
       "      <td>65.0</td>\n",
       "      <td>1</td>\n",
       "      <td>160</td>\n",
       "      <td>1</td>\n",
       "      <td>20</td>\n",
       "      <td>0</td>\n",
       "      <td>327000.00</td>\n",
       "      <td>2.7</td>\n",
       "      <td>116</td>\n",
       "      <td>0</td>\n",
       "      <td>0</td>\n",
       "      <td>8</td>\n",
       "      <td>1</td>\n",
       "    </tr>\n",
       "  </tbody>\n",
       "</table>\n",
       "</div>"
      ],
      "text/plain": [
       "    age  anaemia  creatinine_phosphokinase  diabetes  ejection_fraction  \\\n",
       "0  75.0        0                       582         0                 20   \n",
       "1  55.0        0                      7861         0                 38   \n",
       "2  65.0        0                       146         0                 20   \n",
       "3  50.0        1                       111         0                 20   \n",
       "4  65.0        1                       160         1                 20   \n",
       "\n",
       "   high_blood_pressure  platelets  serum_creatinine  serum_sodium  sex  \\\n",
       "0                    1  265000.00               1.9           130    1   \n",
       "1                    0  263358.03               1.1           136    1   \n",
       "2                    0  162000.00               1.3           129    1   \n",
       "3                    0  210000.00               1.9           137    1   \n",
       "4                    0  327000.00               2.7           116    0   \n",
       "\n",
       "   smoking  time  DEATH_EVENT  \n",
       "0        0     4            1  \n",
       "1        0     6            1  \n",
       "2        1     7            1  \n",
       "3        0     7            1  \n",
       "4        0     8            1  "
      ]
     },
     "execution_count": 4,
     "metadata": {},
     "output_type": "execute_result"
    }
   ],
   "source": [
    "df = pd.read_csv(f'{path}/heart_failure_clinical_records_dataset.csv')\n",
    "df.head()"
   ]
  },
  {
   "cell_type": "code",
   "execution_count": 5,
   "metadata": {},
   "outputs": [
    {
     "data": {
      "text/plain": [
       "array([1, 0])"
      ]
     },
     "execution_count": 5,
     "metadata": {},
     "output_type": "execute_result"
    }
   ],
   "source": [
    "df['DEATH_EVENT'].unique()"
   ]
  },
  {
   "cell_type": "code",
   "execution_count": 6,
   "metadata": {},
   "outputs": [
    {
     "data": {
      "text/plain": [
       "(299, 13)"
      ]
     },
     "execution_count": 6,
     "metadata": {},
     "output_type": "execute_result"
    }
   ],
   "source": [
    "df.shape"
   ]
  },
  {
   "cell_type": "code",
   "execution_count": 7,
   "metadata": {},
   "outputs": [],
   "source": [
    "df = df.drop_duplicates().reset_index(drop=True)"
   ]
  },
  {
   "cell_type": "code",
   "execution_count": 8,
   "metadata": {},
   "outputs": [
    {
     "data": {
      "text/plain": [
       "(299, 13)"
      ]
     },
     "execution_count": 8,
     "metadata": {},
     "output_type": "execute_result"
    }
   ],
   "source": [
    "df.shape"
   ]
  },
  {
   "cell_type": "code",
   "execution_count": 9,
   "metadata": {},
   "outputs": [],
   "source": [
    "y = df['DEATH_EVENT'].values\n",
    "X = df.drop('DEATH_EVENT', axis=1)"
   ]
  },
  {
   "cell_type": "code",
   "execution_count": 10,
   "metadata": {},
   "outputs": [
    {
     "name": "stdout",
     "output_type": "stream",
     "text": [
      "(299, 12)\n",
      "(299, 12)\n"
     ]
    }
   ],
   "source": [
    "print(X.shape)\n",
    "selector = VarianceThreshold(threshold=0.1)\n",
    "X = selector.fit_transform(X)\n",
    "print(X.shape)"
   ]
  },
  {
   "cell_type": "code",
   "execution_count": 11,
   "metadata": {},
   "outputs": [
    {
     "name": "stdout",
     "output_type": "stream",
     "text": [
      "Female:  105\n",
      "Male:  194\n"
     ]
    }
   ],
   "source": [
    "# build mask\n",
    "gender_0_mask = df['sex'] == 0\n",
    "gender_1_mask = df['sex'] == 1\n",
    "\n",
    "count_gender_0 = gender_0_mask.sum()\n",
    "count_gender_1 = gender_1_mask.sum()\n",
    "\n",
    "print(\"Female: \", count_gender_0)\n",
    "print(\"Male: \", count_gender_1)\n",
    "\n",
    "scaler = StandardScaler()\n",
    "X_scaled = scaler.fit_transform(X)\n",
    "\n",
    "X_scaled_Gender_0 = X_scaled[gender_0_mask]\n",
    "X_scaled_Gender_1 = X_scaled[gender_1_mask]\n",
    "y_Gender_0 = y[gender_0_mask]\n",
    "y_Gender_1 = y[gender_1_mask]"
   ]
  },
  {
   "cell_type": "code",
   "execution_count": 12,
   "metadata": {},
   "outputs": [],
   "source": [
    "seed = 42\n",
    "models = fl.build_models(seed)\n",
    "\n",
    "results_list = []\n",
    "\n",
    "kf = KFold(n_splits=5, shuffle=True, random_state=seed)"
   ]
  },
  {
   "cell_type": "code",
   "execution_count": 13,
   "metadata": {},
   "outputs": [
    {
     "name": "stdout",
     "output_type": "stream",
     "text": [
      "Starting experiments for Female(0)\n",
      "Processing fold 1 for group Female\n",
      "Training and evaluating model: SVM\n",
      "Training and evaluating model: LR\n",
      "Training and evaluating model: KNN\n",
      "Training and evaluating model: RF\n",
      "Training and evaluating model: DT\n",
      "Training and evaluating model: ANN\n",
      "Training and evaluating model: NB\n",
      "Processing fold 2 for group Female\n",
      "Training and evaluating model: SVM\n",
      "Training and evaluating model: LR\n",
      "Training and evaluating model: KNN\n",
      "Training and evaluating model: RF\n"
     ]
    },
    {
     "name": "stderr",
     "output_type": "stream",
     "text": [
      "/home/morning/miniconda3/envs/f2ml/lib/python3.13/site-packages/sklearn/neural_network/_multilayer_perceptron.py:691: ConvergenceWarning: Stochastic Optimizer: Maximum iterations (200) reached and the optimization hasn't converged yet.\n",
      "  warnings.warn(\n"
     ]
    },
    {
     "name": "stdout",
     "output_type": "stream",
     "text": [
      "Training and evaluating model: DT\n",
      "Training and evaluating model: ANN\n",
      "Training and evaluating model: NB\n",
      "Processing fold 3 for group Female\n",
      "Training and evaluating model: SVM\n",
      "Training and evaluating model: LR\n",
      "Training and evaluating model: KNN\n",
      "Training and evaluating model: RF\n"
     ]
    },
    {
     "name": "stderr",
     "output_type": "stream",
     "text": [
      "/home/morning/miniconda3/envs/f2ml/lib/python3.13/site-packages/sklearn/neural_network/_multilayer_perceptron.py:691: ConvergenceWarning: Stochastic Optimizer: Maximum iterations (200) reached and the optimization hasn't converged yet.\n",
      "  warnings.warn(\n"
     ]
    },
    {
     "name": "stdout",
     "output_type": "stream",
     "text": [
      "Training and evaluating model: DT\n",
      "Training and evaluating model: ANN\n",
      "Training and evaluating model: NB\n",
      "Processing fold 4 for group Female\n",
      "Training and evaluating model: SVM\n",
      "Training and evaluating model: LR\n",
      "Training and evaluating model: KNN\n",
      "Training and evaluating model: RF\n"
     ]
    },
    {
     "name": "stderr",
     "output_type": "stream",
     "text": [
      "/home/morning/miniconda3/envs/f2ml/lib/python3.13/site-packages/sklearn/neural_network/_multilayer_perceptron.py:691: ConvergenceWarning: Stochastic Optimizer: Maximum iterations (200) reached and the optimization hasn't converged yet.\n",
      "  warnings.warn(\n"
     ]
    },
    {
     "name": "stdout",
     "output_type": "stream",
     "text": [
      "Training and evaluating model: DT\n",
      "Training and evaluating model: ANN\n",
      "Training and evaluating model: NB\n",
      "Processing fold 5 for group Female\n",
      "Training and evaluating model: SVM\n",
      "Training and evaluating model: LR\n",
      "Training and evaluating model: KNN\n",
      "Training and evaluating model: RF\n"
     ]
    },
    {
     "name": "stderr",
     "output_type": "stream",
     "text": [
      "/home/morning/miniconda3/envs/f2ml/lib/python3.13/site-packages/sklearn/neural_network/_multilayer_perceptron.py:691: ConvergenceWarning: Stochastic Optimizer: Maximum iterations (200) reached and the optimization hasn't converged yet.\n",
      "  warnings.warn(\n"
     ]
    },
    {
     "name": "stdout",
     "output_type": "stream",
     "text": [
      "Training and evaluating model: DT\n",
      "Training and evaluating model: ANN\n",
      "Training and evaluating model: NB\n",
      "Starting experiments for Male(1)\n",
      "Processing fold 1 for group Male\n",
      "Training and evaluating model: SVM\n",
      "Training and evaluating model: LR\n",
      "Training and evaluating model: KNN\n",
      "Training and evaluating model: RF\n"
     ]
    },
    {
     "name": "stderr",
     "output_type": "stream",
     "text": [
      "/home/morning/miniconda3/envs/f2ml/lib/python3.13/site-packages/sklearn/neural_network/_multilayer_perceptron.py:691: ConvergenceWarning: Stochastic Optimizer: Maximum iterations (200) reached and the optimization hasn't converged yet.\n",
      "  warnings.warn(\n"
     ]
    },
    {
     "name": "stdout",
     "output_type": "stream",
     "text": [
      "Training and evaluating model: DT\n",
      "Training and evaluating model: ANN\n",
      "Training and evaluating model: NB\n",
      "Processing fold 2 for group Male\n",
      "Training and evaluating model: SVM\n",
      "Training and evaluating model: LR\n",
      "Training and evaluating model: KNN\n",
      "Training and evaluating model: RF\n"
     ]
    },
    {
     "name": "stderr",
     "output_type": "stream",
     "text": [
      "/home/morning/miniconda3/envs/f2ml/lib/python3.13/site-packages/sklearn/neural_network/_multilayer_perceptron.py:691: ConvergenceWarning: Stochastic Optimizer: Maximum iterations (200) reached and the optimization hasn't converged yet.\n",
      "  warnings.warn(\n"
     ]
    },
    {
     "name": "stdout",
     "output_type": "stream",
     "text": [
      "Training and evaluating model: DT\n",
      "Training and evaluating model: ANN\n",
      "Training and evaluating model: NB\n",
      "Processing fold 3 for group Male\n",
      "Training and evaluating model: SVM\n",
      "Training and evaluating model: LR\n",
      "Training and evaluating model: KNN\n",
      "Training and evaluating model: RF\n"
     ]
    },
    {
     "name": "stderr",
     "output_type": "stream",
     "text": [
      "/home/morning/miniconda3/envs/f2ml/lib/python3.13/site-packages/sklearn/neural_network/_multilayer_perceptron.py:691: ConvergenceWarning: Stochastic Optimizer: Maximum iterations (200) reached and the optimization hasn't converged yet.\n",
      "  warnings.warn(\n"
     ]
    },
    {
     "name": "stdout",
     "output_type": "stream",
     "text": [
      "Training and evaluating model: DT\n",
      "Training and evaluating model: ANN\n",
      "Training and evaluating model: NB\n",
      "Processing fold 4 for group Male\n",
      "Training and evaluating model: SVM\n",
      "Training and evaluating model: LR\n",
      "Training and evaluating model: KNN\n",
      "Training and evaluating model: RF\n"
     ]
    },
    {
     "name": "stderr",
     "output_type": "stream",
     "text": [
      "/home/morning/miniconda3/envs/f2ml/lib/python3.13/site-packages/sklearn/neural_network/_multilayer_perceptron.py:691: ConvergenceWarning: Stochastic Optimizer: Maximum iterations (200) reached and the optimization hasn't converged yet.\n",
      "  warnings.warn(\n"
     ]
    },
    {
     "name": "stdout",
     "output_type": "stream",
     "text": [
      "Training and evaluating model: DT\n",
      "Training and evaluating model: ANN\n",
      "Training and evaluating model: NB\n",
      "Processing fold 5 for group Male\n",
      "Training and evaluating model: SVM\n",
      "Training and evaluating model: LR\n",
      "Training and evaluating model: KNN\n",
      "Training and evaluating model: RF\n"
     ]
    },
    {
     "name": "stderr",
     "output_type": "stream",
     "text": [
      "/home/morning/miniconda3/envs/f2ml/lib/python3.13/site-packages/sklearn/neural_network/_multilayer_perceptron.py:691: ConvergenceWarning: Stochastic Optimizer: Maximum iterations (200) reached and the optimization hasn't converged yet.\n",
      "  warnings.warn(\n"
     ]
    },
    {
     "name": "stdout",
     "output_type": "stream",
     "text": [
      "Training and evaluating model: DT\n",
      "Training and evaluating model: ANN\n",
      "Training and evaluating model: NB\n",
      "   Fold   Group   SVM_TPR   SVM_TNR   SVM_FPR   SVM_FNR  SVM_TP  SVM_TN  \\\n",
      "0     1  Female  1.000000  0.823529  0.176471  0.000000       4      14   \n",
      "1     2  Female  0.333333  0.750000  0.250000  0.666667       3       9   \n",
      "2     3  Female  0.444444  1.000000  0.000000  0.555556       4      12   \n",
      "3     4  Female  0.142857  0.928571  0.071429  0.857143       1      13   \n",
      "4     5  Female  0.200000  0.937500  0.062500  0.800000       1      15   \n",
      "5     1    Male  0.500000  0.827586  0.172414  0.500000       5      24   \n",
      "6     2    Male  0.636364  0.892857  0.107143  0.363636       7      25   \n",
      "7     3    Male  0.500000  0.952381  0.047619  0.500000       9      20   \n",
      "8     4    Male  0.615385  0.923077  0.076923  0.384615       8      24   \n",
      "9     5    Male  0.600000  0.928571  0.071429  0.400000       6      26   \n",
      "\n",
      "   SVM_FP  SVM_FN  ...  ANN_FP  ANN_FN    NB_TPR    NB_TNR    NB_FPR  \\\n",
      "0       3       0  ...       3       1  0.750000  1.000000  0.000000   \n",
      "1       3       6  ...       4       5  0.444444  0.750000  0.250000   \n",
      "2       0       5  ...       2       1  0.333333  0.916667  0.083333   \n",
      "3       1       6  ...       1       6  0.142857  1.000000  0.000000   \n",
      "4       1       4  ...       1       4  0.000000  1.000000  0.000000   \n",
      "5       5       5  ...       6       4  0.400000  0.862069  0.137931   \n",
      "6       3       4  ...       7       4  0.545455  0.785714  0.214286   \n",
      "7       1       9  ...       1       8  0.388889  0.952381  0.047619   \n",
      "8       2       5  ...       4       3  0.615385  0.884615  0.115385   \n",
      "9       2       4  ...       3       5  0.800000  0.892857  0.107143   \n",
      "\n",
      "     NB_FNR  NB_TP  NB_TN  NB_FP  NB_FN  \n",
      "0  0.250000      3     17      0      1  \n",
      "1  0.555556      4      9      3      5  \n",
      "2  0.666667      3     11      1      6  \n",
      "3  0.857143      1     14      0      6  \n",
      "4  1.000000      0     16      0      5  \n",
      "5  0.600000      4     25      4      6  \n",
      "6  0.454545      6     22      6      5  \n",
      "7  0.611111      7     20      1     11  \n",
      "8  0.384615      8     23      3      5  \n",
      "9  0.200000      8     25      3      2  \n",
      "\n",
      "[10 rows x 58 columns]\n"
     ]
    },
    {
     "name": "stderr",
     "output_type": "stream",
     "text": [
      "/home/morning/miniconda3/envs/f2ml/lib/python3.13/site-packages/sklearn/neural_network/_multilayer_perceptron.py:691: ConvergenceWarning: Stochastic Optimizer: Maximum iterations (200) reached and the optimization hasn't converged yet.\n",
      "  warnings.warn(\n"
     ]
    }
   ],
   "source": [
    "print(\"Starting experiments for Female(0)\")\n",
    "fl.run_experiment(kf, models, X_scaled_Gender_0, y_Gender_0, 'Female', results_list)\n",
    "\n",
    "print(\"Starting experiments for Male(1)\")\n",
    "fl.run_experiment(kf, models, X_scaled_Gender_1, y_Gender_1, 'Male', results_list)\n",
    "\n",
    "final_results_df = pd.concat(results_list, ignore_index=True)\n",
    "print(final_results_df)"
   ]
  },
  {
   "cell_type": "code",
   "execution_count": 14,
   "metadata": {},
   "outputs": [],
   "source": [
    "results_df = pd.concat(results_list, ignore_index=True)"
   ]
  },
  {
   "cell_type": "code",
   "execution_count": 15,
   "metadata": {},
   "outputs": [],
   "source": [
    "result_path = './results/k1_result.xlsx'\n",
    "results_df.to_excel(result_path, index=False)"
   ]
  },
  {
   "cell_type": "code",
   "execution_count": 16,
   "metadata": {},
   "outputs": [
    {
     "data": {
      "text/html": [
       "<div>\n",
       "<style scoped>\n",
       "    .dataframe tbody tr th:only-of-type {\n",
       "        vertical-align: middle;\n",
       "    }\n",
       "\n",
       "    .dataframe tbody tr th {\n",
       "        vertical-align: top;\n",
       "    }\n",
       "\n",
       "    .dataframe thead th {\n",
       "        text-align: right;\n",
       "    }\n",
       "</style>\n",
       "<table border=\"1\" class=\"dataframe\">\n",
       "  <thead>\n",
       "    <tr style=\"text-align: right;\">\n",
       "      <th></th>\n",
       "      <th>Fold</th>\n",
       "      <th>Group</th>\n",
       "      <th>SVM_TPR</th>\n",
       "      <th>SVM_TNR</th>\n",
       "      <th>SVM_FPR</th>\n",
       "      <th>SVM_FNR</th>\n",
       "      <th>SVM_TP</th>\n",
       "      <th>SVM_TN</th>\n",
       "      <th>SVM_FP</th>\n",
       "      <th>SVM_FN</th>\n",
       "      <th>...</th>\n",
       "      <th>ANN_FP</th>\n",
       "      <th>ANN_FN</th>\n",
       "      <th>NB_TPR</th>\n",
       "      <th>NB_TNR</th>\n",
       "      <th>NB_FPR</th>\n",
       "      <th>NB_FNR</th>\n",
       "      <th>NB_TP</th>\n",
       "      <th>NB_TN</th>\n",
       "      <th>NB_FP</th>\n",
       "      <th>NB_FN</th>\n",
       "    </tr>\n",
       "  </thead>\n",
       "  <tbody>\n",
       "    <tr>\n",
       "      <th>0</th>\n",
       "      <td>1</td>\n",
       "      <td>Female</td>\n",
       "      <td>1.000000</td>\n",
       "      <td>0.823529</td>\n",
       "      <td>0.176471</td>\n",
       "      <td>0.000000</td>\n",
       "      <td>4</td>\n",
       "      <td>14</td>\n",
       "      <td>3</td>\n",
       "      <td>0</td>\n",
       "      <td>...</td>\n",
       "      <td>3</td>\n",
       "      <td>1</td>\n",
       "      <td>0.750000</td>\n",
       "      <td>1.000000</td>\n",
       "      <td>0.000000</td>\n",
       "      <td>0.250000</td>\n",
       "      <td>3</td>\n",
       "      <td>17</td>\n",
       "      <td>0</td>\n",
       "      <td>1</td>\n",
       "    </tr>\n",
       "    <tr>\n",
       "      <th>1</th>\n",
       "      <td>2</td>\n",
       "      <td>Female</td>\n",
       "      <td>0.333333</td>\n",
       "      <td>0.750000</td>\n",
       "      <td>0.250000</td>\n",
       "      <td>0.666667</td>\n",
       "      <td>3</td>\n",
       "      <td>9</td>\n",
       "      <td>3</td>\n",
       "      <td>6</td>\n",
       "      <td>...</td>\n",
       "      <td>4</td>\n",
       "      <td>5</td>\n",
       "      <td>0.444444</td>\n",
       "      <td>0.750000</td>\n",
       "      <td>0.250000</td>\n",
       "      <td>0.555556</td>\n",
       "      <td>4</td>\n",
       "      <td>9</td>\n",
       "      <td>3</td>\n",
       "      <td>5</td>\n",
       "    </tr>\n",
       "    <tr>\n",
       "      <th>2</th>\n",
       "      <td>3</td>\n",
       "      <td>Female</td>\n",
       "      <td>0.444444</td>\n",
       "      <td>1.000000</td>\n",
       "      <td>0.000000</td>\n",
       "      <td>0.555556</td>\n",
       "      <td>4</td>\n",
       "      <td>12</td>\n",
       "      <td>0</td>\n",
       "      <td>5</td>\n",
       "      <td>...</td>\n",
       "      <td>2</td>\n",
       "      <td>1</td>\n",
       "      <td>0.333333</td>\n",
       "      <td>0.916667</td>\n",
       "      <td>0.083333</td>\n",
       "      <td>0.666667</td>\n",
       "      <td>3</td>\n",
       "      <td>11</td>\n",
       "      <td>1</td>\n",
       "      <td>6</td>\n",
       "    </tr>\n",
       "    <tr>\n",
       "      <th>3</th>\n",
       "      <td>4</td>\n",
       "      <td>Female</td>\n",
       "      <td>0.142857</td>\n",
       "      <td>0.928571</td>\n",
       "      <td>0.071429</td>\n",
       "      <td>0.857143</td>\n",
       "      <td>1</td>\n",
       "      <td>13</td>\n",
       "      <td>1</td>\n",
       "      <td>6</td>\n",
       "      <td>...</td>\n",
       "      <td>1</td>\n",
       "      <td>6</td>\n",
       "      <td>0.142857</td>\n",
       "      <td>1.000000</td>\n",
       "      <td>0.000000</td>\n",
       "      <td>0.857143</td>\n",
       "      <td>1</td>\n",
       "      <td>14</td>\n",
       "      <td>0</td>\n",
       "      <td>6</td>\n",
       "    </tr>\n",
       "    <tr>\n",
       "      <th>4</th>\n",
       "      <td>5</td>\n",
       "      <td>Female</td>\n",
       "      <td>0.200000</td>\n",
       "      <td>0.937500</td>\n",
       "      <td>0.062500</td>\n",
       "      <td>0.800000</td>\n",
       "      <td>1</td>\n",
       "      <td>15</td>\n",
       "      <td>1</td>\n",
       "      <td>4</td>\n",
       "      <td>...</td>\n",
       "      <td>1</td>\n",
       "      <td>4</td>\n",
       "      <td>0.000000</td>\n",
       "      <td>1.000000</td>\n",
       "      <td>0.000000</td>\n",
       "      <td>1.000000</td>\n",
       "      <td>0</td>\n",
       "      <td>16</td>\n",
       "      <td>0</td>\n",
       "      <td>5</td>\n",
       "    </tr>\n",
       "  </tbody>\n",
       "</table>\n",
       "<p>5 rows × 58 columns</p>\n",
       "</div>"
      ],
      "text/plain": [
       "   Fold   Group   SVM_TPR   SVM_TNR   SVM_FPR   SVM_FNR  SVM_TP  SVM_TN  \\\n",
       "0     1  Female  1.000000  0.823529  0.176471  0.000000       4      14   \n",
       "1     2  Female  0.333333  0.750000  0.250000  0.666667       3       9   \n",
       "2     3  Female  0.444444  1.000000  0.000000  0.555556       4      12   \n",
       "3     4  Female  0.142857  0.928571  0.071429  0.857143       1      13   \n",
       "4     5  Female  0.200000  0.937500  0.062500  0.800000       1      15   \n",
       "\n",
       "   SVM_FP  SVM_FN  ...  ANN_FP  ANN_FN    NB_TPR    NB_TNR    NB_FPR  \\\n",
       "0       3       0  ...       3       1  0.750000  1.000000  0.000000   \n",
       "1       3       6  ...       4       5  0.444444  0.750000  0.250000   \n",
       "2       0       5  ...       2       1  0.333333  0.916667  0.083333   \n",
       "3       1       6  ...       1       6  0.142857  1.000000  0.000000   \n",
       "4       1       4  ...       1       4  0.000000  1.000000  0.000000   \n",
       "\n",
       "     NB_FNR  NB_TP  NB_TN  NB_FP  NB_FN  \n",
       "0  0.250000      3     17      0      1  \n",
       "1  0.555556      4      9      3      5  \n",
       "2  0.666667      3     11      1      6  \n",
       "3  0.857143      1     14      0      6  \n",
       "4  1.000000      0     16      0      5  \n",
       "\n",
       "[5 rows x 58 columns]"
      ]
     },
     "execution_count": 16,
     "metadata": {},
     "output_type": "execute_result"
    }
   ],
   "source": [
    "df = pd.read_excel(result_path)\n",
    "df.head()"
   ]
  },
  {
   "cell_type": "code",
   "execution_count": 17,
   "metadata": {},
   "outputs": [
    {
     "name": "stdout",
     "output_type": "stream",
     "text": [
      "SVM -TPR: TtestResult(statistic=np.float64(-0.9372526422199056), pvalue=np.float64(0.3760567908491588), df=np.float64(8.0))\n",
      "SVM - FPR: TtestResult(statistic=np.float64(0.34255540129556866), pvalue=np.float64(0.7407594198183941), df=np.float64(8.0))\n",
      "SVM - FN/FP: MannwhitneyuResult(statistic=np.float64(16.0), pvalue=np.float64(0.5476190476190477))\n",
      "DT -TPR: TtestResult(statistic=np.float64(0.7989743991205137), pvalue=np.float64(0.44737458893969184), df=np.float64(8.0))\n",
      "DT - FPR: TtestResult(statistic=np.float64(-0.39882747612105834), pvalue=np.float64(0.7004542336636175), df=np.float64(8.0))\n",
      "DT - FN/FP: MannwhitneyuResult(statistic=np.float64(10.0), pvalue=np.float64(0.6904761904761905))\n",
      "RF -TPR: TtestResult(statistic=np.float64(0.0723209861651795), pvalue=np.float64(0.9441218844150362), df=np.float64(8.0))\n",
      "RF - FPR: TtestResult(statistic=np.float64(-0.24914911649715576), pvalue=np.float64(0.8095229459181925), df=np.float64(8.0))\n",
      "RF - FN/FP: MannwhitneyuResult(statistic=np.float64(13.5), pvalue=np.float64(0.9165626446795413))\n",
      "LR -TPR: TtestResult(statistic=np.float64(-0.5112029081292649), pvalue=np.float64(0.6230153370429343), df=np.float64(8.0))\n",
      "LR - FPR: MannwhitneyuResult(statistic=np.float64(16.5), pvalue=np.float64(0.4633438825652173))\n",
      "LR - FN/FP: MannwhitneyuResult(statistic=np.float64(10.0), pvalue=np.float64(0.6751736149271245))\n",
      "KNN -TPR: TtestResult(statistic=np.float64(-1.384407973745123), pvalue=np.float64(0.20362217921757375), df=np.float64(8.0))\n",
      "KNN - FPR: MannwhitneyuResult(statistic=np.float64(3.0), pvalue=np.float64(0.057007942464885414))\n",
      "KNN - FN/FP: MannwhitneyuResult(statistic=np.float64(19.0), pvalue=np.float64(0.20869044313696405))\n",
      "ANN -TPR: TtestResult(statistic=np.float64(-0.824491261212656), pvalue=np.float64(0.44903618141510615), df=np.float64(4.753687216532664))\n",
      "ANN - FPR: TtestResult(statistic=np.float64(0.14840442059504474), pvalue=np.float64(0.8856961313437575), df=np.float64(8.0))\n",
      "ANN - FN/FP: MannwhitneyuResult(statistic=np.float64(11.0), pvalue=np.float64(0.8412698412698413))\n",
      "NB -TPR: TtestResult(statistic=np.float64(-1.4410365782449366), pvalue=np.float64(0.18754423824980168), df=np.float64(8.0))\n",
      "NB - FPR: MannwhitneyuResult(statistic=np.float64(6.0), pvalue=np.float64(0.20450053332564166))\n",
      "NB - FN/FP: MannwhitneyuResult(statistic=np.float64(22.5), pvalue=np.float64(0.046532985074510584))\n"
     ]
    }
   ],
   "source": [
    "label = 'Female'\n",
    "\n",
    "fl.perform_t_tests(df, 'SVM', label)\n",
    "fl.perform_t_tests(df, 'DT', label)\n",
    "fl.perform_t_tests(df, 'RF', label)\n",
    "fl.perform_t_tests(df, 'LR', label)\n",
    "fl.perform_t_tests(df, 'KNN', label)\n",
    "fl.perform_t_tests(df, 'ANN', label)\n",
    "fl.perform_t_tests(df, 'NB', label)\n"
   ]
  }
 ],
 "metadata": {
  "kernelspec": {
   "display_name": "f2ml",
   "language": "python",
   "name": "python3"
  },
  "language_info": {
   "codemirror_mode": {
    "name": "ipython",
    "version": 3
   },
   "file_extension": ".py",
   "mimetype": "text/x-python",
   "name": "python",
   "nbconvert_exporter": "python",
   "pygments_lexer": "ipython3",
   "version": "3.13.0"
  }
 },
 "nbformat": 4,
 "nbformat_minor": 2
}
