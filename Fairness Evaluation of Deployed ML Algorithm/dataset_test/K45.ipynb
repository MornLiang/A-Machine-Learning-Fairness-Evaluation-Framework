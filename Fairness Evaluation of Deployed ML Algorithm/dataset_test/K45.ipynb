{
 "cells": [
  {
   "cell_type": "code",
   "execution_count": 1,
   "metadata": {},
   "outputs": [
    {
     "name": "stderr",
     "output_type": "stream",
     "text": [
      "/home/morning/miniconda3/envs/f2ml/lib/python3.13/site-packages/tqdm/auto.py:21: TqdmWarning: IProgress not found. Please update jupyter and ipywidgets. See https://ipywidgets.readthedocs.io/en/stable/user_install.html\n",
      "  from .autonotebook import tqdm as notebook_tqdm\n"
     ]
    },
    {
     "name": "stdout",
     "output_type": "stream",
     "text": [
      "Warning: Looks like you're using an outdated `kagglehub` version (installed: 0.3.5), please consider upgrading to the latest version (0.3.6).\n",
      "Path to dataset files: /home/morning/.cache/kagglehub/datasets/fatemehmehrparvar/dementia/versions/1\n"
     ]
    }
   ],
   "source": [
    "import kagglehub\n",
    "\n",
    "# Download latest version\n",
    "path = kagglehub.dataset_download(\"fatemehmehrparvar/dementia\")\n",
    "\n",
    "print(\"Path to dataset files:\", path)"
   ]
  },
  {
   "cell_type": "code",
   "execution_count": 2,
   "metadata": {},
   "outputs": [
    {
     "data": {
      "text/plain": [
       "['OPTIMAL_combined_3studies_6feb2020.csv']"
      ]
     },
     "execution_count": 2,
     "metadata": {},
     "output_type": "execute_result"
    }
   ],
   "source": [
    "import os\n",
    "os.listdir(path)"
   ]
  },
  {
   "cell_type": "code",
   "execution_count": 3,
   "metadata": {},
   "outputs": [],
   "source": [
    "import pandas as pd\n",
    "import fairtl as fl\n",
    "from sklearn.feature_selection import VarianceThreshold\n",
    "from sklearn.preprocessing import StandardScaler\n",
    "from sklearn.model_selection import KFold\n",
    "from sklearn.preprocessing import OrdinalEncoder, LabelEncoder\n",
    "from sklearn.preprocessing import OneHotEncoder"
   ]
  },
  {
   "cell_type": "code",
   "execution_count": 4,
   "metadata": {},
   "outputs": [
    {
     "data": {
      "text/html": [
       "<div>\n",
       "<style scoped>\n",
       "    .dataframe tbody tr th:only-of-type {\n",
       "        vertical-align: middle;\n",
       "    }\n",
       "\n",
       "    .dataframe tbody tr th {\n",
       "        vertical-align: top;\n",
       "    }\n",
       "\n",
       "    .dataframe thead th {\n",
       "        text-align: right;\n",
       "    }\n",
       "</style>\n",
       "<table border=\"1\" class=\"dataframe\">\n",
       "  <thead>\n",
       "    <tr style=\"text-align: right;\">\n",
       "      <th></th>\n",
       "      <th>ID</th>\n",
       "      <th>age</th>\n",
       "      <th>gender</th>\n",
       "      <th>dementia</th>\n",
       "      <th>dementia_all</th>\n",
       "      <th>educationyears</th>\n",
       "      <th>EF</th>\n",
       "      <th>PS</th>\n",
       "      <th>Global</th>\n",
       "      <th>diabetes</th>\n",
       "      <th>...</th>\n",
       "      <th>hypercholesterolemia</th>\n",
       "      <th>lacunes_num</th>\n",
       "      <th>fazekas_cat</th>\n",
       "      <th>study</th>\n",
       "      <th>study1</th>\n",
       "      <th>SVD Simple Score</th>\n",
       "      <th>SVD Amended Score</th>\n",
       "      <th>Fazekas</th>\n",
       "      <th>lac_count</th>\n",
       "      <th>CMB_count</th>\n",
       "    </tr>\n",
       "  </thead>\n",
       "  <tbody>\n",
       "    <tr>\n",
       "      <th>0</th>\n",
       "      <td>1</td>\n",
       "      <td>52.67</td>\n",
       "      <td>male</td>\n",
       "      <td>0.0</td>\n",
       "      <td>0</td>\n",
       "      <td>11.0</td>\n",
       "      <td>-2.403333</td>\n",
       "      <td>-1.290000</td>\n",
       "      <td>-1.287000</td>\n",
       "      <td>0</td>\n",
       "      <td>...</td>\n",
       "      <td>Yes</td>\n",
       "      <td>more-than-zero</td>\n",
       "      <td>2 to 3</td>\n",
       "      <td>scans</td>\n",
       "      <td>scans</td>\n",
       "      <td>3.0</td>\n",
       "      <td>7.0</td>\n",
       "      <td>3</td>\n",
       "      <td>&gt;5</td>\n",
       "      <td>&gt;=1</td>\n",
       "    </tr>\n",
       "    <tr>\n",
       "      <th>1</th>\n",
       "      <td>10</td>\n",
       "      <td>64.58</td>\n",
       "      <td>male</td>\n",
       "      <td>0.0</td>\n",
       "      <td>0</td>\n",
       "      <td>10.0</td>\n",
       "      <td>1.280000</td>\n",
       "      <td>0.360000</td>\n",
       "      <td>0.744000</td>\n",
       "      <td>0</td>\n",
       "      <td>...</td>\n",
       "      <td>Yes</td>\n",
       "      <td>more-than-zero</td>\n",
       "      <td>0 to 1</td>\n",
       "      <td>scans</td>\n",
       "      <td>scans</td>\n",
       "      <td>2.0</td>\n",
       "      <td>3.0</td>\n",
       "      <td>1</td>\n",
       "      <td>1 to 2</td>\n",
       "      <td>&gt;=1</td>\n",
       "    </tr>\n",
       "    <tr>\n",
       "      <th>2</th>\n",
       "      <td>100</td>\n",
       "      <td>74.92</td>\n",
       "      <td>male</td>\n",
       "      <td>0.0</td>\n",
       "      <td>0</td>\n",
       "      <td>8.0</td>\n",
       "      <td>-1.440000</td>\n",
       "      <td>-1.520000</td>\n",
       "      <td>-0.922000</td>\n",
       "      <td>0</td>\n",
       "      <td>...</td>\n",
       "      <td>Yes</td>\n",
       "      <td>more-than-zero</td>\n",
       "      <td>0 to 1</td>\n",
       "      <td>scans</td>\n",
       "      <td>scans</td>\n",
       "      <td>1.0</td>\n",
       "      <td>2.0</td>\n",
       "      <td>1</td>\n",
       "      <td>1 to 2</td>\n",
       "      <td>0</td>\n",
       "    </tr>\n",
       "    <tr>\n",
       "      <th>3</th>\n",
       "      <td>101</td>\n",
       "      <td>74.83</td>\n",
       "      <td>male</td>\n",
       "      <td>1.0</td>\n",
       "      <td>1</td>\n",
       "      <td>9.0</td>\n",
       "      <td>NaN</td>\n",
       "      <td>-2.136271</td>\n",
       "      <td>-1.301102</td>\n",
       "      <td>0</td>\n",
       "      <td>...</td>\n",
       "      <td>Yes</td>\n",
       "      <td>more-than-zero</td>\n",
       "      <td>2 to 3</td>\n",
       "      <td>scans</td>\n",
       "      <td>scans</td>\n",
       "      <td>2.0</td>\n",
       "      <td>4.0</td>\n",
       "      <td>2</td>\n",
       "      <td>3 to 5</td>\n",
       "      <td>0</td>\n",
       "    </tr>\n",
       "    <tr>\n",
       "      <th>4</th>\n",
       "      <td>102</td>\n",
       "      <td>79.25</td>\n",
       "      <td>male</td>\n",
       "      <td>0.0</td>\n",
       "      <td>0</td>\n",
       "      <td>10.0</td>\n",
       "      <td>-0.920000</td>\n",
       "      <td>-1.493333</td>\n",
       "      <td>-0.924000</td>\n",
       "      <td>0</td>\n",
       "      <td>...</td>\n",
       "      <td>Yes</td>\n",
       "      <td>more-than-zero</td>\n",
       "      <td>2 to 3</td>\n",
       "      <td>scans</td>\n",
       "      <td>scans</td>\n",
       "      <td>2.0</td>\n",
       "      <td>3.0</td>\n",
       "      <td>2</td>\n",
       "      <td>1 to 2</td>\n",
       "      <td>0</td>\n",
       "    </tr>\n",
       "  </tbody>\n",
       "</table>\n",
       "<p>5 rows × 22 columns</p>\n",
       "</div>"
      ],
      "text/plain": [
       "    ID    age gender  dementia  dementia_all  educationyears        EF  \\\n",
       "0    1  52.67   male       0.0             0            11.0 -2.403333   \n",
       "1   10  64.58   male       0.0             0            10.0  1.280000   \n",
       "2  100  74.92   male       0.0             0             8.0 -1.440000   \n",
       "3  101  74.83   male       1.0             1             9.0       NaN   \n",
       "4  102  79.25   male       0.0             0            10.0 -0.920000   \n",
       "\n",
       "         PS    Global  diabetes  ... hypercholesterolemia     lacunes_num  \\\n",
       "0 -1.290000 -1.287000         0  ...                  Yes  more-than-zero   \n",
       "1  0.360000  0.744000         0  ...                  Yes  more-than-zero   \n",
       "2 -1.520000 -0.922000         0  ...                  Yes  more-than-zero   \n",
       "3 -2.136271 -1.301102         0  ...                  Yes  more-than-zero   \n",
       "4 -1.493333 -0.924000         0  ...                  Yes  more-than-zero   \n",
       "\n",
       "  fazekas_cat  study study1 SVD Simple Score SVD Amended Score  Fazekas  \\\n",
       "0      2 to 3  scans  scans              3.0               7.0        3   \n",
       "1      0 to 1  scans  scans              2.0               3.0        1   \n",
       "2      0 to 1  scans  scans              1.0               2.0        1   \n",
       "3      2 to 3  scans  scans              2.0               4.0        2   \n",
       "4      2 to 3  scans  scans              2.0               3.0        2   \n",
       "\n",
       "   lac_count  CMB_count  \n",
       "0         >5        >=1  \n",
       "1     1 to 2        >=1  \n",
       "2     1 to 2          0  \n",
       "3     3 to 5          0  \n",
       "4     1 to 2          0  \n",
       "\n",
       "[5 rows x 22 columns]"
      ]
     },
     "execution_count": 4,
     "metadata": {},
     "output_type": "execute_result"
    }
   ],
   "source": [
    "df = pd.read_csv(f'{path}/OPTIMAL_combined_3studies_6feb2020.csv')\n",
    "df.head()"
   ]
  },
  {
   "cell_type": "code",
   "execution_count": 5,
   "metadata": {},
   "outputs": [
    {
     "data": {
      "text/plain": [
       "(1842, 22)"
      ]
     },
     "execution_count": 5,
     "metadata": {},
     "output_type": "execute_result"
    }
   ],
   "source": [
    "df.shape"
   ]
  },
  {
   "cell_type": "code",
   "execution_count": 6,
   "metadata": {},
   "outputs": [
    {
     "name": "stdout",
     "output_type": "stream",
     "text": [
      "<class 'pandas.core.frame.DataFrame'>\n",
      "RangeIndex: 1842 entries, 0 to 1841\n",
      "Data columns (total 22 columns):\n",
      " #   Column                Non-Null Count  Dtype  \n",
      "---  ------                --------------  -----  \n",
      " 0   ID                    1842 non-null   int64  \n",
      " 1   age                   1842 non-null   float64\n",
      " 2   gender                1842 non-null   object \n",
      " 3   dementia              1808 non-null   float64\n",
      " 4   dementia_all          1842 non-null   int64  \n",
      " 5   educationyears        1842 non-null   float64\n",
      " 6   EF                    1634 non-null   float64\n",
      " 7   PS                    1574 non-null   float64\n",
      " 8   Global                1534 non-null   float64\n",
      " 9   diabetes              1842 non-null   int64  \n",
      " 10  smoking               1831 non-null   object \n",
      " 11  hypertension          1842 non-null   object \n",
      " 12  hypercholesterolemia  1842 non-null   object \n",
      " 13  lacunes_num           1842 non-null   object \n",
      " 14  fazekas_cat           1842 non-null   object \n",
      " 15  study                 1842 non-null   object \n",
      " 16  study1                1842 non-null   object \n",
      " 17  SVD Simple Score      1165 non-null   float64\n",
      " 18  SVD Amended Score     1165 non-null   float64\n",
      " 19  Fazekas               1842 non-null   int64  \n",
      " 20  lac_count             1842 non-null   object \n",
      " 21  CMB_count             1842 non-null   object \n",
      "dtypes: float64(8), int64(4), object(10)\n",
      "memory usage: 316.7+ KB\n"
     ]
    }
   ],
   "source": [
    "df.info()"
   ]
  },
  {
   "cell_type": "code",
   "execution_count": 7,
   "metadata": {},
   "outputs": [],
   "source": [
    "df.drop(['SVD Simple Score', 'SVD Amended Score', 'ID'], axis=1, inplace=True)"
   ]
  },
  {
   "cell_type": "code",
   "execution_count": 8,
   "metadata": {},
   "outputs": [
    {
     "name": "stdout",
     "output_type": "stream",
     "text": [
      "<class 'pandas.core.frame.DataFrame'>\n",
      "RangeIndex: 1510 entries, 0 to 1509\n",
      "Data columns (total 19 columns):\n",
      " #   Column                Non-Null Count  Dtype  \n",
      "---  ------                --------------  -----  \n",
      " 0   age                   1510 non-null   float64\n",
      " 1   gender                1510 non-null   object \n",
      " 2   dementia              1510 non-null   float64\n",
      " 3   dementia_all          1510 non-null   int64  \n",
      " 4   educationyears        1510 non-null   float64\n",
      " 5   EF                    1510 non-null   float64\n",
      " 6   PS                    1510 non-null   float64\n",
      " 7   Global                1510 non-null   float64\n",
      " 8   diabetes              1510 non-null   int64  \n",
      " 9   smoking               1510 non-null   object \n",
      " 10  hypertension          1510 non-null   object \n",
      " 11  hypercholesterolemia  1510 non-null   object \n",
      " 12  lacunes_num           1510 non-null   object \n",
      " 13  fazekas_cat           1510 non-null   object \n",
      " 14  study                 1510 non-null   object \n",
      " 15  study1                1510 non-null   object \n",
      " 16  Fazekas               1510 non-null   int64  \n",
      " 17  lac_count             1510 non-null   object \n",
      " 18  CMB_count             1510 non-null   object \n",
      "dtypes: float64(6), int64(3), object(10)\n",
      "memory usage: 224.3+ KB\n"
     ]
    }
   ],
   "source": [
    "df.dropna(inplace=True)\n",
    "df.reset_index(drop=True, inplace=True)\n",
    "df.info()"
   ]
  },
  {
   "cell_type": "code",
   "execution_count": 9,
   "metadata": {},
   "outputs": [
    {
     "data": {
      "text/html": [
       "<div>\n",
       "<style scoped>\n",
       "    .dataframe tbody tr th:only-of-type {\n",
       "        vertical-align: middle;\n",
       "    }\n",
       "\n",
       "    .dataframe tbody tr th {\n",
       "        vertical-align: top;\n",
       "    }\n",
       "\n",
       "    .dataframe thead th {\n",
       "        text-align: right;\n",
       "    }\n",
       "</style>\n",
       "<table border=\"1\" class=\"dataframe\">\n",
       "  <thead>\n",
       "    <tr style=\"text-align: right;\">\n",
       "      <th></th>\n",
       "      <th>age</th>\n",
       "      <th>gender</th>\n",
       "      <th>dementia</th>\n",
       "      <th>dementia_all</th>\n",
       "      <th>educationyears</th>\n",
       "      <th>EF</th>\n",
       "      <th>PS</th>\n",
       "      <th>Global</th>\n",
       "      <th>diabetes</th>\n",
       "      <th>smoking</th>\n",
       "      <th>hypertension</th>\n",
       "      <th>hypercholesterolemia</th>\n",
       "      <th>lacunes_num</th>\n",
       "      <th>fazekas_cat</th>\n",
       "      <th>study</th>\n",
       "      <th>study1</th>\n",
       "      <th>Fazekas</th>\n",
       "      <th>lac_count</th>\n",
       "      <th>CMB_count</th>\n",
       "    </tr>\n",
       "  </thead>\n",
       "  <tbody>\n",
       "    <tr>\n",
       "      <th>0</th>\n",
       "      <td>52.67</td>\n",
       "      <td>male</td>\n",
       "      <td>0.0</td>\n",
       "      <td>0</td>\n",
       "      <td>11.0</td>\n",
       "      <td>-2.403333</td>\n",
       "      <td>-1.290000</td>\n",
       "      <td>-1.287000</td>\n",
       "      <td>0</td>\n",
       "      <td>current-smoker</td>\n",
       "      <td>Yes</td>\n",
       "      <td>Yes</td>\n",
       "      <td>more-than-zero</td>\n",
       "      <td>2 to 3</td>\n",
       "      <td>scans</td>\n",
       "      <td>scans</td>\n",
       "      <td>3</td>\n",
       "      <td>&gt;5</td>\n",
       "      <td>&gt;=1</td>\n",
       "    </tr>\n",
       "    <tr>\n",
       "      <th>1</th>\n",
       "      <td>64.58</td>\n",
       "      <td>male</td>\n",
       "      <td>0.0</td>\n",
       "      <td>0</td>\n",
       "      <td>10.0</td>\n",
       "      <td>1.280000</td>\n",
       "      <td>0.360000</td>\n",
       "      <td>0.744000</td>\n",
       "      <td>0</td>\n",
       "      <td>ex-smoker</td>\n",
       "      <td>Yes</td>\n",
       "      <td>Yes</td>\n",
       "      <td>more-than-zero</td>\n",
       "      <td>0 to 1</td>\n",
       "      <td>scans</td>\n",
       "      <td>scans</td>\n",
       "      <td>1</td>\n",
       "      <td>1 to 2</td>\n",
       "      <td>&gt;=1</td>\n",
       "    </tr>\n",
       "    <tr>\n",
       "      <th>2</th>\n",
       "      <td>74.92</td>\n",
       "      <td>male</td>\n",
       "      <td>0.0</td>\n",
       "      <td>0</td>\n",
       "      <td>8.0</td>\n",
       "      <td>-1.440000</td>\n",
       "      <td>-1.520000</td>\n",
       "      <td>-0.922000</td>\n",
       "      <td>0</td>\n",
       "      <td>never-smoker</td>\n",
       "      <td>Yes</td>\n",
       "      <td>Yes</td>\n",
       "      <td>more-than-zero</td>\n",
       "      <td>0 to 1</td>\n",
       "      <td>scans</td>\n",
       "      <td>scans</td>\n",
       "      <td>1</td>\n",
       "      <td>1 to 2</td>\n",
       "      <td>0</td>\n",
       "    </tr>\n",
       "    <tr>\n",
       "      <th>3</th>\n",
       "      <td>79.25</td>\n",
       "      <td>male</td>\n",
       "      <td>0.0</td>\n",
       "      <td>0</td>\n",
       "      <td>10.0</td>\n",
       "      <td>-0.920000</td>\n",
       "      <td>-1.493333</td>\n",
       "      <td>-0.924000</td>\n",
       "      <td>0</td>\n",
       "      <td>ex-smoker</td>\n",
       "      <td>Yes</td>\n",
       "      <td>Yes</td>\n",
       "      <td>more-than-zero</td>\n",
       "      <td>2 to 3</td>\n",
       "      <td>scans</td>\n",
       "      <td>scans</td>\n",
       "      <td>2</td>\n",
       "      <td>1 to 2</td>\n",
       "      <td>0</td>\n",
       "    </tr>\n",
       "    <tr>\n",
       "      <th>4</th>\n",
       "      <td>62.75</td>\n",
       "      <td>male</td>\n",
       "      <td>0.0</td>\n",
       "      <td>0</td>\n",
       "      <td>24.0</td>\n",
       "      <td>-0.380000</td>\n",
       "      <td>-1.110000</td>\n",
       "      <td>-0.526667</td>\n",
       "      <td>0</td>\n",
       "      <td>ex-smoker</td>\n",
       "      <td>Yes</td>\n",
       "      <td>Yes</td>\n",
       "      <td>zero</td>\n",
       "      <td>2 to 3</td>\n",
       "      <td>scans</td>\n",
       "      <td>scans</td>\n",
       "      <td>2</td>\n",
       "      <td>Zero</td>\n",
       "      <td>0</td>\n",
       "    </tr>\n",
       "  </tbody>\n",
       "</table>\n",
       "</div>"
      ],
      "text/plain": [
       "     age gender  dementia  dementia_all  educationyears        EF        PS  \\\n",
       "0  52.67   male       0.0             0            11.0 -2.403333 -1.290000   \n",
       "1  64.58   male       0.0             0            10.0  1.280000  0.360000   \n",
       "2  74.92   male       0.0             0             8.0 -1.440000 -1.520000   \n",
       "3  79.25   male       0.0             0            10.0 -0.920000 -1.493333   \n",
       "4  62.75   male       0.0             0            24.0 -0.380000 -1.110000   \n",
       "\n",
       "     Global  diabetes         smoking hypertension hypercholesterolemia  \\\n",
       "0 -1.287000         0  current-smoker          Yes                  Yes   \n",
       "1  0.744000         0       ex-smoker          Yes                  Yes   \n",
       "2 -0.922000         0    never-smoker          Yes                  Yes   \n",
       "3 -0.924000         0       ex-smoker          Yes                  Yes   \n",
       "4 -0.526667         0       ex-smoker          Yes                  Yes   \n",
       "\n",
       "      lacunes_num fazekas_cat  study study1  Fazekas lac_count CMB_count  \n",
       "0  more-than-zero      2 to 3  scans  scans        3        >5       >=1  \n",
       "1  more-than-zero      0 to 1  scans  scans        1    1 to 2       >=1  \n",
       "2  more-than-zero      0 to 1  scans  scans        1    1 to 2         0  \n",
       "3  more-than-zero      2 to 3  scans  scans        2    1 to 2         0  \n",
       "4            zero      2 to 3  scans  scans        2      Zero         0  "
      ]
     },
     "execution_count": 9,
     "metadata": {},
     "output_type": "execute_result"
    }
   ],
   "source": [
    "df.head()"
   ]
  },
  {
   "cell_type": "code",
   "execution_count": 10,
   "metadata": {},
   "outputs": [],
   "source": [
    "df['gender'] = df['gender'].map({'female': 0, 'male': 1})"
   ]
  },
  {
   "cell_type": "code",
   "execution_count": 11,
   "metadata": {},
   "outputs": [],
   "source": [
    "df['smoking'] = df['smoking'].map({'never-smoker': 0, 'ex-smoker': 1, 'current-smoker': 2})"
   ]
  },
  {
   "cell_type": "code",
   "execution_count": 12,
   "metadata": {},
   "outputs": [
    {
     "data": {
      "text/plain": [
       "array(['Yes', 'No'], dtype=object)"
      ]
     },
     "execution_count": 12,
     "metadata": {},
     "output_type": "execute_result"
    }
   ],
   "source": [
    "df['hypertension'].unique()\n",
    "df['hypercholesterolemia'].unique()"
   ]
  },
  {
   "cell_type": "code",
   "execution_count": 13,
   "metadata": {},
   "outputs": [],
   "source": [
    "df['hypertension'] = df['hypertension'].map({'No': 0, 'Yes': 1})\n",
    "df['hypercholesterolemia'] = df['hypercholesterolemia'].map({'No': 0, 'Yes': 1})"
   ]
  },
  {
   "cell_type": "code",
   "execution_count": 14,
   "metadata": {},
   "outputs": [
    {
     "data": {
      "text/plain": [
       "array(['scans', 'rundmc', 'ASPS-elderly', 'ASPS-family'], dtype=object)"
      ]
     },
     "execution_count": 14,
     "metadata": {},
     "output_type": "execute_result"
    }
   ],
   "source": [
    "df['study'].unique()"
   ]
  },
  {
   "cell_type": "code",
   "execution_count": 15,
   "metadata": {},
   "outputs": [],
   "source": [
    "df['lacunes_num'] = df['lacunes_num'].map({'zero': 0, 'more-than-zero': 1})\n",
    "df['fazekas_cat'] = df['fazekas_cat'].map({'0 to 1': 0, '2 to 3': 1})\n"
   ]
  },
  {
   "cell_type": "code",
   "execution_count": 16,
   "metadata": {},
   "outputs": [
    {
     "name": "stdout",
     "output_type": "stream",
     "text": [
      "['x0_ASPS-elderly' 'x0_ASPS-family' 'x0_rundmc' 'x0_scans']\n"
     ]
    }
   ],
   "source": [
    "enc = OneHotEncoder(categories='auto')\n",
    "study = df['study'].values.reshape(-1, 1)\n",
    "enc.fit(study)\n",
    "new_features = enc.get_feature_names_out()\n",
    "print(new_features)\n",
    "new_study = pd.DataFrame(enc.transform(study).toarray())"
   ]
  },
  {
   "cell_type": "code",
   "execution_count": 17,
   "metadata": {},
   "outputs": [],
   "source": [
    "new_study.columns = ['ASPS-elderly', 'ASPS-family', 'rundmc', 'scans']"
   ]
  },
  {
   "cell_type": "code",
   "execution_count": 18,
   "metadata": {},
   "outputs": [],
   "source": [
    "df = pd.concat([df, new_study], axis=1)\n",
    "df.drop('study', axis=1, inplace=True)"
   ]
  },
  {
   "cell_type": "code",
   "execution_count": 19,
   "metadata": {},
   "outputs": [
    {
     "data": {
      "text/html": [
       "<div>\n",
       "<style scoped>\n",
       "    .dataframe tbody tr th:only-of-type {\n",
       "        vertical-align: middle;\n",
       "    }\n",
       "\n",
       "    .dataframe tbody tr th {\n",
       "        vertical-align: top;\n",
       "    }\n",
       "\n",
       "    .dataframe thead th {\n",
       "        text-align: right;\n",
       "    }\n",
       "</style>\n",
       "<table border=\"1\" class=\"dataframe\">\n",
       "  <thead>\n",
       "    <tr style=\"text-align: right;\">\n",
       "      <th></th>\n",
       "      <th>age</th>\n",
       "      <th>gender</th>\n",
       "      <th>dementia</th>\n",
       "      <th>dementia_all</th>\n",
       "      <th>educationyears</th>\n",
       "      <th>EF</th>\n",
       "      <th>PS</th>\n",
       "      <th>Global</th>\n",
       "      <th>diabetes</th>\n",
       "      <th>smoking</th>\n",
       "      <th>...</th>\n",
       "      <th>lacunes_num</th>\n",
       "      <th>fazekas_cat</th>\n",
       "      <th>study1</th>\n",
       "      <th>Fazekas</th>\n",
       "      <th>lac_count</th>\n",
       "      <th>CMB_count</th>\n",
       "      <th>ASPS-elderly</th>\n",
       "      <th>ASPS-family</th>\n",
       "      <th>rundmc</th>\n",
       "      <th>scans</th>\n",
       "    </tr>\n",
       "  </thead>\n",
       "  <tbody>\n",
       "    <tr>\n",
       "      <th>0</th>\n",
       "      <td>52.67</td>\n",
       "      <td>1</td>\n",
       "      <td>0.0</td>\n",
       "      <td>0</td>\n",
       "      <td>11.0</td>\n",
       "      <td>-2.403333</td>\n",
       "      <td>-1.290000</td>\n",
       "      <td>-1.287000</td>\n",
       "      <td>0</td>\n",
       "      <td>2</td>\n",
       "      <td>...</td>\n",
       "      <td>1</td>\n",
       "      <td>1</td>\n",
       "      <td>scans</td>\n",
       "      <td>3</td>\n",
       "      <td>&gt;5</td>\n",
       "      <td>&gt;=1</td>\n",
       "      <td>0.0</td>\n",
       "      <td>0.0</td>\n",
       "      <td>0.0</td>\n",
       "      <td>1.0</td>\n",
       "    </tr>\n",
       "    <tr>\n",
       "      <th>1</th>\n",
       "      <td>64.58</td>\n",
       "      <td>1</td>\n",
       "      <td>0.0</td>\n",
       "      <td>0</td>\n",
       "      <td>10.0</td>\n",
       "      <td>1.280000</td>\n",
       "      <td>0.360000</td>\n",
       "      <td>0.744000</td>\n",
       "      <td>0</td>\n",
       "      <td>1</td>\n",
       "      <td>...</td>\n",
       "      <td>1</td>\n",
       "      <td>0</td>\n",
       "      <td>scans</td>\n",
       "      <td>1</td>\n",
       "      <td>1 to 2</td>\n",
       "      <td>&gt;=1</td>\n",
       "      <td>0.0</td>\n",
       "      <td>0.0</td>\n",
       "      <td>0.0</td>\n",
       "      <td>1.0</td>\n",
       "    </tr>\n",
       "    <tr>\n",
       "      <th>2</th>\n",
       "      <td>74.92</td>\n",
       "      <td>1</td>\n",
       "      <td>0.0</td>\n",
       "      <td>0</td>\n",
       "      <td>8.0</td>\n",
       "      <td>-1.440000</td>\n",
       "      <td>-1.520000</td>\n",
       "      <td>-0.922000</td>\n",
       "      <td>0</td>\n",
       "      <td>0</td>\n",
       "      <td>...</td>\n",
       "      <td>1</td>\n",
       "      <td>0</td>\n",
       "      <td>scans</td>\n",
       "      <td>1</td>\n",
       "      <td>1 to 2</td>\n",
       "      <td>0</td>\n",
       "      <td>0.0</td>\n",
       "      <td>0.0</td>\n",
       "      <td>0.0</td>\n",
       "      <td>1.0</td>\n",
       "    </tr>\n",
       "    <tr>\n",
       "      <th>3</th>\n",
       "      <td>79.25</td>\n",
       "      <td>1</td>\n",
       "      <td>0.0</td>\n",
       "      <td>0</td>\n",
       "      <td>10.0</td>\n",
       "      <td>-0.920000</td>\n",
       "      <td>-1.493333</td>\n",
       "      <td>-0.924000</td>\n",
       "      <td>0</td>\n",
       "      <td>1</td>\n",
       "      <td>...</td>\n",
       "      <td>1</td>\n",
       "      <td>1</td>\n",
       "      <td>scans</td>\n",
       "      <td>2</td>\n",
       "      <td>1 to 2</td>\n",
       "      <td>0</td>\n",
       "      <td>0.0</td>\n",
       "      <td>0.0</td>\n",
       "      <td>0.0</td>\n",
       "      <td>1.0</td>\n",
       "    </tr>\n",
       "    <tr>\n",
       "      <th>4</th>\n",
       "      <td>62.75</td>\n",
       "      <td>1</td>\n",
       "      <td>0.0</td>\n",
       "      <td>0</td>\n",
       "      <td>24.0</td>\n",
       "      <td>-0.380000</td>\n",
       "      <td>-1.110000</td>\n",
       "      <td>-0.526667</td>\n",
       "      <td>0</td>\n",
       "      <td>1</td>\n",
       "      <td>...</td>\n",
       "      <td>0</td>\n",
       "      <td>1</td>\n",
       "      <td>scans</td>\n",
       "      <td>2</td>\n",
       "      <td>Zero</td>\n",
       "      <td>0</td>\n",
       "      <td>0.0</td>\n",
       "      <td>0.0</td>\n",
       "      <td>0.0</td>\n",
       "      <td>1.0</td>\n",
       "    </tr>\n",
       "  </tbody>\n",
       "</table>\n",
       "<p>5 rows × 22 columns</p>\n",
       "</div>"
      ],
      "text/plain": [
       "     age  gender  dementia  dementia_all  educationyears        EF        PS  \\\n",
       "0  52.67       1       0.0             0            11.0 -2.403333 -1.290000   \n",
       "1  64.58       1       0.0             0            10.0  1.280000  0.360000   \n",
       "2  74.92       1       0.0             0             8.0 -1.440000 -1.520000   \n",
       "3  79.25       1       0.0             0            10.0 -0.920000 -1.493333   \n",
       "4  62.75       1       0.0             0            24.0 -0.380000 -1.110000   \n",
       "\n",
       "     Global  diabetes  smoking  ...  lacunes_num  fazekas_cat  study1  \\\n",
       "0 -1.287000         0        2  ...            1            1   scans   \n",
       "1  0.744000         0        1  ...            1            0   scans   \n",
       "2 -0.922000         0        0  ...            1            0   scans   \n",
       "3 -0.924000         0        1  ...            1            1   scans   \n",
       "4 -0.526667         0        1  ...            0            1   scans   \n",
       "\n",
       "   Fazekas lac_count  CMB_count ASPS-elderly ASPS-family  rundmc  scans  \n",
       "0        3        >5        >=1          0.0         0.0     0.0    1.0  \n",
       "1        1    1 to 2        >=1          0.0         0.0     0.0    1.0  \n",
       "2        1    1 to 2          0          0.0         0.0     0.0    1.0  \n",
       "3        2    1 to 2          0          0.0         0.0     0.0    1.0  \n",
       "4        2      Zero          0          0.0         0.0     0.0    1.0  \n",
       "\n",
       "[5 rows x 22 columns]"
      ]
     },
     "execution_count": 19,
     "metadata": {},
     "output_type": "execute_result"
    }
   ],
   "source": [
    "df.head()"
   ]
  },
  {
   "cell_type": "code",
   "execution_count": 20,
   "metadata": {},
   "outputs": [
    {
     "data": {
      "text/plain": [
       "array(['scans', 'rundmc', 'ASPS'], dtype=object)"
      ]
     },
     "execution_count": 20,
     "metadata": {},
     "output_type": "execute_result"
    }
   ],
   "source": [
    "df['study1'].unique()"
   ]
  },
  {
   "cell_type": "code",
   "execution_count": 21,
   "metadata": {},
   "outputs": [
    {
     "name": "stdout",
     "output_type": "stream",
     "text": [
      "['x0_ASPS' 'x0_rundmc' 'x0_scans']\n"
     ]
    }
   ],
   "source": [
    "enc2 = OneHotEncoder(categories='auto')\n",
    "study1 = df['study1'].values.reshape(-1, 1)\n",
    "enc2.fit(study1)\n",
    "new_features = enc2.get_feature_names_out()\n",
    "print(new_features)\n",
    "new_study1 = pd.DataFrame(enc2.transform(study1).toarray())"
   ]
  },
  {
   "cell_type": "code",
   "execution_count": 22,
   "metadata": {},
   "outputs": [],
   "source": [
    "new_study1.columns = ['ASPS', 'rundmc', 'scans']"
   ]
  },
  {
   "cell_type": "code",
   "execution_count": 23,
   "metadata": {},
   "outputs": [],
   "source": [
    "df = pd.concat([df, new_study1], axis=1)\n",
    "df.drop('study1', axis=1, inplace=True)"
   ]
  },
  {
   "cell_type": "code",
   "execution_count": 24,
   "metadata": {},
   "outputs": [
    {
     "data": {
      "text/html": [
       "<div>\n",
       "<style scoped>\n",
       "    .dataframe tbody tr th:only-of-type {\n",
       "        vertical-align: middle;\n",
       "    }\n",
       "\n",
       "    .dataframe tbody tr th {\n",
       "        vertical-align: top;\n",
       "    }\n",
       "\n",
       "    .dataframe thead th {\n",
       "        text-align: right;\n",
       "    }\n",
       "</style>\n",
       "<table border=\"1\" class=\"dataframe\">\n",
       "  <thead>\n",
       "    <tr style=\"text-align: right;\">\n",
       "      <th></th>\n",
       "      <th>age</th>\n",
       "      <th>gender</th>\n",
       "      <th>dementia</th>\n",
       "      <th>dementia_all</th>\n",
       "      <th>educationyears</th>\n",
       "      <th>EF</th>\n",
       "      <th>PS</th>\n",
       "      <th>Global</th>\n",
       "      <th>diabetes</th>\n",
       "      <th>smoking</th>\n",
       "      <th>...</th>\n",
       "      <th>Fazekas</th>\n",
       "      <th>lac_count</th>\n",
       "      <th>CMB_count</th>\n",
       "      <th>ASPS-elderly</th>\n",
       "      <th>ASPS-family</th>\n",
       "      <th>rundmc</th>\n",
       "      <th>scans</th>\n",
       "      <th>ASPS</th>\n",
       "      <th>rundmc</th>\n",
       "      <th>scans</th>\n",
       "    </tr>\n",
       "  </thead>\n",
       "  <tbody>\n",
       "    <tr>\n",
       "      <th>0</th>\n",
       "      <td>52.67</td>\n",
       "      <td>1</td>\n",
       "      <td>0.0</td>\n",
       "      <td>0</td>\n",
       "      <td>11.0</td>\n",
       "      <td>-2.403333</td>\n",
       "      <td>-1.290000</td>\n",
       "      <td>-1.287000</td>\n",
       "      <td>0</td>\n",
       "      <td>2</td>\n",
       "      <td>...</td>\n",
       "      <td>3</td>\n",
       "      <td>&gt;5</td>\n",
       "      <td>&gt;=1</td>\n",
       "      <td>0.0</td>\n",
       "      <td>0.0</td>\n",
       "      <td>0.0</td>\n",
       "      <td>1.0</td>\n",
       "      <td>0.0</td>\n",
       "      <td>0.0</td>\n",
       "      <td>1.0</td>\n",
       "    </tr>\n",
       "    <tr>\n",
       "      <th>1</th>\n",
       "      <td>64.58</td>\n",
       "      <td>1</td>\n",
       "      <td>0.0</td>\n",
       "      <td>0</td>\n",
       "      <td>10.0</td>\n",
       "      <td>1.280000</td>\n",
       "      <td>0.360000</td>\n",
       "      <td>0.744000</td>\n",
       "      <td>0</td>\n",
       "      <td>1</td>\n",
       "      <td>...</td>\n",
       "      <td>1</td>\n",
       "      <td>1 to 2</td>\n",
       "      <td>&gt;=1</td>\n",
       "      <td>0.0</td>\n",
       "      <td>0.0</td>\n",
       "      <td>0.0</td>\n",
       "      <td>1.0</td>\n",
       "      <td>0.0</td>\n",
       "      <td>0.0</td>\n",
       "      <td>1.0</td>\n",
       "    </tr>\n",
       "    <tr>\n",
       "      <th>2</th>\n",
       "      <td>74.92</td>\n",
       "      <td>1</td>\n",
       "      <td>0.0</td>\n",
       "      <td>0</td>\n",
       "      <td>8.0</td>\n",
       "      <td>-1.440000</td>\n",
       "      <td>-1.520000</td>\n",
       "      <td>-0.922000</td>\n",
       "      <td>0</td>\n",
       "      <td>0</td>\n",
       "      <td>...</td>\n",
       "      <td>1</td>\n",
       "      <td>1 to 2</td>\n",
       "      <td>0</td>\n",
       "      <td>0.0</td>\n",
       "      <td>0.0</td>\n",
       "      <td>0.0</td>\n",
       "      <td>1.0</td>\n",
       "      <td>0.0</td>\n",
       "      <td>0.0</td>\n",
       "      <td>1.0</td>\n",
       "    </tr>\n",
       "    <tr>\n",
       "      <th>3</th>\n",
       "      <td>79.25</td>\n",
       "      <td>1</td>\n",
       "      <td>0.0</td>\n",
       "      <td>0</td>\n",
       "      <td>10.0</td>\n",
       "      <td>-0.920000</td>\n",
       "      <td>-1.493333</td>\n",
       "      <td>-0.924000</td>\n",
       "      <td>0</td>\n",
       "      <td>1</td>\n",
       "      <td>...</td>\n",
       "      <td>2</td>\n",
       "      <td>1 to 2</td>\n",
       "      <td>0</td>\n",
       "      <td>0.0</td>\n",
       "      <td>0.0</td>\n",
       "      <td>0.0</td>\n",
       "      <td>1.0</td>\n",
       "      <td>0.0</td>\n",
       "      <td>0.0</td>\n",
       "      <td>1.0</td>\n",
       "    </tr>\n",
       "    <tr>\n",
       "      <th>4</th>\n",
       "      <td>62.75</td>\n",
       "      <td>1</td>\n",
       "      <td>0.0</td>\n",
       "      <td>0</td>\n",
       "      <td>24.0</td>\n",
       "      <td>-0.380000</td>\n",
       "      <td>-1.110000</td>\n",
       "      <td>-0.526667</td>\n",
       "      <td>0</td>\n",
       "      <td>1</td>\n",
       "      <td>...</td>\n",
       "      <td>2</td>\n",
       "      <td>Zero</td>\n",
       "      <td>0</td>\n",
       "      <td>0.0</td>\n",
       "      <td>0.0</td>\n",
       "      <td>0.0</td>\n",
       "      <td>1.0</td>\n",
       "      <td>0.0</td>\n",
       "      <td>0.0</td>\n",
       "      <td>1.0</td>\n",
       "    </tr>\n",
       "  </tbody>\n",
       "</table>\n",
       "<p>5 rows × 24 columns</p>\n",
       "</div>"
      ],
      "text/plain": [
       "     age  gender  dementia  dementia_all  educationyears        EF        PS  \\\n",
       "0  52.67       1       0.0             0            11.0 -2.403333 -1.290000   \n",
       "1  64.58       1       0.0             0            10.0  1.280000  0.360000   \n",
       "2  74.92       1       0.0             0             8.0 -1.440000 -1.520000   \n",
       "3  79.25       1       0.0             0            10.0 -0.920000 -1.493333   \n",
       "4  62.75       1       0.0             0            24.0 -0.380000 -1.110000   \n",
       "\n",
       "     Global  diabetes  smoking  ...  Fazekas  lac_count  CMB_count  \\\n",
       "0 -1.287000         0        2  ...        3         >5        >=1   \n",
       "1  0.744000         0        1  ...        1     1 to 2        >=1   \n",
       "2 -0.922000         0        0  ...        1     1 to 2          0   \n",
       "3 -0.924000         0        1  ...        2     1 to 2          0   \n",
       "4 -0.526667         0        1  ...        2       Zero          0   \n",
       "\n",
       "   ASPS-elderly  ASPS-family  rundmc  scans  ASPS  rundmc  scans  \n",
       "0           0.0          0.0     0.0    1.0   0.0     0.0    1.0  \n",
       "1           0.0          0.0     0.0    1.0   0.0     0.0    1.0  \n",
       "2           0.0          0.0     0.0    1.0   0.0     0.0    1.0  \n",
       "3           0.0          0.0     0.0    1.0   0.0     0.0    1.0  \n",
       "4           0.0          0.0     0.0    1.0   0.0     0.0    1.0  \n",
       "\n",
       "[5 rows x 24 columns]"
      ]
     },
     "execution_count": 24,
     "metadata": {},
     "output_type": "execute_result"
    }
   ],
   "source": [
    "df.head()"
   ]
  },
  {
   "cell_type": "code",
   "execution_count": 25,
   "metadata": {},
   "outputs": [
    {
     "name": "stdout",
     "output_type": "stream",
     "text": [
      "<class 'pandas.core.frame.DataFrame'>\n",
      "RangeIndex: 1510 entries, 0 to 1509\n",
      "Data columns (total 24 columns):\n",
      " #   Column                Non-Null Count  Dtype  \n",
      "---  ------                --------------  -----  \n",
      " 0   age                   1510 non-null   float64\n",
      " 1   gender                1510 non-null   int64  \n",
      " 2   dementia              1510 non-null   float64\n",
      " 3   dementia_all          1510 non-null   int64  \n",
      " 4   educationyears        1510 non-null   float64\n",
      " 5   EF                    1510 non-null   float64\n",
      " 6   PS                    1510 non-null   float64\n",
      " 7   Global                1510 non-null   float64\n",
      " 8   diabetes              1510 non-null   int64  \n",
      " 9   smoking               1510 non-null   int64  \n",
      " 10  hypertension          1510 non-null   int64  \n",
      " 11  hypercholesterolemia  1510 non-null   int64  \n",
      " 12  lacunes_num           1510 non-null   int64  \n",
      " 13  fazekas_cat           1510 non-null   int64  \n",
      " 14  Fazekas               1510 non-null   int64  \n",
      " 15  lac_count             1510 non-null   object \n",
      " 16  CMB_count             1510 non-null   object \n",
      " 17  ASPS-elderly          1510 non-null   float64\n",
      " 18  ASPS-family           1510 non-null   float64\n",
      " 19  rundmc                1510 non-null   float64\n",
      " 20  scans                 1510 non-null   float64\n",
      " 21  ASPS                  1510 non-null   float64\n",
      " 22  rundmc                1510 non-null   float64\n",
      " 23  scans                 1510 non-null   float64\n",
      "dtypes: float64(13), int64(9), object(2)\n",
      "memory usage: 283.3+ KB\n"
     ]
    }
   ],
   "source": [
    "df.info()"
   ]
  },
  {
   "cell_type": "code",
   "execution_count": 26,
   "metadata": {},
   "outputs": [
    {
     "data": {
      "text/plain": [
       "array(['>5', '1 to 2', 'Zero', '3 to 5'], dtype=object)"
      ]
     },
     "execution_count": 26,
     "metadata": {},
     "output_type": "execute_result"
    }
   ],
   "source": [
    "df['lac_count'].unique()"
   ]
  },
  {
   "cell_type": "code",
   "execution_count": 27,
   "metadata": {},
   "outputs": [],
   "source": [
    "df['lac_count'] = df['lac_count'].map({'Zero': 0, '1 to 2': 1, '3 to 5': 2, '>5': 3})"
   ]
  },
  {
   "cell_type": "code",
   "execution_count": 28,
   "metadata": {},
   "outputs": [
    {
     "data": {
      "text/plain": [
       "array(['>=1', '0'], dtype=object)"
      ]
     },
     "execution_count": 28,
     "metadata": {},
     "output_type": "execute_result"
    }
   ],
   "source": [
    "df['CMB_count'].unique()"
   ]
  },
  {
   "cell_type": "code",
   "execution_count": 29,
   "metadata": {},
   "outputs": [],
   "source": [
    "df['CMB_count'] = df['CMB_count'].map({'0': 0, '>=1': 1})"
   ]
  },
  {
   "cell_type": "code",
   "execution_count": 30,
   "metadata": {},
   "outputs": [
    {
     "name": "stdout",
     "output_type": "stream",
     "text": [
      "<class 'pandas.core.frame.DataFrame'>\n",
      "RangeIndex: 1510 entries, 0 to 1509\n",
      "Data columns (total 24 columns):\n",
      " #   Column                Non-Null Count  Dtype  \n",
      "---  ------                --------------  -----  \n",
      " 0   age                   1510 non-null   float64\n",
      " 1   gender                1510 non-null   int64  \n",
      " 2   dementia              1510 non-null   float64\n",
      " 3   dementia_all          1510 non-null   int64  \n",
      " 4   educationyears        1510 non-null   float64\n",
      " 5   EF                    1510 non-null   float64\n",
      " 6   PS                    1510 non-null   float64\n",
      " 7   Global                1510 non-null   float64\n",
      " 8   diabetes              1510 non-null   int64  \n",
      " 9   smoking               1510 non-null   int64  \n",
      " 10  hypertension          1510 non-null   int64  \n",
      " 11  hypercholesterolemia  1510 non-null   int64  \n",
      " 12  lacunes_num           1510 non-null   int64  \n",
      " 13  fazekas_cat           1510 non-null   int64  \n",
      " 14  Fazekas               1510 non-null   int64  \n",
      " 15  lac_count             1510 non-null   int64  \n",
      " 16  CMB_count             1510 non-null   int64  \n",
      " 17  ASPS-elderly          1510 non-null   float64\n",
      " 18  ASPS-family           1510 non-null   float64\n",
      " 19  rundmc                1510 non-null   float64\n",
      " 20  scans                 1510 non-null   float64\n",
      " 21  ASPS                  1510 non-null   float64\n",
      " 22  rundmc                1510 non-null   float64\n",
      " 23  scans                 1510 non-null   float64\n",
      "dtypes: float64(13), int64(11)\n",
      "memory usage: 283.3 KB\n"
     ]
    }
   ],
   "source": [
    "df.info()"
   ]
  },
  {
   "cell_type": "code",
   "execution_count": 31,
   "metadata": {},
   "outputs": [],
   "source": [
    "y = df['dementia_all'].values\n",
    "X = df.drop('dementia_all', axis=1)"
   ]
  },
  {
   "cell_type": "code",
   "execution_count": 32,
   "metadata": {},
   "outputs": [
    {
     "name": "stdout",
     "output_type": "stream",
     "text": [
      "(1510, 23)\n",
      "(1510, 18)\n"
     ]
    }
   ],
   "source": [
    "print(X.shape)\n",
    "selector = VarianceThreshold(threshold=0.1)\n",
    "X = selector.fit_transform(X)\n",
    "print(X.shape)"
   ]
  },
  {
   "cell_type": "code",
   "execution_count": 33,
   "metadata": {},
   "outputs": [
    {
     "name": "stdout",
     "output_type": "stream",
     "text": [
      "Female:  808\n",
      "Male:  702\n"
     ]
    }
   ],
   "source": [
    "# build mask\n",
    "gender_0_mask = df['gender'] == 0\n",
    "gender_1_mask = df['gender'] == 1\n",
    "\n",
    "count_gender_0 = gender_0_mask.sum()\n",
    "count_gender_1 = gender_1_mask.sum()\n",
    "\n",
    "print(\"Female: \", count_gender_0)\n",
    "print(\"Male: \", count_gender_1)\n",
    "\n",
    "scaler = StandardScaler()\n",
    "X_scaled = scaler.fit_transform(X)\n",
    "\n",
    "X_scaled_Gender_0 = X_scaled[gender_0_mask]\n",
    "X_scaled_Gender_1 = X_scaled[gender_1_mask]\n",
    "y_Gender_0 = y[gender_0_mask]\n",
    "y_Gender_1 = y[gender_1_mask]"
   ]
  },
  {
   "cell_type": "code",
   "execution_count": 34,
   "metadata": {},
   "outputs": [],
   "source": [
    "seed = 42\n",
    "models = fl.build_models(seed)\n",
    "\n",
    "results_list = []\n",
    "\n",
    "kf = KFold(n_splits=10, shuffle=True, random_state=seed)"
   ]
  },
  {
   "cell_type": "code",
   "execution_count": 35,
   "metadata": {},
   "outputs": [
    {
     "name": "stdout",
     "output_type": "stream",
     "text": [
      "Starting experiments for Female(0)\n",
      "Processing fold 1 for group Female\n",
      "Training and evaluating model: SVM\n",
      "Training and evaluating model: LR\n",
      "Training and evaluating model: KNN\n",
      "Training and evaluating model: RF\n",
      "Training and evaluating model: DT\n",
      "Training and evaluating model: ANN\n"
     ]
    },
    {
     "name": "stderr",
     "output_type": "stream",
     "text": [
      "/home/morning/miniconda3/envs/f2ml/lib/python3.13/site-packages/sklearn/neural_network/_multilayer_perceptron.py:691: ConvergenceWarning: Stochastic Optimizer: Maximum iterations (200) reached and the optimization hasn't converged yet.\n",
      "  warnings.warn(\n"
     ]
    },
    {
     "name": "stdout",
     "output_type": "stream",
     "text": [
      "Training and evaluating model: NB\n",
      "Processing fold 2 for group Female\n",
      "Training and evaluating model: SVM\n",
      "Training and evaluating model: LR\n",
      "Training and evaluating model: KNN\n",
      "Training and evaluating model: RF\n",
      "Training and evaluating model: DT\n",
      "Training and evaluating model: ANN\n"
     ]
    },
    {
     "name": "stderr",
     "output_type": "stream",
     "text": [
      "/home/morning/miniconda3/envs/f2ml/lib/python3.13/site-packages/sklearn/neural_network/_multilayer_perceptron.py:691: ConvergenceWarning: Stochastic Optimizer: Maximum iterations (200) reached and the optimization hasn't converged yet.\n",
      "  warnings.warn(\n"
     ]
    },
    {
     "name": "stdout",
     "output_type": "stream",
     "text": [
      "Training and evaluating model: NB\n",
      "Processing fold 3 for group Female\n",
      "Training and evaluating model: SVM\n",
      "Training and evaluating model: LR\n",
      "Training and evaluating model: KNN\n",
      "Training and evaluating model: RF\n",
      "Training and evaluating model: DT\n",
      "Training and evaluating model: ANN\n"
     ]
    },
    {
     "name": "stderr",
     "output_type": "stream",
     "text": [
      "/home/morning/miniconda3/envs/f2ml/lib/python3.13/site-packages/sklearn/neural_network/_multilayer_perceptron.py:691: ConvergenceWarning: Stochastic Optimizer: Maximum iterations (200) reached and the optimization hasn't converged yet.\n",
      "  warnings.warn(\n"
     ]
    },
    {
     "name": "stdout",
     "output_type": "stream",
     "text": [
      "Training and evaluating model: NB\n",
      "Processing fold 4 for group Female\n",
      "Training and evaluating model: SVM\n",
      "Training and evaluating model: LR\n",
      "Training and evaluating model: KNN\n",
      "Training and evaluating model: RF\n",
      "Training and evaluating model: DT\n",
      "Training and evaluating model: ANN\n"
     ]
    },
    {
     "name": "stderr",
     "output_type": "stream",
     "text": [
      "/home/morning/miniconda3/envs/f2ml/lib/python3.13/site-packages/sklearn/neural_network/_multilayer_perceptron.py:691: ConvergenceWarning: Stochastic Optimizer: Maximum iterations (200) reached and the optimization hasn't converged yet.\n",
      "  warnings.warn(\n"
     ]
    },
    {
     "name": "stdout",
     "output_type": "stream",
     "text": [
      "Training and evaluating model: NB\n",
      "Processing fold 5 for group Female\n",
      "Training and evaluating model: SVM\n",
      "Training and evaluating model: LR\n",
      "Training and evaluating model: KNN\n",
      "Training and evaluating model: RF\n",
      "Training and evaluating model: DT\n",
      "Training and evaluating model: ANN\n"
     ]
    },
    {
     "name": "stderr",
     "output_type": "stream",
     "text": [
      "/home/morning/miniconda3/envs/f2ml/lib/python3.13/site-packages/sklearn/neural_network/_multilayer_perceptron.py:691: ConvergenceWarning: Stochastic Optimizer: Maximum iterations (200) reached and the optimization hasn't converged yet.\n",
      "  warnings.warn(\n"
     ]
    },
    {
     "name": "stdout",
     "output_type": "stream",
     "text": [
      "Training and evaluating model: NB\n",
      "Processing fold 6 for group Female\n",
      "Training and evaluating model: SVM\n",
      "Training and evaluating model: LR\n",
      "Training and evaluating model: KNN\n",
      "Training and evaluating model: RF\n",
      "Training and evaluating model: DT\n",
      "Training and evaluating model: ANN\n"
     ]
    },
    {
     "name": "stderr",
     "output_type": "stream",
     "text": [
      "/home/morning/miniconda3/envs/f2ml/lib/python3.13/site-packages/sklearn/neural_network/_multilayer_perceptron.py:691: ConvergenceWarning: Stochastic Optimizer: Maximum iterations (200) reached and the optimization hasn't converged yet.\n",
      "  warnings.warn(\n"
     ]
    },
    {
     "name": "stdout",
     "output_type": "stream",
     "text": [
      "Training and evaluating model: NB\n",
      "Processing fold 7 for group Female\n",
      "Training and evaluating model: SVM\n",
      "Training and evaluating model: LR\n",
      "Training and evaluating model: KNN\n",
      "Training and evaluating model: RF\n",
      "Training and evaluating model: DT\n",
      "Training and evaluating model: ANN\n"
     ]
    },
    {
     "name": "stderr",
     "output_type": "stream",
     "text": [
      "/home/morning/miniconda3/envs/f2ml/lib/python3.13/site-packages/sklearn/neural_network/_multilayer_perceptron.py:691: ConvergenceWarning: Stochastic Optimizer: Maximum iterations (200) reached and the optimization hasn't converged yet.\n",
      "  warnings.warn(\n"
     ]
    },
    {
     "name": "stdout",
     "output_type": "stream",
     "text": [
      "Training and evaluating model: NB\n",
      "Processing fold 8 for group Female\n",
      "Training and evaluating model: SVM\n",
      "Training and evaluating model: LR\n",
      "Training and evaluating model: KNN\n",
      "Training and evaluating model: RF\n",
      "Training and evaluating model: DT\n",
      "Training and evaluating model: ANN\n"
     ]
    },
    {
     "name": "stderr",
     "output_type": "stream",
     "text": [
      "/home/morning/miniconda3/envs/f2ml/lib/python3.13/site-packages/sklearn/neural_network/_multilayer_perceptron.py:691: ConvergenceWarning: Stochastic Optimizer: Maximum iterations (200) reached and the optimization hasn't converged yet.\n",
      "  warnings.warn(\n"
     ]
    },
    {
     "name": "stdout",
     "output_type": "stream",
     "text": [
      "Training and evaluating model: NB\n",
      "Processing fold 9 for group Female\n",
      "Training and evaluating model: SVM\n",
      "Training and evaluating model: LR\n",
      "Training and evaluating model: KNN\n",
      "Training and evaluating model: RF\n",
      "Training and evaluating model: DT\n",
      "Training and evaluating model: ANN\n"
     ]
    },
    {
     "name": "stderr",
     "output_type": "stream",
     "text": [
      "/home/morning/miniconda3/envs/f2ml/lib/python3.13/site-packages/sklearn/neural_network/_multilayer_perceptron.py:691: ConvergenceWarning: Stochastic Optimizer: Maximum iterations (200) reached and the optimization hasn't converged yet.\n",
      "  warnings.warn(\n"
     ]
    },
    {
     "name": "stdout",
     "output_type": "stream",
     "text": [
      "Training and evaluating model: NB\n",
      "Processing fold 10 for group Female\n",
      "Training and evaluating model: SVM\n",
      "Training and evaluating model: LR\n",
      "Training and evaluating model: KNN\n",
      "Training and evaluating model: RF\n",
      "Training and evaluating model: DT\n",
      "Training and evaluating model: ANN\n"
     ]
    },
    {
     "name": "stderr",
     "output_type": "stream",
     "text": [
      "/home/morning/miniconda3/envs/f2ml/lib/python3.13/site-packages/sklearn/neural_network/_multilayer_perceptron.py:691: ConvergenceWarning: Stochastic Optimizer: Maximum iterations (200) reached and the optimization hasn't converged yet.\n",
      "  warnings.warn(\n"
     ]
    },
    {
     "name": "stdout",
     "output_type": "stream",
     "text": [
      "Training and evaluating model: NB\n",
      "Starting experiments for Male(1)\n",
      "Processing fold 1 for group Male\n",
      "Training and evaluating model: SVM\n",
      "Training and evaluating model: LR\n",
      "Training and evaluating model: KNN\n",
      "Training and evaluating model: RF\n",
      "Training and evaluating model: DT\n",
      "Training and evaluating model: ANN\n"
     ]
    },
    {
     "name": "stderr",
     "output_type": "stream",
     "text": [
      "/home/morning/miniconda3/envs/f2ml/lib/python3.13/site-packages/sklearn/neural_network/_multilayer_perceptron.py:691: ConvergenceWarning: Stochastic Optimizer: Maximum iterations (200) reached and the optimization hasn't converged yet.\n",
      "  warnings.warn(\n"
     ]
    },
    {
     "name": "stdout",
     "output_type": "stream",
     "text": [
      "Training and evaluating model: NB\n",
      "Processing fold 2 for group Male\n",
      "Training and evaluating model: SVM\n",
      "Training and evaluating model: LR\n",
      "Training and evaluating model: KNN\n",
      "Training and evaluating model: RF\n",
      "Training and evaluating model: DT\n",
      "Training and evaluating model: ANN\n"
     ]
    },
    {
     "name": "stderr",
     "output_type": "stream",
     "text": [
      "/home/morning/miniconda3/envs/f2ml/lib/python3.13/site-packages/sklearn/neural_network/_multilayer_perceptron.py:691: ConvergenceWarning: Stochastic Optimizer: Maximum iterations (200) reached and the optimization hasn't converged yet.\n",
      "  warnings.warn(\n"
     ]
    },
    {
     "name": "stdout",
     "output_type": "stream",
     "text": [
      "Training and evaluating model: NB\n",
      "Processing fold 3 for group Male\n",
      "Training and evaluating model: SVM\n",
      "Training and evaluating model: LR\n",
      "Training and evaluating model: KNN\n",
      "Training and evaluating model: RF\n",
      "Training and evaluating model: DT\n",
      "Training and evaluating model: ANN\n"
     ]
    },
    {
     "name": "stderr",
     "output_type": "stream",
     "text": [
      "/home/morning/miniconda3/envs/f2ml/lib/python3.13/site-packages/sklearn/neural_network/_multilayer_perceptron.py:691: ConvergenceWarning: Stochastic Optimizer: Maximum iterations (200) reached and the optimization hasn't converged yet.\n",
      "  warnings.warn(\n"
     ]
    },
    {
     "name": "stdout",
     "output_type": "stream",
     "text": [
      "Training and evaluating model: NB\n",
      "Processing fold 4 for group Male\n",
      "Training and evaluating model: SVM\n",
      "Training and evaluating model: LR\n",
      "Training and evaluating model: KNN\n",
      "Training and evaluating model: RF\n",
      "Training and evaluating model: DT\n",
      "Training and evaluating model: ANN\n"
     ]
    },
    {
     "name": "stderr",
     "output_type": "stream",
     "text": [
      "/home/morning/miniconda3/envs/f2ml/lib/python3.13/site-packages/sklearn/neural_network/_multilayer_perceptron.py:691: ConvergenceWarning: Stochastic Optimizer: Maximum iterations (200) reached and the optimization hasn't converged yet.\n",
      "  warnings.warn(\n"
     ]
    },
    {
     "name": "stdout",
     "output_type": "stream",
     "text": [
      "Training and evaluating model: NB\n",
      "Processing fold 5 for group Male\n",
      "Training and evaluating model: SVM\n",
      "Training and evaluating model: LR\n",
      "Training and evaluating model: KNN\n",
      "Training and evaluating model: RF\n",
      "Training and evaluating model: DT\n",
      "Training and evaluating model: ANN\n"
     ]
    },
    {
     "name": "stderr",
     "output_type": "stream",
     "text": [
      "/home/morning/miniconda3/envs/f2ml/lib/python3.13/site-packages/sklearn/neural_network/_multilayer_perceptron.py:691: ConvergenceWarning: Stochastic Optimizer: Maximum iterations (200) reached and the optimization hasn't converged yet.\n",
      "  warnings.warn(\n"
     ]
    },
    {
     "name": "stdout",
     "output_type": "stream",
     "text": [
      "Training and evaluating model: NB\n",
      "Processing fold 6 for group Male\n",
      "Training and evaluating model: SVM\n",
      "Training and evaluating model: LR\n",
      "Training and evaluating model: KNN\n",
      "Training and evaluating model: RF\n",
      "Training and evaluating model: DT\n",
      "Training and evaluating model: ANN\n"
     ]
    },
    {
     "name": "stderr",
     "output_type": "stream",
     "text": [
      "/home/morning/miniconda3/envs/f2ml/lib/python3.13/site-packages/sklearn/neural_network/_multilayer_perceptron.py:691: ConvergenceWarning: Stochastic Optimizer: Maximum iterations (200) reached and the optimization hasn't converged yet.\n",
      "  warnings.warn(\n"
     ]
    },
    {
     "name": "stdout",
     "output_type": "stream",
     "text": [
      "Training and evaluating model: NB\n",
      "Processing fold 7 for group Male\n",
      "Training and evaluating model: SVM\n",
      "Training and evaluating model: LR\n",
      "Training and evaluating model: KNN\n",
      "Training and evaluating model: RF\n",
      "Training and evaluating model: DT\n",
      "Training and evaluating model: ANN\n"
     ]
    },
    {
     "name": "stderr",
     "output_type": "stream",
     "text": [
      "/home/morning/miniconda3/envs/f2ml/lib/python3.13/site-packages/sklearn/neural_network/_multilayer_perceptron.py:691: ConvergenceWarning: Stochastic Optimizer: Maximum iterations (200) reached and the optimization hasn't converged yet.\n",
      "  warnings.warn(\n"
     ]
    },
    {
     "name": "stdout",
     "output_type": "stream",
     "text": [
      "Training and evaluating model: NB\n",
      "Processing fold 8 for group Male\n",
      "Training and evaluating model: SVM\n",
      "Training and evaluating model: LR\n",
      "Training and evaluating model: KNN\n",
      "Training and evaluating model: RF\n",
      "Training and evaluating model: DT\n",
      "Training and evaluating model: ANN\n"
     ]
    },
    {
     "name": "stderr",
     "output_type": "stream",
     "text": [
      "/home/morning/miniconda3/envs/f2ml/lib/python3.13/site-packages/sklearn/neural_network/_multilayer_perceptron.py:691: ConvergenceWarning: Stochastic Optimizer: Maximum iterations (200) reached and the optimization hasn't converged yet.\n",
      "  warnings.warn(\n"
     ]
    },
    {
     "name": "stdout",
     "output_type": "stream",
     "text": [
      "Training and evaluating model: NB\n",
      "Processing fold 9 for group Male\n",
      "Training and evaluating model: SVM\n",
      "Training and evaluating model: LR\n",
      "Training and evaluating model: KNN\n",
      "Training and evaluating model: RF\n",
      "Training and evaluating model: DT\n",
      "Training and evaluating model: ANN\n"
     ]
    },
    {
     "name": "stderr",
     "output_type": "stream",
     "text": [
      "/home/morning/miniconda3/envs/f2ml/lib/python3.13/site-packages/sklearn/neural_network/_multilayer_perceptron.py:691: ConvergenceWarning: Stochastic Optimizer: Maximum iterations (200) reached and the optimization hasn't converged yet.\n",
      "  warnings.warn(\n"
     ]
    },
    {
     "name": "stdout",
     "output_type": "stream",
     "text": [
      "Training and evaluating model: NB\n",
      "Processing fold 10 for group Male\n",
      "Training and evaluating model: SVM\n",
      "Training and evaluating model: LR\n",
      "Training and evaluating model: KNN\n",
      "Training and evaluating model: RF\n",
      "Training and evaluating model: DT\n",
      "Training and evaluating model: ANN\n",
      "Training and evaluating model: NB\n",
      "    Fold   Group  SVM_TPR   SVM_TNR   SVM_FPR  SVM_FNR  SVM_TP  SVM_TN  \\\n",
      "0      1  Female      0.0  1.000000  0.000000      1.0       0      79   \n",
      "1      2  Female      0.0  1.000000  0.000000      1.0       0      80   \n",
      "2      3  Female      0.0  1.000000  0.000000      1.0       0      79   \n",
      "3      4  Female      0.0  1.000000  0.000000      1.0       0      79   \n",
      "4      5  Female      0.0  1.000000  0.000000      1.0       0      79   \n",
      "5      6  Female      0.0  1.000000  0.000000      1.0       0      79   \n",
      "6      7  Female      0.0  1.000000  0.000000      1.0       0      78   \n",
      "7      8  Female      0.0  1.000000  0.000000      1.0       0      77   \n",
      "8      9  Female      0.0  1.000000  0.000000      1.0       0      78   \n",
      "9     10  Female      0.0  1.000000  0.000000      1.0       0      79   \n",
      "10     1    Male      0.0  1.000000  0.000000      1.0       0      66   \n",
      "11     2    Male      0.0  1.000000  0.000000      1.0       0      65   \n",
      "12     3    Male      0.5  1.000000  0.000000      0.5       2      66   \n",
      "13     4    Male      0.0  0.984848  0.015152      1.0       0      65   \n",
      "14     5    Male      0.0  1.000000  0.000000      1.0       0      67   \n",
      "15     6    Male      0.0  1.000000  0.000000      1.0       0      68   \n",
      "16     7    Male      0.5  0.970588  0.029412      0.5       1      66   \n",
      "17     8    Male      0.0  1.000000  0.000000      1.0       0      69   \n",
      "18     9    Male      0.0  0.983871  0.016129      1.0       0      61   \n",
      "19    10    Male      0.0  1.000000  0.000000      1.0       0      69   \n",
      "\n",
      "    SVM_FP  SVM_FN  ...  ANN_FP  ANN_FN    NB_TPR    NB_TNR    NB_FPR  \\\n",
      "0        0       2  ...       0       2  0.500000  0.924051  0.075949   \n",
      "1        0       1  ...       0       1  1.000000  0.912500  0.087500   \n",
      "2        0       2  ...       0       2  0.000000  0.924051  0.075949   \n",
      "3        0       2  ...       0       2  1.000000  0.886076  0.113924   \n",
      "4        0       2  ...       0       2  0.500000  0.898734  0.101266   \n",
      "5        0       2  ...       0       2  0.000000  0.898734  0.101266   \n",
      "6        0       3  ...       0       3  0.000000  0.897436  0.102564   \n",
      "7        0       4  ...       0       4  0.000000  0.948052  0.051948   \n",
      "8        0       2  ...       0       2  0.500000  0.871795  0.128205   \n",
      "9        0       1  ...       0       1  1.000000  0.911392  0.088608   \n",
      "10       0       5  ...       0       5  0.400000  0.939394  0.060606   \n",
      "11       0       6  ...       1       1  1.000000  0.815385  0.184615   \n",
      "12       0       2  ...       0       1  1.000000  0.818182  0.181818   \n",
      "13       1       4  ...       2       3  0.750000  0.606061  0.393939   \n",
      "14       0       3  ...       0       2  0.333333  0.940299  0.059701   \n",
      "15       0       2  ...       0       2  1.000000  0.867647  0.132353   \n",
      "16       2       1  ...       1       1  0.500000  0.897059  0.102941   \n",
      "17       0       1  ...       0       0  1.000000  0.913043  0.086957   \n",
      "18       1       8  ...       1       6  0.500000  0.919355  0.080645   \n",
      "19       0       1  ...       1       1  1.000000  0.898551  0.101449   \n",
      "\n",
      "      NB_FNR  NB_TP  NB_TN  NB_FP  NB_FN  \n",
      "0   0.500000      1     73      6      1  \n",
      "1   0.000000      1     73      7      0  \n",
      "2   1.000000      0     73      6      2  \n",
      "3   0.000000      2     70      9      0  \n",
      "4   0.500000      1     71      8      1  \n",
      "5   1.000000      0     71      8      2  \n",
      "6   1.000000      0     70      8      3  \n",
      "7   1.000000      0     73      4      4  \n",
      "8   0.500000      1     68     10      1  \n",
      "9   0.000000      1     72      7      0  \n",
      "10  0.600000      2     62      4      3  \n",
      "11  0.000000      6     53     12      0  \n",
      "12  0.000000      4     54     12      0  \n",
      "13  0.250000      3     40     26      1  \n",
      "14  0.666667      1     63      4      2  \n",
      "15  0.000000      2     59      9      0  \n",
      "16  0.500000      1     61      7      1  \n",
      "17  0.000000      1     63      6      0  \n",
      "18  0.500000      4     57      5      4  \n",
      "19  0.000000      1     62      7      0  \n",
      "\n",
      "[20 rows x 58 columns]\n"
     ]
    },
    {
     "name": "stderr",
     "output_type": "stream",
     "text": [
      "/home/morning/miniconda3/envs/f2ml/lib/python3.13/site-packages/sklearn/neural_network/_multilayer_perceptron.py:691: ConvergenceWarning: Stochastic Optimizer: Maximum iterations (200) reached and the optimization hasn't converged yet.\n",
      "  warnings.warn(\n"
     ]
    }
   ],
   "source": [
    "print(\"Starting experiments for Female(0)\")\n",
    "fl.run_experiment(kf, models, X_scaled_Gender_0, y_Gender_0, 'Female', results_list)\n",
    "\n",
    "print(\"Starting experiments for Male(1)\")\n",
    "fl.run_experiment(kf, models, X_scaled_Gender_1, y_Gender_1, 'Male', results_list)\n",
    "\n",
    "final_results_df = pd.concat(results_list, ignore_index=True)\n",
    "print(final_results_df)"
   ]
  },
  {
   "cell_type": "code",
   "execution_count": 36,
   "metadata": {},
   "outputs": [],
   "source": [
    "results_df = pd.concat(results_list, ignore_index=True)"
   ]
  },
  {
   "cell_type": "code",
   "execution_count": 37,
   "metadata": {},
   "outputs": [],
   "source": [
    "result_path = './results/k102_result.xlsx'\n",
    "results_df.to_excel(result_path, index=False)"
   ]
  },
  {
   "cell_type": "code",
   "execution_count": 38,
   "metadata": {},
   "outputs": [
    {
     "data": {
      "text/html": [
       "<div>\n",
       "<style scoped>\n",
       "    .dataframe tbody tr th:only-of-type {\n",
       "        vertical-align: middle;\n",
       "    }\n",
       "\n",
       "    .dataframe tbody tr th {\n",
       "        vertical-align: top;\n",
       "    }\n",
       "\n",
       "    .dataframe thead th {\n",
       "        text-align: right;\n",
       "    }\n",
       "</style>\n",
       "<table border=\"1\" class=\"dataframe\">\n",
       "  <thead>\n",
       "    <tr style=\"text-align: right;\">\n",
       "      <th></th>\n",
       "      <th>Fold</th>\n",
       "      <th>Group</th>\n",
       "      <th>SVM_TPR</th>\n",
       "      <th>SVM_TNR</th>\n",
       "      <th>SVM_FPR</th>\n",
       "      <th>SVM_FNR</th>\n",
       "      <th>SVM_TP</th>\n",
       "      <th>SVM_TN</th>\n",
       "      <th>SVM_FP</th>\n",
       "      <th>SVM_FN</th>\n",
       "      <th>...</th>\n",
       "      <th>ANN_FP</th>\n",
       "      <th>ANN_FN</th>\n",
       "      <th>NB_TPR</th>\n",
       "      <th>NB_TNR</th>\n",
       "      <th>NB_FPR</th>\n",
       "      <th>NB_FNR</th>\n",
       "      <th>NB_TP</th>\n",
       "      <th>NB_TN</th>\n",
       "      <th>NB_FP</th>\n",
       "      <th>NB_FN</th>\n",
       "    </tr>\n",
       "  </thead>\n",
       "  <tbody>\n",
       "    <tr>\n",
       "      <th>0</th>\n",
       "      <td>1</td>\n",
       "      <td>Female</td>\n",
       "      <td>0.0</td>\n",
       "      <td>1.0</td>\n",
       "      <td>0.0</td>\n",
       "      <td>1.0</td>\n",
       "      <td>0</td>\n",
       "      <td>79</td>\n",
       "      <td>0</td>\n",
       "      <td>2</td>\n",
       "      <td>...</td>\n",
       "      <td>0</td>\n",
       "      <td>2</td>\n",
       "      <td>0.5</td>\n",
       "      <td>0.924051</td>\n",
       "      <td>0.075949</td>\n",
       "      <td>0.5</td>\n",
       "      <td>1</td>\n",
       "      <td>73</td>\n",
       "      <td>6</td>\n",
       "      <td>1</td>\n",
       "    </tr>\n",
       "    <tr>\n",
       "      <th>1</th>\n",
       "      <td>2</td>\n",
       "      <td>Female</td>\n",
       "      <td>0.0</td>\n",
       "      <td>1.0</td>\n",
       "      <td>0.0</td>\n",
       "      <td>1.0</td>\n",
       "      <td>0</td>\n",
       "      <td>80</td>\n",
       "      <td>0</td>\n",
       "      <td>1</td>\n",
       "      <td>...</td>\n",
       "      <td>0</td>\n",
       "      <td>1</td>\n",
       "      <td>1.0</td>\n",
       "      <td>0.912500</td>\n",
       "      <td>0.087500</td>\n",
       "      <td>0.0</td>\n",
       "      <td>1</td>\n",
       "      <td>73</td>\n",
       "      <td>7</td>\n",
       "      <td>0</td>\n",
       "    </tr>\n",
       "    <tr>\n",
       "      <th>2</th>\n",
       "      <td>3</td>\n",
       "      <td>Female</td>\n",
       "      <td>0.0</td>\n",
       "      <td>1.0</td>\n",
       "      <td>0.0</td>\n",
       "      <td>1.0</td>\n",
       "      <td>0</td>\n",
       "      <td>79</td>\n",
       "      <td>0</td>\n",
       "      <td>2</td>\n",
       "      <td>...</td>\n",
       "      <td>0</td>\n",
       "      <td>2</td>\n",
       "      <td>0.0</td>\n",
       "      <td>0.924051</td>\n",
       "      <td>0.075949</td>\n",
       "      <td>1.0</td>\n",
       "      <td>0</td>\n",
       "      <td>73</td>\n",
       "      <td>6</td>\n",
       "      <td>2</td>\n",
       "    </tr>\n",
       "    <tr>\n",
       "      <th>3</th>\n",
       "      <td>4</td>\n",
       "      <td>Female</td>\n",
       "      <td>0.0</td>\n",
       "      <td>1.0</td>\n",
       "      <td>0.0</td>\n",
       "      <td>1.0</td>\n",
       "      <td>0</td>\n",
       "      <td>79</td>\n",
       "      <td>0</td>\n",
       "      <td>2</td>\n",
       "      <td>...</td>\n",
       "      <td>0</td>\n",
       "      <td>2</td>\n",
       "      <td>1.0</td>\n",
       "      <td>0.886076</td>\n",
       "      <td>0.113924</td>\n",
       "      <td>0.0</td>\n",
       "      <td>2</td>\n",
       "      <td>70</td>\n",
       "      <td>9</td>\n",
       "      <td>0</td>\n",
       "    </tr>\n",
       "    <tr>\n",
       "      <th>4</th>\n",
       "      <td>5</td>\n",
       "      <td>Female</td>\n",
       "      <td>0.0</td>\n",
       "      <td>1.0</td>\n",
       "      <td>0.0</td>\n",
       "      <td>1.0</td>\n",
       "      <td>0</td>\n",
       "      <td>79</td>\n",
       "      <td>0</td>\n",
       "      <td>2</td>\n",
       "      <td>...</td>\n",
       "      <td>0</td>\n",
       "      <td>2</td>\n",
       "      <td>0.5</td>\n",
       "      <td>0.898734</td>\n",
       "      <td>0.101266</td>\n",
       "      <td>0.5</td>\n",
       "      <td>1</td>\n",
       "      <td>71</td>\n",
       "      <td>8</td>\n",
       "      <td>1</td>\n",
       "    </tr>\n",
       "  </tbody>\n",
       "</table>\n",
       "<p>5 rows × 58 columns</p>\n",
       "</div>"
      ],
      "text/plain": [
       "   Fold   Group  SVM_TPR  SVM_TNR  SVM_FPR  SVM_FNR  SVM_TP  SVM_TN  SVM_FP  \\\n",
       "0     1  Female      0.0      1.0      0.0      1.0       0      79       0   \n",
       "1     2  Female      0.0      1.0      0.0      1.0       0      80       0   \n",
       "2     3  Female      0.0      1.0      0.0      1.0       0      79       0   \n",
       "3     4  Female      0.0      1.0      0.0      1.0       0      79       0   \n",
       "4     5  Female      0.0      1.0      0.0      1.0       0      79       0   \n",
       "\n",
       "   SVM_FN  ...  ANN_FP  ANN_FN  NB_TPR    NB_TNR    NB_FPR  NB_FNR  NB_TP  \\\n",
       "0       2  ...       0       2     0.5  0.924051  0.075949     0.5      1   \n",
       "1       1  ...       0       1     1.0  0.912500  0.087500     0.0      1   \n",
       "2       2  ...       0       2     0.0  0.924051  0.075949     1.0      0   \n",
       "3       2  ...       0       2     1.0  0.886076  0.113924     0.0      2   \n",
       "4       2  ...       0       2     0.5  0.898734  0.101266     0.5      1   \n",
       "\n",
       "   NB_TN  NB_FP  NB_FN  \n",
       "0     73      6      1  \n",
       "1     73      7      0  \n",
       "2     73      6      2  \n",
       "3     70      9      0  \n",
       "4     71      8      1  \n",
       "\n",
       "[5 rows x 58 columns]"
      ]
     },
     "execution_count": 38,
     "metadata": {},
     "output_type": "execute_result"
    }
   ],
   "source": [
    "df = pd.read_excel(result_path)\n",
    "df.head()"
   ]
  },
  {
   "cell_type": "code",
   "execution_count": 39,
   "metadata": {},
   "outputs": [
    {
     "name": "stdout",
     "output_type": "stream",
     "text": [
      "SVM -TPR: MannwhitneyuResult(statistic=np.float64(40.0), pvalue=np.float64(0.16748875557485465))\n",
      "SVM - FPR: MannwhitneyuResult(statistic=np.float64(35.0), pvalue=np.float64(0.07787247147704081))\n",
      "SVM - FN/FP: MannwhitneyuResult(statistic=np.float64(59.5), pvalue=np.float64(0.480176889906077))\n",
      "DT -TPR: MannwhitneyuResult(statistic=np.float64(25.5), pvalue=np.float64(0.03227416338303555))\n",
      "DT - FPR: TtestResult(statistic=np.float64(-2.976316413876007), pvalue=np.float64(0.008091279748588105), df=np.float64(18.0))\n",
      "DT - FN/FP: MannwhitneyuResult(statistic=np.float64(57.0), pvalue=np.float64(0.6215988993579933))\n",
      "RF -TPR: MannwhitneyuResult(statistic=np.float64(30.5), pvalue=np.float64(0.07592963414955697))\n",
      "RF - FPR: MannwhitneyuResult(statistic=np.float64(35.0), pvalue=np.float64(0.07787247147704081))\n",
      "RF - FN/FP: MannwhitneyuResult(statistic=np.float64(70.0), pvalue=np.float64(0.1265494644605128))\n",
      "LR -TPR: MannwhitneyuResult(statistic=np.float64(36.5), pvalue=np.float64(0.19593793942588678))\n",
      "LR - FPR: MannwhitneyuResult(statistic=np.float64(38.5), pvalue=np.float64(0.23426628444669173))\n",
      "LR - FN/FP: TtestResult(statistic=np.float64(-0.649722122789317), pvalue=np.float64(0.5269015573031348), df=np.float64(13.340504129813125))\n",
      "KNN -TPR: MannwhitneyuResult(statistic=np.float64(15.0), pvalue=np.float64(0.0021892160896885777))\n",
      "KNN - FPR: MannwhitneyuResult(statistic=np.float64(25.0), pvalue=np.float64(0.014931389578798809))\n",
      "KNN - FN/FP: MannwhitneyuResult(statistic=np.float64(67.5), pvalue=np.float64(0.18795895302205257))\n",
      "ANN -TPR: MannwhitneyuResult(statistic=np.float64(15.0), pvalue=np.float64(0.0022008598012522693))\n",
      "ANN - FPR: MannwhitneyuResult(statistic=np.float64(25.0), pvalue=np.float64(0.014931389578798809))\n",
      "ANN - FN/FP: MannwhitneyuResult(statistic=np.float64(79.0), pvalue=np.float64(0.025548059165754054))\n",
      "NB -TPR: MannwhitneyuResult(statistic=np.float64(31.5), pvalue=np.float64(0.15472892348537853))\n",
      "NB - FPR: MannwhitneyuResult(statistic=np.float64(37.0), pvalue=np.float64(0.34434119233838356))\n",
      "NB - FN/FP: MannwhitneyuResult(statistic=np.float64(57.5), pvalue=np.float64(0.5845876730705968))\n"
     ]
    }
   ],
   "source": [
    "label = 'Female'\n",
    "\n",
    "fl.perform_t_tests(df, 'SVM', label)\n",
    "fl.perform_t_tests(df, 'DT', label)\n",
    "fl.perform_t_tests(df, 'RF', label)\n",
    "fl.perform_t_tests(df, 'LR', label)\n",
    "fl.perform_t_tests(df, 'KNN', label)\n",
    "fl.perform_t_tests(df, 'ANN', label)\n",
    "fl.perform_t_tests(df, 'NB', label)\n"
   ]
  }
 ],
 "metadata": {
  "kernelspec": {
   "display_name": "f2ml",
   "language": "python",
   "name": "python3"
  },
  "language_info": {
   "codemirror_mode": {
    "name": "ipython",
    "version": 3
   },
   "file_extension": ".py",
   "mimetype": "text/x-python",
   "name": "python",
   "nbconvert_exporter": "python",
   "pygments_lexer": "ipython3",
   "version": "3.13.1"
  }
 },
 "nbformat": 4,
 "nbformat_minor": 2
}
