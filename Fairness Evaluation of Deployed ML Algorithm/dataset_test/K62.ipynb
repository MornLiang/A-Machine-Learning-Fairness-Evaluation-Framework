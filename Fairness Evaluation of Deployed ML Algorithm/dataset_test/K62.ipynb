{
 "cells": [
  {
   "cell_type": "code",
   "execution_count": 3,
   "metadata": {},
   "outputs": [
    {
     "name": "stdout",
     "output_type": "stream",
     "text": [
      "Warning: Looks like you're using an outdated `kagglehub` version (installed: 0.3.5), please consider upgrading to the latest version (0.3.6).\n",
      "Path to dataset files: /home/morning/.cache/kagglehub/datasets/cherngs/heart-disease-cleveland-uci/versions/1\n"
     ]
    }
   ],
   "source": [
    "import kagglehub\n",
    "\n",
    "# Download latest version\n",
    "path = kagglehub.dataset_download(\"cherngs/heart-disease-cleveland-uci\")\n",
    "\n",
    "print(\"Path to dataset files:\", path)"
   ]
  },
  {
   "cell_type": "code",
   "execution_count": 4,
   "metadata": {},
   "outputs": [
    {
     "data": {
      "text/plain": [
       "['heart_cleveland_upload.csv']"
      ]
     },
     "execution_count": 4,
     "metadata": {},
     "output_type": "execute_result"
    }
   ],
   "source": [
    "import os\n",
    "os.listdir(path)"
   ]
  },
  {
   "cell_type": "code",
   "execution_count": 5,
   "metadata": {},
   "outputs": [],
   "source": [
    "import pandas as pd\n",
    "import fairtl_statisticaltest as fl\n",
    "from sklearn.feature_selection import VarianceThreshold\n",
    "from sklearn.preprocessing import StandardScaler\n",
    "from sklearn.model_selection import KFold\n",
    "from sklearn.preprocessing import OrdinalEncoder, LabelEncoder\n",
    "from sklearn.preprocessing import OneHotEncoder"
   ]
  },
  {
   "cell_type": "code",
   "execution_count": 6,
   "metadata": {},
   "outputs": [],
   "source": [
    "df = pd.read_csv(f\"{path}/heart_cleveland_upload.csv\")"
   ]
  },
  {
   "cell_type": "code",
   "execution_count": 7,
   "metadata": {},
   "outputs": [
    {
     "data": {
      "text/plain": [
       "(297, 14)"
      ]
     },
     "execution_count": 7,
     "metadata": {},
     "output_type": "execute_result"
    }
   ],
   "source": [
    "df.shape"
   ]
  },
  {
   "cell_type": "code",
   "execution_count": 8,
   "metadata": {},
   "outputs": [],
   "source": [
    "# df = pd.read_csv(f'{path}/heart_cleveland_upload.csv')\n",
    "# df.head()"
   ]
  },
  {
   "cell_type": "code",
   "execution_count": 9,
   "metadata": {},
   "outputs": [
    {
     "name": "stdout",
     "output_type": "stream",
     "text": [
      "<class 'pandas.core.frame.DataFrame'>\n",
      "RangeIndex: 297 entries, 0 to 296\n",
      "Data columns (total 14 columns):\n",
      " #   Column     Non-Null Count  Dtype  \n",
      "---  ------     --------------  -----  \n",
      " 0   age        297 non-null    int64  \n",
      " 1   sex        297 non-null    int64  \n",
      " 2   cp         297 non-null    int64  \n",
      " 3   trestbps   297 non-null    int64  \n",
      " 4   chol       297 non-null    int64  \n",
      " 5   fbs        297 non-null    int64  \n",
      " 6   restecg    297 non-null    int64  \n",
      " 7   thalach    297 non-null    int64  \n",
      " 8   exang      297 non-null    int64  \n",
      " 9   oldpeak    297 non-null    float64\n",
      " 10  slope      297 non-null    int64  \n",
      " 11  ca         297 non-null    int64  \n",
      " 12  thal       297 non-null    int64  \n",
      " 13  condition  297 non-null    int64  \n",
      "dtypes: float64(1), int64(13)\n",
      "memory usage: 32.6 KB\n"
     ]
    }
   ],
   "source": [
    "df.info()"
   ]
  },
  {
   "cell_type": "code",
   "execution_count": 10,
   "metadata": {},
   "outputs": [
    {
     "data": {
      "text/plain": [
       "(297, 14)"
      ]
     },
     "execution_count": 10,
     "metadata": {},
     "output_type": "execute_result"
    }
   ],
   "source": [
    "df.shape"
   ]
  },
  {
   "cell_type": "code",
   "execution_count": 11,
   "metadata": {},
   "outputs": [
    {
     "data": {
      "text/plain": [
       "array([0, 1])"
      ]
     },
     "execution_count": 11,
     "metadata": {},
     "output_type": "execute_result"
    }
   ],
   "source": [
    "df['condition'].unique()"
   ]
  },
  {
   "cell_type": "code",
   "execution_count": 12,
   "metadata": {},
   "outputs": [
    {
     "data": {
      "text/plain": [
       "array([1, 0])"
      ]
     },
     "execution_count": 12,
     "metadata": {},
     "output_type": "execute_result"
    }
   ],
   "source": [
    "df['sex'].unique()"
   ]
  },
  {
   "cell_type": "code",
   "execution_count": 13,
   "metadata": {},
   "outputs": [],
   "source": [
    "y = df['condition'].values\n",
    "X = df.drop('condition', axis=1)"
   ]
  },
  {
   "cell_type": "code",
   "execution_count": 14,
   "metadata": {},
   "outputs": [
    {
     "name": "stdout",
     "output_type": "stream",
     "text": [
      "(297, 13)\n",
      "(297, 13)\n"
     ]
    }
   ],
   "source": [
    "print(X.shape)\n",
    "selector = VarianceThreshold(threshold=0.1)\n",
    "X = selector.fit_transform(X)\n",
    "print(X.shape)"
   ]
  },
  {
   "cell_type": "code",
   "execution_count": 15,
   "metadata": {},
   "outputs": [
    {
     "name": "stdout",
     "output_type": "stream",
     "text": [
      "Female:  96\n",
      "Male:  201\n"
     ]
    }
   ],
   "source": [
    "# build mask\n",
    "gender_0_mask = df['sex'] == 0\n",
    "gender_1_mask = df['sex'] == 1\n",
    "\n",
    "count_gender_0 = gender_0_mask.sum()\n",
    "count_gender_1 = gender_1_mask.sum()\n",
    "\n",
    "print(\"Female: \", count_gender_0)\n",
    "print(\"Male: \", count_gender_1)\n",
    "\n",
    "scaler = StandardScaler()\n",
    "X_scaled = scaler.fit_transform(X)\n",
    "\n",
    "X_scaled_Gender_0 = X_scaled[gender_0_mask]\n",
    "X_scaled_Gender_1 = X_scaled[gender_1_mask]\n",
    "y_Gender_0 = y[gender_0_mask]\n",
    "y_Gender_1 = y[gender_1_mask]"
   ]
  },
  {
   "cell_type": "code",
   "execution_count": 16,
   "metadata": {},
   "outputs": [],
   "source": [
    "seed = 42\n",
    "models = fl.build_models(seed)\n",
    "\n",
    "results_list = []\n",
    "\n",
    "kf = KFold(n_splits=5, shuffle=True, random_state=seed)"
   ]
  },
  {
   "cell_type": "code",
   "execution_count": 17,
   "metadata": {},
   "outputs": [
    {
     "name": "stdout",
     "output_type": "stream",
     "text": [
      "Starting experiments for Female(0)\n",
      "Processing fold 1 for group Female\n",
      "Training and evaluating model: SVM\n",
      "Training and evaluating model: LR\n",
      "Training and evaluating model: KNN\n",
      "Training and evaluating model: RF\n",
      "Training and evaluating model: DT\n",
      "Training and evaluating model: ANN\n",
      "Training and evaluating model: NB\n",
      "Processing fold 2 for group Female\n",
      "Training and evaluating model: SVM\n",
      "Training and evaluating model: LR\n",
      "Training and evaluating model: KNN\n",
      "Training and evaluating model: RF\n"
     ]
    },
    {
     "name": "stderr",
     "output_type": "stream",
     "text": [
      "/home/morning/miniconda3/envs/f2ml/lib/python3.13/site-packages/sklearn/neural_network/_multilayer_perceptron.py:691: ConvergenceWarning: Stochastic Optimizer: Maximum iterations (200) reached and the optimization hasn't converged yet.\n",
      "  warnings.warn(\n"
     ]
    },
    {
     "name": "stdout",
     "output_type": "stream",
     "text": [
      "Training and evaluating model: DT\n",
      "Training and evaluating model: ANN\n",
      "Training and evaluating model: NB\n",
      "Processing fold 3 for group Female\n",
      "Training and evaluating model: SVM\n",
      "Training and evaluating model: LR\n",
      "Training and evaluating model: KNN\n",
      "Training and evaluating model: RF\n"
     ]
    },
    {
     "name": "stderr",
     "output_type": "stream",
     "text": [
      "/home/morning/miniconda3/envs/f2ml/lib/python3.13/site-packages/sklearn/neural_network/_multilayer_perceptron.py:691: ConvergenceWarning: Stochastic Optimizer: Maximum iterations (200) reached and the optimization hasn't converged yet.\n",
      "  warnings.warn(\n"
     ]
    },
    {
     "name": "stdout",
     "output_type": "stream",
     "text": [
      "Training and evaluating model: DT\n",
      "Training and evaluating model: ANN\n",
      "Training and evaluating model: NB\n",
      "Processing fold 4 for group Female\n",
      "Training and evaluating model: SVM\n",
      "Training and evaluating model: LR\n",
      "Training and evaluating model: KNN\n",
      "Training and evaluating model: RF\n"
     ]
    },
    {
     "name": "stderr",
     "output_type": "stream",
     "text": [
      "/home/morning/miniconda3/envs/f2ml/lib/python3.13/site-packages/sklearn/neural_network/_multilayer_perceptron.py:691: ConvergenceWarning: Stochastic Optimizer: Maximum iterations (200) reached and the optimization hasn't converged yet.\n",
      "  warnings.warn(\n"
     ]
    },
    {
     "name": "stdout",
     "output_type": "stream",
     "text": [
      "Training and evaluating model: DT\n",
      "Training and evaluating model: ANN\n",
      "Training and evaluating model: NB\n",
      "Processing fold 5 for group Female\n",
      "Training and evaluating model: SVM\n",
      "Training and evaluating model: LR\n",
      "Training and evaluating model: KNN\n",
      "Training and evaluating model: RF\n"
     ]
    },
    {
     "name": "stderr",
     "output_type": "stream",
     "text": [
      "/home/morning/miniconda3/envs/f2ml/lib/python3.13/site-packages/sklearn/neural_network/_multilayer_perceptron.py:691: ConvergenceWarning: Stochastic Optimizer: Maximum iterations (200) reached and the optimization hasn't converged yet.\n",
      "  warnings.warn(\n"
     ]
    },
    {
     "name": "stdout",
     "output_type": "stream",
     "text": [
      "Training and evaluating model: DT\n",
      "Training and evaluating model: ANN\n",
      "Training and evaluating model: NB\n",
      "Starting experiments for Male(1)\n",
      "Processing fold 1 for group Male\n",
      "Training and evaluating model: SVM\n",
      "Training and evaluating model: LR\n",
      "Training and evaluating model: KNN\n",
      "Training and evaluating model: RF\n"
     ]
    },
    {
     "name": "stderr",
     "output_type": "stream",
     "text": [
      "/home/morning/miniconda3/envs/f2ml/lib/python3.13/site-packages/sklearn/neural_network/_multilayer_perceptron.py:691: ConvergenceWarning: Stochastic Optimizer: Maximum iterations (200) reached and the optimization hasn't converged yet.\n",
      "  warnings.warn(\n"
     ]
    },
    {
     "name": "stdout",
     "output_type": "stream",
     "text": [
      "Training and evaluating model: DT\n",
      "Training and evaluating model: ANN\n",
      "Training and evaluating model: NB\n",
      "Processing fold 2 for group Male\n",
      "Training and evaluating model: SVM\n",
      "Training and evaluating model: LR\n",
      "Training and evaluating model: KNN\n",
      "Training and evaluating model: RF\n"
     ]
    },
    {
     "name": "stderr",
     "output_type": "stream",
     "text": [
      "/home/morning/miniconda3/envs/f2ml/lib/python3.13/site-packages/sklearn/neural_network/_multilayer_perceptron.py:691: ConvergenceWarning: Stochastic Optimizer: Maximum iterations (200) reached and the optimization hasn't converged yet.\n",
      "  warnings.warn(\n"
     ]
    },
    {
     "name": "stdout",
     "output_type": "stream",
     "text": [
      "Training and evaluating model: DT\n",
      "Training and evaluating model: ANN\n",
      "Training and evaluating model: NB\n",
      "Processing fold 3 for group Male\n",
      "Training and evaluating model: SVM\n",
      "Training and evaluating model: LR\n",
      "Training and evaluating model: KNN\n",
      "Training and evaluating model: RF\n"
     ]
    },
    {
     "name": "stderr",
     "output_type": "stream",
     "text": [
      "/home/morning/miniconda3/envs/f2ml/lib/python3.13/site-packages/sklearn/neural_network/_multilayer_perceptron.py:691: ConvergenceWarning: Stochastic Optimizer: Maximum iterations (200) reached and the optimization hasn't converged yet.\n",
      "  warnings.warn(\n"
     ]
    },
    {
     "name": "stdout",
     "output_type": "stream",
     "text": [
      "Training and evaluating model: DT\n",
      "Training and evaluating model: ANN\n",
      "Training and evaluating model: NB\n",
      "Processing fold 4 for group Male\n",
      "Training and evaluating model: SVM\n",
      "Training and evaluating model: LR\n",
      "Training and evaluating model: KNN\n",
      "Training and evaluating model: RF\n"
     ]
    },
    {
     "name": "stderr",
     "output_type": "stream",
     "text": [
      "/home/morning/miniconda3/envs/f2ml/lib/python3.13/site-packages/sklearn/neural_network/_multilayer_perceptron.py:691: ConvergenceWarning: Stochastic Optimizer: Maximum iterations (200) reached and the optimization hasn't converged yet.\n",
      "  warnings.warn(\n"
     ]
    },
    {
     "name": "stdout",
     "output_type": "stream",
     "text": [
      "Training and evaluating model: DT\n",
      "Training and evaluating model: ANN\n",
      "Training and evaluating model: NB\n",
      "Processing fold 5 for group Male\n",
      "Training and evaluating model: SVM\n",
      "Training and evaluating model: LR\n",
      "Training and evaluating model: KNN\n",
      "Training and evaluating model: RF\n"
     ]
    },
    {
     "name": "stderr",
     "output_type": "stream",
     "text": [
      "/home/morning/miniconda3/envs/f2ml/lib/python3.13/site-packages/sklearn/neural_network/_multilayer_perceptron.py:691: ConvergenceWarning: Stochastic Optimizer: Maximum iterations (200) reached and the optimization hasn't converged yet.\n",
      "  warnings.warn(\n"
     ]
    },
    {
     "name": "stdout",
     "output_type": "stream",
     "text": [
      "Training and evaluating model: DT\n",
      "Training and evaluating model: ANN\n",
      "Training and evaluating model: NB\n",
      "   Fold   Group   SVM_TPR   SVM_TNR   SVM_FPR   SVM_FNR  SVM_TP  SVM_TN  \\\n",
      "0     1  Female  0.666667  1.000000  0.000000  0.333333       4      14   \n",
      "1     2  Female  0.666667  1.000000  0.000000  0.333333       2      16   \n",
      "2     3  Female  0.500000  1.000000  0.000000  0.500000       3      13   \n",
      "3     4  Female  1.000000  0.923077  0.076923  0.000000       6      12   \n",
      "4     5  Female  0.750000  0.933333  0.066667  0.250000       3      14   \n",
      "5     1    Male  0.913043  0.777778  0.222222  0.086957      21      14   \n",
      "6     2    Male  0.875000  0.937500  0.062500  0.125000      21      15   \n",
      "7     3    Male  1.000000  0.680000  0.320000  0.000000      15      17   \n",
      "8     4    Male  0.750000  0.850000  0.150000  0.250000      15      17   \n",
      "9     5    Male  0.700000  0.400000  0.600000  0.300000      21       4   \n",
      "\n",
      "   SVM_FP  SVM_FN  ...  ANN_FP  ANN_FN    NB_TPR    NB_TNR    NB_FPR  \\\n",
      "0       0       2  ...       1       2  0.833333  0.928571  0.071429   \n",
      "1       0       1  ...       1       1  0.666667  1.000000  0.000000   \n",
      "2       0       3  ...       0       2  0.666667  0.923077  0.076923   \n",
      "3       1       0  ...       1       0  1.000000  0.923077  0.076923   \n",
      "4       1       1  ...       1       1  0.750000  0.933333  0.066667   \n",
      "5       4       2  ...       4       5  0.782609  0.777778  0.222222   \n",
      "6       1       3  ...       1       4  0.791667  1.000000  0.000000   \n",
      "7       8       0  ...       7       2  0.866667  0.840000  0.160000   \n",
      "8       3       5  ...       5       5  0.650000  0.850000  0.150000   \n",
      "9       6       9  ...       5       7  0.766667  0.500000  0.500000   \n",
      "\n",
      "     NB_FNR  NB_TP  NB_TN  NB_FP  NB_FN  \n",
      "0  0.166667      5     13      1      1  \n",
      "1  0.333333      2     16      0      1  \n",
      "2  0.333333      4     12      1      2  \n",
      "3  0.000000      6     12      1      0  \n",
      "4  0.250000      3     14      1      1  \n",
      "5  0.217391     18     14      4      5  \n",
      "6  0.208333     19     16      0      5  \n",
      "7  0.133333     13     21      4      2  \n",
      "8  0.350000     13     17      3      7  \n",
      "9  0.233333     23      5      5      7  \n",
      "\n",
      "[10 rows x 58 columns]\n"
     ]
    },
    {
     "name": "stderr",
     "output_type": "stream",
     "text": [
      "/home/morning/miniconda3/envs/f2ml/lib/python3.13/site-packages/sklearn/neural_network/_multilayer_perceptron.py:691: ConvergenceWarning: Stochastic Optimizer: Maximum iterations (200) reached and the optimization hasn't converged yet.\n",
      "  warnings.warn(\n"
     ]
    }
   ],
   "source": [
    "print(\"Starting experiments for Female(0)\")\n",
    "fl.run_experiment(kf, models, X_scaled_Gender_0, y_Gender_0, 'Female', results_list)\n",
    "\n",
    "print(\"Starting experiments for Male(1)\")\n",
    "fl.run_experiment(kf, models, X_scaled_Gender_1, y_Gender_1, 'Male', results_list)\n",
    "\n",
    "final_results_df = pd.concat(results_list, ignore_index=True)\n",
    "print(final_results_df)"
   ]
  },
  {
   "cell_type": "code",
   "execution_count": 18,
   "metadata": {},
   "outputs": [],
   "source": [
    "results_df = pd.concat(results_list, ignore_index=True)"
   ]
  },
  {
   "cell_type": "code",
   "execution_count": 19,
   "metadata": {},
   "outputs": [],
   "source": [
    "result_path = './results/K62_result.xlsx'\n",
    "results_df.to_excel(result_path, index=False)"
   ]
  },
  {
   "cell_type": "code",
   "execution_count": 20,
   "metadata": {},
   "outputs": [
    {
     "data": {
      "text/html": [
       "<div>\n",
       "<style scoped>\n",
       "    .dataframe tbody tr th:only-of-type {\n",
       "        vertical-align: middle;\n",
       "    }\n",
       "\n",
       "    .dataframe tbody tr th {\n",
       "        vertical-align: top;\n",
       "    }\n",
       "\n",
       "    .dataframe thead th {\n",
       "        text-align: right;\n",
       "    }\n",
       "</style>\n",
       "<table border=\"1\" class=\"dataframe\">\n",
       "  <thead>\n",
       "    <tr style=\"text-align: right;\">\n",
       "      <th></th>\n",
       "      <th>Fold</th>\n",
       "      <th>Group</th>\n",
       "      <th>SVM_TPR</th>\n",
       "      <th>SVM_TNR</th>\n",
       "      <th>SVM_FPR</th>\n",
       "      <th>SVM_FNR</th>\n",
       "      <th>SVM_TP</th>\n",
       "      <th>SVM_TN</th>\n",
       "      <th>SVM_FP</th>\n",
       "      <th>SVM_FN</th>\n",
       "      <th>...</th>\n",
       "      <th>ANN_FP</th>\n",
       "      <th>ANN_FN</th>\n",
       "      <th>NB_TPR</th>\n",
       "      <th>NB_TNR</th>\n",
       "      <th>NB_FPR</th>\n",
       "      <th>NB_FNR</th>\n",
       "      <th>NB_TP</th>\n",
       "      <th>NB_TN</th>\n",
       "      <th>NB_FP</th>\n",
       "      <th>NB_FN</th>\n",
       "    </tr>\n",
       "  </thead>\n",
       "  <tbody>\n",
       "    <tr>\n",
       "      <th>0</th>\n",
       "      <td>1</td>\n",
       "      <td>Female</td>\n",
       "      <td>0.666667</td>\n",
       "      <td>1.000000</td>\n",
       "      <td>0.000000</td>\n",
       "      <td>0.333333</td>\n",
       "      <td>4</td>\n",
       "      <td>14</td>\n",
       "      <td>0</td>\n",
       "      <td>2</td>\n",
       "      <td>...</td>\n",
       "      <td>1</td>\n",
       "      <td>2</td>\n",
       "      <td>0.833333</td>\n",
       "      <td>0.928571</td>\n",
       "      <td>0.071429</td>\n",
       "      <td>0.166667</td>\n",
       "      <td>5</td>\n",
       "      <td>13</td>\n",
       "      <td>1</td>\n",
       "      <td>1</td>\n",
       "    </tr>\n",
       "    <tr>\n",
       "      <th>1</th>\n",
       "      <td>2</td>\n",
       "      <td>Female</td>\n",
       "      <td>0.666667</td>\n",
       "      <td>1.000000</td>\n",
       "      <td>0.000000</td>\n",
       "      <td>0.333333</td>\n",
       "      <td>2</td>\n",
       "      <td>16</td>\n",
       "      <td>0</td>\n",
       "      <td>1</td>\n",
       "      <td>...</td>\n",
       "      <td>1</td>\n",
       "      <td>1</td>\n",
       "      <td>0.666667</td>\n",
       "      <td>1.000000</td>\n",
       "      <td>0.000000</td>\n",
       "      <td>0.333333</td>\n",
       "      <td>2</td>\n",
       "      <td>16</td>\n",
       "      <td>0</td>\n",
       "      <td>1</td>\n",
       "    </tr>\n",
       "    <tr>\n",
       "      <th>2</th>\n",
       "      <td>3</td>\n",
       "      <td>Female</td>\n",
       "      <td>0.500000</td>\n",
       "      <td>1.000000</td>\n",
       "      <td>0.000000</td>\n",
       "      <td>0.500000</td>\n",
       "      <td>3</td>\n",
       "      <td>13</td>\n",
       "      <td>0</td>\n",
       "      <td>3</td>\n",
       "      <td>...</td>\n",
       "      <td>0</td>\n",
       "      <td>2</td>\n",
       "      <td>0.666667</td>\n",
       "      <td>0.923077</td>\n",
       "      <td>0.076923</td>\n",
       "      <td>0.333333</td>\n",
       "      <td>4</td>\n",
       "      <td>12</td>\n",
       "      <td>1</td>\n",
       "      <td>2</td>\n",
       "    </tr>\n",
       "    <tr>\n",
       "      <th>3</th>\n",
       "      <td>4</td>\n",
       "      <td>Female</td>\n",
       "      <td>1.000000</td>\n",
       "      <td>0.923077</td>\n",
       "      <td>0.076923</td>\n",
       "      <td>0.000000</td>\n",
       "      <td>6</td>\n",
       "      <td>12</td>\n",
       "      <td>1</td>\n",
       "      <td>0</td>\n",
       "      <td>...</td>\n",
       "      <td>1</td>\n",
       "      <td>0</td>\n",
       "      <td>1.000000</td>\n",
       "      <td>0.923077</td>\n",
       "      <td>0.076923</td>\n",
       "      <td>0.000000</td>\n",
       "      <td>6</td>\n",
       "      <td>12</td>\n",
       "      <td>1</td>\n",
       "      <td>0</td>\n",
       "    </tr>\n",
       "    <tr>\n",
       "      <th>4</th>\n",
       "      <td>5</td>\n",
       "      <td>Female</td>\n",
       "      <td>0.750000</td>\n",
       "      <td>0.933333</td>\n",
       "      <td>0.066667</td>\n",
       "      <td>0.250000</td>\n",
       "      <td>3</td>\n",
       "      <td>14</td>\n",
       "      <td>1</td>\n",
       "      <td>1</td>\n",
       "      <td>...</td>\n",
       "      <td>1</td>\n",
       "      <td>1</td>\n",
       "      <td>0.750000</td>\n",
       "      <td>0.933333</td>\n",
       "      <td>0.066667</td>\n",
       "      <td>0.250000</td>\n",
       "      <td>3</td>\n",
       "      <td>14</td>\n",
       "      <td>1</td>\n",
       "      <td>1</td>\n",
       "    </tr>\n",
       "  </tbody>\n",
       "</table>\n",
       "<p>5 rows × 58 columns</p>\n",
       "</div>"
      ],
      "text/plain": [
       "   Fold   Group   SVM_TPR   SVM_TNR   SVM_FPR   SVM_FNR  SVM_TP  SVM_TN  \\\n",
       "0     1  Female  0.666667  1.000000  0.000000  0.333333       4      14   \n",
       "1     2  Female  0.666667  1.000000  0.000000  0.333333       2      16   \n",
       "2     3  Female  0.500000  1.000000  0.000000  0.500000       3      13   \n",
       "3     4  Female  1.000000  0.923077  0.076923  0.000000       6      12   \n",
       "4     5  Female  0.750000  0.933333  0.066667  0.250000       3      14   \n",
       "\n",
       "   SVM_FP  SVM_FN  ...  ANN_FP  ANN_FN    NB_TPR    NB_TNR    NB_FPR  \\\n",
       "0       0       2  ...       1       2  0.833333  0.928571  0.071429   \n",
       "1       0       1  ...       1       1  0.666667  1.000000  0.000000   \n",
       "2       0       3  ...       0       2  0.666667  0.923077  0.076923   \n",
       "3       1       0  ...       1       0  1.000000  0.923077  0.076923   \n",
       "4       1       1  ...       1       1  0.750000  0.933333  0.066667   \n",
       "\n",
       "     NB_FNR  NB_TP  NB_TN  NB_FP  NB_FN  \n",
       "0  0.166667      5     13      1      1  \n",
       "1  0.333333      2     16      0      1  \n",
       "2  0.333333      4     12      1      2  \n",
       "3  0.000000      6     12      1      0  \n",
       "4  0.250000      3     14      1      1  \n",
       "\n",
       "[5 rows x 58 columns]"
      ]
     },
     "execution_count": 20,
     "metadata": {},
     "output_type": "execute_result"
    }
   ],
   "source": [
    "df = pd.read_excel(result_path)\n",
    "df.head()"
   ]
  },
  {
   "cell_type": "code",
   "execution_count": 21,
   "metadata": {},
   "outputs": [
    {
     "name": "stdout",
     "output_type": "stream",
     "text": [
      "SVM -TPR: TtestResult(statistic=np.float64(-1.333285628114685), pvalue=np.float64(0.21915331619313877), df=np.float64(8.0))\n",
      "SVM - FPR: MannwhitneyuResult(statistic=np.float64(2.0), pvalue=np.float64(0.034453637039471276))\n",
      "SVM - FN/FP: TtestResult(statistic=np.float64(2.0579830215520585), pvalue=np.float64(0.10870095134441307), df=np.float64(4.0))\n",
      "DT -TPR: TtestResult(statistic=np.float64(-1.5585453391754216), pvalue=np.float64(0.1577213021962587), df=np.float64(8.0))\n",
      "DT - FPR: TtestResult(statistic=np.float64(-2.5232715282031384), pvalue=np.float64(0.03562678703623624), df=np.float64(8.0))\n",
      "DT - FN/FP: TtestResult(statistic=np.float64(0.5241658792186531), pvalue=np.float64(0.6143714515602013), df=np.float64(8.0))\n",
      "RF -TPR: TtestResult(statistic=np.float64(-1.6991505922219945), pvalue=np.float64(0.1277169505654678), df=np.float64(8.0))\n",
      "RF - FPR: MannwhitneyuResult(statistic=np.float64(2.0), pvalue=np.float64(0.03389485352468927))\n",
      "RF - FN/FP: TtestResult(statistic=np.float64(2.3590712982474793), pvalue=np.float64(0.07774164096748147), df=np.float64(4.0))\n",
      "LR -TPR: TtestResult(statistic=np.float64(-1.2228655628697194), pvalue=np.float64(0.2561796152854079), df=np.float64(8.0))\n",
      "LR - FPR: MannwhitneyuResult(statistic=np.float64(4.5), pvalue=np.float64(0.11496100096730097))\n",
      "LR - FN/FP: MannwhitneyuResult(statistic=np.float64(10.5), pvalue=np.float64(0.7525671000692723))\n",
      "KNN -TPR: TtestResult(statistic=np.float64(-1.7601266329481962), pvalue=np.float64(0.11642434677307874), df=np.float64(8.0))\n",
      "KNN - FPR: MannwhitneyuResult(statistic=np.float64(0.0), pvalue=np.float64(0.009700785068229596))\n",
      "KNN - FN/FP: TtestResult(statistic=np.float64(2.745625891813315), pvalue=np.float64(0.025228886320456737), df=np.float64(8.0))\n",
      "ANN -TPR: MannwhitneyuResult(statistic=np.float64(5.5), pvalue=np.float64(0.1679384709880123))\n",
      "ANN - FPR: MannwhitneyuResult(statistic=np.float64(3.5), pvalue=np.float64(0.07491289930444599))\n",
      "ANN - FN/FP: MannwhitneyuResult(statistic=np.float64(11.0), pvalue=np.float64(0.834035229790992))\n",
      "NB -TPR: TtestResult(statistic=np.float64(0.16527377650342223), pvalue=np.float64(0.8728285766162327), df=np.float64(8.0))\n",
      "NB - FPR: MannwhitneyuResult(statistic=np.float64(4.5), pvalue=np.float64(0.11496100096730097))\n",
      "NB - FN/FP: MannwhitneyuResult(statistic=np.float64(9.0), pvalue=np.float64(0.5296192990034517))\n"
     ]
    }
   ],
   "source": [
    "label = 'Female'\n",
    "\n",
    "fl.perform_t_tests(df, 'SVM', label)\n",
    "fl.perform_t_tests(df, 'DT', label)\n",
    "fl.perform_t_tests(df, 'RF', label)\n",
    "fl.perform_t_tests(df, 'LR', label)\n",
    "fl.perform_t_tests(df, 'KNN', label)\n",
    "fl.perform_t_tests(df, 'ANN', label)\n",
    "fl.perform_t_tests(df, 'NB', label)\n"
   ]
  }
 ],
 "metadata": {
  "kernelspec": {
   "display_name": "f2ml",
   "language": "python",
   "name": "python3"
  },
  "language_info": {
   "codemirror_mode": {
    "name": "ipython",
    "version": 3
   },
   "file_extension": ".py",
   "mimetype": "text/x-python",
   "name": "python",
   "nbconvert_exporter": "python",
   "pygments_lexer": "ipython3",
   "version": "3.13.0"
  }
 },
 "nbformat": 4,
 "nbformat_minor": 2
}
