{
 "cells": [
  {
   "cell_type": "code",
   "execution_count": 1,
   "metadata": {},
   "outputs": [
    {
     "name": "stderr",
     "output_type": "stream",
     "text": [
      "/home/morning/miniconda3/envs/f2ml/lib/python3.13/site-packages/tqdm/auto.py:21: TqdmWarning: IProgress not found. Please update jupyter and ipywidgets. See https://ipywidgets.readthedocs.io/en/stable/user_install.html\n",
      "  from .autonotebook import tqdm as notebook_tqdm\n"
     ]
    },
    {
     "name": "stdout",
     "output_type": "stream",
     "text": [
      "Warning: Looks like you're using an outdated `kagglehub` version (installed: 0.3.5), please consider upgrading to the latest version (0.3.6).\n",
      "Path to dataset files: /home/morning/.cache/kagglehub/datasets/homelysmile/datacad/versions/2\n"
     ]
    }
   ],
   "source": [
    "import kagglehub\n",
    "\n",
    "# Download latest version\n",
    "path = kagglehub.dataset_download(\"homelysmile/datacad\")\n",
    "\n",
    "print(\"Path to dataset files:\", path)"
   ]
  },
  {
   "cell_type": "code",
   "execution_count": 2,
   "metadata": {},
   "outputs": [
    {
     "data": {
      "text/plain": [
       "['DataClean-fullage.csv']"
      ]
     },
     "execution_count": 2,
     "metadata": {},
     "output_type": "execute_result"
    }
   ],
   "source": [
    "import os\n",
    "os.listdir(path)"
   ]
  },
  {
   "cell_type": "code",
   "execution_count": 3,
   "metadata": {},
   "outputs": [],
   "source": [
    "import pandas as pd\n",
    "import fairtl_statisticaltest as fl\n",
    "from sklearn.feature_selection import VarianceThreshold\n",
    "from sklearn.preprocessing import StandardScaler\n",
    "from sklearn.model_selection import KFold\n",
    "from sklearn.preprocessing import OrdinalEncoder, LabelEncoder\n",
    "from sklearn.preprocessing import OneHotEncoder"
   ]
  },
  {
   "cell_type": "code",
   "execution_count": 4,
   "metadata": {},
   "outputs": [
    {
     "data": {
      "text/html": [
       "<div>\n",
       "<style scoped>\n",
       "    .dataframe tbody tr th:only-of-type {\n",
       "        vertical-align: middle;\n",
       "    }\n",
       "\n",
       "    .dataframe tbody tr th {\n",
       "        vertical-align: top;\n",
       "    }\n",
       "\n",
       "    .dataframe thead th {\n",
       "        text-align: right;\n",
       "    }\n",
       "</style>\n",
       "<table border=\"1\" class=\"dataframe\">\n",
       "  <thead>\n",
       "    <tr style=\"text-align: right;\">\n",
       "      <th></th>\n",
       "      <th>sno</th>\n",
       "      <th>age</th>\n",
       "      <th>gender</th>\n",
       "      <th>type</th>\n",
       "      <th>day_icu</th>\n",
       "      <th>outcome</th>\n",
       "      <th>smoking</th>\n",
       "      <th>alcohol</th>\n",
       "      <th>diabetes</th>\n",
       "      <th>hypertension</th>\n",
       "      <th>...</th>\n",
       "      <th>chest_infection</th>\n",
       "      <th>count</th>\n",
       "      <th>haemoglobin</th>\n",
       "      <th>anaemia</th>\n",
       "      <th>severe_anaemia</th>\n",
       "      <th>glucose</th>\n",
       "      <th>group_age</th>\n",
       "      <th>group_plate</th>\n",
       "      <th>group_leuk</th>\n",
       "      <th>group_ejectf</th>\n",
       "    </tr>\n",
       "  </thead>\n",
       "  <tbody>\n",
       "    <tr>\n",
       "      <th>0</th>\n",
       "      <td>1</td>\n",
       "      <td>81</td>\n",
       "      <td>M</td>\n",
       "      <td>E</td>\n",
       "      <td>2</td>\n",
       "      <td>DISCHARGE</td>\n",
       "      <td>0</td>\n",
       "      <td>0</td>\n",
       "      <td>1</td>\n",
       "      <td>0</td>\n",
       "      <td>...</td>\n",
       "      <td>0</td>\n",
       "      <td>1</td>\n",
       "      <td>9.5</td>\n",
       "      <td>1</td>\n",
       "      <td>0</td>\n",
       "      <td>80.0</td>\n",
       "      <td>76-150</td>\n",
       "      <td>normal</td>\n",
       "      <td>high</td>\n",
       "      <td>d_normal</td>\n",
       "    </tr>\n",
       "    <tr>\n",
       "      <th>1</th>\n",
       "      <td>3</td>\n",
       "      <td>53</td>\n",
       "      <td>M</td>\n",
       "      <td>E</td>\n",
       "      <td>3</td>\n",
       "      <td>DISCHARGE</td>\n",
       "      <td>0</td>\n",
       "      <td>0</td>\n",
       "      <td>1</td>\n",
       "      <td>0</td>\n",
       "      <td>...</td>\n",
       "      <td>0</td>\n",
       "      <td>1</td>\n",
       "      <td>10.6</td>\n",
       "      <td>0</td>\n",
       "      <td>0</td>\n",
       "      <td>187.0</td>\n",
       "      <td>46-60</td>\n",
       "      <td>normal</td>\n",
       "      <td>high</td>\n",
       "      <td>d_normal</td>\n",
       "    </tr>\n",
       "    <tr>\n",
       "      <th>2</th>\n",
       "      <td>5</td>\n",
       "      <td>60</td>\n",
       "      <td>F</td>\n",
       "      <td>E</td>\n",
       "      <td>9</td>\n",
       "      <td>DISCHARGE</td>\n",
       "      <td>0</td>\n",
       "      <td>0</td>\n",
       "      <td>0</td>\n",
       "      <td>1</td>\n",
       "      <td>...</td>\n",
       "      <td>0</td>\n",
       "      <td>1</td>\n",
       "      <td>13.6</td>\n",
       "      <td>0</td>\n",
       "      <td>0</td>\n",
       "      <td>144.0</td>\n",
       "      <td>46-60</td>\n",
       "      <td>low</td>\n",
       "      <td>normal</td>\n",
       "      <td>d_normal</td>\n",
       "    </tr>\n",
       "    <tr>\n",
       "      <th>3</th>\n",
       "      <td>6</td>\n",
       "      <td>44</td>\n",
       "      <td>M</td>\n",
       "      <td>E</td>\n",
       "      <td>8</td>\n",
       "      <td>DISCHARGE</td>\n",
       "      <td>0</td>\n",
       "      <td>0</td>\n",
       "      <td>1</td>\n",
       "      <td>1</td>\n",
       "      <td>...</td>\n",
       "      <td>0</td>\n",
       "      <td>1</td>\n",
       "      <td>13.5</td>\n",
       "      <td>0</td>\n",
       "      <td>0</td>\n",
       "      <td>217.0</td>\n",
       "      <td>31-45</td>\n",
       "      <td>normal</td>\n",
       "      <td>high</td>\n",
       "      <td>d_normal</td>\n",
       "    </tr>\n",
       "    <tr>\n",
       "      <th>4</th>\n",
       "      <td>7</td>\n",
       "      <td>56</td>\n",
       "      <td>F</td>\n",
       "      <td>E</td>\n",
       "      <td>2</td>\n",
       "      <td>DISCHARGE</td>\n",
       "      <td>0</td>\n",
       "      <td>0</td>\n",
       "      <td>1</td>\n",
       "      <td>1</td>\n",
       "      <td>...</td>\n",
       "      <td>0</td>\n",
       "      <td>1</td>\n",
       "      <td>13.3</td>\n",
       "      <td>0</td>\n",
       "      <td>0</td>\n",
       "      <td>277.0</td>\n",
       "      <td>46-60</td>\n",
       "      <td>normal</td>\n",
       "      <td>high</td>\n",
       "      <td>d_normal</td>\n",
       "    </tr>\n",
       "  </tbody>\n",
       "</table>\n",
       "<p>5 rows × 53 columns</p>\n",
       "</div>"
      ],
      "text/plain": [
       "   sno  age gender type  day_icu    outcome  smoking  alcohol  diabetes  \\\n",
       "0    1   81      M    E        2  DISCHARGE        0        0         1   \n",
       "1    3   53      M    E        3  DISCHARGE        0        0         1   \n",
       "2    5   60      F    E        9  DISCHARGE        0        0         0   \n",
       "3    6   44      M    E        8  DISCHARGE        0        0         1   \n",
       "4    7   56      F    E        2  DISCHARGE        0        0         1   \n",
       "\n",
       "   hypertension  ...  chest_infection  count  haemoglobin  anaemia  \\\n",
       "0             0  ...                0      1          9.5        1   \n",
       "1             0  ...                0      1         10.6        0   \n",
       "2             1  ...                0      1         13.6        0   \n",
       "3             1  ...                0      1         13.5        0   \n",
       "4             1  ...                0      1         13.3        0   \n",
       "\n",
       "   severe_anaemia  glucose  group_age  group_plate  group_leuk  group_ejectf  \n",
       "0               0     80.0     76-150       normal        high      d_normal  \n",
       "1               0    187.0      46-60       normal        high      d_normal  \n",
       "2               0    144.0      46-60          low      normal      d_normal  \n",
       "3               0    217.0      31-45       normal        high      d_normal  \n",
       "4               0    277.0      46-60       normal        high      d_normal  \n",
       "\n",
       "[5 rows x 53 columns]"
      ]
     },
     "execution_count": 4,
     "metadata": {},
     "output_type": "execute_result"
    }
   ],
   "source": [
    "df = pd.read_csv(f'{path}/DataClean-fullage.csv')\n",
    "df.head()"
   ]
  },
  {
   "cell_type": "code",
   "execution_count": 5,
   "metadata": {},
   "outputs": [
    {
     "data": {
      "text/plain": [
       "(6611, 53)"
      ]
     },
     "execution_count": 5,
     "metadata": {},
     "output_type": "execute_result"
    }
   ],
   "source": [
    "df.shape"
   ]
  },
  {
   "cell_type": "code",
   "execution_count": 6,
   "metadata": {},
   "outputs": [
    {
     "name": "stdout",
     "output_type": "stream",
     "text": [
      "<class 'pandas.core.frame.DataFrame'>\n",
      "RangeIndex: 6611 entries, 0 to 6610\n",
      "Data columns (total 53 columns):\n",
      " #   Column                     Non-Null Count  Dtype  \n",
      "---  ------                     --------------  -----  \n",
      " 0   sno                        6611 non-null   int64  \n",
      " 1   age                        6611 non-null   int64  \n",
      " 2   gender                     6611 non-null   object \n",
      " 3   type                       6611 non-null   object \n",
      " 4   day_icu                    6611 non-null   int64  \n",
      " 5   outcome                    6611 non-null   object \n",
      " 6   smoking                    6611 non-null   int64  \n",
      " 7   alcohol                    6611 non-null   int64  \n",
      " 8   diabetes                   6611 non-null   int64  \n",
      " 9   hypertension               6611 non-null   int64  \n",
      " 10  cad                        6611 non-null   int64  \n",
      " 11  cardiomyopathy             6611 non-null   int64  \n",
      " 12  ckd                        6611 non-null   int64  \n",
      " 13  leuk_count                 6611 non-null   float64\n",
      " 14  platelets                  6611 non-null   float64\n",
      " 15  urea                       6611 non-null   float64\n",
      " 16  creatinine                 6611 non-null   float64\n",
      " 17  bnp                        6611 non-null   float64\n",
      " 18  raised_cardiac             6611 non-null   int64  \n",
      " 19  eject_fraction             6611 non-null   int64  \n",
      " 20  stable_angina              6611 non-null   int64  \n",
      " 21  acs                        6611 non-null   int64  \n",
      " 22  stemi                      6611 non-null   int64  \n",
      " 23  atypical_chest_pain        6611 non-null   int64  \n",
      " 24  heart_failure              6611 non-null   int64  \n",
      " 25  hfref                      6611 non-null   int64  \n",
      " 26  hfnef                      6611 non-null   int64  \n",
      " 27  valvular                   6611 non-null   int64  \n",
      " 28  chb                        6611 non-null   int64  \n",
      " 29  sick_sinus                 6611 non-null   int64  \n",
      " 30  acute_kidney               6611 non-null   int64  \n",
      " 31  cva_infract                6611 non-null   int64  \n",
      " 32  cva_bleed                  6611 non-null   int64  \n",
      " 33  atrial_fibril              6611 non-null   int64  \n",
      " 34  ventricular                6611 non-null   int64  \n",
      " 35  psvt                       6611 non-null   int64  \n",
      " 36  congenital                 6611 non-null   int64  \n",
      " 37  urinary_tract              6611 non-null   int64  \n",
      " 38  neuro_cardiogenic_syncope  6611 non-null   int64  \n",
      " 39  orthostatic                6611 non-null   int64  \n",
      " 40  infective_endocarditis     6611 non-null   int64  \n",
      " 41  deep_venous                6611 non-null   int64  \n",
      " 42  pulmonary_embolism         6611 non-null   int64  \n",
      " 43  chest_infection            6611 non-null   int64  \n",
      " 44  count                      6611 non-null   int64  \n",
      " 45  haemoglobin                6611 non-null   float64\n",
      " 46  anaemia                    6611 non-null   int64  \n",
      " 47  severe_anaemia             6611 non-null   int64  \n",
      " 48  glucose                    6611 non-null   float64\n",
      " 49  group_age                  6611 non-null   object \n",
      " 50  group_plate                6611 non-null   object \n",
      " 51  group_leuk                 6611 non-null   object \n",
      " 52  group_ejectf               6611 non-null   object \n",
      "dtypes: float64(7), int64(39), object(7)\n",
      "memory usage: 2.7+ MB\n"
     ]
    }
   ],
   "source": [
    "df.info()"
   ]
  },
  {
   "cell_type": "code",
   "execution_count": 7,
   "metadata": {},
   "outputs": [
    {
     "data": {
      "text/plain": [
       "np.int64(0)"
      ]
     },
     "execution_count": 7,
     "metadata": {},
     "output_type": "execute_result"
    }
   ],
   "source": [
    "df.isna().sum().sum()"
   ]
  },
  {
   "cell_type": "code",
   "execution_count": 8,
   "metadata": {},
   "outputs": [
    {
     "data": {
      "text/html": [
       "<div>\n",
       "<style scoped>\n",
       "    .dataframe tbody tr th:only-of-type {\n",
       "        vertical-align: middle;\n",
       "    }\n",
       "\n",
       "    .dataframe tbody tr th {\n",
       "        vertical-align: top;\n",
       "    }\n",
       "\n",
       "    .dataframe thead th {\n",
       "        text-align: right;\n",
       "    }\n",
       "</style>\n",
       "<table border=\"1\" class=\"dataframe\">\n",
       "  <thead>\n",
       "    <tr style=\"text-align: right;\">\n",
       "      <th></th>\n",
       "      <th>sno</th>\n",
       "      <th>age</th>\n",
       "      <th>gender</th>\n",
       "      <th>type</th>\n",
       "      <th>day_icu</th>\n",
       "      <th>outcome</th>\n",
       "      <th>smoking</th>\n",
       "      <th>alcohol</th>\n",
       "      <th>diabetes</th>\n",
       "      <th>hypertension</th>\n",
       "      <th>...</th>\n",
       "      <th>chest_infection</th>\n",
       "      <th>count</th>\n",
       "      <th>haemoglobin</th>\n",
       "      <th>anaemia</th>\n",
       "      <th>severe_anaemia</th>\n",
       "      <th>glucose</th>\n",
       "      <th>group_age</th>\n",
       "      <th>group_plate</th>\n",
       "      <th>group_leuk</th>\n",
       "      <th>group_ejectf</th>\n",
       "    </tr>\n",
       "  </thead>\n",
       "  <tbody>\n",
       "    <tr>\n",
       "      <th>0</th>\n",
       "      <td>1</td>\n",
       "      <td>81</td>\n",
       "      <td>M</td>\n",
       "      <td>E</td>\n",
       "      <td>2</td>\n",
       "      <td>DISCHARGE</td>\n",
       "      <td>0</td>\n",
       "      <td>0</td>\n",
       "      <td>1</td>\n",
       "      <td>0</td>\n",
       "      <td>...</td>\n",
       "      <td>0</td>\n",
       "      <td>1</td>\n",
       "      <td>9.5</td>\n",
       "      <td>1</td>\n",
       "      <td>0</td>\n",
       "      <td>80.0</td>\n",
       "      <td>76-150</td>\n",
       "      <td>normal</td>\n",
       "      <td>high</td>\n",
       "      <td>d_normal</td>\n",
       "    </tr>\n",
       "    <tr>\n",
       "      <th>1</th>\n",
       "      <td>3</td>\n",
       "      <td>53</td>\n",
       "      <td>M</td>\n",
       "      <td>E</td>\n",
       "      <td>3</td>\n",
       "      <td>DISCHARGE</td>\n",
       "      <td>0</td>\n",
       "      <td>0</td>\n",
       "      <td>1</td>\n",
       "      <td>0</td>\n",
       "      <td>...</td>\n",
       "      <td>0</td>\n",
       "      <td>1</td>\n",
       "      <td>10.6</td>\n",
       "      <td>0</td>\n",
       "      <td>0</td>\n",
       "      <td>187.0</td>\n",
       "      <td>46-60</td>\n",
       "      <td>normal</td>\n",
       "      <td>high</td>\n",
       "      <td>d_normal</td>\n",
       "    </tr>\n",
       "    <tr>\n",
       "      <th>2</th>\n",
       "      <td>5</td>\n",
       "      <td>60</td>\n",
       "      <td>F</td>\n",
       "      <td>E</td>\n",
       "      <td>9</td>\n",
       "      <td>DISCHARGE</td>\n",
       "      <td>0</td>\n",
       "      <td>0</td>\n",
       "      <td>0</td>\n",
       "      <td>1</td>\n",
       "      <td>...</td>\n",
       "      <td>0</td>\n",
       "      <td>1</td>\n",
       "      <td>13.6</td>\n",
       "      <td>0</td>\n",
       "      <td>0</td>\n",
       "      <td>144.0</td>\n",
       "      <td>46-60</td>\n",
       "      <td>low</td>\n",
       "      <td>normal</td>\n",
       "      <td>d_normal</td>\n",
       "    </tr>\n",
       "    <tr>\n",
       "      <th>3</th>\n",
       "      <td>6</td>\n",
       "      <td>44</td>\n",
       "      <td>M</td>\n",
       "      <td>E</td>\n",
       "      <td>8</td>\n",
       "      <td>DISCHARGE</td>\n",
       "      <td>0</td>\n",
       "      <td>0</td>\n",
       "      <td>1</td>\n",
       "      <td>1</td>\n",
       "      <td>...</td>\n",
       "      <td>0</td>\n",
       "      <td>1</td>\n",
       "      <td>13.5</td>\n",
       "      <td>0</td>\n",
       "      <td>0</td>\n",
       "      <td>217.0</td>\n",
       "      <td>31-45</td>\n",
       "      <td>normal</td>\n",
       "      <td>high</td>\n",
       "      <td>d_normal</td>\n",
       "    </tr>\n",
       "    <tr>\n",
       "      <th>4</th>\n",
       "      <td>7</td>\n",
       "      <td>56</td>\n",
       "      <td>F</td>\n",
       "      <td>E</td>\n",
       "      <td>2</td>\n",
       "      <td>DISCHARGE</td>\n",
       "      <td>0</td>\n",
       "      <td>0</td>\n",
       "      <td>1</td>\n",
       "      <td>1</td>\n",
       "      <td>...</td>\n",
       "      <td>0</td>\n",
       "      <td>1</td>\n",
       "      <td>13.3</td>\n",
       "      <td>0</td>\n",
       "      <td>0</td>\n",
       "      <td>277.0</td>\n",
       "      <td>46-60</td>\n",
       "      <td>normal</td>\n",
       "      <td>high</td>\n",
       "      <td>d_normal</td>\n",
       "    </tr>\n",
       "  </tbody>\n",
       "</table>\n",
       "<p>5 rows × 53 columns</p>\n",
       "</div>"
      ],
      "text/plain": [
       "   sno  age gender type  day_icu    outcome  smoking  alcohol  diabetes  \\\n",
       "0    1   81      M    E        2  DISCHARGE        0        0         1   \n",
       "1    3   53      M    E        3  DISCHARGE        0        0         1   \n",
       "2    5   60      F    E        9  DISCHARGE        0        0         0   \n",
       "3    6   44      M    E        8  DISCHARGE        0        0         1   \n",
       "4    7   56      F    E        2  DISCHARGE        0        0         1   \n",
       "\n",
       "   hypertension  ...  chest_infection  count  haemoglobin  anaemia  \\\n",
       "0             0  ...                0      1          9.5        1   \n",
       "1             0  ...                0      1         10.6        0   \n",
       "2             1  ...                0      1         13.6        0   \n",
       "3             1  ...                0      1         13.5        0   \n",
       "4             1  ...                0      1         13.3        0   \n",
       "\n",
       "   severe_anaemia  glucose  group_age  group_plate  group_leuk  group_ejectf  \n",
       "0               0     80.0     76-150       normal        high      d_normal  \n",
       "1               0    187.0      46-60       normal        high      d_normal  \n",
       "2               0    144.0      46-60          low      normal      d_normal  \n",
       "3               0    217.0      31-45       normal        high      d_normal  \n",
       "4               0    277.0      46-60       normal        high      d_normal  \n",
       "\n",
       "[5 rows x 53 columns]"
      ]
     },
     "execution_count": 8,
     "metadata": {},
     "output_type": "execute_result"
    }
   ],
   "source": [
    "df.head()"
   ]
  },
  {
   "cell_type": "code",
   "execution_count": 9,
   "metadata": {},
   "outputs": [],
   "source": [
    "df.drop('sno', axis=1, inplace=True)"
   ]
  },
  {
   "cell_type": "code",
   "execution_count": 10,
   "metadata": {},
   "outputs": [],
   "source": [
    "df['gender'] = df['gender'].map({'F': 0, 'M': 1})"
   ]
  },
  {
   "cell_type": "code",
   "execution_count": 11,
   "metadata": {},
   "outputs": [
    {
     "data": {
      "text/plain": [
       "array(['E', 'O'], dtype=object)"
      ]
     },
     "execution_count": 11,
     "metadata": {},
     "output_type": "execute_result"
    }
   ],
   "source": [
    "df['type'].unique()"
   ]
  },
  {
   "cell_type": "code",
   "execution_count": 12,
   "metadata": {},
   "outputs": [
    {
     "name": "stdout",
     "output_type": "stream",
     "text": [
      "['x0_E' 'x0_O']\n"
     ]
    }
   ],
   "source": [
    "enc = OneHotEncoder(categories='auto')\n",
    "type = df['type'].values.reshape(-1, 1)\n",
    "enc.fit(type)\n",
    "new_features = enc.get_feature_names_out()\n",
    "print(new_features)\n",
    "new_type = pd.DataFrame(enc.transform(type).toarray())"
   ]
  },
  {
   "cell_type": "code",
   "execution_count": 13,
   "metadata": {},
   "outputs": [],
   "source": [
    "new_type.columns = ['E', 'O']"
   ]
  },
  {
   "cell_type": "code",
   "execution_count": 14,
   "metadata": {},
   "outputs": [],
   "source": [
    "df = pd.concat([df, new_type], axis=1)\n",
    "df.drop('type', axis=1, inplace=True)"
   ]
  },
  {
   "cell_type": "code",
   "execution_count": 15,
   "metadata": {},
   "outputs": [
    {
     "data": {
      "text/html": [
       "<div>\n",
       "<style scoped>\n",
       "    .dataframe tbody tr th:only-of-type {\n",
       "        vertical-align: middle;\n",
       "    }\n",
       "\n",
       "    .dataframe tbody tr th {\n",
       "        vertical-align: top;\n",
       "    }\n",
       "\n",
       "    .dataframe thead th {\n",
       "        text-align: right;\n",
       "    }\n",
       "</style>\n",
       "<table border=\"1\" class=\"dataframe\">\n",
       "  <thead>\n",
       "    <tr style=\"text-align: right;\">\n",
       "      <th></th>\n",
       "      <th>age</th>\n",
       "      <th>gender</th>\n",
       "      <th>day_icu</th>\n",
       "      <th>outcome</th>\n",
       "      <th>smoking</th>\n",
       "      <th>alcohol</th>\n",
       "      <th>diabetes</th>\n",
       "      <th>hypertension</th>\n",
       "      <th>cad</th>\n",
       "      <th>cardiomyopathy</th>\n",
       "      <th>...</th>\n",
       "      <th>haemoglobin</th>\n",
       "      <th>anaemia</th>\n",
       "      <th>severe_anaemia</th>\n",
       "      <th>glucose</th>\n",
       "      <th>group_age</th>\n",
       "      <th>group_plate</th>\n",
       "      <th>group_leuk</th>\n",
       "      <th>group_ejectf</th>\n",
       "      <th>E</th>\n",
       "      <th>O</th>\n",
       "    </tr>\n",
       "  </thead>\n",
       "  <tbody>\n",
       "    <tr>\n",
       "      <th>0</th>\n",
       "      <td>81</td>\n",
       "      <td>1</td>\n",
       "      <td>2</td>\n",
       "      <td>DISCHARGE</td>\n",
       "      <td>0</td>\n",
       "      <td>0</td>\n",
       "      <td>1</td>\n",
       "      <td>0</td>\n",
       "      <td>0</td>\n",
       "      <td>0</td>\n",
       "      <td>...</td>\n",
       "      <td>9.5</td>\n",
       "      <td>1</td>\n",
       "      <td>0</td>\n",
       "      <td>80.0</td>\n",
       "      <td>76-150</td>\n",
       "      <td>normal</td>\n",
       "      <td>high</td>\n",
       "      <td>d_normal</td>\n",
       "      <td>1.0</td>\n",
       "      <td>0.0</td>\n",
       "    </tr>\n",
       "    <tr>\n",
       "      <th>1</th>\n",
       "      <td>53</td>\n",
       "      <td>1</td>\n",
       "      <td>3</td>\n",
       "      <td>DISCHARGE</td>\n",
       "      <td>0</td>\n",
       "      <td>0</td>\n",
       "      <td>1</td>\n",
       "      <td>0</td>\n",
       "      <td>1</td>\n",
       "      <td>0</td>\n",
       "      <td>...</td>\n",
       "      <td>10.6</td>\n",
       "      <td>0</td>\n",
       "      <td>0</td>\n",
       "      <td>187.0</td>\n",
       "      <td>46-60</td>\n",
       "      <td>normal</td>\n",
       "      <td>high</td>\n",
       "      <td>d_normal</td>\n",
       "      <td>1.0</td>\n",
       "      <td>0.0</td>\n",
       "    </tr>\n",
       "    <tr>\n",
       "      <th>2</th>\n",
       "      <td>60</td>\n",
       "      <td>0</td>\n",
       "      <td>9</td>\n",
       "      <td>DISCHARGE</td>\n",
       "      <td>0</td>\n",
       "      <td>0</td>\n",
       "      <td>0</td>\n",
       "      <td>1</td>\n",
       "      <td>0</td>\n",
       "      <td>1</td>\n",
       "      <td>...</td>\n",
       "      <td>13.6</td>\n",
       "      <td>0</td>\n",
       "      <td>0</td>\n",
       "      <td>144.0</td>\n",
       "      <td>46-60</td>\n",
       "      <td>low</td>\n",
       "      <td>normal</td>\n",
       "      <td>d_normal</td>\n",
       "      <td>1.0</td>\n",
       "      <td>0.0</td>\n",
       "    </tr>\n",
       "    <tr>\n",
       "      <th>3</th>\n",
       "      <td>44</td>\n",
       "      <td>1</td>\n",
       "      <td>8</td>\n",
       "      <td>DISCHARGE</td>\n",
       "      <td>0</td>\n",
       "      <td>0</td>\n",
       "      <td>1</td>\n",
       "      <td>1</td>\n",
       "      <td>1</td>\n",
       "      <td>1</td>\n",
       "      <td>...</td>\n",
       "      <td>13.5</td>\n",
       "      <td>0</td>\n",
       "      <td>0</td>\n",
       "      <td>217.0</td>\n",
       "      <td>31-45</td>\n",
       "      <td>normal</td>\n",
       "      <td>high</td>\n",
       "      <td>d_normal</td>\n",
       "      <td>1.0</td>\n",
       "      <td>0.0</td>\n",
       "    </tr>\n",
       "    <tr>\n",
       "      <th>4</th>\n",
       "      <td>56</td>\n",
       "      <td>0</td>\n",
       "      <td>2</td>\n",
       "      <td>DISCHARGE</td>\n",
       "      <td>0</td>\n",
       "      <td>0</td>\n",
       "      <td>1</td>\n",
       "      <td>1</td>\n",
       "      <td>1</td>\n",
       "      <td>1</td>\n",
       "      <td>...</td>\n",
       "      <td>13.3</td>\n",
       "      <td>0</td>\n",
       "      <td>0</td>\n",
       "      <td>277.0</td>\n",
       "      <td>46-60</td>\n",
       "      <td>normal</td>\n",
       "      <td>high</td>\n",
       "      <td>d_normal</td>\n",
       "      <td>1.0</td>\n",
       "      <td>0.0</td>\n",
       "    </tr>\n",
       "  </tbody>\n",
       "</table>\n",
       "<p>5 rows × 53 columns</p>\n",
       "</div>"
      ],
      "text/plain": [
       "   age  gender  day_icu    outcome  smoking  alcohol  diabetes  hypertension  \\\n",
       "0   81       1        2  DISCHARGE        0        0         1             0   \n",
       "1   53       1        3  DISCHARGE        0        0         1             0   \n",
       "2   60       0        9  DISCHARGE        0        0         0             1   \n",
       "3   44       1        8  DISCHARGE        0        0         1             1   \n",
       "4   56       0        2  DISCHARGE        0        0         1             1   \n",
       "\n",
       "   cad  cardiomyopathy  ...  haemoglobin  anaemia  severe_anaemia  glucose  \\\n",
       "0    0               0  ...          9.5        1               0     80.0   \n",
       "1    1               0  ...         10.6        0               0    187.0   \n",
       "2    0               1  ...         13.6        0               0    144.0   \n",
       "3    1               1  ...         13.5        0               0    217.0   \n",
       "4    1               1  ...         13.3        0               0    277.0   \n",
       "\n",
       "   group_age  group_plate  group_leuk  group_ejectf    E    O  \n",
       "0     76-150       normal        high      d_normal  1.0  0.0  \n",
       "1      46-60       normal        high      d_normal  1.0  0.0  \n",
       "2      46-60          low      normal      d_normal  1.0  0.0  \n",
       "3      31-45       normal        high      d_normal  1.0  0.0  \n",
       "4      46-60       normal        high      d_normal  1.0  0.0  \n",
       "\n",
       "[5 rows x 53 columns]"
      ]
     },
     "execution_count": 15,
     "metadata": {},
     "output_type": "execute_result"
    }
   ],
   "source": [
    "df.head()"
   ]
  },
  {
   "cell_type": "code",
   "execution_count": 16,
   "metadata": {},
   "outputs": [
    {
     "data": {
      "text/plain": [
       "array(['DISCHARGE', 'EXPIRY', 'DAMA'], dtype=object)"
      ]
     },
     "execution_count": 16,
     "metadata": {},
     "output_type": "execute_result"
    }
   ],
   "source": [
    "df['outcome'].unique()"
   ]
  },
  {
   "cell_type": "code",
   "execution_count": 17,
   "metadata": {},
   "outputs": [
    {
     "name": "stdout",
     "output_type": "stream",
     "text": [
      "['x0_DAMA' 'x0_DISCHARGE' 'x0_EXPIRY']\n"
     ]
    }
   ],
   "source": [
    "enc2 = OneHotEncoder(categories='auto')\n",
    "outcome = df['outcome'].values.reshape(-1, 1)\n",
    "enc2.fit(outcome)\n",
    "new_features = enc2.get_feature_names_out()\n",
    "print(new_features)\n",
    "new_outcome = pd.DataFrame(enc2.transform(outcome).toarray())"
   ]
  },
  {
   "cell_type": "code",
   "execution_count": 18,
   "metadata": {},
   "outputs": [],
   "source": [
    "new_outcome.columns = ['DAMA', 'DISCHARGE', 'EXPIRY']"
   ]
  },
  {
   "cell_type": "code",
   "execution_count": 19,
   "metadata": {},
   "outputs": [],
   "source": [
    "df = pd.concat([df, new_outcome], axis=1)\n",
    "df.drop('outcome', axis=1, inplace=True)"
   ]
  },
  {
   "cell_type": "code",
   "execution_count": 20,
   "metadata": {},
   "outputs": [
    {
     "data": {
      "text/html": [
       "<div>\n",
       "<style scoped>\n",
       "    .dataframe tbody tr th:only-of-type {\n",
       "        vertical-align: middle;\n",
       "    }\n",
       "\n",
       "    .dataframe tbody tr th {\n",
       "        vertical-align: top;\n",
       "    }\n",
       "\n",
       "    .dataframe thead th {\n",
       "        text-align: right;\n",
       "    }\n",
       "</style>\n",
       "<table border=\"1\" class=\"dataframe\">\n",
       "  <thead>\n",
       "    <tr style=\"text-align: right;\">\n",
       "      <th></th>\n",
       "      <th>age</th>\n",
       "      <th>gender</th>\n",
       "      <th>day_icu</th>\n",
       "      <th>smoking</th>\n",
       "      <th>alcohol</th>\n",
       "      <th>diabetes</th>\n",
       "      <th>hypertension</th>\n",
       "      <th>cad</th>\n",
       "      <th>cardiomyopathy</th>\n",
       "      <th>ckd</th>\n",
       "      <th>...</th>\n",
       "      <th>glucose</th>\n",
       "      <th>group_age</th>\n",
       "      <th>group_plate</th>\n",
       "      <th>group_leuk</th>\n",
       "      <th>group_ejectf</th>\n",
       "      <th>E</th>\n",
       "      <th>O</th>\n",
       "      <th>DAMA</th>\n",
       "      <th>DISCHARGE</th>\n",
       "      <th>EXPIRY</th>\n",
       "    </tr>\n",
       "  </thead>\n",
       "  <tbody>\n",
       "    <tr>\n",
       "      <th>0</th>\n",
       "      <td>81</td>\n",
       "      <td>1</td>\n",
       "      <td>2</td>\n",
       "      <td>0</td>\n",
       "      <td>0</td>\n",
       "      <td>1</td>\n",
       "      <td>0</td>\n",
       "      <td>0</td>\n",
       "      <td>0</td>\n",
       "      <td>0</td>\n",
       "      <td>...</td>\n",
       "      <td>80.0</td>\n",
       "      <td>76-150</td>\n",
       "      <td>normal</td>\n",
       "      <td>high</td>\n",
       "      <td>d_normal</td>\n",
       "      <td>1.0</td>\n",
       "      <td>0.0</td>\n",
       "      <td>0.0</td>\n",
       "      <td>1.0</td>\n",
       "      <td>0.0</td>\n",
       "    </tr>\n",
       "    <tr>\n",
       "      <th>1</th>\n",
       "      <td>53</td>\n",
       "      <td>1</td>\n",
       "      <td>3</td>\n",
       "      <td>0</td>\n",
       "      <td>0</td>\n",
       "      <td>1</td>\n",
       "      <td>0</td>\n",
       "      <td>1</td>\n",
       "      <td>0</td>\n",
       "      <td>0</td>\n",
       "      <td>...</td>\n",
       "      <td>187.0</td>\n",
       "      <td>46-60</td>\n",
       "      <td>normal</td>\n",
       "      <td>high</td>\n",
       "      <td>d_normal</td>\n",
       "      <td>1.0</td>\n",
       "      <td>0.0</td>\n",
       "      <td>0.0</td>\n",
       "      <td>1.0</td>\n",
       "      <td>0.0</td>\n",
       "    </tr>\n",
       "    <tr>\n",
       "      <th>2</th>\n",
       "      <td>60</td>\n",
       "      <td>0</td>\n",
       "      <td>9</td>\n",
       "      <td>0</td>\n",
       "      <td>0</td>\n",
       "      <td>0</td>\n",
       "      <td>1</td>\n",
       "      <td>0</td>\n",
       "      <td>1</td>\n",
       "      <td>0</td>\n",
       "      <td>...</td>\n",
       "      <td>144.0</td>\n",
       "      <td>46-60</td>\n",
       "      <td>low</td>\n",
       "      <td>normal</td>\n",
       "      <td>d_normal</td>\n",
       "      <td>1.0</td>\n",
       "      <td>0.0</td>\n",
       "      <td>0.0</td>\n",
       "      <td>1.0</td>\n",
       "      <td>0.0</td>\n",
       "    </tr>\n",
       "    <tr>\n",
       "      <th>3</th>\n",
       "      <td>44</td>\n",
       "      <td>1</td>\n",
       "      <td>8</td>\n",
       "      <td>0</td>\n",
       "      <td>0</td>\n",
       "      <td>1</td>\n",
       "      <td>1</td>\n",
       "      <td>1</td>\n",
       "      <td>1</td>\n",
       "      <td>0</td>\n",
       "      <td>...</td>\n",
       "      <td>217.0</td>\n",
       "      <td>31-45</td>\n",
       "      <td>normal</td>\n",
       "      <td>high</td>\n",
       "      <td>d_normal</td>\n",
       "      <td>1.0</td>\n",
       "      <td>0.0</td>\n",
       "      <td>0.0</td>\n",
       "      <td>1.0</td>\n",
       "      <td>0.0</td>\n",
       "    </tr>\n",
       "    <tr>\n",
       "      <th>4</th>\n",
       "      <td>56</td>\n",
       "      <td>0</td>\n",
       "      <td>2</td>\n",
       "      <td>0</td>\n",
       "      <td>0</td>\n",
       "      <td>1</td>\n",
       "      <td>1</td>\n",
       "      <td>1</td>\n",
       "      <td>1</td>\n",
       "      <td>0</td>\n",
       "      <td>...</td>\n",
       "      <td>277.0</td>\n",
       "      <td>46-60</td>\n",
       "      <td>normal</td>\n",
       "      <td>high</td>\n",
       "      <td>d_normal</td>\n",
       "      <td>1.0</td>\n",
       "      <td>0.0</td>\n",
       "      <td>0.0</td>\n",
       "      <td>1.0</td>\n",
       "      <td>0.0</td>\n",
       "    </tr>\n",
       "  </tbody>\n",
       "</table>\n",
       "<p>5 rows × 55 columns</p>\n",
       "</div>"
      ],
      "text/plain": [
       "   age  gender  day_icu  smoking  alcohol  diabetes  hypertension  cad  \\\n",
       "0   81       1        2        0        0         1             0    0   \n",
       "1   53       1        3        0        0         1             0    1   \n",
       "2   60       0        9        0        0         0             1    0   \n",
       "3   44       1        8        0        0         1             1    1   \n",
       "4   56       0        2        0        0         1             1    1   \n",
       "\n",
       "   cardiomyopathy  ckd  ...  glucose  group_age  group_plate  group_leuk  \\\n",
       "0               0    0  ...     80.0     76-150       normal        high   \n",
       "1               0    0  ...    187.0      46-60       normal        high   \n",
       "2               1    0  ...    144.0      46-60          low      normal   \n",
       "3               1    0  ...    217.0      31-45       normal        high   \n",
       "4               1    0  ...    277.0      46-60       normal        high   \n",
       "\n",
       "   group_ejectf    E    O  DAMA  DISCHARGE  EXPIRY  \n",
       "0      d_normal  1.0  0.0   0.0        1.0     0.0  \n",
       "1      d_normal  1.0  0.0   0.0        1.0     0.0  \n",
       "2      d_normal  1.0  0.0   0.0        1.0     0.0  \n",
       "3      d_normal  1.0  0.0   0.0        1.0     0.0  \n",
       "4      d_normal  1.0  0.0   0.0        1.0     0.0  \n",
       "\n",
       "[5 rows x 55 columns]"
      ]
     },
     "execution_count": 20,
     "metadata": {},
     "output_type": "execute_result"
    }
   ],
   "source": [
    "df.head()"
   ]
  },
  {
   "cell_type": "code",
   "execution_count": 21,
   "metadata": {},
   "outputs": [
    {
     "data": {
      "text/plain": [
       "array(['76-150', '46-60', '31-45', '61-75', '0-30'], dtype=object)"
      ]
     },
     "execution_count": 21,
     "metadata": {},
     "output_type": "execute_result"
    }
   ],
   "source": [
    "df['group_age'].unique()"
   ]
  },
  {
   "cell_type": "code",
   "execution_count": 22,
   "metadata": {},
   "outputs": [
    {
     "name": "stdout",
     "output_type": "stream",
     "text": [
      "['x0_0-30' 'x0_31-45' 'x0_46-60' 'x0_61-75' 'x0_76-150']\n"
     ]
    }
   ],
   "source": [
    "enc3 = OneHotEncoder(categories='auto')\n",
    "age = df['group_age'].values.reshape(-1, 1)\n",
    "enc3.fit(age)\n",
    "new_features = enc3.get_feature_names_out()\n",
    "print(new_features)\n",
    "new_age = pd.DataFrame(enc3.transform(age).toarray())"
   ]
  },
  {
   "cell_type": "code",
   "execution_count": 23,
   "metadata": {},
   "outputs": [],
   "source": [
    "new_age.columns = ['0-30', '31-45', '46-60', '61-75', '76-150']"
   ]
  },
  {
   "cell_type": "code",
   "execution_count": 24,
   "metadata": {},
   "outputs": [
    {
     "data": {
      "text/html": [
       "<div>\n",
       "<style scoped>\n",
       "    .dataframe tbody tr th:only-of-type {\n",
       "        vertical-align: middle;\n",
       "    }\n",
       "\n",
       "    .dataframe tbody tr th {\n",
       "        vertical-align: top;\n",
       "    }\n",
       "\n",
       "    .dataframe thead th {\n",
       "        text-align: right;\n",
       "    }\n",
       "</style>\n",
       "<table border=\"1\" class=\"dataframe\">\n",
       "  <thead>\n",
       "    <tr style=\"text-align: right;\">\n",
       "      <th></th>\n",
       "      <th>age</th>\n",
       "      <th>gender</th>\n",
       "      <th>day_icu</th>\n",
       "      <th>smoking</th>\n",
       "      <th>alcohol</th>\n",
       "      <th>diabetes</th>\n",
       "      <th>hypertension</th>\n",
       "      <th>cad</th>\n",
       "      <th>cardiomyopathy</th>\n",
       "      <th>ckd</th>\n",
       "      <th>...</th>\n",
       "      <th>E</th>\n",
       "      <th>O</th>\n",
       "      <th>DAMA</th>\n",
       "      <th>DISCHARGE</th>\n",
       "      <th>EXPIRY</th>\n",
       "      <th>0-30</th>\n",
       "      <th>31-45</th>\n",
       "      <th>46-60</th>\n",
       "      <th>61-75</th>\n",
       "      <th>76-150</th>\n",
       "    </tr>\n",
       "  </thead>\n",
       "  <tbody>\n",
       "    <tr>\n",
       "      <th>0</th>\n",
       "      <td>81</td>\n",
       "      <td>1</td>\n",
       "      <td>2</td>\n",
       "      <td>0</td>\n",
       "      <td>0</td>\n",
       "      <td>1</td>\n",
       "      <td>0</td>\n",
       "      <td>0</td>\n",
       "      <td>0</td>\n",
       "      <td>0</td>\n",
       "      <td>...</td>\n",
       "      <td>1.0</td>\n",
       "      <td>0.0</td>\n",
       "      <td>0.0</td>\n",
       "      <td>1.0</td>\n",
       "      <td>0.0</td>\n",
       "      <td>0.0</td>\n",
       "      <td>0.0</td>\n",
       "      <td>0.0</td>\n",
       "      <td>0.0</td>\n",
       "      <td>1.0</td>\n",
       "    </tr>\n",
       "    <tr>\n",
       "      <th>1</th>\n",
       "      <td>53</td>\n",
       "      <td>1</td>\n",
       "      <td>3</td>\n",
       "      <td>0</td>\n",
       "      <td>0</td>\n",
       "      <td>1</td>\n",
       "      <td>0</td>\n",
       "      <td>1</td>\n",
       "      <td>0</td>\n",
       "      <td>0</td>\n",
       "      <td>...</td>\n",
       "      <td>1.0</td>\n",
       "      <td>0.0</td>\n",
       "      <td>0.0</td>\n",
       "      <td>1.0</td>\n",
       "      <td>0.0</td>\n",
       "      <td>0.0</td>\n",
       "      <td>0.0</td>\n",
       "      <td>1.0</td>\n",
       "      <td>0.0</td>\n",
       "      <td>0.0</td>\n",
       "    </tr>\n",
       "    <tr>\n",
       "      <th>2</th>\n",
       "      <td>60</td>\n",
       "      <td>0</td>\n",
       "      <td>9</td>\n",
       "      <td>0</td>\n",
       "      <td>0</td>\n",
       "      <td>0</td>\n",
       "      <td>1</td>\n",
       "      <td>0</td>\n",
       "      <td>1</td>\n",
       "      <td>0</td>\n",
       "      <td>...</td>\n",
       "      <td>1.0</td>\n",
       "      <td>0.0</td>\n",
       "      <td>0.0</td>\n",
       "      <td>1.0</td>\n",
       "      <td>0.0</td>\n",
       "      <td>0.0</td>\n",
       "      <td>0.0</td>\n",
       "      <td>1.0</td>\n",
       "      <td>0.0</td>\n",
       "      <td>0.0</td>\n",
       "    </tr>\n",
       "    <tr>\n",
       "      <th>3</th>\n",
       "      <td>44</td>\n",
       "      <td>1</td>\n",
       "      <td>8</td>\n",
       "      <td>0</td>\n",
       "      <td>0</td>\n",
       "      <td>1</td>\n",
       "      <td>1</td>\n",
       "      <td>1</td>\n",
       "      <td>1</td>\n",
       "      <td>0</td>\n",
       "      <td>...</td>\n",
       "      <td>1.0</td>\n",
       "      <td>0.0</td>\n",
       "      <td>0.0</td>\n",
       "      <td>1.0</td>\n",
       "      <td>0.0</td>\n",
       "      <td>0.0</td>\n",
       "      <td>1.0</td>\n",
       "      <td>0.0</td>\n",
       "      <td>0.0</td>\n",
       "      <td>0.0</td>\n",
       "    </tr>\n",
       "    <tr>\n",
       "      <th>4</th>\n",
       "      <td>56</td>\n",
       "      <td>0</td>\n",
       "      <td>2</td>\n",
       "      <td>0</td>\n",
       "      <td>0</td>\n",
       "      <td>1</td>\n",
       "      <td>1</td>\n",
       "      <td>1</td>\n",
       "      <td>1</td>\n",
       "      <td>0</td>\n",
       "      <td>...</td>\n",
       "      <td>1.0</td>\n",
       "      <td>0.0</td>\n",
       "      <td>0.0</td>\n",
       "      <td>1.0</td>\n",
       "      <td>0.0</td>\n",
       "      <td>0.0</td>\n",
       "      <td>0.0</td>\n",
       "      <td>1.0</td>\n",
       "      <td>0.0</td>\n",
       "      <td>0.0</td>\n",
       "    </tr>\n",
       "  </tbody>\n",
       "</table>\n",
       "<p>5 rows × 59 columns</p>\n",
       "</div>"
      ],
      "text/plain": [
       "   age  gender  day_icu  smoking  alcohol  diabetes  hypertension  cad  \\\n",
       "0   81       1        2        0        0         1             0    0   \n",
       "1   53       1        3        0        0         1             0    1   \n",
       "2   60       0        9        0        0         0             1    0   \n",
       "3   44       1        8        0        0         1             1    1   \n",
       "4   56       0        2        0        0         1             1    1   \n",
       "\n",
       "   cardiomyopathy  ckd  ...    E    O  DAMA  DISCHARGE  EXPIRY  0-30  31-45  \\\n",
       "0               0    0  ...  1.0  0.0   0.0        1.0     0.0   0.0    0.0   \n",
       "1               0    0  ...  1.0  0.0   0.0        1.0     0.0   0.0    0.0   \n",
       "2               1    0  ...  1.0  0.0   0.0        1.0     0.0   0.0    0.0   \n",
       "3               1    0  ...  1.0  0.0   0.0        1.0     0.0   0.0    1.0   \n",
       "4               1    0  ...  1.0  0.0   0.0        1.0     0.0   0.0    0.0   \n",
       "\n",
       "   46-60  61-75  76-150  \n",
       "0    0.0    0.0     1.0  \n",
       "1    1.0    0.0     0.0  \n",
       "2    1.0    0.0     0.0  \n",
       "3    0.0    0.0     0.0  \n",
       "4    1.0    0.0     0.0  \n",
       "\n",
       "[5 rows x 59 columns]"
      ]
     },
     "execution_count": 24,
     "metadata": {},
     "output_type": "execute_result"
    }
   ],
   "source": [
    "df = pd.concat([df, new_age], axis=1)\n",
    "df.drop('group_age', axis=1, inplace=True)\n",
    "df.head()"
   ]
  },
  {
   "cell_type": "code",
   "execution_count": 25,
   "metadata": {},
   "outputs": [
    {
     "data": {
      "text/plain": [
       "array(['normal', 'low', 'high'], dtype=object)"
      ]
     },
     "execution_count": 25,
     "metadata": {},
     "output_type": "execute_result"
    }
   ],
   "source": [
    "df['group_plate'].unique()"
   ]
  },
  {
   "cell_type": "code",
   "execution_count": 26,
   "metadata": {},
   "outputs": [],
   "source": [
    "df['group_plate'] = df['group_plate'].map({'low': 0, 'normal': 1, 'high': 2})"
   ]
  },
  {
   "cell_type": "code",
   "execution_count": 27,
   "metadata": {},
   "outputs": [
    {
     "data": {
      "text/plain": [
       "array(['high', 'normal', 'low'], dtype=object)"
      ]
     },
     "execution_count": 27,
     "metadata": {},
     "output_type": "execute_result"
    }
   ],
   "source": [
    "df['group_leuk'].unique()"
   ]
  },
  {
   "cell_type": "code",
   "execution_count": 28,
   "metadata": {},
   "outputs": [],
   "source": [
    "df['group_leuk'] = df['group_leuk'].map({'low': 0, 'normal': 1, 'high': 2})"
   ]
  },
  {
   "cell_type": "code",
   "execution_count": 29,
   "metadata": {},
   "outputs": [
    {
     "data": {
      "text/plain": [
       "array(['d_normal', 'a_severeHF', 'b_mildHF', 'c_belowNormal'],\n",
       "      dtype=object)"
      ]
     },
     "execution_count": 29,
     "metadata": {},
     "output_type": "execute_result"
    }
   ],
   "source": [
    "df['group_ejectf'].unique()"
   ]
  },
  {
   "cell_type": "code",
   "execution_count": 30,
   "metadata": {},
   "outputs": [
    {
     "name": "stdout",
     "output_type": "stream",
     "text": [
      "['x0_a_severeHF' 'x0_b_mildHF' 'x0_c_belowNormal' 'x0_d_normal']\n"
     ]
    }
   ],
   "source": [
    "enc4 = OneHotEncoder(categories='auto')\n",
    "ejectf = df['group_ejectf'].values.reshape(-1, 1)\n",
    "enc4.fit(ejectf)\n",
    "new_features = enc4.get_feature_names_out()\n",
    "print(new_features)\n",
    "new_ejectf = pd.DataFrame(enc4.transform(ejectf).toarray())"
   ]
  },
  {
   "cell_type": "code",
   "execution_count": 31,
   "metadata": {},
   "outputs": [],
   "source": [
    "new_ejectf.columns = ['a_severeHF', 'b_mildHF', 'c_belowNormal', 'd_normal']"
   ]
  },
  {
   "cell_type": "code",
   "execution_count": 32,
   "metadata": {},
   "outputs": [],
   "source": [
    "df = pd.concat([df, new_ejectf], axis=1)\n",
    "df.drop('group_ejectf', axis=1, inplace=True)"
   ]
  },
  {
   "cell_type": "code",
   "execution_count": 33,
   "metadata": {},
   "outputs": [
    {
     "name": "stdout",
     "output_type": "stream",
     "text": [
      "<class 'pandas.core.frame.DataFrame'>\n",
      "RangeIndex: 6611 entries, 0 to 6610\n",
      "Data columns (total 62 columns):\n",
      " #   Column                     Non-Null Count  Dtype  \n",
      "---  ------                     --------------  -----  \n",
      " 0   age                        6611 non-null   int64  \n",
      " 1   gender                     6611 non-null   int64  \n",
      " 2   day_icu                    6611 non-null   int64  \n",
      " 3   smoking                    6611 non-null   int64  \n",
      " 4   alcohol                    6611 non-null   int64  \n",
      " 5   diabetes                   6611 non-null   int64  \n",
      " 6   hypertension               6611 non-null   int64  \n",
      " 7   cad                        6611 non-null   int64  \n",
      " 8   cardiomyopathy             6611 non-null   int64  \n",
      " 9   ckd                        6611 non-null   int64  \n",
      " 10  leuk_count                 6611 non-null   float64\n",
      " 11  platelets                  6611 non-null   float64\n",
      " 12  urea                       6611 non-null   float64\n",
      " 13  creatinine                 6611 non-null   float64\n",
      " 14  bnp                        6611 non-null   float64\n",
      " 15  raised_cardiac             6611 non-null   int64  \n",
      " 16  eject_fraction             6611 non-null   int64  \n",
      " 17  stable_angina              6611 non-null   int64  \n",
      " 18  acs                        6611 non-null   int64  \n",
      " 19  stemi                      6611 non-null   int64  \n",
      " 20  atypical_chest_pain        6611 non-null   int64  \n",
      " 21  heart_failure              6611 non-null   int64  \n",
      " 22  hfref                      6611 non-null   int64  \n",
      " 23  hfnef                      6611 non-null   int64  \n",
      " 24  valvular                   6611 non-null   int64  \n",
      " 25  chb                        6611 non-null   int64  \n",
      " 26  sick_sinus                 6611 non-null   int64  \n",
      " 27  acute_kidney               6611 non-null   int64  \n",
      " 28  cva_infract                6611 non-null   int64  \n",
      " 29  cva_bleed                  6611 non-null   int64  \n",
      " 30  atrial_fibril              6611 non-null   int64  \n",
      " 31  ventricular                6611 non-null   int64  \n",
      " 32  psvt                       6611 non-null   int64  \n",
      " 33  congenital                 6611 non-null   int64  \n",
      " 34  urinary_tract              6611 non-null   int64  \n",
      " 35  neuro_cardiogenic_syncope  6611 non-null   int64  \n",
      " 36  orthostatic                6611 non-null   int64  \n",
      " 37  infective_endocarditis     6611 non-null   int64  \n",
      " 38  deep_venous                6611 non-null   int64  \n",
      " 39  pulmonary_embolism         6611 non-null   int64  \n",
      " 40  chest_infection            6611 non-null   int64  \n",
      " 41  count                      6611 non-null   int64  \n",
      " 42  haemoglobin                6611 non-null   float64\n",
      " 43  anaemia                    6611 non-null   int64  \n",
      " 44  severe_anaemia             6611 non-null   int64  \n",
      " 45  glucose                    6611 non-null   float64\n",
      " 46  group_plate                6611 non-null   int64  \n",
      " 47  group_leuk                 6611 non-null   int64  \n",
      " 48  E                          6611 non-null   float64\n",
      " 49  O                          6611 non-null   float64\n",
      " 50  DAMA                       6611 non-null   float64\n",
      " 51  DISCHARGE                  6611 non-null   float64\n",
      " 52  EXPIRY                     6611 non-null   float64\n",
      " 53  0-30                       6611 non-null   float64\n",
      " 54  31-45                      6611 non-null   float64\n",
      " 55  46-60                      6611 non-null   float64\n",
      " 56  61-75                      6611 non-null   float64\n",
      " 57  76-150                     6611 non-null   float64\n",
      " 58  a_severeHF                 6611 non-null   float64\n",
      " 59  b_mildHF                   6611 non-null   float64\n",
      " 60  c_belowNormal              6611 non-null   float64\n",
      " 61  d_normal                   6611 non-null   float64\n",
      "dtypes: float64(21), int64(41)\n",
      "memory usage: 3.1 MB\n"
     ]
    }
   ],
   "source": [
    "df.info()"
   ]
  },
  {
   "cell_type": "code",
   "execution_count": 34,
   "metadata": {},
   "outputs": [],
   "source": [
    "y = df['cad'].values\n",
    "X = df.drop('cad', axis=1)"
   ]
  },
  {
   "cell_type": "code",
   "execution_count": 35,
   "metadata": {},
   "outputs": [
    {
     "name": "stdout",
     "output_type": "stream",
     "text": [
      "(6611, 61)\n",
      "(6611, 32)\n"
     ]
    }
   ],
   "source": [
    "print(X.shape)\n",
    "selector = VarianceThreshold(threshold=0.1)\n",
    "X = selector.fit_transform(X)\n",
    "print(X.shape)"
   ]
  },
  {
   "cell_type": "code",
   "execution_count": 36,
   "metadata": {},
   "outputs": [
    {
     "name": "stdout",
     "output_type": "stream",
     "text": [
      "Female:  2579\n",
      "Male:  4032\n"
     ]
    }
   ],
   "source": [
    "# build mask\n",
    "gender_0_mask = df['gender'] == 0\n",
    "gender_1_mask = df['gender'] == 1\n",
    "\n",
    "count_gender_0 = gender_0_mask.sum()\n",
    "count_gender_1 = gender_1_mask.sum()\n",
    "\n",
    "print(\"Female: \", count_gender_0)\n",
    "print(\"Male: \", count_gender_1)\n",
    "\n",
    "scaler = StandardScaler()\n",
    "X_scaled = scaler.fit_transform(X)\n",
    "\n",
    "X_scaled_Gender_0 = X_scaled[gender_0_mask]\n",
    "X_scaled_Gender_1 = X_scaled[gender_1_mask]\n",
    "y_Gender_0 = y[gender_0_mask]\n",
    "y_Gender_1 = y[gender_1_mask]"
   ]
  },
  {
   "cell_type": "code",
   "execution_count": 37,
   "metadata": {},
   "outputs": [],
   "source": [
    "seed = 42\n",
    "models = fl.build_models(seed)\n",
    "\n",
    "results_list = []\n",
    "\n",
    "kf = KFold(n_splits=10, shuffle=True, random_state=seed)"
   ]
  },
  {
   "cell_type": "code",
   "execution_count": 38,
   "metadata": {},
   "outputs": [
    {
     "name": "stdout",
     "output_type": "stream",
     "text": [
      "Starting experiments for Female(0)\n",
      "Processing fold 1 for group Female\n",
      "Training and evaluating model: SVM\n",
      "Training and evaluating model: LR\n",
      "Training and evaluating model: KNN\n",
      "Training and evaluating model: RF\n",
      "Training and evaluating model: DT\n",
      "Training and evaluating model: ANN\n"
     ]
    },
    {
     "name": "stderr",
     "output_type": "stream",
     "text": [
      "/home/morning/miniconda3/envs/f2ml/lib/python3.13/site-packages/sklearn/neural_network/_multilayer_perceptron.py:691: ConvergenceWarning: Stochastic Optimizer: Maximum iterations (200) reached and the optimization hasn't converged yet.\n",
      "  warnings.warn(\n"
     ]
    },
    {
     "name": "stdout",
     "output_type": "stream",
     "text": [
      "Training and evaluating model: NB\n",
      "Processing fold 2 for group Female\n",
      "Training and evaluating model: SVM\n",
      "Training and evaluating model: LR\n",
      "Training and evaluating model: KNN\n",
      "Training and evaluating model: RF\n",
      "Training and evaluating model: DT\n",
      "Training and evaluating model: ANN\n"
     ]
    },
    {
     "name": "stderr",
     "output_type": "stream",
     "text": [
      "/home/morning/miniconda3/envs/f2ml/lib/python3.13/site-packages/sklearn/neural_network/_multilayer_perceptron.py:691: ConvergenceWarning: Stochastic Optimizer: Maximum iterations (200) reached and the optimization hasn't converged yet.\n",
      "  warnings.warn(\n"
     ]
    },
    {
     "name": "stdout",
     "output_type": "stream",
     "text": [
      "Training and evaluating model: NB\n",
      "Processing fold 3 for group Female\n",
      "Training and evaluating model: SVM\n",
      "Training and evaluating model: LR\n",
      "Training and evaluating model: KNN\n",
      "Training and evaluating model: RF\n",
      "Training and evaluating model: DT\n",
      "Training and evaluating model: ANN\n"
     ]
    },
    {
     "name": "stderr",
     "output_type": "stream",
     "text": [
      "/home/morning/miniconda3/envs/f2ml/lib/python3.13/site-packages/sklearn/neural_network/_multilayer_perceptron.py:691: ConvergenceWarning: Stochastic Optimizer: Maximum iterations (200) reached and the optimization hasn't converged yet.\n",
      "  warnings.warn(\n"
     ]
    },
    {
     "name": "stdout",
     "output_type": "stream",
     "text": [
      "Training and evaluating model: NB\n",
      "Processing fold 4 for group Female\n",
      "Training and evaluating model: SVM\n",
      "Training and evaluating model: LR\n",
      "Training and evaluating model: KNN\n",
      "Training and evaluating model: RF\n",
      "Training and evaluating model: DT\n",
      "Training and evaluating model: ANN\n"
     ]
    },
    {
     "name": "stderr",
     "output_type": "stream",
     "text": [
      "/home/morning/miniconda3/envs/f2ml/lib/python3.13/site-packages/sklearn/neural_network/_multilayer_perceptron.py:691: ConvergenceWarning: Stochastic Optimizer: Maximum iterations (200) reached and the optimization hasn't converged yet.\n",
      "  warnings.warn(\n"
     ]
    },
    {
     "name": "stdout",
     "output_type": "stream",
     "text": [
      "Training and evaluating model: NB\n",
      "Processing fold 5 for group Female\n",
      "Training and evaluating model: SVM\n",
      "Training and evaluating model: LR\n",
      "Training and evaluating model: KNN\n",
      "Training and evaluating model: RF\n",
      "Training and evaluating model: DT\n",
      "Training and evaluating model: ANN\n"
     ]
    },
    {
     "name": "stderr",
     "output_type": "stream",
     "text": [
      "/home/morning/miniconda3/envs/f2ml/lib/python3.13/site-packages/sklearn/neural_network/_multilayer_perceptron.py:691: ConvergenceWarning: Stochastic Optimizer: Maximum iterations (200) reached and the optimization hasn't converged yet.\n",
      "  warnings.warn(\n"
     ]
    },
    {
     "name": "stdout",
     "output_type": "stream",
     "text": [
      "Training and evaluating model: NB\n",
      "Processing fold 6 for group Female\n",
      "Training and evaluating model: SVM\n",
      "Training and evaluating model: LR\n",
      "Training and evaluating model: KNN\n",
      "Training and evaluating model: RF\n",
      "Training and evaluating model: DT\n",
      "Training and evaluating model: ANN\n"
     ]
    },
    {
     "name": "stderr",
     "output_type": "stream",
     "text": [
      "/home/morning/miniconda3/envs/f2ml/lib/python3.13/site-packages/sklearn/neural_network/_multilayer_perceptron.py:691: ConvergenceWarning: Stochastic Optimizer: Maximum iterations (200) reached and the optimization hasn't converged yet.\n",
      "  warnings.warn(\n"
     ]
    },
    {
     "name": "stdout",
     "output_type": "stream",
     "text": [
      "Training and evaluating model: NB\n",
      "Processing fold 7 for group Female\n",
      "Training and evaluating model: SVM\n",
      "Training and evaluating model: LR\n",
      "Training and evaluating model: KNN\n",
      "Training and evaluating model: RF\n",
      "Training and evaluating model: DT\n",
      "Training and evaluating model: ANN\n"
     ]
    },
    {
     "name": "stderr",
     "output_type": "stream",
     "text": [
      "/home/morning/miniconda3/envs/f2ml/lib/python3.13/site-packages/sklearn/neural_network/_multilayer_perceptron.py:691: ConvergenceWarning: Stochastic Optimizer: Maximum iterations (200) reached and the optimization hasn't converged yet.\n",
      "  warnings.warn(\n"
     ]
    },
    {
     "name": "stdout",
     "output_type": "stream",
     "text": [
      "Training and evaluating model: NB\n",
      "Processing fold 8 for group Female\n",
      "Training and evaluating model: SVM\n",
      "Training and evaluating model: LR\n",
      "Training and evaluating model: KNN\n",
      "Training and evaluating model: RF\n",
      "Training and evaluating model: DT\n",
      "Training and evaluating model: ANN\n"
     ]
    },
    {
     "name": "stderr",
     "output_type": "stream",
     "text": [
      "/home/morning/miniconda3/envs/f2ml/lib/python3.13/site-packages/sklearn/neural_network/_multilayer_perceptron.py:691: ConvergenceWarning: Stochastic Optimizer: Maximum iterations (200) reached and the optimization hasn't converged yet.\n",
      "  warnings.warn(\n"
     ]
    },
    {
     "name": "stdout",
     "output_type": "stream",
     "text": [
      "Training and evaluating model: NB\n",
      "Processing fold 9 for group Female\n",
      "Training and evaluating model: SVM\n",
      "Training and evaluating model: LR\n",
      "Training and evaluating model: KNN\n",
      "Training and evaluating model: RF\n",
      "Training and evaluating model: DT\n",
      "Training and evaluating model: ANN\n"
     ]
    },
    {
     "name": "stderr",
     "output_type": "stream",
     "text": [
      "/home/morning/miniconda3/envs/f2ml/lib/python3.13/site-packages/sklearn/neural_network/_multilayer_perceptron.py:691: ConvergenceWarning: Stochastic Optimizer: Maximum iterations (200) reached and the optimization hasn't converged yet.\n",
      "  warnings.warn(\n"
     ]
    },
    {
     "name": "stdout",
     "output_type": "stream",
     "text": [
      "Training and evaluating model: NB\n",
      "Processing fold 10 for group Female\n",
      "Training and evaluating model: SVM\n",
      "Training and evaluating model: LR\n",
      "Training and evaluating model: KNN\n",
      "Training and evaluating model: RF\n",
      "Training and evaluating model: DT\n",
      "Training and evaluating model: ANN\n"
     ]
    },
    {
     "name": "stderr",
     "output_type": "stream",
     "text": [
      "/home/morning/miniconda3/envs/f2ml/lib/python3.13/site-packages/sklearn/neural_network/_multilayer_perceptron.py:691: ConvergenceWarning: Stochastic Optimizer: Maximum iterations (200) reached and the optimization hasn't converged yet.\n",
      "  warnings.warn(\n"
     ]
    },
    {
     "name": "stdout",
     "output_type": "stream",
     "text": [
      "Training and evaluating model: NB\n",
      "Starting experiments for Male(1)\n",
      "Processing fold 1 for group Male\n",
      "Training and evaluating model: SVM\n",
      "Training and evaluating model: LR\n",
      "Training and evaluating model: KNN\n",
      "Training and evaluating model: RF\n",
      "Training and evaluating model: DT\n",
      "Training and evaluating model: ANN\n"
     ]
    },
    {
     "name": "stderr",
     "output_type": "stream",
     "text": [
      "/home/morning/miniconda3/envs/f2ml/lib/python3.13/site-packages/sklearn/neural_network/_multilayer_perceptron.py:691: ConvergenceWarning: Stochastic Optimizer: Maximum iterations (200) reached and the optimization hasn't converged yet.\n",
      "  warnings.warn(\n"
     ]
    },
    {
     "name": "stdout",
     "output_type": "stream",
     "text": [
      "Training and evaluating model: NB\n",
      "Processing fold 2 for group Male\n",
      "Training and evaluating model: SVM\n",
      "Training and evaluating model: LR\n",
      "Training and evaluating model: KNN\n",
      "Training and evaluating model: RF\n",
      "Training and evaluating model: DT\n",
      "Training and evaluating model: ANN\n"
     ]
    },
    {
     "name": "stderr",
     "output_type": "stream",
     "text": [
      "/home/morning/miniconda3/envs/f2ml/lib/python3.13/site-packages/sklearn/neural_network/_multilayer_perceptron.py:691: ConvergenceWarning: Stochastic Optimizer: Maximum iterations (200) reached and the optimization hasn't converged yet.\n",
      "  warnings.warn(\n"
     ]
    },
    {
     "name": "stdout",
     "output_type": "stream",
     "text": [
      "Training and evaluating model: NB\n",
      "Processing fold 3 for group Male\n",
      "Training and evaluating model: SVM\n",
      "Training and evaluating model: LR\n",
      "Training and evaluating model: KNN\n",
      "Training and evaluating model: RF\n",
      "Training and evaluating model: DT\n",
      "Training and evaluating model: ANN\n"
     ]
    },
    {
     "name": "stderr",
     "output_type": "stream",
     "text": [
      "/home/morning/miniconda3/envs/f2ml/lib/python3.13/site-packages/sklearn/neural_network/_multilayer_perceptron.py:691: ConvergenceWarning: Stochastic Optimizer: Maximum iterations (200) reached and the optimization hasn't converged yet.\n",
      "  warnings.warn(\n"
     ]
    },
    {
     "name": "stdout",
     "output_type": "stream",
     "text": [
      "Training and evaluating model: NB\n",
      "Processing fold 4 for group Male\n",
      "Training and evaluating model: SVM\n",
      "Training and evaluating model: LR\n",
      "Training and evaluating model: KNN\n",
      "Training and evaluating model: RF\n",
      "Training and evaluating model: DT\n",
      "Training and evaluating model: ANN\n"
     ]
    },
    {
     "name": "stderr",
     "output_type": "stream",
     "text": [
      "/home/morning/miniconda3/envs/f2ml/lib/python3.13/site-packages/sklearn/neural_network/_multilayer_perceptron.py:691: ConvergenceWarning: Stochastic Optimizer: Maximum iterations (200) reached and the optimization hasn't converged yet.\n",
      "  warnings.warn(\n"
     ]
    },
    {
     "name": "stdout",
     "output_type": "stream",
     "text": [
      "Training and evaluating model: NB\n",
      "Processing fold 5 for group Male\n",
      "Training and evaluating model: SVM\n",
      "Training and evaluating model: LR\n",
      "Training and evaluating model: KNN\n",
      "Training and evaluating model: RF\n",
      "Training and evaluating model: DT\n",
      "Training and evaluating model: ANN\n"
     ]
    },
    {
     "name": "stderr",
     "output_type": "stream",
     "text": [
      "/home/morning/miniconda3/envs/f2ml/lib/python3.13/site-packages/sklearn/neural_network/_multilayer_perceptron.py:691: ConvergenceWarning: Stochastic Optimizer: Maximum iterations (200) reached and the optimization hasn't converged yet.\n",
      "  warnings.warn(\n"
     ]
    },
    {
     "name": "stdout",
     "output_type": "stream",
     "text": [
      "Training and evaluating model: NB\n",
      "Processing fold 6 for group Male\n",
      "Training and evaluating model: SVM\n",
      "Training and evaluating model: LR\n",
      "Training and evaluating model: KNN\n",
      "Training and evaluating model: RF\n",
      "Training and evaluating model: DT\n",
      "Training and evaluating model: ANN\n"
     ]
    },
    {
     "name": "stderr",
     "output_type": "stream",
     "text": [
      "/home/morning/miniconda3/envs/f2ml/lib/python3.13/site-packages/sklearn/neural_network/_multilayer_perceptron.py:691: ConvergenceWarning: Stochastic Optimizer: Maximum iterations (200) reached and the optimization hasn't converged yet.\n",
      "  warnings.warn(\n"
     ]
    },
    {
     "name": "stdout",
     "output_type": "stream",
     "text": [
      "Training and evaluating model: NB\n",
      "Processing fold 7 for group Male\n",
      "Training and evaluating model: SVM\n",
      "Training and evaluating model: LR\n",
      "Training and evaluating model: KNN\n",
      "Training and evaluating model: RF\n",
      "Training and evaluating model: DT\n",
      "Training and evaluating model: ANN\n"
     ]
    },
    {
     "name": "stderr",
     "output_type": "stream",
     "text": [
      "/home/morning/miniconda3/envs/f2ml/lib/python3.13/site-packages/sklearn/neural_network/_multilayer_perceptron.py:691: ConvergenceWarning: Stochastic Optimizer: Maximum iterations (200) reached and the optimization hasn't converged yet.\n",
      "  warnings.warn(\n"
     ]
    },
    {
     "name": "stdout",
     "output_type": "stream",
     "text": [
      "Training and evaluating model: NB\n",
      "Processing fold 8 for group Male\n",
      "Training and evaluating model: SVM\n",
      "Training and evaluating model: LR\n",
      "Training and evaluating model: KNN\n",
      "Training and evaluating model: RF\n",
      "Training and evaluating model: DT\n",
      "Training and evaluating model: ANN\n"
     ]
    },
    {
     "name": "stderr",
     "output_type": "stream",
     "text": [
      "/home/morning/miniconda3/envs/f2ml/lib/python3.13/site-packages/sklearn/neural_network/_multilayer_perceptron.py:691: ConvergenceWarning: Stochastic Optimizer: Maximum iterations (200) reached and the optimization hasn't converged yet.\n",
      "  warnings.warn(\n"
     ]
    },
    {
     "name": "stdout",
     "output_type": "stream",
     "text": [
      "Training and evaluating model: NB\n",
      "Processing fold 9 for group Male\n",
      "Training and evaluating model: SVM\n",
      "Training and evaluating model: LR\n",
      "Training and evaluating model: KNN\n",
      "Training and evaluating model: RF\n",
      "Training and evaluating model: DT\n",
      "Training and evaluating model: ANN\n"
     ]
    },
    {
     "name": "stderr",
     "output_type": "stream",
     "text": [
      "/home/morning/miniconda3/envs/f2ml/lib/python3.13/site-packages/sklearn/neural_network/_multilayer_perceptron.py:691: ConvergenceWarning: Stochastic Optimizer: Maximum iterations (200) reached and the optimization hasn't converged yet.\n",
      "  warnings.warn(\n"
     ]
    },
    {
     "name": "stdout",
     "output_type": "stream",
     "text": [
      "Training and evaluating model: NB\n",
      "Processing fold 10 for group Male\n",
      "Training and evaluating model: SVM\n",
      "Training and evaluating model: LR\n",
      "Training and evaluating model: KNN\n",
      "Training and evaluating model: RF\n",
      "Training and evaluating model: DT\n",
      "Training and evaluating model: ANN\n",
      "Training and evaluating model: NB\n",
      "    Fold   Group   SVM_TPR   SVM_TNR   SVM_FPR   SVM_FNR  SVM_TP  SVM_TN  \\\n",
      "0      1  Female  0.843023  0.639535  0.360465  0.156977     145      55   \n",
      "1      2  Female  0.877193  0.747126  0.252874  0.122807     150      65   \n",
      "2      3  Female  0.834254  0.701299  0.298701  0.165746     151      54   \n",
      "3      4  Female  0.895349  0.662791  0.337209  0.104651     154      57   \n",
      "4      5  Female  0.814371  0.758242  0.241758  0.185629     136      69   \n",
      "5      6  Female  0.885542  0.728261  0.271739  0.114458     147      67   \n",
      "6      7  Female  0.909091  0.682927  0.317073  0.090909     160      56   \n",
      "7      8  Female  0.843931  0.635294  0.364706  0.156069     146      54   \n",
      "8      9  Female  0.865922  0.759494  0.240506  0.134078     155      60   \n",
      "9     10  Female  0.872832  0.761905  0.238095  0.127168     151      64   \n",
      "10     1    Male  0.938144  0.415929  0.584071  0.061856     273      47   \n",
      "11     2    Male  0.909408  0.461538  0.538462  0.090592     261      54   \n",
      "12     3    Male  0.909408  0.508621  0.491379  0.090592     261      59   \n",
      "13     4    Male  0.914591  0.442623  0.557377  0.085409     257      54   \n",
      "14     5    Male  0.889655  0.486726  0.513274  0.110345     258      55   \n",
      "15     6    Male  0.943060  0.450820  0.549180  0.056940     265      55   \n",
      "16     7    Male  0.872792  0.483333  0.516667  0.127208     247      58   \n",
      "17     8    Male  0.936242  0.361905  0.638095  0.063758     279      38   \n",
      "18     9    Male  0.882943  0.480769  0.519231  0.117057     264      50   \n",
      "19    10    Male  0.914894  0.462810  0.537190  0.085106     258      56   \n",
      "\n",
      "    SVM_FP  SVM_FN  ...  ANN_FP  ANN_FN    NB_TPR    NB_TNR    NB_FPR  \\\n",
      "0       31      27  ...      25      29  0.773256  0.593023  0.406977   \n",
      "1       22      21  ...      27      28  0.859649  0.770115  0.229885   \n",
      "2       23      30  ...      29      27  0.839779  0.701299  0.298701   \n",
      "3       29      18  ...      33      18  0.848837  0.604651  0.395349   \n",
      "4       22      31  ...      26      22  0.760479  0.670330  0.329670   \n",
      "5       25      19  ...      26      20  0.843373  0.750000  0.250000   \n",
      "6       26      16  ...      31      19  0.875000  0.658537  0.341463   \n",
      "7       31      27  ...      29      24  0.820809  0.658824  0.341176   \n",
      "8       19      24  ...      24      21  0.854749  0.696203  0.303797   \n",
      "9       20      22  ...      25      25  0.820809  0.714286  0.285714   \n",
      "10      66      18  ...      53      42  0.817869  0.539823  0.460177   \n",
      "11      63      26  ...      50      38  0.815331  0.581197  0.418803   \n",
      "12      57      26  ...      46      37  0.839721  0.551724  0.448276   \n",
      "13      68      24  ...      55      39  0.836299  0.532787  0.467213   \n",
      "14      58      32  ...      47      47  0.810345  0.584071  0.415929   \n",
      "15      67      16  ...      52      31  0.861210  0.540984  0.459016   \n",
      "16      62      36  ...      53      41  0.791519  0.558333  0.441667   \n",
      "17      67      19  ...      57      39  0.818792  0.514286  0.485714   \n",
      "18      54      35  ...      40      41  0.812709  0.519231  0.480769   \n",
      "19      65      24  ...      47      45  0.787234  0.504132  0.495868   \n",
      "\n",
      "      NB_FNR  NB_TP  NB_TN  NB_FP  NB_FN  \n",
      "0   0.226744    133     51     35     39  \n",
      "1   0.140351    147     67     20     24  \n",
      "2   0.160221    152     54     23     29  \n",
      "3   0.151163    146     52     34     26  \n",
      "4   0.239521    127     61     30     40  \n",
      "5   0.156627    140     69     23     26  \n",
      "6   0.125000    154     54     28     22  \n",
      "7   0.179191    142     56     29     31  \n",
      "8   0.145251    153     55     24     26  \n",
      "9   0.179191    142     60     24     31  \n",
      "10  0.182131    238     61     52     53  \n",
      "11  0.184669    234     68     49     53  \n",
      "12  0.160279    241     64     52     46  \n",
      "13  0.163701    235     65     57     46  \n",
      "14  0.189655    235     66     47     55  \n",
      "15  0.138790    242     66     56     39  \n",
      "16  0.208481    224     67     53     59  \n",
      "17  0.181208    244     54     51     54  \n",
      "18  0.187291    243     54     50     56  \n",
      "19  0.212766    222     61     60     60  \n",
      "\n",
      "[20 rows x 58 columns]\n"
     ]
    },
    {
     "name": "stderr",
     "output_type": "stream",
     "text": [
      "/home/morning/miniconda3/envs/f2ml/lib/python3.13/site-packages/sklearn/neural_network/_multilayer_perceptron.py:691: ConvergenceWarning: Stochastic Optimizer: Maximum iterations (200) reached and the optimization hasn't converged yet.\n",
      "  warnings.warn(\n"
     ]
    }
   ],
   "source": [
    "print(\"Starting experiments for Female(0)\")\n",
    "fl.run_experiment(kf, models, X_scaled_Gender_0, y_Gender_0, 'Female', results_list)\n",
    "\n",
    "print(\"Starting experiments for Male(1)\")\n",
    "fl.run_experiment(kf, models, X_scaled_Gender_1, y_Gender_1, 'Male', results_list)\n",
    "\n",
    "final_results_df = pd.concat(results_list, ignore_index=True)\n",
    "print(final_results_df)"
   ]
  },
  {
   "cell_type": "code",
   "execution_count": 39,
   "metadata": {},
   "outputs": [],
   "source": [
    "results_df = pd.concat(results_list, ignore_index=True)"
   ]
  },
  {
   "cell_type": "code",
   "execution_count": 40,
   "metadata": {},
   "outputs": [],
   "source": [
    "result_path = './results/K36_result.xlsx'\n",
    "results_df.to_excel(result_path, index=False)"
   ]
  },
  {
   "cell_type": "code",
   "execution_count": 41,
   "metadata": {},
   "outputs": [
    {
     "data": {
      "text/html": [
       "<div>\n",
       "<style scoped>\n",
       "    .dataframe tbody tr th:only-of-type {\n",
       "        vertical-align: middle;\n",
       "    }\n",
       "\n",
       "    .dataframe tbody tr th {\n",
       "        vertical-align: top;\n",
       "    }\n",
       "\n",
       "    .dataframe thead th {\n",
       "        text-align: right;\n",
       "    }\n",
       "</style>\n",
       "<table border=\"1\" class=\"dataframe\">\n",
       "  <thead>\n",
       "    <tr style=\"text-align: right;\">\n",
       "      <th></th>\n",
       "      <th>Fold</th>\n",
       "      <th>Group</th>\n",
       "      <th>SVM_TPR</th>\n",
       "      <th>SVM_TNR</th>\n",
       "      <th>SVM_FPR</th>\n",
       "      <th>SVM_FNR</th>\n",
       "      <th>SVM_TP</th>\n",
       "      <th>SVM_TN</th>\n",
       "      <th>SVM_FP</th>\n",
       "      <th>SVM_FN</th>\n",
       "      <th>...</th>\n",
       "      <th>ANN_FP</th>\n",
       "      <th>ANN_FN</th>\n",
       "      <th>NB_TPR</th>\n",
       "      <th>NB_TNR</th>\n",
       "      <th>NB_FPR</th>\n",
       "      <th>NB_FNR</th>\n",
       "      <th>NB_TP</th>\n",
       "      <th>NB_TN</th>\n",
       "      <th>NB_FP</th>\n",
       "      <th>NB_FN</th>\n",
       "    </tr>\n",
       "  </thead>\n",
       "  <tbody>\n",
       "    <tr>\n",
       "      <th>0</th>\n",
       "      <td>1</td>\n",
       "      <td>Female</td>\n",
       "      <td>0.843023</td>\n",
       "      <td>0.639535</td>\n",
       "      <td>0.360465</td>\n",
       "      <td>0.156977</td>\n",
       "      <td>145</td>\n",
       "      <td>55</td>\n",
       "      <td>31</td>\n",
       "      <td>27</td>\n",
       "      <td>...</td>\n",
       "      <td>25</td>\n",
       "      <td>29</td>\n",
       "      <td>0.773256</td>\n",
       "      <td>0.593023</td>\n",
       "      <td>0.406977</td>\n",
       "      <td>0.226744</td>\n",
       "      <td>133</td>\n",
       "      <td>51</td>\n",
       "      <td>35</td>\n",
       "      <td>39</td>\n",
       "    </tr>\n",
       "    <tr>\n",
       "      <th>1</th>\n",
       "      <td>2</td>\n",
       "      <td>Female</td>\n",
       "      <td>0.877193</td>\n",
       "      <td>0.747126</td>\n",
       "      <td>0.252874</td>\n",
       "      <td>0.122807</td>\n",
       "      <td>150</td>\n",
       "      <td>65</td>\n",
       "      <td>22</td>\n",
       "      <td>21</td>\n",
       "      <td>...</td>\n",
       "      <td>27</td>\n",
       "      <td>28</td>\n",
       "      <td>0.859649</td>\n",
       "      <td>0.770115</td>\n",
       "      <td>0.229885</td>\n",
       "      <td>0.140351</td>\n",
       "      <td>147</td>\n",
       "      <td>67</td>\n",
       "      <td>20</td>\n",
       "      <td>24</td>\n",
       "    </tr>\n",
       "    <tr>\n",
       "      <th>2</th>\n",
       "      <td>3</td>\n",
       "      <td>Female</td>\n",
       "      <td>0.834254</td>\n",
       "      <td>0.701299</td>\n",
       "      <td>0.298701</td>\n",
       "      <td>0.165746</td>\n",
       "      <td>151</td>\n",
       "      <td>54</td>\n",
       "      <td>23</td>\n",
       "      <td>30</td>\n",
       "      <td>...</td>\n",
       "      <td>29</td>\n",
       "      <td>27</td>\n",
       "      <td>0.839779</td>\n",
       "      <td>0.701299</td>\n",
       "      <td>0.298701</td>\n",
       "      <td>0.160221</td>\n",
       "      <td>152</td>\n",
       "      <td>54</td>\n",
       "      <td>23</td>\n",
       "      <td>29</td>\n",
       "    </tr>\n",
       "    <tr>\n",
       "      <th>3</th>\n",
       "      <td>4</td>\n",
       "      <td>Female</td>\n",
       "      <td>0.895349</td>\n",
       "      <td>0.662791</td>\n",
       "      <td>0.337209</td>\n",
       "      <td>0.104651</td>\n",
       "      <td>154</td>\n",
       "      <td>57</td>\n",
       "      <td>29</td>\n",
       "      <td>18</td>\n",
       "      <td>...</td>\n",
       "      <td>33</td>\n",
       "      <td>18</td>\n",
       "      <td>0.848837</td>\n",
       "      <td>0.604651</td>\n",
       "      <td>0.395349</td>\n",
       "      <td>0.151163</td>\n",
       "      <td>146</td>\n",
       "      <td>52</td>\n",
       "      <td>34</td>\n",
       "      <td>26</td>\n",
       "    </tr>\n",
       "    <tr>\n",
       "      <th>4</th>\n",
       "      <td>5</td>\n",
       "      <td>Female</td>\n",
       "      <td>0.814371</td>\n",
       "      <td>0.758242</td>\n",
       "      <td>0.241758</td>\n",
       "      <td>0.185629</td>\n",
       "      <td>136</td>\n",
       "      <td>69</td>\n",
       "      <td>22</td>\n",
       "      <td>31</td>\n",
       "      <td>...</td>\n",
       "      <td>26</td>\n",
       "      <td>22</td>\n",
       "      <td>0.760479</td>\n",
       "      <td>0.670330</td>\n",
       "      <td>0.329670</td>\n",
       "      <td>0.239521</td>\n",
       "      <td>127</td>\n",
       "      <td>61</td>\n",
       "      <td>30</td>\n",
       "      <td>40</td>\n",
       "    </tr>\n",
       "  </tbody>\n",
       "</table>\n",
       "<p>5 rows × 58 columns</p>\n",
       "</div>"
      ],
      "text/plain": [
       "   Fold   Group   SVM_TPR   SVM_TNR   SVM_FPR   SVM_FNR  SVM_TP  SVM_TN  \\\n",
       "0     1  Female  0.843023  0.639535  0.360465  0.156977     145      55   \n",
       "1     2  Female  0.877193  0.747126  0.252874  0.122807     150      65   \n",
       "2     3  Female  0.834254  0.701299  0.298701  0.165746     151      54   \n",
       "3     4  Female  0.895349  0.662791  0.337209  0.104651     154      57   \n",
       "4     5  Female  0.814371  0.758242  0.241758  0.185629     136      69   \n",
       "\n",
       "   SVM_FP  SVM_FN  ...  ANN_FP  ANN_FN    NB_TPR    NB_TNR    NB_FPR  \\\n",
       "0      31      27  ...      25      29  0.773256  0.593023  0.406977   \n",
       "1      22      21  ...      27      28  0.859649  0.770115  0.229885   \n",
       "2      23      30  ...      29      27  0.839779  0.701299  0.298701   \n",
       "3      29      18  ...      33      18  0.848837  0.604651  0.395349   \n",
       "4      22      31  ...      26      22  0.760479  0.670330  0.329670   \n",
       "\n",
       "     NB_FNR  NB_TP  NB_TN  NB_FP  NB_FN  \n",
       "0  0.226744    133     51     35     39  \n",
       "1  0.140351    147     67     20     24  \n",
       "2  0.160221    152     54     23     29  \n",
       "3  0.151163    146     52     34     26  \n",
       "4  0.239521    127     61     30     40  \n",
       "\n",
       "[5 rows x 58 columns]"
      ]
     },
     "execution_count": 41,
     "metadata": {},
     "output_type": "execute_result"
    }
   ],
   "source": [
    "df = pd.read_excel(result_path)\n",
    "df.head()"
   ]
  },
  {
   "cell_type": "code",
   "execution_count": 42,
   "metadata": {},
   "outputs": [
    {
     "name": "stdout",
     "output_type": "stream",
     "text": [
      "SVM -TPR: TtestResult(statistic=np.float64(-3.898004221135078), pvalue=np.float64(0.0010540942301865942), df=np.float64(18.0))\n",
      "SVM - FPR: TtestResult(statistic=np.float64(-12.18852362195118), pvalue=np.float64(3.9248825520568925e-10), df=np.float64(18.0))\n",
      "SVM - FN/FP: TtestResult(statistic=np.float64(5.617073262264237), pvalue=np.float64(2.4920344514049116e-05), df=np.float64(18.0))\n",
      "DT -TPR: TtestResult(statistic=np.float64(2.8090981792633483), pvalue=np.float64(0.011608104510726984), df=np.float64(18.0))\n",
      "DT - FPR: TtestResult(statistic=np.float64(-4.1389874381942935), pvalue=np.float64(0.000616383501842338), df=np.float64(18.0))\n",
      "DT - FN/FP: TtestResult(statistic=np.float64(-1.849430479077055), pvalue=np.float64(0.08088629402780313), df=np.float64(18.0))\n",
      "RF -TPR: TtestResult(statistic=np.float64(-3.381802768860907), pvalue=np.float64(0.0033227214095004824), df=np.float64(18.0))\n",
      "RF - FPR: TtestResult(statistic=np.float64(-9.277805101642647), pvalue=np.float64(2.794498240935884e-08), df=np.float64(18.0))\n",
      "RF - FN/FP: TtestResult(statistic=np.float64(4.790258951331025), pvalue=np.float64(0.00014647985022104987), df=np.float64(18.0))\n",
      "LR -TPR: TtestResult(statistic=np.float64(-3.9554231213261786), pvalue=np.float64(0.0009275034879906519), df=np.float64(18.0))\n",
      "LR - FPR: TtestResult(statistic=np.float64(-12.546552626150095), pvalue=np.float64(2.4556315382351153e-10), df=np.float64(18.0))\n",
      "LR - FN/FP: TtestResult(statistic=np.float64(6.537965965869783), pvalue=np.float64(3.816782600552e-06), df=np.float64(18.0))\n",
      "KNN -TPR: MannwhitneyuResult(statistic=np.float64(56.0), pvalue=np.float64(0.6774705127728922))\n",
      "KNN - FPR: TtestResult(statistic=np.float64(-5.6405477657803935), pvalue=np.float64(2.3724630357693962e-05), df=np.float64(18.0))\n",
      "KNN - FN/FP: TtestResult(statistic=np.float64(0.1946379874346827), pvalue=np.float64(0.8478563129327248), df=np.float64(18.0))\n",
      "ANN -TPR: TtestResult(statistic=np.float64(0.49863917863779916), pvalue=np.float64(0.624072088959403), df=np.float64(18.0))\n",
      "ANN - FPR: MannwhitneyuResult(statistic=np.float64(0.0), pvalue=np.float64(0.00018267179110955002))\n",
      "ANN - FN/FP: TtestResult(statistic=np.float64(0.6766008591289684), pvalue=np.float64(0.5072614241503961), df=np.float64(18.0))\n",
      "NB -TPR: TtestResult(statistic=np.float64(0.774403721425389), pvalue=np.float64(0.44874530456452133), df=np.float64(18.0))\n",
      "NB - FPR: TtestResult(statistic=np.float64(-6.99224587272119), pvalue=np.float64(1.0217437886560381e-05), df=np.float64(12.812666278504611))\n",
      "NB - FN/FP: TtestResult(statistic=np.float64(1.3846904760202456), pvalue=np.float64(0.18307251803829339), df=np.float64(18.0))\n"
     ]
    }
   ],
   "source": [
    "label = 'Female'\n",
    "\n",
    "fl.perform_t_tests(df, 'SVM', label)\n",
    "fl.perform_t_tests(df, 'DT', label)\n",
    "fl.perform_t_tests(df, 'RF', label)\n",
    "fl.perform_t_tests(df, 'LR', label)\n",
    "fl.perform_t_tests(df, 'KNN', label)\n",
    "fl.perform_t_tests(df, 'ANN', label)\n",
    "fl.perform_t_tests(df, 'NB', label)\n"
   ]
  }
 ],
 "metadata": {
  "kernelspec": {
   "display_name": "f2ml",
   "language": "python",
   "name": "python3"
  },
  "language_info": {
   "codemirror_mode": {
    "name": "ipython",
    "version": 3
   },
   "file_extension": ".py",
   "mimetype": "text/x-python",
   "name": "python",
   "nbconvert_exporter": "python",
   "pygments_lexer": "ipython3",
   "version": "3.13.0"
  }
 },
 "nbformat": 4,
 "nbformat_minor": 2
}
