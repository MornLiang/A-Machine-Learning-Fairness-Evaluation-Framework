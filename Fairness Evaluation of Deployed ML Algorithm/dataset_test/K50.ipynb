{
 "cells": [
  {
   "cell_type": "code",
   "execution_count": 44,
   "metadata": {},
   "outputs": [
    {
     "name": "stdout",
     "output_type": "stream",
     "text": [
      "Warning: Looks like you're using an outdated `kagglehub` version (installed: 0.3.5), please consider upgrading to the latest version (0.3.6).\n",
      "Path to dataset files: /home/morning/.cache/kagglehub/datasets/amitvkulkarni/lifestyle-factors-influencing-osteoporosis/versions/2\n"
     ]
    }
   ],
   "source": [
    "import kagglehub\n",
    "\n",
    "# Download latest version\n",
    "path = kagglehub.dataset_download(\"amitvkulkarni/lifestyle-factors-influencing-osteoporosis\")\n",
    "\n",
    "print(\"Path to dataset files:\", path)"
   ]
  },
  {
   "cell_type": "code",
   "execution_count": 45,
   "metadata": {},
   "outputs": [
    {
     "data": {
      "text/plain": [
       "['osteoporosis.csv']"
      ]
     },
     "execution_count": 45,
     "metadata": {},
     "output_type": "execute_result"
    }
   ],
   "source": [
    "import os\n",
    "os.listdir(path)"
   ]
  },
  {
   "cell_type": "code",
   "execution_count": 46,
   "metadata": {},
   "outputs": [],
   "source": [
    "import pandas as pd\n",
    "import fairtl_statisticaltest as fl\n",
    "from sklearn.feature_selection import VarianceThreshold\n",
    "from sklearn.preprocessing import StandardScaler\n",
    "from sklearn.model_selection import KFold\n",
    "from sklearn.preprocessing import OrdinalEncoder, LabelEncoder\n",
    "from sklearn.preprocessing import OneHotEncoder"
   ]
  },
  {
   "cell_type": "code",
   "execution_count": 47,
   "metadata": {},
   "outputs": [
    {
     "data": {
      "text/html": [
       "<div>\n",
       "<style scoped>\n",
       "    .dataframe tbody tr th:only-of-type {\n",
       "        vertical-align: middle;\n",
       "    }\n",
       "\n",
       "    .dataframe tbody tr th {\n",
       "        vertical-align: top;\n",
       "    }\n",
       "\n",
       "    .dataframe thead th {\n",
       "        text-align: right;\n",
       "    }\n",
       "</style>\n",
       "<table border=\"1\" class=\"dataframe\">\n",
       "  <thead>\n",
       "    <tr style=\"text-align: right;\">\n",
       "      <th></th>\n",
       "      <th>Id</th>\n",
       "      <th>Age</th>\n",
       "      <th>Gender</th>\n",
       "      <th>Hormonal Changes</th>\n",
       "      <th>Family History</th>\n",
       "      <th>Race/Ethnicity</th>\n",
       "      <th>Body Weight</th>\n",
       "      <th>Calcium Intake</th>\n",
       "      <th>Vitamin D Intake</th>\n",
       "      <th>Physical Activity</th>\n",
       "      <th>Smoking</th>\n",
       "      <th>Alcohol Consumption</th>\n",
       "      <th>Medical Conditions</th>\n",
       "      <th>Medications</th>\n",
       "      <th>Prior Fractures</th>\n",
       "      <th>Osteoporosis</th>\n",
       "    </tr>\n",
       "  </thead>\n",
       "  <tbody>\n",
       "    <tr>\n",
       "      <th>0</th>\n",
       "      <td>1734616</td>\n",
       "      <td>69</td>\n",
       "      <td>Female</td>\n",
       "      <td>Normal</td>\n",
       "      <td>Yes</td>\n",
       "      <td>Asian</td>\n",
       "      <td>Underweight</td>\n",
       "      <td>Low</td>\n",
       "      <td>Sufficient</td>\n",
       "      <td>Sedentary</td>\n",
       "      <td>Yes</td>\n",
       "      <td>Moderate</td>\n",
       "      <td>Rheumatoid Arthritis</td>\n",
       "      <td>Corticosteroids</td>\n",
       "      <td>Yes</td>\n",
       "      <td>1</td>\n",
       "    </tr>\n",
       "    <tr>\n",
       "      <th>1</th>\n",
       "      <td>1419098</td>\n",
       "      <td>32</td>\n",
       "      <td>Female</td>\n",
       "      <td>Normal</td>\n",
       "      <td>Yes</td>\n",
       "      <td>Asian</td>\n",
       "      <td>Underweight</td>\n",
       "      <td>Low</td>\n",
       "      <td>Sufficient</td>\n",
       "      <td>Sedentary</td>\n",
       "      <td>No</td>\n",
       "      <td>NaN</td>\n",
       "      <td>NaN</td>\n",
       "      <td>NaN</td>\n",
       "      <td>Yes</td>\n",
       "      <td>1</td>\n",
       "    </tr>\n",
       "    <tr>\n",
       "      <th>2</th>\n",
       "      <td>1797916</td>\n",
       "      <td>89</td>\n",
       "      <td>Female</td>\n",
       "      <td>Postmenopausal</td>\n",
       "      <td>No</td>\n",
       "      <td>Caucasian</td>\n",
       "      <td>Normal</td>\n",
       "      <td>Adequate</td>\n",
       "      <td>Sufficient</td>\n",
       "      <td>Active</td>\n",
       "      <td>No</td>\n",
       "      <td>Moderate</td>\n",
       "      <td>Hyperthyroidism</td>\n",
       "      <td>Corticosteroids</td>\n",
       "      <td>No</td>\n",
       "      <td>1</td>\n",
       "    </tr>\n",
       "    <tr>\n",
       "      <th>3</th>\n",
       "      <td>1805337</td>\n",
       "      <td>78</td>\n",
       "      <td>Female</td>\n",
       "      <td>Normal</td>\n",
       "      <td>No</td>\n",
       "      <td>Caucasian</td>\n",
       "      <td>Underweight</td>\n",
       "      <td>Adequate</td>\n",
       "      <td>Insufficient</td>\n",
       "      <td>Sedentary</td>\n",
       "      <td>Yes</td>\n",
       "      <td>NaN</td>\n",
       "      <td>Rheumatoid Arthritis</td>\n",
       "      <td>Corticosteroids</td>\n",
       "      <td>No</td>\n",
       "      <td>1</td>\n",
       "    </tr>\n",
       "    <tr>\n",
       "      <th>4</th>\n",
       "      <td>1351334</td>\n",
       "      <td>38</td>\n",
       "      <td>Male</td>\n",
       "      <td>Postmenopausal</td>\n",
       "      <td>Yes</td>\n",
       "      <td>African American</td>\n",
       "      <td>Normal</td>\n",
       "      <td>Low</td>\n",
       "      <td>Sufficient</td>\n",
       "      <td>Active</td>\n",
       "      <td>Yes</td>\n",
       "      <td>NaN</td>\n",
       "      <td>Rheumatoid Arthritis</td>\n",
       "      <td>NaN</td>\n",
       "      <td>Yes</td>\n",
       "      <td>1</td>\n",
       "    </tr>\n",
       "  </tbody>\n",
       "</table>\n",
       "</div>"
      ],
      "text/plain": [
       "        Id  Age  Gender Hormonal Changes Family History    Race/Ethnicity  \\\n",
       "0  1734616   69  Female           Normal            Yes             Asian   \n",
       "1  1419098   32  Female           Normal            Yes             Asian   \n",
       "2  1797916   89  Female   Postmenopausal             No         Caucasian   \n",
       "3  1805337   78  Female           Normal             No         Caucasian   \n",
       "4  1351334   38    Male   Postmenopausal            Yes  African American   \n",
       "\n",
       "   Body Weight Calcium Intake Vitamin D Intake Physical Activity Smoking  \\\n",
       "0  Underweight            Low       Sufficient         Sedentary     Yes   \n",
       "1  Underweight            Low       Sufficient         Sedentary      No   \n",
       "2       Normal       Adequate       Sufficient            Active      No   \n",
       "3  Underweight       Adequate     Insufficient         Sedentary     Yes   \n",
       "4       Normal            Low       Sufficient            Active     Yes   \n",
       "\n",
       "  Alcohol Consumption    Medical Conditions      Medications Prior Fractures  \\\n",
       "0            Moderate  Rheumatoid Arthritis  Corticosteroids             Yes   \n",
       "1                 NaN                   NaN              NaN             Yes   \n",
       "2            Moderate       Hyperthyroidism  Corticosteroids              No   \n",
       "3                 NaN  Rheumatoid Arthritis  Corticosteroids              No   \n",
       "4                 NaN  Rheumatoid Arthritis              NaN             Yes   \n",
       "\n",
       "   Osteoporosis  \n",
       "0             1  \n",
       "1             1  \n",
       "2             1  \n",
       "3             1  \n",
       "4             1  "
      ]
     },
     "execution_count": 47,
     "metadata": {},
     "output_type": "execute_result"
    }
   ],
   "source": [
    "df = pd.read_csv(f\"{path}/osteoporosis.csv\")\n",
    "df.head()"
   ]
  },
  {
   "cell_type": "code",
   "execution_count": 48,
   "metadata": {},
   "outputs": [],
   "source": [
    "df.drop('Id', inplace=True, axis=1)"
   ]
  },
  {
   "cell_type": "code",
   "execution_count": 49,
   "metadata": {},
   "outputs": [
    {
     "data": {
      "text/plain": [
       "(1958, 15)"
      ]
     },
     "execution_count": 49,
     "metadata": {},
     "output_type": "execute_result"
    }
   ],
   "source": [
    "df.shape"
   ]
  },
  {
   "cell_type": "code",
   "execution_count": 50,
   "metadata": {},
   "outputs": [
    {
     "name": "stdout",
     "output_type": "stream",
     "text": [
      "<class 'pandas.core.frame.DataFrame'>\n",
      "RangeIndex: 1958 entries, 0 to 1957\n",
      "Data columns (total 15 columns):\n",
      " #   Column               Non-Null Count  Dtype \n",
      "---  ------               --------------  ----- \n",
      " 0   Age                  1958 non-null   int64 \n",
      " 1   Gender               1958 non-null   object\n",
      " 2   Hormonal Changes     1958 non-null   object\n",
      " 3   Family History       1958 non-null   object\n",
      " 4   Race/Ethnicity       1958 non-null   object\n",
      " 5   Body Weight          1958 non-null   object\n",
      " 6   Calcium Intake       1958 non-null   object\n",
      " 7   Vitamin D Intake     1958 non-null   object\n",
      " 8   Physical Activity    1958 non-null   object\n",
      " 9   Smoking              1958 non-null   object\n",
      " 10  Alcohol Consumption  970 non-null    object\n",
      " 11  Medical Conditions   1311 non-null   object\n",
      " 12  Medications          973 non-null    object\n",
      " 13  Prior Fractures      1958 non-null   object\n",
      " 14  Osteoporosis         1958 non-null   int64 \n",
      "dtypes: int64(2), object(13)\n",
      "memory usage: 229.6+ KB\n"
     ]
    }
   ],
   "source": [
    "df.info()"
   ]
  },
  {
   "cell_type": "code",
   "execution_count": 51,
   "metadata": {},
   "outputs": [
    {
     "data": {
      "text/html": [
       "<div>\n",
       "<style scoped>\n",
       "    .dataframe tbody tr th:only-of-type {\n",
       "        vertical-align: middle;\n",
       "    }\n",
       "\n",
       "    .dataframe tbody tr th {\n",
       "        vertical-align: top;\n",
       "    }\n",
       "\n",
       "    .dataframe thead th {\n",
       "        text-align: right;\n",
       "    }\n",
       "</style>\n",
       "<table border=\"1\" class=\"dataframe\">\n",
       "  <thead>\n",
       "    <tr style=\"text-align: right;\">\n",
       "      <th></th>\n",
       "      <th>Age</th>\n",
       "      <th>Gender</th>\n",
       "      <th>Hormonal Changes</th>\n",
       "      <th>Family History</th>\n",
       "      <th>Race/Ethnicity</th>\n",
       "      <th>Body Weight</th>\n",
       "      <th>Calcium Intake</th>\n",
       "      <th>Vitamin D Intake</th>\n",
       "      <th>Physical Activity</th>\n",
       "      <th>Smoking</th>\n",
       "      <th>Alcohol Consumption</th>\n",
       "      <th>Medical Conditions</th>\n",
       "      <th>Medications</th>\n",
       "      <th>Prior Fractures</th>\n",
       "      <th>Osteoporosis</th>\n",
       "    </tr>\n",
       "  </thead>\n",
       "  <tbody>\n",
       "    <tr>\n",
       "      <th>0</th>\n",
       "      <td>69</td>\n",
       "      <td>Female</td>\n",
       "      <td>Normal</td>\n",
       "      <td>Yes</td>\n",
       "      <td>Asian</td>\n",
       "      <td>Underweight</td>\n",
       "      <td>Low</td>\n",
       "      <td>Sufficient</td>\n",
       "      <td>Sedentary</td>\n",
       "      <td>Yes</td>\n",
       "      <td>1.0</td>\n",
       "      <td>Rheumatoid Arthritis</td>\n",
       "      <td>Corticosteroids</td>\n",
       "      <td>Yes</td>\n",
       "      <td>1</td>\n",
       "    </tr>\n",
       "    <tr>\n",
       "      <th>1</th>\n",
       "      <td>32</td>\n",
       "      <td>Female</td>\n",
       "      <td>Normal</td>\n",
       "      <td>Yes</td>\n",
       "      <td>Asian</td>\n",
       "      <td>Underweight</td>\n",
       "      <td>Low</td>\n",
       "      <td>Sufficient</td>\n",
       "      <td>Sedentary</td>\n",
       "      <td>No</td>\n",
       "      <td>0.0</td>\n",
       "      <td>NaN</td>\n",
       "      <td>NaN</td>\n",
       "      <td>Yes</td>\n",
       "      <td>1</td>\n",
       "    </tr>\n",
       "    <tr>\n",
       "      <th>2</th>\n",
       "      <td>89</td>\n",
       "      <td>Female</td>\n",
       "      <td>Postmenopausal</td>\n",
       "      <td>No</td>\n",
       "      <td>Caucasian</td>\n",
       "      <td>Normal</td>\n",
       "      <td>Adequate</td>\n",
       "      <td>Sufficient</td>\n",
       "      <td>Active</td>\n",
       "      <td>No</td>\n",
       "      <td>1.0</td>\n",
       "      <td>Hyperthyroidism</td>\n",
       "      <td>Corticosteroids</td>\n",
       "      <td>No</td>\n",
       "      <td>1</td>\n",
       "    </tr>\n",
       "    <tr>\n",
       "      <th>3</th>\n",
       "      <td>78</td>\n",
       "      <td>Female</td>\n",
       "      <td>Normal</td>\n",
       "      <td>No</td>\n",
       "      <td>Caucasian</td>\n",
       "      <td>Underweight</td>\n",
       "      <td>Adequate</td>\n",
       "      <td>Insufficient</td>\n",
       "      <td>Sedentary</td>\n",
       "      <td>Yes</td>\n",
       "      <td>0.0</td>\n",
       "      <td>Rheumatoid Arthritis</td>\n",
       "      <td>Corticosteroids</td>\n",
       "      <td>No</td>\n",
       "      <td>1</td>\n",
       "    </tr>\n",
       "    <tr>\n",
       "      <th>4</th>\n",
       "      <td>38</td>\n",
       "      <td>Male</td>\n",
       "      <td>Postmenopausal</td>\n",
       "      <td>Yes</td>\n",
       "      <td>African American</td>\n",
       "      <td>Normal</td>\n",
       "      <td>Low</td>\n",
       "      <td>Sufficient</td>\n",
       "      <td>Active</td>\n",
       "      <td>Yes</td>\n",
       "      <td>0.0</td>\n",
       "      <td>Rheumatoid Arthritis</td>\n",
       "      <td>NaN</td>\n",
       "      <td>Yes</td>\n",
       "      <td>1</td>\n",
       "    </tr>\n",
       "  </tbody>\n",
       "</table>\n",
       "</div>"
      ],
      "text/plain": [
       "   Age  Gender Hormonal Changes Family History    Race/Ethnicity  Body Weight  \\\n",
       "0   69  Female           Normal            Yes             Asian  Underweight   \n",
       "1   32  Female           Normal            Yes             Asian  Underweight   \n",
       "2   89  Female   Postmenopausal             No         Caucasian       Normal   \n",
       "3   78  Female           Normal             No         Caucasian  Underweight   \n",
       "4   38    Male   Postmenopausal            Yes  African American       Normal   \n",
       "\n",
       "  Calcium Intake Vitamin D Intake Physical Activity Smoking  \\\n",
       "0            Low       Sufficient         Sedentary     Yes   \n",
       "1            Low       Sufficient         Sedentary      No   \n",
       "2       Adequate       Sufficient            Active      No   \n",
       "3       Adequate     Insufficient         Sedentary     Yes   \n",
       "4            Low       Sufficient            Active     Yes   \n",
       "\n",
       "   Alcohol Consumption    Medical Conditions      Medications Prior Fractures  \\\n",
       "0                  1.0  Rheumatoid Arthritis  Corticosteroids             Yes   \n",
       "1                  0.0                   NaN              NaN             Yes   \n",
       "2                  1.0       Hyperthyroidism  Corticosteroids              No   \n",
       "3                  0.0  Rheumatoid Arthritis  Corticosteroids              No   \n",
       "4                  0.0  Rheumatoid Arthritis              NaN             Yes   \n",
       "\n",
       "   Osteoporosis  \n",
       "0             1  \n",
       "1             1  \n",
       "2             1  \n",
       "3             1  \n",
       "4             1  "
      ]
     },
     "execution_count": 51,
     "metadata": {},
     "output_type": "execute_result"
    }
   ],
   "source": [
    "df['Alcohol Consumption'] = df['Alcohol Consumption'].map({'Moderate': 1})\n",
    "df['Alcohol Consumption'] = df['Alcohol Consumption'].fillna(0)\n",
    "df.head()"
   ]
  },
  {
   "cell_type": "code",
   "execution_count": 52,
   "metadata": {},
   "outputs": [
    {
     "data": {
      "text/plain": [
       "array([2, 0, 1])"
      ]
     },
     "execution_count": 52,
     "metadata": {},
     "output_type": "execute_result"
    }
   ],
   "source": [
    "df['Medical Conditions'] = df['Medical Conditions'].fillna('No')\n",
    "df['Medical Conditions'] = df['Medical Conditions'].map({'No': 0, 'Hyperthyroidism': 1, 'Rheumatoid Arthritis': 2})\n",
    "df['Medical Conditions'].unique()\n"
   ]
  },
  {
   "cell_type": "code",
   "execution_count": 53,
   "metadata": {},
   "outputs": [
    {
     "data": {
      "text/plain": [
       "array([1, 0])"
      ]
     },
     "execution_count": 53,
     "metadata": {},
     "output_type": "execute_result"
    }
   ],
   "source": [
    "df['Medications'] = df['Medications'].fillna('No')\n",
    "df['Medications'] = df['Medications'].map({'No': 0, 'Corticosteroids': 1})\n",
    "df['Medications'].unique()\n"
   ]
  },
  {
   "cell_type": "code",
   "execution_count": 54,
   "metadata": {},
   "outputs": [
    {
     "name": "stdout",
     "output_type": "stream",
     "text": [
      "<class 'pandas.core.frame.DataFrame'>\n",
      "RangeIndex: 1958 entries, 0 to 1957\n",
      "Data columns (total 15 columns):\n",
      " #   Column               Non-Null Count  Dtype  \n",
      "---  ------               --------------  -----  \n",
      " 0   Age                  1958 non-null   int64  \n",
      " 1   Gender               1958 non-null   object \n",
      " 2   Hormonal Changes     1958 non-null   object \n",
      " 3   Family History       1958 non-null   object \n",
      " 4   Race/Ethnicity       1958 non-null   object \n",
      " 5   Body Weight          1958 non-null   object \n",
      " 6   Calcium Intake       1958 non-null   object \n",
      " 7   Vitamin D Intake     1958 non-null   object \n",
      " 8   Physical Activity    1958 non-null   object \n",
      " 9   Smoking              1958 non-null   object \n",
      " 10  Alcohol Consumption  1958 non-null   float64\n",
      " 11  Medical Conditions   1958 non-null   int64  \n",
      " 12  Medications          1958 non-null   int64  \n",
      " 13  Prior Fractures      1958 non-null   object \n",
      " 14  Osteoporosis         1958 non-null   int64  \n",
      "dtypes: float64(1), int64(4), object(10)\n",
      "memory usage: 229.6+ KB\n"
     ]
    }
   ],
   "source": [
    "df.info()"
   ]
  },
  {
   "cell_type": "code",
   "execution_count": 55,
   "metadata": {},
   "outputs": [
    {
     "data": {
      "text/html": [
       "<div>\n",
       "<style scoped>\n",
       "    .dataframe tbody tr th:only-of-type {\n",
       "        vertical-align: middle;\n",
       "    }\n",
       "\n",
       "    .dataframe tbody tr th {\n",
       "        vertical-align: top;\n",
       "    }\n",
       "\n",
       "    .dataframe thead th {\n",
       "        text-align: right;\n",
       "    }\n",
       "</style>\n",
       "<table border=\"1\" class=\"dataframe\">\n",
       "  <thead>\n",
       "    <tr style=\"text-align: right;\">\n",
       "      <th></th>\n",
       "      <th>Age</th>\n",
       "      <th>Gender</th>\n",
       "      <th>Hormonal Changes</th>\n",
       "      <th>Family History</th>\n",
       "      <th>Race/Ethnicity</th>\n",
       "      <th>Body Weight</th>\n",
       "      <th>Calcium Intake</th>\n",
       "      <th>Vitamin D Intake</th>\n",
       "      <th>Physical Activity</th>\n",
       "      <th>Smoking</th>\n",
       "      <th>Alcohol Consumption</th>\n",
       "      <th>Medical Conditions</th>\n",
       "      <th>Medications</th>\n",
       "      <th>Prior Fractures</th>\n",
       "      <th>Osteoporosis</th>\n",
       "    </tr>\n",
       "  </thead>\n",
       "  <tbody>\n",
       "    <tr>\n",
       "      <th>0</th>\n",
       "      <td>69</td>\n",
       "      <td>Female</td>\n",
       "      <td>Normal</td>\n",
       "      <td>Yes</td>\n",
       "      <td>Asian</td>\n",
       "      <td>Underweight</td>\n",
       "      <td>Low</td>\n",
       "      <td>Sufficient</td>\n",
       "      <td>Sedentary</td>\n",
       "      <td>Yes</td>\n",
       "      <td>1.0</td>\n",
       "      <td>2</td>\n",
       "      <td>1</td>\n",
       "      <td>Yes</td>\n",
       "      <td>1</td>\n",
       "    </tr>\n",
       "    <tr>\n",
       "      <th>1</th>\n",
       "      <td>32</td>\n",
       "      <td>Female</td>\n",
       "      <td>Normal</td>\n",
       "      <td>Yes</td>\n",
       "      <td>Asian</td>\n",
       "      <td>Underweight</td>\n",
       "      <td>Low</td>\n",
       "      <td>Sufficient</td>\n",
       "      <td>Sedentary</td>\n",
       "      <td>No</td>\n",
       "      <td>0.0</td>\n",
       "      <td>0</td>\n",
       "      <td>0</td>\n",
       "      <td>Yes</td>\n",
       "      <td>1</td>\n",
       "    </tr>\n",
       "    <tr>\n",
       "      <th>2</th>\n",
       "      <td>89</td>\n",
       "      <td>Female</td>\n",
       "      <td>Postmenopausal</td>\n",
       "      <td>No</td>\n",
       "      <td>Caucasian</td>\n",
       "      <td>Normal</td>\n",
       "      <td>Adequate</td>\n",
       "      <td>Sufficient</td>\n",
       "      <td>Active</td>\n",
       "      <td>No</td>\n",
       "      <td>1.0</td>\n",
       "      <td>1</td>\n",
       "      <td>1</td>\n",
       "      <td>No</td>\n",
       "      <td>1</td>\n",
       "    </tr>\n",
       "    <tr>\n",
       "      <th>3</th>\n",
       "      <td>78</td>\n",
       "      <td>Female</td>\n",
       "      <td>Normal</td>\n",
       "      <td>No</td>\n",
       "      <td>Caucasian</td>\n",
       "      <td>Underweight</td>\n",
       "      <td>Adequate</td>\n",
       "      <td>Insufficient</td>\n",
       "      <td>Sedentary</td>\n",
       "      <td>Yes</td>\n",
       "      <td>0.0</td>\n",
       "      <td>2</td>\n",
       "      <td>1</td>\n",
       "      <td>No</td>\n",
       "      <td>1</td>\n",
       "    </tr>\n",
       "    <tr>\n",
       "      <th>4</th>\n",
       "      <td>38</td>\n",
       "      <td>Male</td>\n",
       "      <td>Postmenopausal</td>\n",
       "      <td>Yes</td>\n",
       "      <td>African American</td>\n",
       "      <td>Normal</td>\n",
       "      <td>Low</td>\n",
       "      <td>Sufficient</td>\n",
       "      <td>Active</td>\n",
       "      <td>Yes</td>\n",
       "      <td>0.0</td>\n",
       "      <td>2</td>\n",
       "      <td>0</td>\n",
       "      <td>Yes</td>\n",
       "      <td>1</td>\n",
       "    </tr>\n",
       "  </tbody>\n",
       "</table>\n",
       "</div>"
      ],
      "text/plain": [
       "   Age  Gender Hormonal Changes Family History    Race/Ethnicity  Body Weight  \\\n",
       "0   69  Female           Normal            Yes             Asian  Underweight   \n",
       "1   32  Female           Normal            Yes             Asian  Underweight   \n",
       "2   89  Female   Postmenopausal             No         Caucasian       Normal   \n",
       "3   78  Female           Normal             No         Caucasian  Underweight   \n",
       "4   38    Male   Postmenopausal            Yes  African American       Normal   \n",
       "\n",
       "  Calcium Intake Vitamin D Intake Physical Activity Smoking  \\\n",
       "0            Low       Sufficient         Sedentary     Yes   \n",
       "1            Low       Sufficient         Sedentary      No   \n",
       "2       Adequate       Sufficient            Active      No   \n",
       "3       Adequate     Insufficient         Sedentary     Yes   \n",
       "4            Low       Sufficient            Active     Yes   \n",
       "\n",
       "   Alcohol Consumption  Medical Conditions  Medications Prior Fractures  \\\n",
       "0                  1.0                   2            1             Yes   \n",
       "1                  0.0                   0            0             Yes   \n",
       "2                  1.0                   1            1              No   \n",
       "3                  0.0                   2            1              No   \n",
       "4                  0.0                   2            0             Yes   \n",
       "\n",
       "   Osteoporosis  \n",
       "0             1  \n",
       "1             1  \n",
       "2             1  \n",
       "3             1  \n",
       "4             1  "
      ]
     },
     "execution_count": 55,
     "metadata": {},
     "output_type": "execute_result"
    }
   ],
   "source": [
    "df.head()"
   ]
  },
  {
   "cell_type": "code",
   "execution_count": 56,
   "metadata": {},
   "outputs": [],
   "source": [
    "df['Gender'] = df['Gender'].map({'Female': 0, 'Male': 1})\n"
   ]
  },
  {
   "cell_type": "code",
   "execution_count": 57,
   "metadata": {},
   "outputs": [
    {
     "data": {
      "text/plain": [
       "array([0, 1])"
      ]
     },
     "execution_count": 57,
     "metadata": {},
     "output_type": "execute_result"
    }
   ],
   "source": [
    "df['Hormonal Changes'] = df['Hormonal Changes'].map({'Normal': 0, 'Postmenopausal': 1})\n",
    "df['Hormonal Changes'].unique()"
   ]
  },
  {
   "cell_type": "code",
   "execution_count": 58,
   "metadata": {},
   "outputs": [
    {
     "data": {
      "text/plain": [
       "array(['Yes', 'No'], dtype=object)"
      ]
     },
     "execution_count": 58,
     "metadata": {},
     "output_type": "execute_result"
    }
   ],
   "source": [
    "df['Family History'].unique()"
   ]
  },
  {
   "cell_type": "code",
   "execution_count": 59,
   "metadata": {},
   "outputs": [],
   "source": [
    "df['Family History'] = df['Family History'].map({'No': 0, 'Yes': 1})"
   ]
  },
  {
   "cell_type": "code",
   "execution_count": 60,
   "metadata": {},
   "outputs": [
    {
     "data": {
      "text/plain": [
       "array(['Asian', 'Caucasian', 'African American'], dtype=object)"
      ]
     },
     "execution_count": 60,
     "metadata": {},
     "output_type": "execute_result"
    }
   ],
   "source": [
    "df['Race/Ethnicity'].unique()"
   ]
  },
  {
   "cell_type": "code",
   "execution_count": 61,
   "metadata": {},
   "outputs": [
    {
     "name": "stdout",
     "output_type": "stream",
     "text": [
      "['x0_African American' 'x0_Asian' 'x0_Caucasian']\n"
     ]
    }
   ],
   "source": [
    "enc = OneHotEncoder(categories='auto')\n",
    "race = df['Race/Ethnicity'].values.reshape(-1, 1)\n",
    "enc.fit(race)\n",
    "new_features = enc.get_feature_names_out()\n",
    "print(new_features)\n",
    "new_race = pd.DataFrame(enc.transform(race).toarray())"
   ]
  },
  {
   "cell_type": "code",
   "execution_count": 62,
   "metadata": {},
   "outputs": [],
   "source": [
    "new_race.columns = ['African American', 'Asian', 'Caucasian']"
   ]
  },
  {
   "cell_type": "code",
   "execution_count": 63,
   "metadata": {},
   "outputs": [],
   "source": [
    "df = pd.concat([df, new_race], axis=1)\n",
    "df.drop('Race/Ethnicity', axis=1, inplace=True)"
   ]
  },
  {
   "cell_type": "code",
   "execution_count": 64,
   "metadata": {},
   "outputs": [
    {
     "data": {
      "text/html": [
       "<div>\n",
       "<style scoped>\n",
       "    .dataframe tbody tr th:only-of-type {\n",
       "        vertical-align: middle;\n",
       "    }\n",
       "\n",
       "    .dataframe tbody tr th {\n",
       "        vertical-align: top;\n",
       "    }\n",
       "\n",
       "    .dataframe thead th {\n",
       "        text-align: right;\n",
       "    }\n",
       "</style>\n",
       "<table border=\"1\" class=\"dataframe\">\n",
       "  <thead>\n",
       "    <tr style=\"text-align: right;\">\n",
       "      <th></th>\n",
       "      <th>Age</th>\n",
       "      <th>Gender</th>\n",
       "      <th>Hormonal Changes</th>\n",
       "      <th>Family History</th>\n",
       "      <th>Body Weight</th>\n",
       "      <th>Calcium Intake</th>\n",
       "      <th>Vitamin D Intake</th>\n",
       "      <th>Physical Activity</th>\n",
       "      <th>Smoking</th>\n",
       "      <th>Alcohol Consumption</th>\n",
       "      <th>Medical Conditions</th>\n",
       "      <th>Medications</th>\n",
       "      <th>Prior Fractures</th>\n",
       "      <th>Osteoporosis</th>\n",
       "      <th>African American</th>\n",
       "      <th>Asian</th>\n",
       "      <th>Caucasian</th>\n",
       "    </tr>\n",
       "  </thead>\n",
       "  <tbody>\n",
       "    <tr>\n",
       "      <th>0</th>\n",
       "      <td>69</td>\n",
       "      <td>0</td>\n",
       "      <td>0</td>\n",
       "      <td>1</td>\n",
       "      <td>Underweight</td>\n",
       "      <td>Low</td>\n",
       "      <td>Sufficient</td>\n",
       "      <td>Sedentary</td>\n",
       "      <td>Yes</td>\n",
       "      <td>1.0</td>\n",
       "      <td>2</td>\n",
       "      <td>1</td>\n",
       "      <td>Yes</td>\n",
       "      <td>1</td>\n",
       "      <td>0.0</td>\n",
       "      <td>1.0</td>\n",
       "      <td>0.0</td>\n",
       "    </tr>\n",
       "    <tr>\n",
       "      <th>1</th>\n",
       "      <td>32</td>\n",
       "      <td>0</td>\n",
       "      <td>0</td>\n",
       "      <td>1</td>\n",
       "      <td>Underweight</td>\n",
       "      <td>Low</td>\n",
       "      <td>Sufficient</td>\n",
       "      <td>Sedentary</td>\n",
       "      <td>No</td>\n",
       "      <td>0.0</td>\n",
       "      <td>0</td>\n",
       "      <td>0</td>\n",
       "      <td>Yes</td>\n",
       "      <td>1</td>\n",
       "      <td>0.0</td>\n",
       "      <td>1.0</td>\n",
       "      <td>0.0</td>\n",
       "    </tr>\n",
       "    <tr>\n",
       "      <th>2</th>\n",
       "      <td>89</td>\n",
       "      <td>0</td>\n",
       "      <td>1</td>\n",
       "      <td>0</td>\n",
       "      <td>Normal</td>\n",
       "      <td>Adequate</td>\n",
       "      <td>Sufficient</td>\n",
       "      <td>Active</td>\n",
       "      <td>No</td>\n",
       "      <td>1.0</td>\n",
       "      <td>1</td>\n",
       "      <td>1</td>\n",
       "      <td>No</td>\n",
       "      <td>1</td>\n",
       "      <td>0.0</td>\n",
       "      <td>0.0</td>\n",
       "      <td>1.0</td>\n",
       "    </tr>\n",
       "    <tr>\n",
       "      <th>3</th>\n",
       "      <td>78</td>\n",
       "      <td>0</td>\n",
       "      <td>0</td>\n",
       "      <td>0</td>\n",
       "      <td>Underweight</td>\n",
       "      <td>Adequate</td>\n",
       "      <td>Insufficient</td>\n",
       "      <td>Sedentary</td>\n",
       "      <td>Yes</td>\n",
       "      <td>0.0</td>\n",
       "      <td>2</td>\n",
       "      <td>1</td>\n",
       "      <td>No</td>\n",
       "      <td>1</td>\n",
       "      <td>0.0</td>\n",
       "      <td>0.0</td>\n",
       "      <td>1.0</td>\n",
       "    </tr>\n",
       "    <tr>\n",
       "      <th>4</th>\n",
       "      <td>38</td>\n",
       "      <td>1</td>\n",
       "      <td>1</td>\n",
       "      <td>1</td>\n",
       "      <td>Normal</td>\n",
       "      <td>Low</td>\n",
       "      <td>Sufficient</td>\n",
       "      <td>Active</td>\n",
       "      <td>Yes</td>\n",
       "      <td>0.0</td>\n",
       "      <td>2</td>\n",
       "      <td>0</td>\n",
       "      <td>Yes</td>\n",
       "      <td>1</td>\n",
       "      <td>1.0</td>\n",
       "      <td>0.0</td>\n",
       "      <td>0.0</td>\n",
       "    </tr>\n",
       "  </tbody>\n",
       "</table>\n",
       "</div>"
      ],
      "text/plain": [
       "   Age  Gender  Hormonal Changes  Family History  Body Weight Calcium Intake  \\\n",
       "0   69       0                 0               1  Underweight            Low   \n",
       "1   32       0                 0               1  Underweight            Low   \n",
       "2   89       0                 1               0       Normal       Adequate   \n",
       "3   78       0                 0               0  Underweight       Adequate   \n",
       "4   38       1                 1               1       Normal            Low   \n",
       "\n",
       "  Vitamin D Intake Physical Activity Smoking  Alcohol Consumption  \\\n",
       "0       Sufficient         Sedentary     Yes                  1.0   \n",
       "1       Sufficient         Sedentary      No                  0.0   \n",
       "2       Sufficient            Active      No                  1.0   \n",
       "3     Insufficient         Sedentary     Yes                  0.0   \n",
       "4       Sufficient            Active     Yes                  0.0   \n",
       "\n",
       "   Medical Conditions  Medications Prior Fractures  Osteoporosis  \\\n",
       "0                   2            1             Yes             1   \n",
       "1                   0            0             Yes             1   \n",
       "2                   1            1              No             1   \n",
       "3                   2            1              No             1   \n",
       "4                   2            0             Yes             1   \n",
       "\n",
       "   African American  Asian  Caucasian  \n",
       "0               0.0    1.0        0.0  \n",
       "1               0.0    1.0        0.0  \n",
       "2               0.0    0.0        1.0  \n",
       "3               0.0    0.0        1.0  \n",
       "4               1.0    0.0        0.0  "
      ]
     },
     "execution_count": 64,
     "metadata": {},
     "output_type": "execute_result"
    }
   ],
   "source": [
    "df.head()"
   ]
  },
  {
   "cell_type": "code",
   "execution_count": 65,
   "metadata": {},
   "outputs": [
    {
     "data": {
      "text/plain": [
       "array(['Underweight', 'Normal'], dtype=object)"
      ]
     },
     "execution_count": 65,
     "metadata": {},
     "output_type": "execute_result"
    }
   ],
   "source": [
    "df['Body Weight'].unique()"
   ]
  },
  {
   "cell_type": "code",
   "execution_count": 66,
   "metadata": {},
   "outputs": [],
   "source": [
    "df['Body Weight'] = df['Body Weight'].map({'Underweight': 1, 'Normal': 0})"
   ]
  },
  {
   "cell_type": "code",
   "execution_count": 67,
   "metadata": {},
   "outputs": [],
   "source": [
    "df['Calcium Intake'] = df['Calcium Intake'].map({'Low': 1, 'Adequate': 0})"
   ]
  },
  {
   "cell_type": "code",
   "execution_count": 68,
   "metadata": {},
   "outputs": [
    {
     "data": {
      "text/html": [
       "<div>\n",
       "<style scoped>\n",
       "    .dataframe tbody tr th:only-of-type {\n",
       "        vertical-align: middle;\n",
       "    }\n",
       "\n",
       "    .dataframe tbody tr th {\n",
       "        vertical-align: top;\n",
       "    }\n",
       "\n",
       "    .dataframe thead th {\n",
       "        text-align: right;\n",
       "    }\n",
       "</style>\n",
       "<table border=\"1\" class=\"dataframe\">\n",
       "  <thead>\n",
       "    <tr style=\"text-align: right;\">\n",
       "      <th></th>\n",
       "      <th>Age</th>\n",
       "      <th>Gender</th>\n",
       "      <th>Hormonal Changes</th>\n",
       "      <th>Family History</th>\n",
       "      <th>Body Weight</th>\n",
       "      <th>Calcium Intake</th>\n",
       "      <th>Vitamin D Intake</th>\n",
       "      <th>Physical Activity</th>\n",
       "      <th>Smoking</th>\n",
       "      <th>Alcohol Consumption</th>\n",
       "      <th>Medical Conditions</th>\n",
       "      <th>Medications</th>\n",
       "      <th>Prior Fractures</th>\n",
       "      <th>Osteoporosis</th>\n",
       "      <th>African American</th>\n",
       "      <th>Asian</th>\n",
       "      <th>Caucasian</th>\n",
       "    </tr>\n",
       "  </thead>\n",
       "  <tbody>\n",
       "    <tr>\n",
       "      <th>0</th>\n",
       "      <td>69</td>\n",
       "      <td>0</td>\n",
       "      <td>0</td>\n",
       "      <td>1</td>\n",
       "      <td>1</td>\n",
       "      <td>1</td>\n",
       "      <td>Sufficient</td>\n",
       "      <td>Sedentary</td>\n",
       "      <td>Yes</td>\n",
       "      <td>1.0</td>\n",
       "      <td>2</td>\n",
       "      <td>1</td>\n",
       "      <td>Yes</td>\n",
       "      <td>1</td>\n",
       "      <td>0.0</td>\n",
       "      <td>1.0</td>\n",
       "      <td>0.0</td>\n",
       "    </tr>\n",
       "    <tr>\n",
       "      <th>1</th>\n",
       "      <td>32</td>\n",
       "      <td>0</td>\n",
       "      <td>0</td>\n",
       "      <td>1</td>\n",
       "      <td>1</td>\n",
       "      <td>1</td>\n",
       "      <td>Sufficient</td>\n",
       "      <td>Sedentary</td>\n",
       "      <td>No</td>\n",
       "      <td>0.0</td>\n",
       "      <td>0</td>\n",
       "      <td>0</td>\n",
       "      <td>Yes</td>\n",
       "      <td>1</td>\n",
       "      <td>0.0</td>\n",
       "      <td>1.0</td>\n",
       "      <td>0.0</td>\n",
       "    </tr>\n",
       "    <tr>\n",
       "      <th>2</th>\n",
       "      <td>89</td>\n",
       "      <td>0</td>\n",
       "      <td>1</td>\n",
       "      <td>0</td>\n",
       "      <td>0</td>\n",
       "      <td>0</td>\n",
       "      <td>Sufficient</td>\n",
       "      <td>Active</td>\n",
       "      <td>No</td>\n",
       "      <td>1.0</td>\n",
       "      <td>1</td>\n",
       "      <td>1</td>\n",
       "      <td>No</td>\n",
       "      <td>1</td>\n",
       "      <td>0.0</td>\n",
       "      <td>0.0</td>\n",
       "      <td>1.0</td>\n",
       "    </tr>\n",
       "    <tr>\n",
       "      <th>3</th>\n",
       "      <td>78</td>\n",
       "      <td>0</td>\n",
       "      <td>0</td>\n",
       "      <td>0</td>\n",
       "      <td>1</td>\n",
       "      <td>0</td>\n",
       "      <td>Insufficient</td>\n",
       "      <td>Sedentary</td>\n",
       "      <td>Yes</td>\n",
       "      <td>0.0</td>\n",
       "      <td>2</td>\n",
       "      <td>1</td>\n",
       "      <td>No</td>\n",
       "      <td>1</td>\n",
       "      <td>0.0</td>\n",
       "      <td>0.0</td>\n",
       "      <td>1.0</td>\n",
       "    </tr>\n",
       "    <tr>\n",
       "      <th>4</th>\n",
       "      <td>38</td>\n",
       "      <td>1</td>\n",
       "      <td>1</td>\n",
       "      <td>1</td>\n",
       "      <td>0</td>\n",
       "      <td>1</td>\n",
       "      <td>Sufficient</td>\n",
       "      <td>Active</td>\n",
       "      <td>Yes</td>\n",
       "      <td>0.0</td>\n",
       "      <td>2</td>\n",
       "      <td>0</td>\n",
       "      <td>Yes</td>\n",
       "      <td>1</td>\n",
       "      <td>1.0</td>\n",
       "      <td>0.0</td>\n",
       "      <td>0.0</td>\n",
       "    </tr>\n",
       "  </tbody>\n",
       "</table>\n",
       "</div>"
      ],
      "text/plain": [
       "   Age  Gender  Hormonal Changes  Family History  Body Weight  Calcium Intake  \\\n",
       "0   69       0                 0               1            1               1   \n",
       "1   32       0                 0               1            1               1   \n",
       "2   89       0                 1               0            0               0   \n",
       "3   78       0                 0               0            1               0   \n",
       "4   38       1                 1               1            0               1   \n",
       "\n",
       "  Vitamin D Intake Physical Activity Smoking  Alcohol Consumption  \\\n",
       "0       Sufficient         Sedentary     Yes                  1.0   \n",
       "1       Sufficient         Sedentary      No                  0.0   \n",
       "2       Sufficient            Active      No                  1.0   \n",
       "3     Insufficient         Sedentary     Yes                  0.0   \n",
       "4       Sufficient            Active     Yes                  0.0   \n",
       "\n",
       "   Medical Conditions  Medications Prior Fractures  Osteoporosis  \\\n",
       "0                   2            1             Yes             1   \n",
       "1                   0            0             Yes             1   \n",
       "2                   1            1              No             1   \n",
       "3                   2            1              No             1   \n",
       "4                   2            0             Yes             1   \n",
       "\n",
       "   African American  Asian  Caucasian  \n",
       "0               0.0    1.0        0.0  \n",
       "1               0.0    1.0        0.0  \n",
       "2               0.0    0.0        1.0  \n",
       "3               0.0    0.0        1.0  \n",
       "4               1.0    0.0        0.0  "
      ]
     },
     "execution_count": 68,
     "metadata": {},
     "output_type": "execute_result"
    }
   ],
   "source": [
    "df.head()"
   ]
  },
  {
   "cell_type": "code",
   "execution_count": 69,
   "metadata": {},
   "outputs": [
    {
     "data": {
      "text/plain": [
       "array(['Sufficient', 'Insufficient'], dtype=object)"
      ]
     },
     "execution_count": 69,
     "metadata": {},
     "output_type": "execute_result"
    }
   ],
   "source": [
    "df['Vitamin D Intake'].unique()"
   ]
  },
  {
   "cell_type": "code",
   "execution_count": 70,
   "metadata": {},
   "outputs": [],
   "source": [
    "df['Vitamin D Intake'] = df['Vitamin D Intake'].map({'Insufficient': 1, 'Sufficient': 0})"
   ]
  },
  {
   "cell_type": "code",
   "execution_count": 71,
   "metadata": {},
   "outputs": [
    {
     "data": {
      "text/plain": [
       "array(['Sedentary', 'Active'], dtype=object)"
      ]
     },
     "execution_count": 71,
     "metadata": {},
     "output_type": "execute_result"
    }
   ],
   "source": [
    "df['Physical Activity'].unique()"
   ]
  },
  {
   "cell_type": "code",
   "execution_count": 72,
   "metadata": {},
   "outputs": [],
   "source": [
    "df['Physical Activity'] = df['Physical Activity'].map({'Active': 0, 'Sedentary': 1})"
   ]
  },
  {
   "cell_type": "code",
   "execution_count": 73,
   "metadata": {},
   "outputs": [
    {
     "data": {
      "text/html": [
       "<div>\n",
       "<style scoped>\n",
       "    .dataframe tbody tr th:only-of-type {\n",
       "        vertical-align: middle;\n",
       "    }\n",
       "\n",
       "    .dataframe tbody tr th {\n",
       "        vertical-align: top;\n",
       "    }\n",
       "\n",
       "    .dataframe thead th {\n",
       "        text-align: right;\n",
       "    }\n",
       "</style>\n",
       "<table border=\"1\" class=\"dataframe\">\n",
       "  <thead>\n",
       "    <tr style=\"text-align: right;\">\n",
       "      <th></th>\n",
       "      <th>Age</th>\n",
       "      <th>Gender</th>\n",
       "      <th>Hormonal Changes</th>\n",
       "      <th>Family History</th>\n",
       "      <th>Body Weight</th>\n",
       "      <th>Calcium Intake</th>\n",
       "      <th>Vitamin D Intake</th>\n",
       "      <th>Physical Activity</th>\n",
       "      <th>Smoking</th>\n",
       "      <th>Alcohol Consumption</th>\n",
       "      <th>Medical Conditions</th>\n",
       "      <th>Medications</th>\n",
       "      <th>Prior Fractures</th>\n",
       "      <th>Osteoporosis</th>\n",
       "      <th>African American</th>\n",
       "      <th>Asian</th>\n",
       "      <th>Caucasian</th>\n",
       "    </tr>\n",
       "  </thead>\n",
       "  <tbody>\n",
       "    <tr>\n",
       "      <th>0</th>\n",
       "      <td>69</td>\n",
       "      <td>0</td>\n",
       "      <td>0</td>\n",
       "      <td>1</td>\n",
       "      <td>1</td>\n",
       "      <td>1</td>\n",
       "      <td>0</td>\n",
       "      <td>1</td>\n",
       "      <td>Yes</td>\n",
       "      <td>1.0</td>\n",
       "      <td>2</td>\n",
       "      <td>1</td>\n",
       "      <td>Yes</td>\n",
       "      <td>1</td>\n",
       "      <td>0.0</td>\n",
       "      <td>1.0</td>\n",
       "      <td>0.0</td>\n",
       "    </tr>\n",
       "    <tr>\n",
       "      <th>1</th>\n",
       "      <td>32</td>\n",
       "      <td>0</td>\n",
       "      <td>0</td>\n",
       "      <td>1</td>\n",
       "      <td>1</td>\n",
       "      <td>1</td>\n",
       "      <td>0</td>\n",
       "      <td>1</td>\n",
       "      <td>No</td>\n",
       "      <td>0.0</td>\n",
       "      <td>0</td>\n",
       "      <td>0</td>\n",
       "      <td>Yes</td>\n",
       "      <td>1</td>\n",
       "      <td>0.0</td>\n",
       "      <td>1.0</td>\n",
       "      <td>0.0</td>\n",
       "    </tr>\n",
       "    <tr>\n",
       "      <th>2</th>\n",
       "      <td>89</td>\n",
       "      <td>0</td>\n",
       "      <td>1</td>\n",
       "      <td>0</td>\n",
       "      <td>0</td>\n",
       "      <td>0</td>\n",
       "      <td>0</td>\n",
       "      <td>0</td>\n",
       "      <td>No</td>\n",
       "      <td>1.0</td>\n",
       "      <td>1</td>\n",
       "      <td>1</td>\n",
       "      <td>No</td>\n",
       "      <td>1</td>\n",
       "      <td>0.0</td>\n",
       "      <td>0.0</td>\n",
       "      <td>1.0</td>\n",
       "    </tr>\n",
       "    <tr>\n",
       "      <th>3</th>\n",
       "      <td>78</td>\n",
       "      <td>0</td>\n",
       "      <td>0</td>\n",
       "      <td>0</td>\n",
       "      <td>1</td>\n",
       "      <td>0</td>\n",
       "      <td>1</td>\n",
       "      <td>1</td>\n",
       "      <td>Yes</td>\n",
       "      <td>0.0</td>\n",
       "      <td>2</td>\n",
       "      <td>1</td>\n",
       "      <td>No</td>\n",
       "      <td>1</td>\n",
       "      <td>0.0</td>\n",
       "      <td>0.0</td>\n",
       "      <td>1.0</td>\n",
       "    </tr>\n",
       "    <tr>\n",
       "      <th>4</th>\n",
       "      <td>38</td>\n",
       "      <td>1</td>\n",
       "      <td>1</td>\n",
       "      <td>1</td>\n",
       "      <td>0</td>\n",
       "      <td>1</td>\n",
       "      <td>0</td>\n",
       "      <td>0</td>\n",
       "      <td>Yes</td>\n",
       "      <td>0.0</td>\n",
       "      <td>2</td>\n",
       "      <td>0</td>\n",
       "      <td>Yes</td>\n",
       "      <td>1</td>\n",
       "      <td>1.0</td>\n",
       "      <td>0.0</td>\n",
       "      <td>0.0</td>\n",
       "    </tr>\n",
       "  </tbody>\n",
       "</table>\n",
       "</div>"
      ],
      "text/plain": [
       "   Age  Gender  Hormonal Changes  Family History  Body Weight  Calcium Intake  \\\n",
       "0   69       0                 0               1            1               1   \n",
       "1   32       0                 0               1            1               1   \n",
       "2   89       0                 1               0            0               0   \n",
       "3   78       0                 0               0            1               0   \n",
       "4   38       1                 1               1            0               1   \n",
       "\n",
       "   Vitamin D Intake  Physical Activity Smoking  Alcohol Consumption  \\\n",
       "0                 0                  1     Yes                  1.0   \n",
       "1                 0                  1      No                  0.0   \n",
       "2                 0                  0      No                  1.0   \n",
       "3                 1                  1     Yes                  0.0   \n",
       "4                 0                  0     Yes                  0.0   \n",
       "\n",
       "   Medical Conditions  Medications Prior Fractures  Osteoporosis  \\\n",
       "0                   2            1             Yes             1   \n",
       "1                   0            0             Yes             1   \n",
       "2                   1            1              No             1   \n",
       "3                   2            1              No             1   \n",
       "4                   2            0             Yes             1   \n",
       "\n",
       "   African American  Asian  Caucasian  \n",
       "0               0.0    1.0        0.0  \n",
       "1               0.0    1.0        0.0  \n",
       "2               0.0    0.0        1.0  \n",
       "3               0.0    0.0        1.0  \n",
       "4               1.0    0.0        0.0  "
      ]
     },
     "execution_count": 73,
     "metadata": {},
     "output_type": "execute_result"
    }
   ],
   "source": [
    "df.head()"
   ]
  },
  {
   "cell_type": "code",
   "execution_count": 74,
   "metadata": {},
   "outputs": [],
   "source": [
    "df['Smoking'] = df['Smoking'].map({'No': 0, 'Yes': 1})"
   ]
  },
  {
   "cell_type": "code",
   "execution_count": 75,
   "metadata": {},
   "outputs": [
    {
     "data": {
      "text/plain": [
       "array(['Yes', 'No'], dtype=object)"
      ]
     },
     "execution_count": 75,
     "metadata": {},
     "output_type": "execute_result"
    }
   ],
   "source": [
    "df['Prior Fractures'].unique()"
   ]
  },
  {
   "cell_type": "code",
   "execution_count": 76,
   "metadata": {},
   "outputs": [],
   "source": [
    "df['Prior Fractures'] = df['Prior Fractures'].map({'No': 0, 'Yes': 1})"
   ]
  },
  {
   "cell_type": "code",
   "execution_count": 77,
   "metadata": {},
   "outputs": [
    {
     "data": {
      "text/html": [
       "<div>\n",
       "<style scoped>\n",
       "    .dataframe tbody tr th:only-of-type {\n",
       "        vertical-align: middle;\n",
       "    }\n",
       "\n",
       "    .dataframe tbody tr th {\n",
       "        vertical-align: top;\n",
       "    }\n",
       "\n",
       "    .dataframe thead th {\n",
       "        text-align: right;\n",
       "    }\n",
       "</style>\n",
       "<table border=\"1\" class=\"dataframe\">\n",
       "  <thead>\n",
       "    <tr style=\"text-align: right;\">\n",
       "      <th></th>\n",
       "      <th>Age</th>\n",
       "      <th>Gender</th>\n",
       "      <th>Hormonal Changes</th>\n",
       "      <th>Family History</th>\n",
       "      <th>Body Weight</th>\n",
       "      <th>Calcium Intake</th>\n",
       "      <th>Vitamin D Intake</th>\n",
       "      <th>Physical Activity</th>\n",
       "      <th>Smoking</th>\n",
       "      <th>Alcohol Consumption</th>\n",
       "      <th>Medical Conditions</th>\n",
       "      <th>Medications</th>\n",
       "      <th>Prior Fractures</th>\n",
       "      <th>Osteoporosis</th>\n",
       "      <th>African American</th>\n",
       "      <th>Asian</th>\n",
       "      <th>Caucasian</th>\n",
       "    </tr>\n",
       "  </thead>\n",
       "  <tbody>\n",
       "    <tr>\n",
       "      <th>0</th>\n",
       "      <td>69</td>\n",
       "      <td>0</td>\n",
       "      <td>0</td>\n",
       "      <td>1</td>\n",
       "      <td>1</td>\n",
       "      <td>1</td>\n",
       "      <td>0</td>\n",
       "      <td>1</td>\n",
       "      <td>1</td>\n",
       "      <td>1.0</td>\n",
       "      <td>2</td>\n",
       "      <td>1</td>\n",
       "      <td>1</td>\n",
       "      <td>1</td>\n",
       "      <td>0.0</td>\n",
       "      <td>1.0</td>\n",
       "      <td>0.0</td>\n",
       "    </tr>\n",
       "    <tr>\n",
       "      <th>1</th>\n",
       "      <td>32</td>\n",
       "      <td>0</td>\n",
       "      <td>0</td>\n",
       "      <td>1</td>\n",
       "      <td>1</td>\n",
       "      <td>1</td>\n",
       "      <td>0</td>\n",
       "      <td>1</td>\n",
       "      <td>0</td>\n",
       "      <td>0.0</td>\n",
       "      <td>0</td>\n",
       "      <td>0</td>\n",
       "      <td>1</td>\n",
       "      <td>1</td>\n",
       "      <td>0.0</td>\n",
       "      <td>1.0</td>\n",
       "      <td>0.0</td>\n",
       "    </tr>\n",
       "    <tr>\n",
       "      <th>2</th>\n",
       "      <td>89</td>\n",
       "      <td>0</td>\n",
       "      <td>1</td>\n",
       "      <td>0</td>\n",
       "      <td>0</td>\n",
       "      <td>0</td>\n",
       "      <td>0</td>\n",
       "      <td>0</td>\n",
       "      <td>0</td>\n",
       "      <td>1.0</td>\n",
       "      <td>1</td>\n",
       "      <td>1</td>\n",
       "      <td>0</td>\n",
       "      <td>1</td>\n",
       "      <td>0.0</td>\n",
       "      <td>0.0</td>\n",
       "      <td>1.0</td>\n",
       "    </tr>\n",
       "    <tr>\n",
       "      <th>3</th>\n",
       "      <td>78</td>\n",
       "      <td>0</td>\n",
       "      <td>0</td>\n",
       "      <td>0</td>\n",
       "      <td>1</td>\n",
       "      <td>0</td>\n",
       "      <td>1</td>\n",
       "      <td>1</td>\n",
       "      <td>1</td>\n",
       "      <td>0.0</td>\n",
       "      <td>2</td>\n",
       "      <td>1</td>\n",
       "      <td>0</td>\n",
       "      <td>1</td>\n",
       "      <td>0.0</td>\n",
       "      <td>0.0</td>\n",
       "      <td>1.0</td>\n",
       "    </tr>\n",
       "    <tr>\n",
       "      <th>4</th>\n",
       "      <td>38</td>\n",
       "      <td>1</td>\n",
       "      <td>1</td>\n",
       "      <td>1</td>\n",
       "      <td>0</td>\n",
       "      <td>1</td>\n",
       "      <td>0</td>\n",
       "      <td>0</td>\n",
       "      <td>1</td>\n",
       "      <td>0.0</td>\n",
       "      <td>2</td>\n",
       "      <td>0</td>\n",
       "      <td>1</td>\n",
       "      <td>1</td>\n",
       "      <td>1.0</td>\n",
       "      <td>0.0</td>\n",
       "      <td>0.0</td>\n",
       "    </tr>\n",
       "  </tbody>\n",
       "</table>\n",
       "</div>"
      ],
      "text/plain": [
       "   Age  Gender  Hormonal Changes  Family History  Body Weight  Calcium Intake  \\\n",
       "0   69       0                 0               1            1               1   \n",
       "1   32       0                 0               1            1               1   \n",
       "2   89       0                 1               0            0               0   \n",
       "3   78       0                 0               0            1               0   \n",
       "4   38       1                 1               1            0               1   \n",
       "\n",
       "   Vitamin D Intake  Physical Activity  Smoking  Alcohol Consumption  \\\n",
       "0                 0                  1        1                  1.0   \n",
       "1                 0                  1        0                  0.0   \n",
       "2                 0                  0        0                  1.0   \n",
       "3                 1                  1        1                  0.0   \n",
       "4                 0                  0        1                  0.0   \n",
       "\n",
       "   Medical Conditions  Medications  Prior Fractures  Osteoporosis  \\\n",
       "0                   2            1                1             1   \n",
       "1                   0            0                1             1   \n",
       "2                   1            1                0             1   \n",
       "3                   2            1                0             1   \n",
       "4                   2            0                1             1   \n",
       "\n",
       "   African American  Asian  Caucasian  \n",
       "0               0.0    1.0        0.0  \n",
       "1               0.0    1.0        0.0  \n",
       "2               0.0    0.0        1.0  \n",
       "3               0.0    0.0        1.0  \n",
       "4               1.0    0.0        0.0  "
      ]
     },
     "execution_count": 77,
     "metadata": {},
     "output_type": "execute_result"
    }
   ],
   "source": [
    "df.head()"
   ]
  },
  {
   "cell_type": "code",
   "execution_count": 78,
   "metadata": {},
   "outputs": [],
   "source": [
    "y = df['Osteoporosis'].values\n",
    "X = df.drop('Osteoporosis', axis=1)"
   ]
  },
  {
   "cell_type": "code",
   "execution_count": 79,
   "metadata": {},
   "outputs": [
    {
     "name": "stdout",
     "output_type": "stream",
     "text": [
      "(1958, 16)\n",
      "(1958, 16)\n"
     ]
    }
   ],
   "source": [
    "print(X.shape)\n",
    "selector = VarianceThreshold(threshold=0.1)\n",
    "X = selector.fit_transform(X)\n",
    "print(X.shape)"
   ]
  },
  {
   "cell_type": "code",
   "execution_count": 80,
   "metadata": {},
   "outputs": [
    {
     "name": "stdout",
     "output_type": "stream",
     "text": [
      "Female:  966\n",
      "Male:  992\n"
     ]
    }
   ],
   "source": [
    "# build mask\n",
    "gender_0_mask = df['Gender'] == 0\n",
    "gender_1_mask = df['Gender'] == 1\n",
    "\n",
    "count_gender_0 = gender_0_mask.sum()\n",
    "count_gender_1 = gender_1_mask.sum()\n",
    "\n",
    "print(\"Female: \", count_gender_0)\n",
    "print(\"Male: \", count_gender_1)\n",
    "\n",
    "scaler = StandardScaler()\n",
    "X_scaled = scaler.fit_transform(X)\n",
    "\n",
    "X_scaled_Gender_0 = X_scaled[gender_0_mask]\n",
    "X_scaled_Gender_1 = X_scaled[gender_1_mask]\n",
    "y_Gender_0 = y[gender_0_mask]\n",
    "y_Gender_1 = y[gender_1_mask]"
   ]
  },
  {
   "cell_type": "code",
   "execution_count": 81,
   "metadata": {},
   "outputs": [],
   "source": [
    "seed = 42\n",
    "models = fl.build_models(seed)\n",
    "\n",
    "results_list = []\n",
    "\n",
    "kf = KFold(n_splits=10, shuffle=True, random_state=seed)"
   ]
  },
  {
   "cell_type": "code",
   "execution_count": 82,
   "metadata": {},
   "outputs": [
    {
     "name": "stdout",
     "output_type": "stream",
     "text": [
      "Starting experiments for Female(0)\n",
      "Processing fold 1 for group Female\n",
      "Training and evaluating model: SVM\n",
      "Training and evaluating model: LR\n",
      "Training and evaluating model: KNN\n",
      "Training and evaluating model: RF\n",
      "Training and evaluating model: DT\n",
      "Training and evaluating model: ANN\n"
     ]
    },
    {
     "name": "stderr",
     "output_type": "stream",
     "text": [
      "/home/morning/miniconda3/envs/f2ml/lib/python3.13/site-packages/sklearn/neural_network/_multilayer_perceptron.py:691: ConvergenceWarning: Stochastic Optimizer: Maximum iterations (200) reached and the optimization hasn't converged yet.\n",
      "  warnings.warn(\n"
     ]
    },
    {
     "name": "stdout",
     "output_type": "stream",
     "text": [
      "Training and evaluating model: NB\n",
      "Processing fold 2 for group Female\n",
      "Training and evaluating model: SVM\n",
      "Training and evaluating model: LR\n",
      "Training and evaluating model: KNN\n",
      "Training and evaluating model: RF\n",
      "Training and evaluating model: DT\n",
      "Training and evaluating model: ANN\n"
     ]
    },
    {
     "name": "stderr",
     "output_type": "stream",
     "text": [
      "/home/morning/miniconda3/envs/f2ml/lib/python3.13/site-packages/sklearn/neural_network/_multilayer_perceptron.py:691: ConvergenceWarning: Stochastic Optimizer: Maximum iterations (200) reached and the optimization hasn't converged yet.\n",
      "  warnings.warn(\n"
     ]
    },
    {
     "name": "stdout",
     "output_type": "stream",
     "text": [
      "Training and evaluating model: NB\n",
      "Processing fold 3 for group Female\n",
      "Training and evaluating model: SVM\n",
      "Training and evaluating model: LR\n",
      "Training and evaluating model: KNN\n",
      "Training and evaluating model: RF\n",
      "Training and evaluating model: DT\n",
      "Training and evaluating model: ANN\n"
     ]
    },
    {
     "name": "stderr",
     "output_type": "stream",
     "text": [
      "/home/morning/miniconda3/envs/f2ml/lib/python3.13/site-packages/sklearn/neural_network/_multilayer_perceptron.py:691: ConvergenceWarning: Stochastic Optimizer: Maximum iterations (200) reached and the optimization hasn't converged yet.\n",
      "  warnings.warn(\n"
     ]
    },
    {
     "name": "stdout",
     "output_type": "stream",
     "text": [
      "Training and evaluating model: NB\n",
      "Processing fold 4 for group Female\n",
      "Training and evaluating model: SVM\n",
      "Training and evaluating model: LR\n",
      "Training and evaluating model: KNN\n",
      "Training and evaluating model: RF\n",
      "Training and evaluating model: DT\n",
      "Training and evaluating model: ANN\n"
     ]
    },
    {
     "name": "stderr",
     "output_type": "stream",
     "text": [
      "/home/morning/miniconda3/envs/f2ml/lib/python3.13/site-packages/sklearn/neural_network/_multilayer_perceptron.py:691: ConvergenceWarning: Stochastic Optimizer: Maximum iterations (200) reached and the optimization hasn't converged yet.\n",
      "  warnings.warn(\n"
     ]
    },
    {
     "name": "stdout",
     "output_type": "stream",
     "text": [
      "Training and evaluating model: NB\n",
      "Processing fold 5 for group Female\n",
      "Training and evaluating model: SVM\n",
      "Training and evaluating model: LR\n",
      "Training and evaluating model: KNN\n",
      "Training and evaluating model: RF\n",
      "Training and evaluating model: DT\n",
      "Training and evaluating model: ANN\n"
     ]
    },
    {
     "name": "stderr",
     "output_type": "stream",
     "text": [
      "/home/morning/miniconda3/envs/f2ml/lib/python3.13/site-packages/sklearn/neural_network/_multilayer_perceptron.py:691: ConvergenceWarning: Stochastic Optimizer: Maximum iterations (200) reached and the optimization hasn't converged yet.\n",
      "  warnings.warn(\n"
     ]
    },
    {
     "name": "stdout",
     "output_type": "stream",
     "text": [
      "Training and evaluating model: NB\n",
      "Processing fold 6 for group Female\n",
      "Training and evaluating model: SVM\n",
      "Training and evaluating model: LR\n",
      "Training and evaluating model: KNN\n",
      "Training and evaluating model: RF\n",
      "Training and evaluating model: DT\n",
      "Training and evaluating model: ANN\n"
     ]
    },
    {
     "name": "stderr",
     "output_type": "stream",
     "text": [
      "/home/morning/miniconda3/envs/f2ml/lib/python3.13/site-packages/sklearn/neural_network/_multilayer_perceptron.py:691: ConvergenceWarning: Stochastic Optimizer: Maximum iterations (200) reached and the optimization hasn't converged yet.\n",
      "  warnings.warn(\n"
     ]
    },
    {
     "name": "stdout",
     "output_type": "stream",
     "text": [
      "Training and evaluating model: NB\n",
      "Processing fold 7 for group Female\n",
      "Training and evaluating model: SVM\n",
      "Training and evaluating model: LR\n",
      "Training and evaluating model: KNN\n",
      "Training and evaluating model: RF\n",
      "Training and evaluating model: DT\n",
      "Training and evaluating model: ANN\n"
     ]
    },
    {
     "name": "stderr",
     "output_type": "stream",
     "text": [
      "/home/morning/miniconda3/envs/f2ml/lib/python3.13/site-packages/sklearn/neural_network/_multilayer_perceptron.py:691: ConvergenceWarning: Stochastic Optimizer: Maximum iterations (200) reached and the optimization hasn't converged yet.\n",
      "  warnings.warn(\n"
     ]
    },
    {
     "name": "stdout",
     "output_type": "stream",
     "text": [
      "Training and evaluating model: NB\n",
      "Processing fold 8 for group Female\n",
      "Training and evaluating model: SVM\n",
      "Training and evaluating model: LR\n",
      "Training and evaluating model: KNN\n",
      "Training and evaluating model: RF\n",
      "Training and evaluating model: DT\n",
      "Training and evaluating model: ANN\n"
     ]
    },
    {
     "name": "stderr",
     "output_type": "stream",
     "text": [
      "/home/morning/miniconda3/envs/f2ml/lib/python3.13/site-packages/sklearn/neural_network/_multilayer_perceptron.py:691: ConvergenceWarning: Stochastic Optimizer: Maximum iterations (200) reached and the optimization hasn't converged yet.\n",
      "  warnings.warn(\n"
     ]
    },
    {
     "name": "stdout",
     "output_type": "stream",
     "text": [
      "Training and evaluating model: NB\n",
      "Processing fold 9 for group Female\n",
      "Training and evaluating model: SVM\n",
      "Training and evaluating model: LR\n",
      "Training and evaluating model: KNN\n",
      "Training and evaluating model: RF\n",
      "Training and evaluating model: DT\n",
      "Training and evaluating model: ANN\n"
     ]
    },
    {
     "name": "stderr",
     "output_type": "stream",
     "text": [
      "/home/morning/miniconda3/envs/f2ml/lib/python3.13/site-packages/sklearn/neural_network/_multilayer_perceptron.py:691: ConvergenceWarning: Stochastic Optimizer: Maximum iterations (200) reached and the optimization hasn't converged yet.\n",
      "  warnings.warn(\n"
     ]
    },
    {
     "name": "stdout",
     "output_type": "stream",
     "text": [
      "Training and evaluating model: NB\n",
      "Processing fold 10 for group Female\n",
      "Training and evaluating model: SVM\n",
      "Training and evaluating model: LR\n",
      "Training and evaluating model: KNN\n",
      "Training and evaluating model: RF\n",
      "Training and evaluating model: DT\n",
      "Training and evaluating model: ANN\n"
     ]
    },
    {
     "name": "stderr",
     "output_type": "stream",
     "text": [
      "/home/morning/miniconda3/envs/f2ml/lib/python3.13/site-packages/sklearn/neural_network/_multilayer_perceptron.py:691: ConvergenceWarning: Stochastic Optimizer: Maximum iterations (200) reached and the optimization hasn't converged yet.\n",
      "  warnings.warn(\n"
     ]
    },
    {
     "name": "stdout",
     "output_type": "stream",
     "text": [
      "Training and evaluating model: NB\n",
      "Starting experiments for Male(1)\n",
      "Processing fold 1 for group Male\n",
      "Training and evaluating model: SVM\n",
      "Training and evaluating model: LR\n",
      "Training and evaluating model: KNN\n",
      "Training and evaluating model: RF\n",
      "Training and evaluating model: DT\n",
      "Training and evaluating model: ANN\n"
     ]
    },
    {
     "name": "stderr",
     "output_type": "stream",
     "text": [
      "/home/morning/miniconda3/envs/f2ml/lib/python3.13/site-packages/sklearn/neural_network/_multilayer_perceptron.py:691: ConvergenceWarning: Stochastic Optimizer: Maximum iterations (200) reached and the optimization hasn't converged yet.\n",
      "  warnings.warn(\n"
     ]
    },
    {
     "name": "stdout",
     "output_type": "stream",
     "text": [
      "Training and evaluating model: NB\n",
      "Processing fold 2 for group Male\n",
      "Training and evaluating model: SVM\n",
      "Training and evaluating model: LR\n",
      "Training and evaluating model: KNN\n",
      "Training and evaluating model: RF\n",
      "Training and evaluating model: DT\n",
      "Training and evaluating model: ANN\n"
     ]
    },
    {
     "name": "stderr",
     "output_type": "stream",
     "text": [
      "/home/morning/miniconda3/envs/f2ml/lib/python3.13/site-packages/sklearn/neural_network/_multilayer_perceptron.py:691: ConvergenceWarning: Stochastic Optimizer: Maximum iterations (200) reached and the optimization hasn't converged yet.\n",
      "  warnings.warn(\n"
     ]
    },
    {
     "name": "stdout",
     "output_type": "stream",
     "text": [
      "Training and evaluating model: NB\n",
      "Processing fold 3 for group Male\n",
      "Training and evaluating model: SVM\n",
      "Training and evaluating model: LR\n",
      "Training and evaluating model: KNN\n",
      "Training and evaluating model: RF\n",
      "Training and evaluating model: DT\n",
      "Training and evaluating model: ANN\n"
     ]
    },
    {
     "name": "stderr",
     "output_type": "stream",
     "text": [
      "/home/morning/miniconda3/envs/f2ml/lib/python3.13/site-packages/sklearn/neural_network/_multilayer_perceptron.py:691: ConvergenceWarning: Stochastic Optimizer: Maximum iterations (200) reached and the optimization hasn't converged yet.\n",
      "  warnings.warn(\n"
     ]
    },
    {
     "name": "stdout",
     "output_type": "stream",
     "text": [
      "Training and evaluating model: NB\n",
      "Processing fold 4 for group Male\n",
      "Training and evaluating model: SVM\n",
      "Training and evaluating model: LR\n",
      "Training and evaluating model: KNN\n",
      "Training and evaluating model: RF\n",
      "Training and evaluating model: DT\n",
      "Training and evaluating model: ANN\n"
     ]
    },
    {
     "name": "stderr",
     "output_type": "stream",
     "text": [
      "/home/morning/miniconda3/envs/f2ml/lib/python3.13/site-packages/sklearn/neural_network/_multilayer_perceptron.py:691: ConvergenceWarning: Stochastic Optimizer: Maximum iterations (200) reached and the optimization hasn't converged yet.\n",
      "  warnings.warn(\n"
     ]
    },
    {
     "name": "stdout",
     "output_type": "stream",
     "text": [
      "Training and evaluating model: NB\n",
      "Processing fold 5 for group Male\n",
      "Training and evaluating model: SVM\n",
      "Training and evaluating model: LR\n",
      "Training and evaluating model: KNN\n",
      "Training and evaluating model: RF\n",
      "Training and evaluating model: DT\n",
      "Training and evaluating model: ANN\n"
     ]
    },
    {
     "name": "stderr",
     "output_type": "stream",
     "text": [
      "/home/morning/miniconda3/envs/f2ml/lib/python3.13/site-packages/sklearn/neural_network/_multilayer_perceptron.py:691: ConvergenceWarning: Stochastic Optimizer: Maximum iterations (200) reached and the optimization hasn't converged yet.\n",
      "  warnings.warn(\n"
     ]
    },
    {
     "name": "stdout",
     "output_type": "stream",
     "text": [
      "Training and evaluating model: NB\n",
      "Processing fold 6 for group Male\n",
      "Training and evaluating model: SVM\n",
      "Training and evaluating model: LR\n",
      "Training and evaluating model: KNN\n",
      "Training and evaluating model: RF\n",
      "Training and evaluating model: DT\n",
      "Training and evaluating model: ANN\n"
     ]
    },
    {
     "name": "stderr",
     "output_type": "stream",
     "text": [
      "/home/morning/miniconda3/envs/f2ml/lib/python3.13/site-packages/sklearn/neural_network/_multilayer_perceptron.py:691: ConvergenceWarning: Stochastic Optimizer: Maximum iterations (200) reached and the optimization hasn't converged yet.\n",
      "  warnings.warn(\n"
     ]
    },
    {
     "name": "stdout",
     "output_type": "stream",
     "text": [
      "Training and evaluating model: NB\n",
      "Processing fold 7 for group Male\n",
      "Training and evaluating model: SVM\n",
      "Training and evaluating model: LR\n",
      "Training and evaluating model: KNN\n",
      "Training and evaluating model: RF\n",
      "Training and evaluating model: DT\n",
      "Training and evaluating model: ANN\n"
     ]
    },
    {
     "name": "stderr",
     "output_type": "stream",
     "text": [
      "/home/morning/miniconda3/envs/f2ml/lib/python3.13/site-packages/sklearn/neural_network/_multilayer_perceptron.py:691: ConvergenceWarning: Stochastic Optimizer: Maximum iterations (200) reached and the optimization hasn't converged yet.\n",
      "  warnings.warn(\n"
     ]
    },
    {
     "name": "stdout",
     "output_type": "stream",
     "text": [
      "Training and evaluating model: NB\n",
      "Processing fold 8 for group Male\n",
      "Training and evaluating model: SVM\n",
      "Training and evaluating model: LR\n",
      "Training and evaluating model: KNN\n",
      "Training and evaluating model: RF\n",
      "Training and evaluating model: DT\n",
      "Training and evaluating model: ANN\n"
     ]
    },
    {
     "name": "stderr",
     "output_type": "stream",
     "text": [
      "/home/morning/miniconda3/envs/f2ml/lib/python3.13/site-packages/sklearn/neural_network/_multilayer_perceptron.py:691: ConvergenceWarning: Stochastic Optimizer: Maximum iterations (200) reached and the optimization hasn't converged yet.\n",
      "  warnings.warn(\n"
     ]
    },
    {
     "name": "stdout",
     "output_type": "stream",
     "text": [
      "Training and evaluating model: NB\n",
      "Processing fold 9 for group Male\n",
      "Training and evaluating model: SVM\n",
      "Training and evaluating model: LR\n",
      "Training and evaluating model: KNN\n",
      "Training and evaluating model: RF\n",
      "Training and evaluating model: DT\n",
      "Training and evaluating model: ANN\n"
     ]
    },
    {
     "name": "stderr",
     "output_type": "stream",
     "text": [
      "/home/morning/miniconda3/envs/f2ml/lib/python3.13/site-packages/sklearn/neural_network/_multilayer_perceptron.py:691: ConvergenceWarning: Stochastic Optimizer: Maximum iterations (200) reached and the optimization hasn't converged yet.\n",
      "  warnings.warn(\n"
     ]
    },
    {
     "name": "stdout",
     "output_type": "stream",
     "text": [
      "Training and evaluating model: NB\n",
      "Processing fold 10 for group Male\n",
      "Training and evaluating model: SVM\n",
      "Training and evaluating model: LR\n",
      "Training and evaluating model: KNN\n",
      "Training and evaluating model: RF\n",
      "Training and evaluating model: DT\n",
      "Training and evaluating model: ANN\n",
      "Training and evaluating model: NB\n",
      "    Fold   Group   SVM_TPR   SVM_TNR   SVM_FPR   SVM_FNR  SVM_TP  SVM_TN  \\\n",
      "0      1  Female  0.829268  0.982143  0.017857  0.170732      34      55   \n",
      "1      2  Female  0.681818  0.962264  0.037736  0.318182      30      51   \n",
      "2      3  Female  0.736842  0.900000  0.100000  0.263158      42      36   \n",
      "3      4  Female  0.685185  0.953488  0.046512  0.314815      37      41   \n",
      "4      5  Female  0.807692  0.933333  0.066667  0.192308      42      42   \n",
      "5      6  Female  0.830189  0.977273  0.022727  0.169811      44      43   \n",
      "6      7  Female  0.690476  0.962963  0.037037  0.309524      29      52   \n",
      "7      8  Female  0.736842  0.982759  0.017241  0.263158      28      57   \n",
      "8      9  Female  0.690476  0.944444  0.055556  0.309524      29      51   \n",
      "9     10  Female  0.592593  0.928571  0.071429  0.407407      32      39   \n",
      "10     1    Male  0.740000  0.920000  0.080000  0.260000      37      46   \n",
      "11     2    Male  0.708333  0.961538  0.038462  0.291667      34      50   \n",
      "12     3    Male  0.735849  0.934783  0.065217  0.264151      39      43   \n",
      "13     4    Male  0.677419  0.945946  0.054054  0.322581      42      35   \n",
      "14     5    Male  0.687500  0.960784  0.039216  0.312500      33      49   \n",
      "15     6    Male  0.763636  0.931818  0.068182  0.236364      42      41   \n",
      "16     7    Male  0.711111  0.888889  0.111111  0.288889      32      48   \n",
      "17     8    Male  0.700000  0.881356  0.118644  0.300000      28      52   \n",
      "18     9    Male  0.711111  0.962963  0.037037  0.288889      32      52   \n",
      "19    10    Male  0.553571  0.930233  0.069767  0.446429      31      40   \n",
      "\n",
      "    SVM_FP  SVM_FN  ...  ANN_FP  ANN_FN    NB_TPR    NB_TNR    NB_FPR  \\\n",
      "0        1       7  ...       8       4  0.878049  0.982143  0.017857   \n",
      "1        2      14  ...       1      11  0.750000  0.962264  0.037736   \n",
      "2        4      15  ...       6      14  0.771930  0.925000  0.075000   \n",
      "3        2      17  ...       7      14  0.759259  0.953488  0.046512   \n",
      "4        3      10  ...       9       8  0.826923  0.933333  0.066667   \n",
      "5        1       9  ...       6       5  0.886792  0.954545  0.045455   \n",
      "6        2      13  ...       6      12  0.666667  0.944444  0.055556   \n",
      "7        1      10  ...       6       8  0.710526  0.965517  0.034483   \n",
      "8        3      13  ...       9      13  0.714286  0.925926  0.074074   \n",
      "9        3      22  ...       4      19  0.629630  0.904762  0.095238   \n",
      "10       4      13  ...       7      11  0.820000  0.900000  0.100000   \n",
      "11       2      14  ...       5      11  0.750000  0.980769  0.019231   \n",
      "12       3      14  ...       7      12  0.792453  0.956522  0.043478   \n",
      "13       2      20  ...       3      13  0.725806  0.945946  0.054054   \n",
      "14       2      15  ...       7      10  0.770833  0.960784  0.039216   \n",
      "15       3      13  ...       8       9  0.800000  0.977273  0.022727   \n",
      "16       6      13  ...      12       9  0.733333  0.944444  0.055556   \n",
      "17       7      12  ...      16       8  0.775000  0.881356  0.118644   \n",
      "18       2      13  ...      11      10  0.733333  0.907407  0.092593   \n",
      "19       3      25  ...       8      16  0.642857  0.930233  0.069767   \n",
      "\n",
      "      NB_FNR  NB_TP  NB_TN  NB_FP  NB_FN  \n",
      "0   0.121951     36     55      1      5  \n",
      "1   0.250000     33     51      2     11  \n",
      "2   0.228070     44     37      3     13  \n",
      "3   0.240741     41     41      2     13  \n",
      "4   0.173077     43     42      3      9  \n",
      "5   0.113208     47     42      2      6  \n",
      "6   0.333333     28     51      3     14  \n",
      "7   0.289474     27     56      2     11  \n",
      "8   0.285714     30     50      4     12  \n",
      "9   0.370370     34     38      4     20  \n",
      "10  0.180000     41     45      5      9  \n",
      "11  0.250000     36     51      1     12  \n",
      "12  0.207547     42     44      2     11  \n",
      "13  0.274194     45     35      2     17  \n",
      "14  0.229167     37     49      2     11  \n",
      "15  0.200000     44     43      1     11  \n",
      "16  0.266667     33     51      3     12  \n",
      "17  0.225000     31     52      7      9  \n",
      "18  0.266667     33     49      5     12  \n",
      "19  0.357143     36     40      3     20  \n",
      "\n",
      "[20 rows x 58 columns]\n"
     ]
    },
    {
     "name": "stderr",
     "output_type": "stream",
     "text": [
      "/home/morning/miniconda3/envs/f2ml/lib/python3.13/site-packages/sklearn/neural_network/_multilayer_perceptron.py:691: ConvergenceWarning: Stochastic Optimizer: Maximum iterations (200) reached and the optimization hasn't converged yet.\n",
      "  warnings.warn(\n"
     ]
    }
   ],
   "source": [
    "print(\"Starting experiments for Female(0)\")\n",
    "fl.run_experiment(kf, models, X_scaled_Gender_0, y_Gender_0, 'Female', results_list)\n",
    "\n",
    "print(\"Starting experiments for Male(1)\")\n",
    "fl.run_experiment(kf, models, X_scaled_Gender_1, y_Gender_1, 'Male', results_list)\n",
    "\n",
    "final_results_df = pd.concat(results_list, ignore_index=True)\n",
    "print(final_results_df)"
   ]
  },
  {
   "cell_type": "code",
   "execution_count": 83,
   "metadata": {},
   "outputs": [],
   "source": [
    "results_df = pd.concat(results_list, ignore_index=True)"
   ]
  },
  {
   "cell_type": "code",
   "execution_count": 84,
   "metadata": {},
   "outputs": [],
   "source": [
    "result_path = './results/K50_result.xlsx'\n",
    "results_df.to_excel(result_path, index=False)"
   ]
  },
  {
   "cell_type": "code",
   "execution_count": 85,
   "metadata": {},
   "outputs": [
    {
     "data": {
      "text/html": [
       "<div>\n",
       "<style scoped>\n",
       "    .dataframe tbody tr th:only-of-type {\n",
       "        vertical-align: middle;\n",
       "    }\n",
       "\n",
       "    .dataframe tbody tr th {\n",
       "        vertical-align: top;\n",
       "    }\n",
       "\n",
       "    .dataframe thead th {\n",
       "        text-align: right;\n",
       "    }\n",
       "</style>\n",
       "<table border=\"1\" class=\"dataframe\">\n",
       "  <thead>\n",
       "    <tr style=\"text-align: right;\">\n",
       "      <th></th>\n",
       "      <th>Fold</th>\n",
       "      <th>Group</th>\n",
       "      <th>SVM_TPR</th>\n",
       "      <th>SVM_TNR</th>\n",
       "      <th>SVM_FPR</th>\n",
       "      <th>SVM_FNR</th>\n",
       "      <th>SVM_TP</th>\n",
       "      <th>SVM_TN</th>\n",
       "      <th>SVM_FP</th>\n",
       "      <th>SVM_FN</th>\n",
       "      <th>...</th>\n",
       "      <th>ANN_FP</th>\n",
       "      <th>ANN_FN</th>\n",
       "      <th>NB_TPR</th>\n",
       "      <th>NB_TNR</th>\n",
       "      <th>NB_FPR</th>\n",
       "      <th>NB_FNR</th>\n",
       "      <th>NB_TP</th>\n",
       "      <th>NB_TN</th>\n",
       "      <th>NB_FP</th>\n",
       "      <th>NB_FN</th>\n",
       "    </tr>\n",
       "  </thead>\n",
       "  <tbody>\n",
       "    <tr>\n",
       "      <th>0</th>\n",
       "      <td>1</td>\n",
       "      <td>Female</td>\n",
       "      <td>0.829268</td>\n",
       "      <td>0.982143</td>\n",
       "      <td>0.017857</td>\n",
       "      <td>0.170732</td>\n",
       "      <td>34</td>\n",
       "      <td>55</td>\n",
       "      <td>1</td>\n",
       "      <td>7</td>\n",
       "      <td>...</td>\n",
       "      <td>8</td>\n",
       "      <td>4</td>\n",
       "      <td>0.878049</td>\n",
       "      <td>0.982143</td>\n",
       "      <td>0.017857</td>\n",
       "      <td>0.121951</td>\n",
       "      <td>36</td>\n",
       "      <td>55</td>\n",
       "      <td>1</td>\n",
       "      <td>5</td>\n",
       "    </tr>\n",
       "    <tr>\n",
       "      <th>1</th>\n",
       "      <td>2</td>\n",
       "      <td>Female</td>\n",
       "      <td>0.681818</td>\n",
       "      <td>0.962264</td>\n",
       "      <td>0.037736</td>\n",
       "      <td>0.318182</td>\n",
       "      <td>30</td>\n",
       "      <td>51</td>\n",
       "      <td>2</td>\n",
       "      <td>14</td>\n",
       "      <td>...</td>\n",
       "      <td>1</td>\n",
       "      <td>11</td>\n",
       "      <td>0.750000</td>\n",
       "      <td>0.962264</td>\n",
       "      <td>0.037736</td>\n",
       "      <td>0.250000</td>\n",
       "      <td>33</td>\n",
       "      <td>51</td>\n",
       "      <td>2</td>\n",
       "      <td>11</td>\n",
       "    </tr>\n",
       "    <tr>\n",
       "      <th>2</th>\n",
       "      <td>3</td>\n",
       "      <td>Female</td>\n",
       "      <td>0.736842</td>\n",
       "      <td>0.900000</td>\n",
       "      <td>0.100000</td>\n",
       "      <td>0.263158</td>\n",
       "      <td>42</td>\n",
       "      <td>36</td>\n",
       "      <td>4</td>\n",
       "      <td>15</td>\n",
       "      <td>...</td>\n",
       "      <td>6</td>\n",
       "      <td>14</td>\n",
       "      <td>0.771930</td>\n",
       "      <td>0.925000</td>\n",
       "      <td>0.075000</td>\n",
       "      <td>0.228070</td>\n",
       "      <td>44</td>\n",
       "      <td>37</td>\n",
       "      <td>3</td>\n",
       "      <td>13</td>\n",
       "    </tr>\n",
       "    <tr>\n",
       "      <th>3</th>\n",
       "      <td>4</td>\n",
       "      <td>Female</td>\n",
       "      <td>0.685185</td>\n",
       "      <td>0.953488</td>\n",
       "      <td>0.046512</td>\n",
       "      <td>0.314815</td>\n",
       "      <td>37</td>\n",
       "      <td>41</td>\n",
       "      <td>2</td>\n",
       "      <td>17</td>\n",
       "      <td>...</td>\n",
       "      <td>7</td>\n",
       "      <td>14</td>\n",
       "      <td>0.759259</td>\n",
       "      <td>0.953488</td>\n",
       "      <td>0.046512</td>\n",
       "      <td>0.240741</td>\n",
       "      <td>41</td>\n",
       "      <td>41</td>\n",
       "      <td>2</td>\n",
       "      <td>13</td>\n",
       "    </tr>\n",
       "    <tr>\n",
       "      <th>4</th>\n",
       "      <td>5</td>\n",
       "      <td>Female</td>\n",
       "      <td>0.807692</td>\n",
       "      <td>0.933333</td>\n",
       "      <td>0.066667</td>\n",
       "      <td>0.192308</td>\n",
       "      <td>42</td>\n",
       "      <td>42</td>\n",
       "      <td>3</td>\n",
       "      <td>10</td>\n",
       "      <td>...</td>\n",
       "      <td>9</td>\n",
       "      <td>8</td>\n",
       "      <td>0.826923</td>\n",
       "      <td>0.933333</td>\n",
       "      <td>0.066667</td>\n",
       "      <td>0.173077</td>\n",
       "      <td>43</td>\n",
       "      <td>42</td>\n",
       "      <td>3</td>\n",
       "      <td>9</td>\n",
       "    </tr>\n",
       "  </tbody>\n",
       "</table>\n",
       "<p>5 rows × 58 columns</p>\n",
       "</div>"
      ],
      "text/plain": [
       "   Fold   Group   SVM_TPR   SVM_TNR   SVM_FPR   SVM_FNR  SVM_TP  SVM_TN  \\\n",
       "0     1  Female  0.829268  0.982143  0.017857  0.170732      34      55   \n",
       "1     2  Female  0.681818  0.962264  0.037736  0.318182      30      51   \n",
       "2     3  Female  0.736842  0.900000  0.100000  0.263158      42      36   \n",
       "3     4  Female  0.685185  0.953488  0.046512  0.314815      37      41   \n",
       "4     5  Female  0.807692  0.933333  0.066667  0.192308      42      42   \n",
       "\n",
       "   SVM_FP  SVM_FN  ...  ANN_FP  ANN_FN    NB_TPR    NB_TNR    NB_FPR  \\\n",
       "0       1       7  ...       8       4  0.878049  0.982143  0.017857   \n",
       "1       2      14  ...       1      11  0.750000  0.962264  0.037736   \n",
       "2       4      15  ...       6      14  0.771930  0.925000  0.075000   \n",
       "3       2      17  ...       7      14  0.759259  0.953488  0.046512   \n",
       "4       3      10  ...       9       8  0.826923  0.933333  0.066667   \n",
       "\n",
       "     NB_FNR  NB_TP  NB_TN  NB_FP  NB_FN  \n",
       "0  0.121951     36     55      1      5  \n",
       "1  0.250000     33     51      2     11  \n",
       "2  0.228070     44     37      3     13  \n",
       "3  0.240741     41     41      2     13  \n",
       "4  0.173077     43     42      3      9  \n",
       "\n",
       "[5 rows x 58 columns]"
      ]
     },
     "execution_count": 85,
     "metadata": {},
     "output_type": "execute_result"
    }
   ],
   "source": [
    "df = pd.read_excel(result_path)\n",
    "df.head()"
   ]
  },
  {
   "cell_type": "code",
   "execution_count": 86,
   "metadata": {},
   "outputs": [
    {
     "name": "stdout",
     "output_type": "stream",
     "text": [
      "SVM -TPR: MannwhitneyuResult(statistic=np.float64(57.0), pvalue=np.float64(0.622783737416428))\n",
      "SVM - FPR: TtestResult(statistic=np.float64(-1.6868512650806007), pvalue=np.float64(0.1088853295282254), df=np.float64(18.0))\n",
      "SVM - FN/FP: TtestResult(statistic=np.float64(1.00390776415118), pvalue=np.float64(0.3287287314287508), df=np.float64(18.0))\n",
      "DT -TPR: TtestResult(statistic=np.float64(0.5134734782289122), pvalue=np.float64(0.6163589779926506), df=np.float64(12.81316790598145))\n",
      "DT - FPR: TtestResult(statistic=np.float64(-1.4137977289230907), pvalue=np.float64(0.1744837856924343), df=np.float64(18.0))\n",
      "DT - FN/FP: TtestResult(statistic=np.float64(0.023175434400842538), pvalue=np.float64(0.9817653205211401), df=np.float64(18.0))\n",
      "RF -TPR: TtestResult(statistic=np.float64(0.3127971047781034), pvalue=np.float64(0.7580298783076265), df=np.float64(18.0))\n",
      "RF - FPR: TtestResult(statistic=np.float64(-0.27908615271753967), pvalue=np.float64(0.7833599809278983), df=np.float64(18.0))\n",
      "RF - FN/FP: MannwhitneyuResult(statistic=np.float64(46.0), pvalue=np.float64(0.7908754663240969))\n",
      "LR -TPR: MannwhitneyuResult(statistic=np.float64(41.0), pvalue=np.float64(0.5205228832757727))\n",
      "LR - FPR: MannwhitneyuResult(statistic=np.float64(14.0), pvalue=np.float64(0.007262595901896159))\n",
      "LR - FN/FP: MannwhitneyuResult(statistic=np.float64(69.5), pvalue=np.float64(0.1506196715606302))\n",
      "KNN -TPR: TtestResult(statistic=np.float64(-0.6957899779028413), pvalue=np.float64(0.49544670521097733), df=np.float64(18.0))\n",
      "KNN - FPR: TtestResult(statistic=np.float64(-0.4351036085876282), pvalue=np.float64(0.6686593084464383), df=np.float64(18.0))\n",
      "KNN - FN/FP: MannwhitneyuResult(statistic=np.float64(50.0), pvalue=np.float64(1.0))\n",
      "ANN -TPR: TtestResult(statistic=np.float64(-0.3197103368747599), pvalue=np.float64(0.7550540128336714), df=np.float64(11.235965077945474))\n",
      "ANN - FPR: TtestResult(statistic=np.float64(-1.5896536464245283), pvalue=np.float64(0.12932265603316015), df=np.float64(18.0))\n",
      "ANN - FN/FP: MannwhitneyuResult(statistic=np.float64(56.0), pvalue=np.float64(0.6775849579524755))\n",
      "NB -TPR: TtestResult(statistic=np.float64(0.16163127712217867), pvalue=np.float64(0.8733966494338368), df=np.float64(18.0))\n",
      "NB - FPR: TtestResult(statistic=np.float64(-0.5206532380621833), pvalue=np.float64(0.6089540525145222), df=np.float64(18.0))\n",
      "NB - FN/FP: TtestResult(statistic=np.float64(-1.0616972173932344), pvalue=np.float64(0.31134414825191703), df=np.float64(10.893463090880722))\n"
     ]
    }
   ],
   "source": [
    "label = 'Female'\n",
    "\n",
    "fl.perform_t_tests(df, 'SVM', label)\n",
    "fl.perform_t_tests(df, 'DT', label)\n",
    "fl.perform_t_tests(df, 'RF', label)\n",
    "fl.perform_t_tests(df, 'LR', label)\n",
    "fl.perform_t_tests(df, 'KNN', label)\n",
    "fl.perform_t_tests(df, 'ANN', label)\n",
    "fl.perform_t_tests(df, 'NB', label)\n"
   ]
  }
 ],
 "metadata": {
  "kernelspec": {
   "display_name": "f2ml",
   "language": "python",
   "name": "python3"
  },
  "language_info": {
   "codemirror_mode": {
    "name": "ipython",
    "version": 3
   },
   "file_extension": ".py",
   "mimetype": "text/x-python",
   "name": "python",
   "nbconvert_exporter": "python",
   "pygments_lexer": "ipython3",
   "version": "3.13.1"
  }
 },
 "nbformat": 4,
 "nbformat_minor": 2
}
