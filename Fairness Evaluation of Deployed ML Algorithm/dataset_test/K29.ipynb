{
 "cells": [
  {
   "cell_type": "code",
   "execution_count": 1,
   "metadata": {},
   "outputs": [
    {
     "name": "stderr",
     "output_type": "stream",
     "text": [
      "/home/morning/miniconda3/envs/f2ml/lib/python3.13/site-packages/tqdm/auto.py:21: TqdmWarning: IProgress not found. Please update jupyter and ipywidgets. See https://ipywidgets.readthedocs.io/en/stable/user_install.html\n",
      "  from .autonotebook import tqdm as notebook_tqdm\n"
     ]
    },
    {
     "name": "stdout",
     "output_type": "stream",
     "text": [
      "Warning: Looks like you're using an outdated `kagglehub` version (installed: 0.3.5), please consider upgrading to the latest version (0.3.6).\n",
      "Path to dataset files: /home/morning/.cache/kagglehub/datasets/nezahatkk/heart-disease-data/versions/1\n"
     ]
    }
   ],
   "source": [
    "import kagglehub\n",
    "\n",
    "# Download latest version\n",
    "path = kagglehub.dataset_download(\"nezahatkk/heart-disease-data\")\n",
    "\n",
    "print(\"Path to dataset files:\", path)"
   ]
  },
  {
   "cell_type": "code",
   "execution_count": 2,
   "metadata": {},
   "outputs": [
    {
     "data": {
      "text/plain": [
       "['heart_disease_data_with_features.csv']"
      ]
     },
     "execution_count": 2,
     "metadata": {},
     "output_type": "execute_result"
    }
   ],
   "source": [
    "import os\n",
    "os.listdir(path)"
   ]
  },
  {
   "cell_type": "code",
   "execution_count": 3,
   "metadata": {},
   "outputs": [],
   "source": [
    "import pandas as pd\n",
    "import fairtl_statisticaltest as fl\n",
    "from sklearn.feature_selection import VarianceThreshold\n",
    "from sklearn.preprocessing import StandardScaler\n",
    "from sklearn.model_selection import KFold\n",
    "from sklearn.preprocessing import OrdinalEncoder, LabelEncoder\n",
    "from sklearn.preprocessing import OneHotEncoder"
   ]
  },
  {
   "cell_type": "code",
   "execution_count": 4,
   "metadata": {},
   "outputs": [
    {
     "data": {
      "text/html": [
       "<div>\n",
       "<style scoped>\n",
       "    .dataframe tbody tr th:only-of-type {\n",
       "        vertical-align: middle;\n",
       "    }\n",
       "\n",
       "    .dataframe tbody tr th {\n",
       "        vertical-align: top;\n",
       "    }\n",
       "\n",
       "    .dataframe thead th {\n",
       "        text-align: right;\n",
       "    }\n",
       "</style>\n",
       "<table border=\"1\" class=\"dataframe\">\n",
       "  <thead>\n",
       "    <tr style=\"text-align: right;\">\n",
       "      <th></th>\n",
       "      <th>age</th>\n",
       "      <th>sex</th>\n",
       "      <th>cp</th>\n",
       "      <th>trestbps</th>\n",
       "      <th>chol</th>\n",
       "      <th>fbs</th>\n",
       "      <th>restecg</th>\n",
       "      <th>thalach</th>\n",
       "      <th>exang</th>\n",
       "      <th>oldpeak</th>\n",
       "      <th>...</th>\n",
       "      <th>chol_trestbps_ratio</th>\n",
       "      <th>log_thalach_chol</th>\n",
       "      <th>symptom_zscore</th>\n",
       "      <th>avg_chol_by_age_group</th>\n",
       "      <th>thalach_chol_diff</th>\n",
       "      <th>symptom_severity_diff</th>\n",
       "      <th>age_chol_effect</th>\n",
       "      <th>thalach_risk_effect</th>\n",
       "      <th>age_trestbps_effect</th>\n",
       "      <th>chol_risk_ratio</th>\n",
       "    </tr>\n",
       "  </thead>\n",
       "  <tbody>\n",
       "    <tr>\n",
       "      <th>0</th>\n",
       "      <td>63</td>\n",
       "      <td>1</td>\n",
       "      <td>1</td>\n",
       "      <td>145</td>\n",
       "      <td>233</td>\n",
       "      <td>1</td>\n",
       "      <td>2</td>\n",
       "      <td>150</td>\n",
       "      <td>0</td>\n",
       "      <td>2.3</td>\n",
       "      <td>...</td>\n",
       "      <td>1.595890</td>\n",
       "      <td>0.919704</td>\n",
       "      <td>-0.275764</td>\n",
       "      <td>260.024691</td>\n",
       "      <td>-83</td>\n",
       "      <td>-2.532099</td>\n",
       "      <td>14679</td>\n",
       "      <td>2419.350</td>\n",
       "      <td>9135</td>\n",
       "      <td>13.602662</td>\n",
       "    </tr>\n",
       "    <tr>\n",
       "      <th>1</th>\n",
       "      <td>67</td>\n",
       "      <td>1</td>\n",
       "      <td>4</td>\n",
       "      <td>160</td>\n",
       "      <td>286</td>\n",
       "      <td>0</td>\n",
       "      <td>2</td>\n",
       "      <td>108</td>\n",
       "      <td>1</td>\n",
       "      <td>1.5</td>\n",
       "      <td>...</td>\n",
       "      <td>1.776398</td>\n",
       "      <td>0.828936</td>\n",
       "      <td>0.568702</td>\n",
       "      <td>260.024691</td>\n",
       "      <td>-178</td>\n",
       "      <td>1.167901</td>\n",
       "      <td>19162</td>\n",
       "      <td>2242.296</td>\n",
       "      <td>10720</td>\n",
       "      <td>13.142174</td>\n",
       "    </tr>\n",
       "    <tr>\n",
       "      <th>2</th>\n",
       "      <td>67</td>\n",
       "      <td>1</td>\n",
       "      <td>4</td>\n",
       "      <td>120</td>\n",
       "      <td>229</td>\n",
       "      <td>0</td>\n",
       "      <td>2</td>\n",
       "      <td>129</td>\n",
       "      <td>1</td>\n",
       "      <td>2.6</td>\n",
       "      <td>...</td>\n",
       "      <td>1.892562</td>\n",
       "      <td>0.895083</td>\n",
       "      <td>1.572932</td>\n",
       "      <td>260.024691</td>\n",
       "      <td>-100</td>\n",
       "      <td>5.567901</td>\n",
       "      <td>15343</td>\n",
       "      <td>2134.047</td>\n",
       "      <td>8040</td>\n",
       "      <td>13.053640</td>\n",
       "    </tr>\n",
       "    <tr>\n",
       "      <th>3</th>\n",
       "      <td>37</td>\n",
       "      <td>1</td>\n",
       "      <td>3</td>\n",
       "      <td>130</td>\n",
       "      <td>250</td>\n",
       "      <td>0</td>\n",
       "      <td>0</td>\n",
       "      <td>187</td>\n",
       "      <td>0</td>\n",
       "      <td>3.5</td>\n",
       "      <td>...</td>\n",
       "      <td>1.908397</td>\n",
       "      <td>0.947695</td>\n",
       "      <td>1.595755</td>\n",
       "      <td>219.785714</td>\n",
       "      <td>-63</td>\n",
       "      <td>8.178571</td>\n",
       "      <td>9250</td>\n",
       "      <td>1972.850</td>\n",
       "      <td>4810</td>\n",
       "      <td>21.645022</td>\n",
       "    </tr>\n",
       "    <tr>\n",
       "      <th>4</th>\n",
       "      <td>41</td>\n",
       "      <td>0</td>\n",
       "      <td>2</td>\n",
       "      <td>130</td>\n",
       "      <td>204</td>\n",
       "      <td>0</td>\n",
       "      <td>2</td>\n",
       "      <td>172</td>\n",
       "      <td>0</td>\n",
       "      <td>1.4</td>\n",
       "      <td>...</td>\n",
       "      <td>1.557252</td>\n",
       "      <td>0.968116</td>\n",
       "      <td>-0.161647</td>\n",
       "      <td>235.847222</td>\n",
       "      <td>-32</td>\n",
       "      <td>0.783333</td>\n",
       "      <td>8364</td>\n",
       "      <td>1662.208</td>\n",
       "      <td>5330</td>\n",
       "      <td>19.129782</td>\n",
       "    </tr>\n",
       "  </tbody>\n",
       "</table>\n",
       "<p>5 rows × 36 columns</p>\n",
       "</div>"
      ],
      "text/plain": [
       "   age  sex  cp  trestbps  chol  fbs  restecg  thalach  exang  oldpeak  ...  \\\n",
       "0   63    1   1       145   233    1        2      150      0      2.3  ...   \n",
       "1   67    1   4       160   286    0        2      108      1      1.5  ...   \n",
       "2   67    1   4       120   229    0        2      129      1      2.6  ...   \n",
       "3   37    1   3       130   250    0        0      187      0      3.5  ...   \n",
       "4   41    0   2       130   204    0        2      172      0      1.4  ...   \n",
       "\n",
       "   chol_trestbps_ratio  log_thalach_chol  symptom_zscore  \\\n",
       "0             1.595890          0.919704       -0.275764   \n",
       "1             1.776398          0.828936        0.568702   \n",
       "2             1.892562          0.895083        1.572932   \n",
       "3             1.908397          0.947695        1.595755   \n",
       "4             1.557252          0.968116       -0.161647   \n",
       "\n",
       "   avg_chol_by_age_group thalach_chol_diff symptom_severity_diff  \\\n",
       "0             260.024691               -83             -2.532099   \n",
       "1             260.024691              -178              1.167901   \n",
       "2             260.024691              -100              5.567901   \n",
       "3             219.785714               -63              8.178571   \n",
       "4             235.847222               -32              0.783333   \n",
       "\n",
       "  age_chol_effect  thalach_risk_effect  age_trestbps_effect  chol_risk_ratio  \n",
       "0           14679             2419.350                 9135        13.602662  \n",
       "1           19162             2242.296                10720        13.142174  \n",
       "2           15343             2134.047                 8040        13.053640  \n",
       "3            9250             1972.850                 4810        21.645022  \n",
       "4            8364             1662.208                 5330        19.129782  \n",
       "\n",
       "[5 rows x 36 columns]"
      ]
     },
     "execution_count": 4,
     "metadata": {},
     "output_type": "execute_result"
    }
   ],
   "source": [
    "df = pd.read_csv(f'{path}/heart_disease_data_with_features.csv')\n",
    "df.head()"
   ]
  },
  {
   "cell_type": "code",
   "execution_count": 5,
   "metadata": {},
   "outputs": [
    {
     "data": {
      "text/plain": [
       "(303, 36)"
      ]
     },
     "execution_count": 5,
     "metadata": {},
     "output_type": "execute_result"
    }
   ],
   "source": [
    "df.shape"
   ]
  },
  {
   "cell_type": "code",
   "execution_count": 6,
   "metadata": {},
   "outputs": [
    {
     "name": "stdout",
     "output_type": "stream",
     "text": [
      "<class 'pandas.core.frame.DataFrame'>\n",
      "RangeIndex: 303 entries, 0 to 302\n",
      "Data columns (total 36 columns):\n",
      " #   Column                 Non-Null Count  Dtype  \n",
      "---  ------                 --------------  -----  \n",
      " 0   age                    303 non-null    int64  \n",
      " 1   sex                    303 non-null    int64  \n",
      " 2   cp                     303 non-null    int64  \n",
      " 3   trestbps               303 non-null    int64  \n",
      " 4   chol                   303 non-null    int64  \n",
      " 5   fbs                    303 non-null    int64  \n",
      " 6   restecg                303 non-null    int64  \n",
      " 7   thalach                303 non-null    int64  \n",
      " 8   exang                  303 non-null    int64  \n",
      " 9   oldpeak                303 non-null    float64\n",
      " 10  slope                  303 non-null    int64  \n",
      " 11  ca                     299 non-null    float64\n",
      " 12  thal                   301 non-null    float64\n",
      " 13  num                    303 non-null    int64  \n",
      " 14  age_group              302 non-null    object \n",
      " 15  cholesterol_level      302 non-null    object \n",
      " 16  bp_level               301 non-null    object \n",
      " 17  risk_score             303 non-null    float64\n",
      " 18  symptom_severity       303 non-null    float64\n",
      " 19  log_chol               303 non-null    float64\n",
      " 20  log_trestbps           303 non-null    float64\n",
      " 21  age_squared            303 non-null    int64  \n",
      " 22  chol_squared           303 non-null    int64  \n",
      " 23  age_thalach_ratio      303 non-null    float64\n",
      " 24  risk_factor            301 non-null    float64\n",
      " 25  missing_values         303 non-null    int64  \n",
      " 26  chol_trestbps_ratio    303 non-null    float64\n",
      " 27  log_thalach_chol       303 non-null    float64\n",
      " 28  symptom_zscore         303 non-null    float64\n",
      " 29  avg_chol_by_age_group  302 non-null    float64\n",
      " 30  thalach_chol_diff      303 non-null    int64  \n",
      " 31  symptom_severity_diff  302 non-null    float64\n",
      " 32  age_chol_effect        303 non-null    int64  \n",
      " 33  thalach_risk_effect    303 non-null    float64\n",
      " 34  age_trestbps_effect    303 non-null    int64  \n",
      " 35  chol_risk_ratio        303 non-null    float64\n",
      "dtypes: float64(16), int64(17), object(3)\n",
      "memory usage: 85.3+ KB\n"
     ]
    }
   ],
   "source": [
    "df.info()"
   ]
  },
  {
   "cell_type": "code",
   "execution_count": 7,
   "metadata": {},
   "outputs": [
    {
     "name": "stdout",
     "output_type": "stream",
     "text": [
      "<class 'pandas.core.frame.DataFrame'>\n",
      "RangeIndex: 293 entries, 0 to 292\n",
      "Data columns (total 36 columns):\n",
      " #   Column                 Non-Null Count  Dtype  \n",
      "---  ------                 --------------  -----  \n",
      " 0   age                    293 non-null    int64  \n",
      " 1   sex                    293 non-null    int64  \n",
      " 2   cp                     293 non-null    int64  \n",
      " 3   trestbps               293 non-null    int64  \n",
      " 4   chol                   293 non-null    int64  \n",
      " 5   fbs                    293 non-null    int64  \n",
      " 6   restecg                293 non-null    int64  \n",
      " 7   thalach                293 non-null    int64  \n",
      " 8   exang                  293 non-null    int64  \n",
      " 9   oldpeak                293 non-null    float64\n",
      " 10  slope                  293 non-null    int64  \n",
      " 11  ca                     293 non-null    float64\n",
      " 12  thal                   293 non-null    float64\n",
      " 13  num                    293 non-null    int64  \n",
      " 14  age_group              293 non-null    object \n",
      " 15  cholesterol_level      293 non-null    object \n",
      " 16  bp_level               293 non-null    object \n",
      " 17  risk_score             293 non-null    float64\n",
      " 18  symptom_severity       293 non-null    float64\n",
      " 19  log_chol               293 non-null    float64\n",
      " 20  log_trestbps           293 non-null    float64\n",
      " 21  age_squared            293 non-null    int64  \n",
      " 22  chol_squared           293 non-null    int64  \n",
      " 23  age_thalach_ratio      293 non-null    float64\n",
      " 24  risk_factor            293 non-null    float64\n",
      " 25  missing_values         293 non-null    int64  \n",
      " 26  chol_trestbps_ratio    293 non-null    float64\n",
      " 27  log_thalach_chol       293 non-null    float64\n",
      " 28  symptom_zscore         293 non-null    float64\n",
      " 29  avg_chol_by_age_group  293 non-null    float64\n",
      " 30  thalach_chol_diff      293 non-null    int64  \n",
      " 31  symptom_severity_diff  293 non-null    float64\n",
      " 32  age_chol_effect        293 non-null    int64  \n",
      " 33  thalach_risk_effect    293 non-null    float64\n",
      " 34  age_trestbps_effect    293 non-null    int64  \n",
      " 35  chol_risk_ratio        293 non-null    float64\n",
      "dtypes: float64(16), int64(17), object(3)\n",
      "memory usage: 82.5+ KB\n"
     ]
    }
   ],
   "source": [
    "df.dropna(inplace=True)\n",
    "df.reset_index(drop=True, inplace=True)\n",
    "df.info()"
   ]
  },
  {
   "cell_type": "code",
   "execution_count": 8,
   "metadata": {},
   "outputs": [
    {
     "data": {
      "text/plain": [
       "array(['60s', '30s', '40s', '50s', '70s'], dtype=object)"
      ]
     },
     "execution_count": 8,
     "metadata": {},
     "output_type": "execute_result"
    }
   ],
   "source": [
    "df['age_group'].unique()"
   ]
  },
  {
   "cell_type": "code",
   "execution_count": 9,
   "metadata": {},
   "outputs": [
    {
     "name": "stdout",
     "output_type": "stream",
     "text": [
      "['x0_30s' 'x0_40s' 'x0_50s' 'x0_60s' 'x0_70s']\n"
     ]
    }
   ],
   "source": [
    "enc = OneHotEncoder(categories='auto')\n",
    "age = df['age_group'].values.reshape(-1, 1)\n",
    "enc.fit(age)\n",
    "new_features = enc.get_feature_names_out()\n",
    "print(new_features)\n",
    "new_age = pd.DataFrame(enc.transform(age).toarray())"
   ]
  },
  {
   "cell_type": "code",
   "execution_count": 10,
   "metadata": {},
   "outputs": [],
   "source": [
    "new_age.columns = ['30s', '40s', '50s', '60s', '70s']"
   ]
  },
  {
   "cell_type": "code",
   "execution_count": 11,
   "metadata": {},
   "outputs": [],
   "source": [
    "df = pd.concat([df, new_age], axis=1)\n",
    "df.drop('age_group', axis=1, inplace=True)"
   ]
  },
  {
   "cell_type": "code",
   "execution_count": 12,
   "metadata": {},
   "outputs": [],
   "source": [
    "df['cholesterol_level'] = df['cholesterol_level'].map({'low': 0, 'normal': 1, 'high': 2})"
   ]
  },
  {
   "cell_type": "code",
   "execution_count": 13,
   "metadata": {},
   "outputs": [
    {
     "data": {
      "text/plain": [
       "array(['high', 'low', 'normal'], dtype=object)"
      ]
     },
     "execution_count": 13,
     "metadata": {},
     "output_type": "execute_result"
    }
   ],
   "source": [
    "df['bp_level'].unique()"
   ]
  },
  {
   "cell_type": "code",
   "execution_count": 14,
   "metadata": {},
   "outputs": [],
   "source": [
    "df['bp_level'] = df['bp_level'].map({'low': 0, 'normal': 1, 'high': 2})"
   ]
  },
  {
   "cell_type": "code",
   "execution_count": 15,
   "metadata": {},
   "outputs": [
    {
     "data": {
      "text/plain": [
       "array([1, 0])"
      ]
     },
     "execution_count": 15,
     "metadata": {},
     "output_type": "execute_result"
    }
   ],
   "source": [
    "df['sex'].unique()"
   ]
  },
  {
   "cell_type": "code",
   "execution_count": 16,
   "metadata": {},
   "outputs": [],
   "source": [
    "y = df['cp'].values\n",
    "X = df.drop('cp', axis=1)"
   ]
  },
  {
   "cell_type": "code",
   "execution_count": 17,
   "metadata": {},
   "outputs": [
    {
     "name": "stdout",
     "output_type": "stream",
     "text": [
      "(293, 39)\n",
      "(293, 33)\n"
     ]
    }
   ],
   "source": [
    "print(X.shape)\n",
    "selector = VarianceThreshold(threshold=0.1)\n",
    "X = selector.fit_transform(X)\n",
    "print(X.shape)"
   ]
  },
  {
   "cell_type": "code",
   "execution_count": 18,
   "metadata": {},
   "outputs": [
    {
     "name": "stdout",
     "output_type": "stream",
     "text": [
      "Female:  95\n",
      "Male:  198\n"
     ]
    }
   ],
   "source": [
    "# build mask\n",
    "gender_0_mask = df['sex'] == 0\n",
    "gender_1_mask = df['sex'] == 1\n",
    "\n",
    "count_gender_0 = gender_0_mask.sum()\n",
    "count_gender_1 = gender_1_mask.sum()\n",
    "\n",
    "print(\"Female: \", count_gender_0)\n",
    "print(\"Male: \", count_gender_1)\n",
    "\n",
    "scaler = StandardScaler()\n",
    "X_scaled = scaler.fit_transform(X)\n",
    "\n",
    "X_scaled_Gender_0 = X_scaled[gender_0_mask]\n",
    "X_scaled_Gender_1 = X_scaled[gender_1_mask]\n",
    "y_Gender_0 = y[gender_0_mask]\n",
    "y_Gender_1 = y[gender_1_mask]"
   ]
  },
  {
   "cell_type": "code",
   "execution_count": 19,
   "metadata": {},
   "outputs": [],
   "source": [
    "seed = 42\n",
    "models = fl.build_models(seed)\n",
    "\n",
    "results_list = []\n",
    "\n",
    "kf = KFold(n_splits=5, shuffle=True, random_state=seed)"
   ]
  },
  {
   "cell_type": "code",
   "execution_count": 20,
   "metadata": {},
   "outputs": [
    {
     "name": "stdout",
     "output_type": "stream",
     "text": [
      "Starting experiments for Female(0)\n",
      "Processing fold 1 for group Female\n",
      "Training and evaluating model: SVM\n",
      "Training and evaluating model: LR\n",
      "Training and evaluating model: KNN\n",
      "Training and evaluating model: RF\n",
      "Training and evaluating model: DT\n",
      "Training and evaluating model: ANN\n",
      "Training and evaluating model: NB\n",
      "Processing fold 2 for group Female\n",
      "Training and evaluating model: SVM\n",
      "Training and evaluating model: LR\n",
      "Training and evaluating model: KNN\n",
      "Training and evaluating model: RF\n"
     ]
    },
    {
     "name": "stderr",
     "output_type": "stream",
     "text": [
      "/home/morning/miniconda3/envs/f2ml/lib/python3.13/site-packages/sklearn/neural_network/_multilayer_perceptron.py:691: ConvergenceWarning: Stochastic Optimizer: Maximum iterations (200) reached and the optimization hasn't converged yet.\n",
      "  warnings.warn(\n"
     ]
    },
    {
     "name": "stdout",
     "output_type": "stream",
     "text": [
      "Training and evaluating model: DT\n",
      "Training and evaluating model: ANN\n",
      "Training and evaluating model: NB\n",
      "Processing fold 3 for group Female\n",
      "Training and evaluating model: SVM\n",
      "Training and evaluating model: LR\n",
      "Training and evaluating model: KNN\n",
      "Training and evaluating model: RF\n"
     ]
    },
    {
     "name": "stderr",
     "output_type": "stream",
     "text": [
      "/home/morning/miniconda3/envs/f2ml/lib/python3.13/site-packages/sklearn/neural_network/_multilayer_perceptron.py:691: ConvergenceWarning: Stochastic Optimizer: Maximum iterations (200) reached and the optimization hasn't converged yet.\n",
      "  warnings.warn(\n"
     ]
    },
    {
     "name": "stdout",
     "output_type": "stream",
     "text": [
      "Training and evaluating model: DT\n",
      "Training and evaluating model: ANN\n",
      "Training and evaluating model: NB\n",
      "Processing fold 4 for group Female\n",
      "Training and evaluating model: SVM\n",
      "Training and evaluating model: LR\n",
      "Training and evaluating model: KNN\n",
      "Training and evaluating model: RF\n"
     ]
    },
    {
     "name": "stderr",
     "output_type": "stream",
     "text": [
      "/home/morning/miniconda3/envs/f2ml/lib/python3.13/site-packages/sklearn/neural_network/_multilayer_perceptron.py:691: ConvergenceWarning: Stochastic Optimizer: Maximum iterations (200) reached and the optimization hasn't converged yet.\n",
      "  warnings.warn(\n"
     ]
    },
    {
     "name": "stdout",
     "output_type": "stream",
     "text": [
      "Training and evaluating model: DT\n",
      "Training and evaluating model: ANN\n",
      "Training and evaluating model: NB\n",
      "Processing fold 5 for group Female\n",
      "Training and evaluating model: SVM\n",
      "Training and evaluating model: LR\n",
      "Training and evaluating model: KNN\n",
      "Training and evaluating model: RF\n"
     ]
    },
    {
     "name": "stderr",
     "output_type": "stream",
     "text": [
      "/home/morning/miniconda3/envs/f2ml/lib/python3.13/site-packages/sklearn/neural_network/_multilayer_perceptron.py:691: ConvergenceWarning: Stochastic Optimizer: Maximum iterations (200) reached and the optimization hasn't converged yet.\n",
      "  warnings.warn(\n"
     ]
    },
    {
     "name": "stdout",
     "output_type": "stream",
     "text": [
      "Training and evaluating model: DT\n",
      "Training and evaluating model: ANN\n",
      "Training and evaluating model: NB\n",
      "Starting experiments for Male(1)\n",
      "Processing fold 1 for group Male\n",
      "Training and evaluating model: SVM\n",
      "Training and evaluating model: LR\n",
      "Training and evaluating model: KNN\n",
      "Training and evaluating model: RF\n"
     ]
    },
    {
     "name": "stderr",
     "output_type": "stream",
     "text": [
      "/home/morning/miniconda3/envs/f2ml/lib/python3.13/site-packages/sklearn/neural_network/_multilayer_perceptron.py:691: ConvergenceWarning: Stochastic Optimizer: Maximum iterations (200) reached and the optimization hasn't converged yet.\n",
      "  warnings.warn(\n"
     ]
    },
    {
     "name": "stdout",
     "output_type": "stream",
     "text": [
      "Training and evaluating model: DT\n",
      "Training and evaluating model: ANN\n",
      "Training and evaluating model: NB\n",
      "Processing fold 2 for group Male\n",
      "Training and evaluating model: SVM\n",
      "Training and evaluating model: LR\n",
      "Training and evaluating model: KNN\n",
      "Training and evaluating model: RF\n"
     ]
    },
    {
     "name": "stderr",
     "output_type": "stream",
     "text": [
      "/home/morning/miniconda3/envs/f2ml/lib/python3.13/site-packages/sklearn/neural_network/_multilayer_perceptron.py:691: ConvergenceWarning: Stochastic Optimizer: Maximum iterations (200) reached and the optimization hasn't converged yet.\n",
      "  warnings.warn(\n"
     ]
    },
    {
     "name": "stdout",
     "output_type": "stream",
     "text": [
      "Training and evaluating model: DT\n",
      "Training and evaluating model: ANN\n",
      "Training and evaluating model: NB\n",
      "Processing fold 3 for group Male\n",
      "Training and evaluating model: SVM\n",
      "Training and evaluating model: LR\n",
      "Training and evaluating model: KNN\n",
      "Training and evaluating model: RF\n"
     ]
    },
    {
     "name": "stderr",
     "output_type": "stream",
     "text": [
      "/home/morning/miniconda3/envs/f2ml/lib/python3.13/site-packages/sklearn/neural_network/_multilayer_perceptron.py:691: ConvergenceWarning: Stochastic Optimizer: Maximum iterations (200) reached and the optimization hasn't converged yet.\n",
      "  warnings.warn(\n"
     ]
    },
    {
     "name": "stdout",
     "output_type": "stream",
     "text": [
      "Training and evaluating model: DT\n",
      "Training and evaluating model: ANN\n",
      "Training and evaluating model: NB\n",
      "Processing fold 4 for group Male\n",
      "Training and evaluating model: SVM\n",
      "Training and evaluating model: LR\n",
      "Training and evaluating model: KNN\n",
      "Training and evaluating model: RF\n"
     ]
    },
    {
     "name": "stderr",
     "output_type": "stream",
     "text": [
      "/home/morning/miniconda3/envs/f2ml/lib/python3.13/site-packages/sklearn/neural_network/_multilayer_perceptron.py:691: ConvergenceWarning: Stochastic Optimizer: Maximum iterations (200) reached and the optimization hasn't converged yet.\n",
      "  warnings.warn(\n"
     ]
    },
    {
     "name": "stdout",
     "output_type": "stream",
     "text": [
      "Training and evaluating model: DT\n",
      "Training and evaluating model: ANN\n",
      "Training and evaluating model: NB\n",
      "Processing fold 5 for group Male\n",
      "Training and evaluating model: SVM\n",
      "Training and evaluating model: LR\n",
      "Training and evaluating model: KNN\n",
      "Training and evaluating model: RF\n"
     ]
    },
    {
     "name": "stderr",
     "output_type": "stream",
     "text": [
      "/home/morning/miniconda3/envs/f2ml/lib/python3.13/site-packages/sklearn/neural_network/_multilayer_perceptron.py:691: ConvergenceWarning: Stochastic Optimizer: Maximum iterations (200) reached and the optimization hasn't converged yet.\n",
      "  warnings.warn(\n"
     ]
    },
    {
     "name": "stdout",
     "output_type": "stream",
     "text": [
      "Training and evaluating model: DT\n",
      "Training and evaluating model: ANN\n",
      "Training and evaluating model: NB\n",
      "   Fold   Group  SVM_TPR  SVM_TNR  SVM_FPR  SVM_FNR  SVM_TP  SVM_TN  SVM_FP  \\\n",
      "0     1  Female      0.0      0.0      0.0      0.0       0       0       0   \n",
      "1     2  Female      0.0      0.0      0.0      0.0       0       0       0   \n",
      "2     3  Female      0.0      0.0      0.0      0.0       0       0       0   \n",
      "3     4  Female      1.0      0.0      1.0      0.0       3       0       3   \n",
      "4     5  Female      1.0      0.0      1.0      0.0       6       0       3   \n",
      "5     1    Male      1.0      0.0      0.0      0.0       2       0       0   \n",
      "6     2    Male      0.0      0.0      0.0      0.0       0       0       0   \n",
      "7     3    Male      1.0      0.0      0.0      0.0       3       0       0   \n",
      "8     4    Male      0.0      0.0      0.0      1.0       0       0       0   \n",
      "9     5    Male      1.0      0.0      0.0      0.0       1       0       0   \n",
      "\n",
      "   SVM_FN  ...  ANN_FP  ANN_FN    NB_TPR    NB_TNR    NB_FPR    NB_FNR  NB_TP  \\\n",
      "0       0  ...       0       0  1.000000  1.000000  0.000000  0.000000      4   \n",
      "1       0  ...       0       0  1.000000  0.000000  1.000000  0.000000      1   \n",
      "2       0  ...       0       0  1.000000  0.000000  0.000000  0.000000      2   \n",
      "3       0  ...       2       0  0.666667  0.666667  0.333333  0.333333      2   \n",
      "4       0  ...       2       3  0.666667  0.000000  0.000000  0.333333      2   \n",
      "5       0  ...       0       0  1.000000  1.000000  0.000000  0.000000      4   \n",
      "6       0  ...       3       2  0.666667  0.400000  0.600000  0.333333      6   \n",
      "7       0  ...       0       1  1.000000  0.500000  0.500000  0.000000      5   \n",
      "8       1  ...       1       1  0.333333  0.000000  1.000000  0.666667      1   \n",
      "9       0  ...       0       0  1.000000  1.000000  0.000000  0.000000      6   \n",
      "\n",
      "   NB_TN  NB_FP  NB_FN  \n",
      "0      1      0      0  \n",
      "1      0      2      0  \n",
      "2      0      0      0  \n",
      "3      2      1      1  \n",
      "4      0      0      1  \n",
      "5      1      0      0  \n",
      "6      2      3      3  \n",
      "7      2      2      0  \n",
      "8      0      2      2  \n",
      "9      1      0      0  \n",
      "\n",
      "[10 rows x 58 columns]\n"
     ]
    },
    {
     "name": "stderr",
     "output_type": "stream",
     "text": [
      "/home/morning/miniconda3/envs/f2ml/lib/python3.13/site-packages/sklearn/neural_network/_multilayer_perceptron.py:691: ConvergenceWarning: Stochastic Optimizer: Maximum iterations (200) reached and the optimization hasn't converged yet.\n",
      "  warnings.warn(\n"
     ]
    }
   ],
   "source": [
    "print(\"Starting experiments for Female(0)\")\n",
    "fl.run_experiment(kf, models, X_scaled_Gender_0, y_Gender_0, 'Female', results_list)\n",
    "\n",
    "print(\"Starting experiments for Male(1)\")\n",
    "fl.run_experiment(kf, models, X_scaled_Gender_1, y_Gender_1, 'Male', results_list)\n",
    "\n",
    "final_results_df = pd.concat(results_list, ignore_index=True)\n",
    "print(final_results_df)"
   ]
  },
  {
   "cell_type": "code",
   "execution_count": 21,
   "metadata": {},
   "outputs": [],
   "source": [
    "results_df = pd.concat(results_list, ignore_index=True)"
   ]
  },
  {
   "cell_type": "code",
   "execution_count": 22,
   "metadata": {},
   "outputs": [],
   "source": [
    "result_path = './results/K29_result.xlsx'\n",
    "results_df.to_excel(result_path, index=False)"
   ]
  },
  {
   "cell_type": "code",
   "execution_count": 23,
   "metadata": {},
   "outputs": [
    {
     "data": {
      "text/html": [
       "<div>\n",
       "<style scoped>\n",
       "    .dataframe tbody tr th:only-of-type {\n",
       "        vertical-align: middle;\n",
       "    }\n",
       "\n",
       "    .dataframe tbody tr th {\n",
       "        vertical-align: top;\n",
       "    }\n",
       "\n",
       "    .dataframe thead th {\n",
       "        text-align: right;\n",
       "    }\n",
       "</style>\n",
       "<table border=\"1\" class=\"dataframe\">\n",
       "  <thead>\n",
       "    <tr style=\"text-align: right;\">\n",
       "      <th></th>\n",
       "      <th>Fold</th>\n",
       "      <th>Group</th>\n",
       "      <th>SVM_TPR</th>\n",
       "      <th>SVM_TNR</th>\n",
       "      <th>SVM_FPR</th>\n",
       "      <th>SVM_FNR</th>\n",
       "      <th>SVM_TP</th>\n",
       "      <th>SVM_TN</th>\n",
       "      <th>SVM_FP</th>\n",
       "      <th>SVM_FN</th>\n",
       "      <th>...</th>\n",
       "      <th>ANN_FP</th>\n",
       "      <th>ANN_FN</th>\n",
       "      <th>NB_TPR</th>\n",
       "      <th>NB_TNR</th>\n",
       "      <th>NB_FPR</th>\n",
       "      <th>NB_FNR</th>\n",
       "      <th>NB_TP</th>\n",
       "      <th>NB_TN</th>\n",
       "      <th>NB_FP</th>\n",
       "      <th>NB_FN</th>\n",
       "    </tr>\n",
       "  </thead>\n",
       "  <tbody>\n",
       "    <tr>\n",
       "      <th>0</th>\n",
       "      <td>1</td>\n",
       "      <td>Female</td>\n",
       "      <td>0</td>\n",
       "      <td>0</td>\n",
       "      <td>0</td>\n",
       "      <td>0</td>\n",
       "      <td>0</td>\n",
       "      <td>0</td>\n",
       "      <td>0</td>\n",
       "      <td>0</td>\n",
       "      <td>...</td>\n",
       "      <td>0</td>\n",
       "      <td>0</td>\n",
       "      <td>1.000000</td>\n",
       "      <td>1.000000</td>\n",
       "      <td>0.000000</td>\n",
       "      <td>0.000000</td>\n",
       "      <td>4</td>\n",
       "      <td>1</td>\n",
       "      <td>0</td>\n",
       "      <td>0</td>\n",
       "    </tr>\n",
       "    <tr>\n",
       "      <th>1</th>\n",
       "      <td>2</td>\n",
       "      <td>Female</td>\n",
       "      <td>0</td>\n",
       "      <td>0</td>\n",
       "      <td>0</td>\n",
       "      <td>0</td>\n",
       "      <td>0</td>\n",
       "      <td>0</td>\n",
       "      <td>0</td>\n",
       "      <td>0</td>\n",
       "      <td>...</td>\n",
       "      <td>0</td>\n",
       "      <td>0</td>\n",
       "      <td>1.000000</td>\n",
       "      <td>0.000000</td>\n",
       "      <td>1.000000</td>\n",
       "      <td>0.000000</td>\n",
       "      <td>1</td>\n",
       "      <td>0</td>\n",
       "      <td>2</td>\n",
       "      <td>0</td>\n",
       "    </tr>\n",
       "    <tr>\n",
       "      <th>2</th>\n",
       "      <td>3</td>\n",
       "      <td>Female</td>\n",
       "      <td>0</td>\n",
       "      <td>0</td>\n",
       "      <td>0</td>\n",
       "      <td>0</td>\n",
       "      <td>0</td>\n",
       "      <td>0</td>\n",
       "      <td>0</td>\n",
       "      <td>0</td>\n",
       "      <td>...</td>\n",
       "      <td>0</td>\n",
       "      <td>0</td>\n",
       "      <td>1.000000</td>\n",
       "      <td>0.000000</td>\n",
       "      <td>0.000000</td>\n",
       "      <td>0.000000</td>\n",
       "      <td>2</td>\n",
       "      <td>0</td>\n",
       "      <td>0</td>\n",
       "      <td>0</td>\n",
       "    </tr>\n",
       "    <tr>\n",
       "      <th>3</th>\n",
       "      <td>4</td>\n",
       "      <td>Female</td>\n",
       "      <td>1</td>\n",
       "      <td>0</td>\n",
       "      <td>1</td>\n",
       "      <td>0</td>\n",
       "      <td>3</td>\n",
       "      <td>0</td>\n",
       "      <td>3</td>\n",
       "      <td>0</td>\n",
       "      <td>...</td>\n",
       "      <td>2</td>\n",
       "      <td>0</td>\n",
       "      <td>0.666667</td>\n",
       "      <td>0.666667</td>\n",
       "      <td>0.333333</td>\n",
       "      <td>0.333333</td>\n",
       "      <td>2</td>\n",
       "      <td>2</td>\n",
       "      <td>1</td>\n",
       "      <td>1</td>\n",
       "    </tr>\n",
       "    <tr>\n",
       "      <th>4</th>\n",
       "      <td>5</td>\n",
       "      <td>Female</td>\n",
       "      <td>1</td>\n",
       "      <td>0</td>\n",
       "      <td>1</td>\n",
       "      <td>0</td>\n",
       "      <td>6</td>\n",
       "      <td>0</td>\n",
       "      <td>3</td>\n",
       "      <td>0</td>\n",
       "      <td>...</td>\n",
       "      <td>2</td>\n",
       "      <td>3</td>\n",
       "      <td>0.666667</td>\n",
       "      <td>0.000000</td>\n",
       "      <td>0.000000</td>\n",
       "      <td>0.333333</td>\n",
       "      <td>2</td>\n",
       "      <td>0</td>\n",
       "      <td>0</td>\n",
       "      <td>1</td>\n",
       "    </tr>\n",
       "  </tbody>\n",
       "</table>\n",
       "<p>5 rows × 58 columns</p>\n",
       "</div>"
      ],
      "text/plain": [
       "   Fold   Group  SVM_TPR  SVM_TNR  SVM_FPR  SVM_FNR  SVM_TP  SVM_TN  SVM_FP  \\\n",
       "0     1  Female        0        0        0        0       0       0       0   \n",
       "1     2  Female        0        0        0        0       0       0       0   \n",
       "2     3  Female        0        0        0        0       0       0       0   \n",
       "3     4  Female        1        0        1        0       3       0       3   \n",
       "4     5  Female        1        0        1        0       6       0       3   \n",
       "\n",
       "   SVM_FN  ...  ANN_FP  ANN_FN    NB_TPR    NB_TNR    NB_FPR    NB_FNR  NB_TP  \\\n",
       "0       0  ...       0       0  1.000000  1.000000  0.000000  0.000000      4   \n",
       "1       0  ...       0       0  1.000000  0.000000  1.000000  0.000000      1   \n",
       "2       0  ...       0       0  1.000000  0.000000  0.000000  0.000000      2   \n",
       "3       0  ...       2       0  0.666667  0.666667  0.333333  0.333333      2   \n",
       "4       0  ...       2       3  0.666667  0.000000  0.000000  0.333333      2   \n",
       "\n",
       "   NB_TN  NB_FP  NB_FN  \n",
       "0      1      0      0  \n",
       "1      0      2      0  \n",
       "2      0      0      0  \n",
       "3      2      1      1  \n",
       "4      0      0      1  \n",
       "\n",
       "[5 rows x 58 columns]"
      ]
     },
     "execution_count": 23,
     "metadata": {},
     "output_type": "execute_result"
    }
   ],
   "source": [
    "df = pd.read_excel(result_path)\n",
    "df.head()"
   ]
  },
  {
   "cell_type": "code",
   "execution_count": 24,
   "metadata": {},
   "outputs": [
    {
     "name": "stdout",
     "output_type": "stream",
     "text": [
      "SVM -TPR: MannwhitneyuResult(statistic=np.float64(10.0), pvalue=np.float64(0.6312273930324451))\n",
      "SVM - FPR: MannwhitneyuResult(statistic=np.float64(17.5), pvalue=np.float64(0.17701598287480413))\n",
      "SVM - FN/FP: MannwhitneyuResult(statistic=np.float64(10.0), pvalue=np.float64(0.4237107971667934))\n",
      "DT -TPR: MannwhitneyuResult(statistic=np.float64(8.0), pvalue=np.float64(0.3643461266335529))\n",
      "DT - FPR: MannwhitneyuResult(statistic=np.float64(10.0), pvalue=np.float64(0.6004712601233854))\n",
      "DT - FN/FP: MannwhitneyuResult(statistic=np.float64(10.5), pvalue=np.float64(0.6985353583033387))\n",
      "RF -TPR: MannwhitneyuResult(statistic=np.float64(7.5), pvalue=np.float64(0.3192938744800329))\n",
      "RF - FPR: MannwhitneyuResult(statistic=np.float64(13.0), pvalue=np.float64(1.0))\n",
      "RF - FN/FP: MannwhitneyuResult(statistic=np.float64(11.0), pvalue=np.float64(0.7962534147376392))\n",
      "LR -TPR: MannwhitneyuResult(statistic=np.float64(10.5), pvalue=np.float64(0.7373156772164182))\n",
      "LR - FPR: MannwhitneyuResult(statistic=np.float64(10.5), pvalue=np.float64(0.72305812692811))\n",
      "LR - FN/FP: MannwhitneyuResult(statistic=np.float64(13.0), pvalue=np.float64(1.0))\n",
      "KNN -TPR: MannwhitneyuResult(statistic=np.float64(11.0), pvalue=np.float64(0.8132388620141389))\n",
      "KNN - FPR: MannwhitneyuResult(statistic=np.float64(6.0), pvalue=np.float64(0.17515057810298873))\n",
      "KNN - FN/FP: MannwhitneyuResult(statistic=np.float64(11.0), pvalue=np.float64(0.7962534147376392))\n",
      "ANN -TPR: MannwhitneyuResult(statistic=np.float64(16.5), pvalue=np.float64(0.44470740102325157))\n",
      "ANN - FPR: MannwhitneyuResult(statistic=np.float64(10.5), pvalue=np.float64(0.72305812692811))\n",
      "ANN - FN/FP: MannwhitneyuResult(statistic=np.float64(8.0), pvalue=np.float64(0.34652171170610724))\n",
      "NB -TPR: MannwhitneyuResult(statistic=np.float64(13.5), pvalue=np.float64(0.9048611294504482))\n",
      "NB - FPR: MannwhitneyuResult(statistic=np.float64(9.5), pvalue=np.float64(0.5761501220305789))\n",
      "NB - FN/FP: MannwhitneyuResult(statistic=np.float64(12.5), pvalue=np.float64(1.0))\n"
     ]
    }
   ],
   "source": [
    "label = 'Female'\n",
    "\n",
    "fl.perform_t_tests(df, 'SVM', label)\n",
    "fl.perform_t_tests(df, 'DT', label)\n",
    "fl.perform_t_tests(df, 'RF', label)\n",
    "fl.perform_t_tests(df, 'LR', label)\n",
    "fl.perform_t_tests(df, 'KNN', label)\n",
    "fl.perform_t_tests(df, 'ANN', label)\n",
    "fl.perform_t_tests(df, 'NB', label)\n"
   ]
  }
 ],
 "metadata": {
  "kernelspec": {
   "display_name": "f2ml",
   "language": "python",
   "name": "python3"
  },
  "language_info": {
   "codemirror_mode": {
    "name": "ipython",
    "version": 3
   },
   "file_extension": ".py",
   "mimetype": "text/x-python",
   "name": "python",
   "nbconvert_exporter": "python",
   "pygments_lexer": "ipython3",
   "version": "3.13.0"
  }
 },
 "nbformat": 4,
 "nbformat_minor": 2
}
