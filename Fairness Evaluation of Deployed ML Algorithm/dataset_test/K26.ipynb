{
 "cells": [
  {
   "cell_type": "code",
   "execution_count": 1,
   "metadata": {},
   "outputs": [
    {
     "name": "stderr",
     "output_type": "stream",
     "text": [
      "/home/morning/miniconda3/envs/f2ml/lib/python3.13/site-packages/tqdm/auto.py:21: TqdmWarning: IProgress not found. Please update jupyter and ipywidgets. See https://ipywidgets.readthedocs.io/en/stable/user_install.html\n",
      "  from .autonotebook import tqdm as notebook_tqdm\n"
     ]
    },
    {
     "name": "stdout",
     "output_type": "stream",
     "text": [
      "Warning: Looks like you're using an outdated `kagglehub` version (installed: 0.3.5), please consider upgrading to the latest version (0.3.6).\n",
      "Path to dataset files: /home/morning/.cache/kagglehub/datasets/davidechicco/chronic-kidney-disease-ehrs-abu-dhabi/versions/2\n"
     ]
    }
   ],
   "source": [
    "import kagglehub\n",
    "\n",
    "# Download latest version\n",
    "path = kagglehub.dataset_download(\"davidechicco/chronic-kidney-disease-ehrs-abu-dhabi\")\n",
    "\n",
    "print(\"Path to dataset files:\", path)"
   ]
  },
  {
   "cell_type": "code",
   "execution_count": 2,
   "metadata": {},
   "outputs": [
    {
     "data": {
      "text/plain": [
       "['ChronicKidneyDisease_EHRs_from_AbuDhabi.csv']"
      ]
     },
     "execution_count": 2,
     "metadata": {},
     "output_type": "execute_result"
    }
   ],
   "source": [
    "import os\n",
    "os.listdir(path)"
   ]
  },
  {
   "cell_type": "code",
   "execution_count": 3,
   "metadata": {},
   "outputs": [],
   "source": [
    "import pandas as pd\n",
    "import fairtl_statisticaltest as fl\n",
    "from sklearn.feature_selection import VarianceThreshold\n",
    "from sklearn.preprocessing import StandardScaler\n",
    "from sklearn.model_selection import KFold\n",
    "from sklearn.preprocessing import OrdinalEncoder, LabelEncoder\n",
    "from sklearn.preprocessing import OneHotEncoder"
   ]
  },
  {
   "cell_type": "code",
   "execution_count": 4,
   "metadata": {},
   "outputs": [
    {
     "data": {
      "text/html": [
       "<div>\n",
       "<style scoped>\n",
       "    .dataframe tbody tr th:only-of-type {\n",
       "        vertical-align: middle;\n",
       "    }\n",
       "\n",
       "    .dataframe tbody tr th {\n",
       "        vertical-align: top;\n",
       "    }\n",
       "\n",
       "    .dataframe thead th {\n",
       "        text-align: right;\n",
       "    }\n",
       "</style>\n",
       "<table border=\"1\" class=\"dataframe\">\n",
       "  <thead>\n",
       "    <tr style=\"text-align: right;\">\n",
       "      <th></th>\n",
       "      <th>Sex</th>\n",
       "      <th>AgeBaseline</th>\n",
       "      <th>HistoryDiabetes</th>\n",
       "      <th>HistoryCHD</th>\n",
       "      <th>HistoryVascular</th>\n",
       "      <th>HistorySmoking</th>\n",
       "      <th>HistoryHTN</th>\n",
       "      <th>HistoryDLD</th>\n",
       "      <th>HistoryObesity</th>\n",
       "      <th>DLDmeds</th>\n",
       "      <th>...</th>\n",
       "      <th>ACEIARB</th>\n",
       "      <th>CholesterolBaseline</th>\n",
       "      <th>CreatinineBaseline</th>\n",
       "      <th>eGFRBaseline</th>\n",
       "      <th>sBPBaseline</th>\n",
       "      <th>dBPBaseline</th>\n",
       "      <th>BMIBaseline</th>\n",
       "      <th>TimeToEventMonths</th>\n",
       "      <th>EventCKD35</th>\n",
       "      <th>TIME_YEAR</th>\n",
       "    </tr>\n",
       "  </thead>\n",
       "  <tbody>\n",
       "    <tr>\n",
       "      <th>0</th>\n",
       "      <td>0</td>\n",
       "      <td>64</td>\n",
       "      <td>0</td>\n",
       "      <td>0</td>\n",
       "      <td>0</td>\n",
       "      <td>0</td>\n",
       "      <td>1</td>\n",
       "      <td>1</td>\n",
       "      <td>1</td>\n",
       "      <td>1</td>\n",
       "      <td>...</td>\n",
       "      <td>0</td>\n",
       "      <td>4.8</td>\n",
       "      <td>59.0</td>\n",
       "      <td>93.3</td>\n",
       "      <td>144</td>\n",
       "      <td>87</td>\n",
       "      <td>40</td>\n",
       "      <td>98</td>\n",
       "      <td>0</td>\n",
       "      <td>8</td>\n",
       "    </tr>\n",
       "    <tr>\n",
       "      <th>1</th>\n",
       "      <td>0</td>\n",
       "      <td>52</td>\n",
       "      <td>0</td>\n",
       "      <td>0</td>\n",
       "      <td>0</td>\n",
       "      <td>0</td>\n",
       "      <td>1</td>\n",
       "      <td>1</td>\n",
       "      <td>1</td>\n",
       "      <td>0</td>\n",
       "      <td>...</td>\n",
       "      <td>0</td>\n",
       "      <td>6.4</td>\n",
       "      <td>52.0</td>\n",
       "      <td>105.8</td>\n",
       "      <td>148</td>\n",
       "      <td>91</td>\n",
       "      <td>45</td>\n",
       "      <td>106</td>\n",
       "      <td>0</td>\n",
       "      <td>9</td>\n",
       "    </tr>\n",
       "    <tr>\n",
       "      <th>2</th>\n",
       "      <td>0</td>\n",
       "      <td>56</td>\n",
       "      <td>0</td>\n",
       "      <td>0</td>\n",
       "      <td>0</td>\n",
       "      <td>0</td>\n",
       "      <td>1</td>\n",
       "      <td>1</td>\n",
       "      <td>1</td>\n",
       "      <td>1</td>\n",
       "      <td>...</td>\n",
       "      <td>0</td>\n",
       "      <td>6.4</td>\n",
       "      <td>57.0</td>\n",
       "      <td>99.8</td>\n",
       "      <td>149</td>\n",
       "      <td>86</td>\n",
       "      <td>41</td>\n",
       "      <td>88</td>\n",
       "      <td>0</td>\n",
       "      <td>7</td>\n",
       "    </tr>\n",
       "    <tr>\n",
       "      <th>3</th>\n",
       "      <td>0</td>\n",
       "      <td>58</td>\n",
       "      <td>0</td>\n",
       "      <td>0</td>\n",
       "      <td>0</td>\n",
       "      <td>0</td>\n",
       "      <td>0</td>\n",
       "      <td>1</td>\n",
       "      <td>1</td>\n",
       "      <td>1</td>\n",
       "      <td>...</td>\n",
       "      <td>0</td>\n",
       "      <td>5.1</td>\n",
       "      <td>65.0</td>\n",
       "      <td>90.3</td>\n",
       "      <td>116</td>\n",
       "      <td>68</td>\n",
       "      <td>32</td>\n",
       "      <td>103</td>\n",
       "      <td>0</td>\n",
       "      <td>9</td>\n",
       "    </tr>\n",
       "    <tr>\n",
       "      <th>4</th>\n",
       "      <td>0</td>\n",
       "      <td>63</td>\n",
       "      <td>1</td>\n",
       "      <td>0</td>\n",
       "      <td>0</td>\n",
       "      <td>0</td>\n",
       "      <td>1</td>\n",
       "      <td>1</td>\n",
       "      <td>1</td>\n",
       "      <td>1</td>\n",
       "      <td>...</td>\n",
       "      <td>1</td>\n",
       "      <td>5.0</td>\n",
       "      <td>70.0</td>\n",
       "      <td>79.7</td>\n",
       "      <td>132</td>\n",
       "      <td>63</td>\n",
       "      <td>31</td>\n",
       "      <td>105</td>\n",
       "      <td>0</td>\n",
       "      <td>9</td>\n",
       "    </tr>\n",
       "  </tbody>\n",
       "</table>\n",
       "<p>5 rows × 22 columns</p>\n",
       "</div>"
      ],
      "text/plain": [
       "   Sex  AgeBaseline  HistoryDiabetes  HistoryCHD  HistoryVascular  \\\n",
       "0    0           64                0           0                0   \n",
       "1    0           52                0           0                0   \n",
       "2    0           56                0           0                0   \n",
       "3    0           58                0           0                0   \n",
       "4    0           63                1           0                0   \n",
       "\n",
       "   HistorySmoking  HistoryHTN   HistoryDLD  HistoryObesity  DLDmeds  ...  \\\n",
       "0               0            1           1               1        1  ...   \n",
       "1               0            1           1               1        0  ...   \n",
       "2               0            1           1               1        1  ...   \n",
       "3               0            0           1               1        1  ...   \n",
       "4               0            1           1               1        1  ...   \n",
       "\n",
       "   ACEIARB  CholesterolBaseline  CreatinineBaseline  eGFRBaseline  \\\n",
       "0        0                  4.8                59.0          93.3   \n",
       "1        0                  6.4                52.0         105.8   \n",
       "2        0                  6.4                57.0          99.8   \n",
       "3        0                  5.1                65.0          90.3   \n",
       "4        1                  5.0                70.0          79.7   \n",
       "\n",
       "   sBPBaseline  dBPBaseline  BMIBaseline  TimeToEventMonths  EventCKD35  \\\n",
       "0          144           87           40                 98           0   \n",
       "1          148           91           45                106           0   \n",
       "2          149           86           41                 88           0   \n",
       "3          116           68           32                103           0   \n",
       "4          132           63           31                105           0   \n",
       "\n",
       "   TIME_YEAR  \n",
       "0          8  \n",
       "1          9  \n",
       "2          7  \n",
       "3          9  \n",
       "4          9  \n",
       "\n",
       "[5 rows x 22 columns]"
      ]
     },
     "execution_count": 4,
     "metadata": {},
     "output_type": "execute_result"
    }
   ],
   "source": [
    "df = pd.read_csv(f'{path}/ChronicKidneyDisease_EHRs_from_AbuDhabi.csv')\n",
    "df.head()"
   ]
  },
  {
   "cell_type": "code",
   "execution_count": 5,
   "metadata": {},
   "outputs": [
    {
     "data": {
      "text/plain": [
       "array([0, 1])"
      ]
     },
     "execution_count": 5,
     "metadata": {},
     "output_type": "execute_result"
    }
   ],
   "source": [
    "df['EventCKD35'].unique()"
   ]
  },
  {
   "cell_type": "code",
   "execution_count": 6,
   "metadata": {},
   "outputs": [
    {
     "data": {
      "text/plain": [
       "array([0, 1])"
      ]
     },
     "execution_count": 6,
     "metadata": {},
     "output_type": "execute_result"
    }
   ],
   "source": [
    "df['Sex'].unique()"
   ]
  },
  {
   "cell_type": "code",
   "execution_count": 7,
   "metadata": {},
   "outputs": [
    {
     "data": {
      "text/plain": [
       "(491, 22)"
      ]
     },
     "execution_count": 7,
     "metadata": {},
     "output_type": "execute_result"
    }
   ],
   "source": [
    "df.shape"
   ]
  },
  {
   "cell_type": "code",
   "execution_count": 8,
   "metadata": {},
   "outputs": [
    {
     "name": "stdout",
     "output_type": "stream",
     "text": [
      "<class 'pandas.core.frame.DataFrame'>\n",
      "RangeIndex: 491 entries, 0 to 490\n",
      "Data columns (total 22 columns):\n",
      " #   Column               Non-Null Count  Dtype  \n",
      "---  ------               --------------  -----  \n",
      " 0   Sex                  491 non-null    int64  \n",
      " 1   AgeBaseline          491 non-null    int64  \n",
      " 2   HistoryDiabetes      491 non-null    int64  \n",
      " 3   HistoryCHD           491 non-null    int64  \n",
      " 4   HistoryVascular      491 non-null    int64  \n",
      " 5   HistorySmoking       491 non-null    int64  \n",
      " 6   HistoryHTN           491 non-null    int64  \n",
      " 7   HistoryDLD           491 non-null    int64  \n",
      " 8   HistoryObesity       491 non-null    int64  \n",
      " 9   DLDmeds              491 non-null    int64  \n",
      " 10  DMmeds               491 non-null    int64  \n",
      " 11  HTNmeds              491 non-null    int64  \n",
      " 12  ACEIARB              491 non-null    int64  \n",
      " 13  CholesterolBaseline  491 non-null    float64\n",
      " 14  CreatinineBaseline   491 non-null    float64\n",
      " 15  eGFRBaseline         491 non-null    float64\n",
      " 16  sBPBaseline          491 non-null    int64  \n",
      " 17  dBPBaseline          491 non-null    int64  \n",
      " 18  BMIBaseline          491 non-null    int64  \n",
      " 19  TimeToEventMonths    491 non-null    int64  \n",
      " 20  EventCKD35           491 non-null    int64  \n",
      " 21  TIME_YEAR            491 non-null    int64  \n",
      "dtypes: float64(3), int64(19)\n",
      "memory usage: 84.5 KB\n"
     ]
    }
   ],
   "source": [
    "df.info()"
   ]
  },
  {
   "cell_type": "code",
   "execution_count": 9,
   "metadata": {},
   "outputs": [],
   "source": [
    "y = df['EventCKD35'].values\n",
    "X = df.drop('EventCKD35', axis=1)"
   ]
  },
  {
   "cell_type": "code",
   "execution_count": 10,
   "metadata": {},
   "outputs": [
    {
     "name": "stdout",
     "output_type": "stream",
     "text": [
      "(491, 21)\n",
      "(491, 19)\n"
     ]
    }
   ],
   "source": [
    "print(X.shape)\n",
    "selector = VarianceThreshold(threshold=0.1)\n",
    "X = selector.fit_transform(X)\n",
    "print(X.shape)"
   ]
  },
  {
   "cell_type": "code",
   "execution_count": 11,
   "metadata": {},
   "outputs": [
    {
     "name": "stdout",
     "output_type": "stream",
     "text": [
      "Female:  241\n",
      "Male:  250\n"
     ]
    }
   ],
   "source": [
    "# build mask\n",
    "gender_0_mask = df['Sex'] == 0\n",
    "gender_1_mask = df['Sex'] == 1\n",
    "\n",
    "count_gender_0 = gender_0_mask.sum()\n",
    "count_gender_1 = gender_1_mask.sum()\n",
    "\n",
    "print(\"Female: \", count_gender_0)\n",
    "print(\"Male: \", count_gender_1)\n",
    "\n",
    "scaler = StandardScaler()\n",
    "X_scaled = scaler.fit_transform(X)\n",
    "\n",
    "X_scaled_Gender_0 = X_scaled[gender_0_mask]\n",
    "X_scaled_Gender_1 = X_scaled[gender_1_mask]\n",
    "y_Gender_0 = y[gender_0_mask]\n",
    "y_Gender_1 = y[gender_1_mask]"
   ]
  },
  {
   "cell_type": "code",
   "execution_count": 12,
   "metadata": {},
   "outputs": [],
   "source": [
    "seed = 42\n",
    "models = fl.build_models(seed)\n",
    "\n",
    "results_list = []\n",
    "\n",
    "kf = KFold(n_splits=5, shuffle=True, random_state=seed)"
   ]
  },
  {
   "cell_type": "code",
   "execution_count": 13,
   "metadata": {},
   "outputs": [
    {
     "name": "stdout",
     "output_type": "stream",
     "text": [
      "Starting experiments for Female(0)\n",
      "Processing fold 1 for group Female\n",
      "Training and evaluating model: SVM\n",
      "Training and evaluating model: LR\n",
      "Training and evaluating model: KNN\n",
      "Training and evaluating model: RF\n",
      "Training and evaluating model: DT\n",
      "Training and evaluating model: ANN\n"
     ]
    },
    {
     "name": "stderr",
     "output_type": "stream",
     "text": [
      "/home/morning/miniconda3/envs/f2ml/lib/python3.13/site-packages/sklearn/neural_network/_multilayer_perceptron.py:691: ConvergenceWarning: Stochastic Optimizer: Maximum iterations (200) reached and the optimization hasn't converged yet.\n",
      "  warnings.warn(\n"
     ]
    },
    {
     "name": "stdout",
     "output_type": "stream",
     "text": [
      "Training and evaluating model: NB\n",
      "Processing fold 2 for group Female\n",
      "Training and evaluating model: SVM\n",
      "Training and evaluating model: LR\n",
      "Training and evaluating model: KNN\n",
      "Training and evaluating model: RF\n",
      "Training and evaluating model: DT\n",
      "Training and evaluating model: ANN\n"
     ]
    },
    {
     "name": "stderr",
     "output_type": "stream",
     "text": [
      "/home/morning/miniconda3/envs/f2ml/lib/python3.13/site-packages/sklearn/neural_network/_multilayer_perceptron.py:691: ConvergenceWarning: Stochastic Optimizer: Maximum iterations (200) reached and the optimization hasn't converged yet.\n",
      "  warnings.warn(\n"
     ]
    },
    {
     "name": "stdout",
     "output_type": "stream",
     "text": [
      "Training and evaluating model: NB\n",
      "Processing fold 3 for group Female\n",
      "Training and evaluating model: SVM\n",
      "Training and evaluating model: LR\n",
      "Training and evaluating model: KNN\n",
      "Training and evaluating model: RF\n",
      "Training and evaluating model: DT\n",
      "Training and evaluating model: ANN\n"
     ]
    },
    {
     "name": "stderr",
     "output_type": "stream",
     "text": [
      "/home/morning/miniconda3/envs/f2ml/lib/python3.13/site-packages/sklearn/neural_network/_multilayer_perceptron.py:691: ConvergenceWarning: Stochastic Optimizer: Maximum iterations (200) reached and the optimization hasn't converged yet.\n",
      "  warnings.warn(\n"
     ]
    },
    {
     "name": "stdout",
     "output_type": "stream",
     "text": [
      "Training and evaluating model: NB\n",
      "Processing fold 4 for group Female\n",
      "Training and evaluating model: SVM\n",
      "Training and evaluating model: LR\n",
      "Training and evaluating model: KNN\n",
      "Training and evaluating model: RF\n",
      "Training and evaluating model: DT\n",
      "Training and evaluating model: ANN\n"
     ]
    },
    {
     "name": "stderr",
     "output_type": "stream",
     "text": [
      "/home/morning/miniconda3/envs/f2ml/lib/python3.13/site-packages/sklearn/neural_network/_multilayer_perceptron.py:691: ConvergenceWarning: Stochastic Optimizer: Maximum iterations (200) reached and the optimization hasn't converged yet.\n",
      "  warnings.warn(\n"
     ]
    },
    {
     "name": "stdout",
     "output_type": "stream",
     "text": [
      "Training and evaluating model: NB\n",
      "Processing fold 5 for group Female\n",
      "Training and evaluating model: SVM\n",
      "Training and evaluating model: LR\n",
      "Training and evaluating model: KNN\n",
      "Training and evaluating model: RF\n",
      "Training and evaluating model: DT\n",
      "Training and evaluating model: ANN\n"
     ]
    },
    {
     "name": "stderr",
     "output_type": "stream",
     "text": [
      "/home/morning/miniconda3/envs/f2ml/lib/python3.13/site-packages/sklearn/neural_network/_multilayer_perceptron.py:691: ConvergenceWarning: Stochastic Optimizer: Maximum iterations (200) reached and the optimization hasn't converged yet.\n",
      "  warnings.warn(\n"
     ]
    },
    {
     "name": "stdout",
     "output_type": "stream",
     "text": [
      "Training and evaluating model: NB\n",
      "Starting experiments for Male(1)\n",
      "Processing fold 1 for group Male\n",
      "Training and evaluating model: SVM\n",
      "Training and evaluating model: LR\n",
      "Training and evaluating model: KNN\n",
      "Training and evaluating model: RF\n",
      "Training and evaluating model: DT\n",
      "Training and evaluating model: ANN\n"
     ]
    },
    {
     "name": "stderr",
     "output_type": "stream",
     "text": [
      "/home/morning/miniconda3/envs/f2ml/lib/python3.13/site-packages/sklearn/neural_network/_multilayer_perceptron.py:691: ConvergenceWarning: Stochastic Optimizer: Maximum iterations (200) reached and the optimization hasn't converged yet.\n",
      "  warnings.warn(\n"
     ]
    },
    {
     "name": "stdout",
     "output_type": "stream",
     "text": [
      "Training and evaluating model: NB\n",
      "Processing fold 2 for group Male\n",
      "Training and evaluating model: SVM\n",
      "Training and evaluating model: LR\n",
      "Training and evaluating model: KNN\n",
      "Training and evaluating model: RF\n",
      "Training and evaluating model: DT\n",
      "Training and evaluating model: ANN\n"
     ]
    },
    {
     "name": "stderr",
     "output_type": "stream",
     "text": [
      "/home/morning/miniconda3/envs/f2ml/lib/python3.13/site-packages/sklearn/neural_network/_multilayer_perceptron.py:691: ConvergenceWarning: Stochastic Optimizer: Maximum iterations (200) reached and the optimization hasn't converged yet.\n",
      "  warnings.warn(\n"
     ]
    },
    {
     "name": "stdout",
     "output_type": "stream",
     "text": [
      "Training and evaluating model: NB\n",
      "Processing fold 3 for group Male\n",
      "Training and evaluating model: SVM\n",
      "Training and evaluating model: LR\n",
      "Training and evaluating model: KNN\n",
      "Training and evaluating model: RF\n",
      "Training and evaluating model: DT\n",
      "Training and evaluating model: ANN\n"
     ]
    },
    {
     "name": "stderr",
     "output_type": "stream",
     "text": [
      "/home/morning/miniconda3/envs/f2ml/lib/python3.13/site-packages/sklearn/neural_network/_multilayer_perceptron.py:691: ConvergenceWarning: Stochastic Optimizer: Maximum iterations (200) reached and the optimization hasn't converged yet.\n",
      "  warnings.warn(\n"
     ]
    },
    {
     "name": "stdout",
     "output_type": "stream",
     "text": [
      "Training and evaluating model: NB\n",
      "Processing fold 4 for group Male\n",
      "Training and evaluating model: SVM\n",
      "Training and evaluating model: LR\n",
      "Training and evaluating model: KNN\n",
      "Training and evaluating model: RF\n",
      "Training and evaluating model: DT\n",
      "Training and evaluating model: ANN\n"
     ]
    },
    {
     "name": "stderr",
     "output_type": "stream",
     "text": [
      "/home/morning/miniconda3/envs/f2ml/lib/python3.13/site-packages/sklearn/neural_network/_multilayer_perceptron.py:691: ConvergenceWarning: Stochastic Optimizer: Maximum iterations (200) reached and the optimization hasn't converged yet.\n",
      "  warnings.warn(\n"
     ]
    },
    {
     "name": "stdout",
     "output_type": "stream",
     "text": [
      "Training and evaluating model: NB\n",
      "Processing fold 5 for group Male\n",
      "Training and evaluating model: SVM\n",
      "Training and evaluating model: LR\n",
      "Training and evaluating model: KNN\n",
      "Training and evaluating model: RF\n",
      "Training and evaluating model: DT\n",
      "Training and evaluating model: ANN\n",
      "Training and evaluating model: NB\n",
      "   Fold   Group   SVM_TPR   SVM_TNR   SVM_FPR   SVM_FNR  SVM_TP  SVM_TN  \\\n",
      "0     1  Female  0.250000  0.977778  0.022222  0.750000       1      44   \n",
      "1     2  Female  0.500000  0.977273  0.022727  0.500000       2      43   \n",
      "2     3  Female  0.000000  1.000000  0.000000  1.000000       0      46   \n",
      "3     4  Female  0.428571  1.000000  0.000000  0.571429       3      41   \n",
      "4     5  Female  0.000000  1.000000  0.000000  1.000000       0      45   \n",
      "5     1    Male  0.111111  0.975610  0.024390  0.888889       1      40   \n",
      "6     2    Male  0.666667  1.000000  0.000000  0.333333       4      44   \n",
      "7     3    Male  0.500000  1.000000  0.000000  0.500000       3      44   \n",
      "8     4    Male  0.300000  0.925000  0.075000  0.700000       3      37   \n",
      "9     5    Male  0.200000  0.955556  0.044444  0.800000       1      43   \n",
      "\n",
      "   SVM_FP  SVM_FN  ...  ANN_FP  ANN_FN    NB_TPR    NB_TNR    NB_FPR  \\\n",
      "0       1       3  ...       2       1  1.000000  0.688889  0.311111   \n",
      "1       1       2  ...       1       2  0.750000  0.909091  0.090909   \n",
      "2       0       2  ...       0       1  1.000000  0.565217  0.434783   \n",
      "3       0       4  ...       0       3  0.857143  0.414634  0.585366   \n",
      "4       0       3  ...       0       3  0.333333  0.666667  0.333333   \n",
      "5       1       8  ...       1       6  0.666667  0.853659  0.146341   \n",
      "6       0       2  ...       1       2  0.833333  0.909091  0.090909   \n",
      "7       0       3  ...       1       2  0.833333  0.818182  0.181818   \n",
      "8       3       7  ...       3       5  0.700000  0.825000  0.175000   \n",
      "9       2       4  ...       2       4  0.800000  0.888889  0.111111   \n",
      "\n",
      "     NB_FNR  NB_TP  NB_TN  NB_FP  NB_FN  \n",
      "0  0.000000      4     31     14      0  \n",
      "1  0.250000      3     40      4      1  \n",
      "2  0.000000      2     26     20      0  \n",
      "3  0.142857      6     17     24      1  \n",
      "4  0.666667      1     30     15      2  \n",
      "5  0.333333      6     35      6      3  \n",
      "6  0.166667      5     40      4      1  \n",
      "7  0.166667      5     36      8      1  \n",
      "8  0.300000      7     33      7      3  \n",
      "9  0.200000      4     40      5      1  \n",
      "\n",
      "[10 rows x 58 columns]\n"
     ]
    },
    {
     "name": "stderr",
     "output_type": "stream",
     "text": [
      "/home/morning/miniconda3/envs/f2ml/lib/python3.13/site-packages/sklearn/neural_network/_multilayer_perceptron.py:691: ConvergenceWarning: Stochastic Optimizer: Maximum iterations (200) reached and the optimization hasn't converged yet.\n",
      "  warnings.warn(\n"
     ]
    }
   ],
   "source": [
    "print(\"Starting experiments for Female(0)\")\n",
    "fl.run_experiment(kf, models, X_scaled_Gender_0, y_Gender_0, 'Female', results_list)\n",
    "\n",
    "print(\"Starting experiments for Male(1)\")\n",
    "fl.run_experiment(kf, models, X_scaled_Gender_1, y_Gender_1, 'Male', results_list)\n",
    "\n",
    "final_results_df = pd.concat(results_list, ignore_index=True)\n",
    "print(final_results_df)"
   ]
  },
  {
   "cell_type": "code",
   "execution_count": 14,
   "metadata": {},
   "outputs": [],
   "source": [
    "results_df = pd.concat(results_list, ignore_index=True)"
   ]
  },
  {
   "cell_type": "code",
   "execution_count": 15,
   "metadata": {},
   "outputs": [],
   "source": [
    "result_path = './results/K26_result.xlsx'\n",
    "results_df.to_excel(result_path, index=False)"
   ]
  },
  {
   "cell_type": "code",
   "execution_count": 16,
   "metadata": {},
   "outputs": [
    {
     "data": {
      "text/html": [
       "<div>\n",
       "<style scoped>\n",
       "    .dataframe tbody tr th:only-of-type {\n",
       "        vertical-align: middle;\n",
       "    }\n",
       "\n",
       "    .dataframe tbody tr th {\n",
       "        vertical-align: top;\n",
       "    }\n",
       "\n",
       "    .dataframe thead th {\n",
       "        text-align: right;\n",
       "    }\n",
       "</style>\n",
       "<table border=\"1\" class=\"dataframe\">\n",
       "  <thead>\n",
       "    <tr style=\"text-align: right;\">\n",
       "      <th></th>\n",
       "      <th>Fold</th>\n",
       "      <th>Group</th>\n",
       "      <th>SVM_TPR</th>\n",
       "      <th>SVM_TNR</th>\n",
       "      <th>SVM_FPR</th>\n",
       "      <th>SVM_FNR</th>\n",
       "      <th>SVM_TP</th>\n",
       "      <th>SVM_TN</th>\n",
       "      <th>SVM_FP</th>\n",
       "      <th>SVM_FN</th>\n",
       "      <th>...</th>\n",
       "      <th>ANN_FP</th>\n",
       "      <th>ANN_FN</th>\n",
       "      <th>NB_TPR</th>\n",
       "      <th>NB_TNR</th>\n",
       "      <th>NB_FPR</th>\n",
       "      <th>NB_FNR</th>\n",
       "      <th>NB_TP</th>\n",
       "      <th>NB_TN</th>\n",
       "      <th>NB_FP</th>\n",
       "      <th>NB_FN</th>\n",
       "    </tr>\n",
       "  </thead>\n",
       "  <tbody>\n",
       "    <tr>\n",
       "      <th>0</th>\n",
       "      <td>1</td>\n",
       "      <td>Female</td>\n",
       "      <td>0.250000</td>\n",
       "      <td>0.977778</td>\n",
       "      <td>0.022222</td>\n",
       "      <td>0.750000</td>\n",
       "      <td>1</td>\n",
       "      <td>44</td>\n",
       "      <td>1</td>\n",
       "      <td>3</td>\n",
       "      <td>...</td>\n",
       "      <td>2</td>\n",
       "      <td>1</td>\n",
       "      <td>1.000000</td>\n",
       "      <td>0.688889</td>\n",
       "      <td>0.311111</td>\n",
       "      <td>0.000000</td>\n",
       "      <td>4</td>\n",
       "      <td>31</td>\n",
       "      <td>14</td>\n",
       "      <td>0</td>\n",
       "    </tr>\n",
       "    <tr>\n",
       "      <th>1</th>\n",
       "      <td>2</td>\n",
       "      <td>Female</td>\n",
       "      <td>0.500000</td>\n",
       "      <td>0.977273</td>\n",
       "      <td>0.022727</td>\n",
       "      <td>0.500000</td>\n",
       "      <td>2</td>\n",
       "      <td>43</td>\n",
       "      <td>1</td>\n",
       "      <td>2</td>\n",
       "      <td>...</td>\n",
       "      <td>1</td>\n",
       "      <td>2</td>\n",
       "      <td>0.750000</td>\n",
       "      <td>0.909091</td>\n",
       "      <td>0.090909</td>\n",
       "      <td>0.250000</td>\n",
       "      <td>3</td>\n",
       "      <td>40</td>\n",
       "      <td>4</td>\n",
       "      <td>1</td>\n",
       "    </tr>\n",
       "    <tr>\n",
       "      <th>2</th>\n",
       "      <td>3</td>\n",
       "      <td>Female</td>\n",
       "      <td>0.000000</td>\n",
       "      <td>1.000000</td>\n",
       "      <td>0.000000</td>\n",
       "      <td>1.000000</td>\n",
       "      <td>0</td>\n",
       "      <td>46</td>\n",
       "      <td>0</td>\n",
       "      <td>2</td>\n",
       "      <td>...</td>\n",
       "      <td>0</td>\n",
       "      <td>1</td>\n",
       "      <td>1.000000</td>\n",
       "      <td>0.565217</td>\n",
       "      <td>0.434783</td>\n",
       "      <td>0.000000</td>\n",
       "      <td>2</td>\n",
       "      <td>26</td>\n",
       "      <td>20</td>\n",
       "      <td>0</td>\n",
       "    </tr>\n",
       "    <tr>\n",
       "      <th>3</th>\n",
       "      <td>4</td>\n",
       "      <td>Female</td>\n",
       "      <td>0.428571</td>\n",
       "      <td>1.000000</td>\n",
       "      <td>0.000000</td>\n",
       "      <td>0.571429</td>\n",
       "      <td>3</td>\n",
       "      <td>41</td>\n",
       "      <td>0</td>\n",
       "      <td>4</td>\n",
       "      <td>...</td>\n",
       "      <td>0</td>\n",
       "      <td>3</td>\n",
       "      <td>0.857143</td>\n",
       "      <td>0.414634</td>\n",
       "      <td>0.585366</td>\n",
       "      <td>0.142857</td>\n",
       "      <td>6</td>\n",
       "      <td>17</td>\n",
       "      <td>24</td>\n",
       "      <td>1</td>\n",
       "    </tr>\n",
       "    <tr>\n",
       "      <th>4</th>\n",
       "      <td>5</td>\n",
       "      <td>Female</td>\n",
       "      <td>0.000000</td>\n",
       "      <td>1.000000</td>\n",
       "      <td>0.000000</td>\n",
       "      <td>1.000000</td>\n",
       "      <td>0</td>\n",
       "      <td>45</td>\n",
       "      <td>0</td>\n",
       "      <td>3</td>\n",
       "      <td>...</td>\n",
       "      <td>0</td>\n",
       "      <td>3</td>\n",
       "      <td>0.333333</td>\n",
       "      <td>0.666667</td>\n",
       "      <td>0.333333</td>\n",
       "      <td>0.666667</td>\n",
       "      <td>1</td>\n",
       "      <td>30</td>\n",
       "      <td>15</td>\n",
       "      <td>2</td>\n",
       "    </tr>\n",
       "  </tbody>\n",
       "</table>\n",
       "<p>5 rows × 58 columns</p>\n",
       "</div>"
      ],
      "text/plain": [
       "   Fold   Group   SVM_TPR   SVM_TNR   SVM_FPR   SVM_FNR  SVM_TP  SVM_TN  \\\n",
       "0     1  Female  0.250000  0.977778  0.022222  0.750000       1      44   \n",
       "1     2  Female  0.500000  0.977273  0.022727  0.500000       2      43   \n",
       "2     3  Female  0.000000  1.000000  0.000000  1.000000       0      46   \n",
       "3     4  Female  0.428571  1.000000  0.000000  0.571429       3      41   \n",
       "4     5  Female  0.000000  1.000000  0.000000  1.000000       0      45   \n",
       "\n",
       "   SVM_FP  SVM_FN  ...  ANN_FP  ANN_FN    NB_TPR    NB_TNR    NB_FPR  \\\n",
       "0       1       3  ...       2       1  1.000000  0.688889  0.311111   \n",
       "1       1       2  ...       1       2  0.750000  0.909091  0.090909   \n",
       "2       0       2  ...       0       1  1.000000  0.565217  0.434783   \n",
       "3       0       4  ...       0       3  0.857143  0.414634  0.585366   \n",
       "4       0       3  ...       0       3  0.333333  0.666667  0.333333   \n",
       "\n",
       "     NB_FNR  NB_TP  NB_TN  NB_FP  NB_FN  \n",
       "0  0.000000      4     31     14      0  \n",
       "1  0.250000      3     40      4      1  \n",
       "2  0.000000      2     26     20      0  \n",
       "3  0.142857      6     17     24      1  \n",
       "4  0.666667      1     30     15      2  \n",
       "\n",
       "[5 rows x 58 columns]"
      ]
     },
     "execution_count": 16,
     "metadata": {},
     "output_type": "execute_result"
    }
   ],
   "source": [
    "df = pd.read_excel(result_path)\n",
    "df.head()"
   ]
  },
  {
   "cell_type": "code",
   "execution_count": 17,
   "metadata": {},
   "outputs": [
    {
     "name": "stdout",
     "output_type": "stream",
     "text": [
      "SVM -TPR: TtestResult(statistic=np.float64(-0.8239883703866057), pvalue=np.float64(0.4338228103640429), df=np.float64(8.0))\n",
      "SVM - FPR: MannwhitneyuResult(statistic=np.float64(7.0), pvalue=np.float64(0.26520539259150755))\n",
      "SVM - FN/FP: MannwhitneyuResult(statistic=np.float64(15.0), pvalue=np.float64(0.6742358755985722))\n",
      "DT -TPR: TtestResult(statistic=np.float64(0.15151005324832714), pvalue=np.float64(0.8833243903339965), df=np.float64(8.0))\n",
      "DT - FPR: TtestResult(statistic=np.float64(-2.195881062249031), pvalue=np.float64(0.05937403637776), df=np.float64(8.0))\n",
      "DT - FN/FP: MannwhitneyuResult(statistic=np.float64(12.0), pvalue=np.float64(1.0))\n",
      "RF -TPR: MannwhitneyuResult(statistic=np.float64(12.5), pvalue=np.float64(1.0))\n",
      "RF - FPR: MannwhitneyuResult(statistic=np.float64(3.5), pvalue=np.float64(0.05648280375504712))\n",
      "RF - FN/FP: MannwhitneyuResult(statistic=np.float64(16.5), pvalue=np.float64(0.4633438825652173))\n",
      "LR -TPR: TtestResult(statistic=np.float64(-0.1751820784491844), pvalue=np.float64(0.8652892208935732), df=np.float64(8.0))\n",
      "LR - FPR: TtestResult(statistic=np.float64(-0.0949741441086971), pvalue=np.float64(0.9266711804917492), df=np.float64(8.0))\n",
      "LR - FN/FP: MannwhitneyuResult(statistic=np.float64(7.0), pvalue=np.float64(0.2903468336607644))\n",
      "KNN -TPR: TtestResult(statistic=np.float64(-1.0160009882906798), pvalue=np.float64(0.3393678179580398), df=np.float64(8.0))\n",
      "KNN - FPR: MannwhitneyuResult(statistic=np.float64(1.0), pvalue=np.float64(0.018490777408429176))\n",
      "KNN - FN/FP: MannwhitneyuResult(statistic=np.float64(17.5), pvalue=np.float64(0.34426654809108104))\n",
      "ANN -TPR: TtestResult(statistic=np.float64(-0.058341251644046195), pvalue=np.float64(0.9549077659736626), df=np.float64(8.0))\n",
      "ANN - FPR: MannwhitneyuResult(statistic=np.float64(4.5), pvalue=np.float64(0.10712339925384028))\n",
      "ANN - FN/FP: MannwhitneyuResult(statistic=np.float64(17.0), pvalue=np.float64(0.3961439091520741))\n",
      "NB -TPR: TtestResult(statistic=np.float64(0.16751326586978607), pvalue=np.float64(0.8711232796290673), df=np.float64(8.0))\n",
      "NB - FPR: TtestResult(statistic=np.float64(2.5311683091525934), pvalue=np.float64(0.03519135897872099), df=np.float64(8.0))\n",
      "NB - FN/FP: TtestResult(statistic=np.float64(-2.5287145662555925), pvalue=np.float64(0.035326076532358454), df=np.float64(8.0))\n"
     ]
    }
   ],
   "source": [
    "label = 'Female'\n",
    "\n",
    "fl.perform_t_tests(df, 'SVM', label)\n",
    "fl.perform_t_tests(df, 'DT', label)\n",
    "fl.perform_t_tests(df, 'RF', label)\n",
    "fl.perform_t_tests(df, 'LR', label)\n",
    "fl.perform_t_tests(df, 'KNN', label)\n",
    "fl.perform_t_tests(df, 'ANN', label)\n",
    "fl.perform_t_tests(df, 'NB', label)\n"
   ]
  }
 ],
 "metadata": {
  "kernelspec": {
   "display_name": "f2ml",
   "language": "python",
   "name": "python3"
  },
  "language_info": {
   "codemirror_mode": {
    "name": "ipython",
    "version": 3
   },
   "file_extension": ".py",
   "mimetype": "text/x-python",
   "name": "python",
   "nbconvert_exporter": "python",
   "pygments_lexer": "ipython3",
   "version": "3.13.1"
  }
 },
 "nbformat": 4,
 "nbformat_minor": 2
}
