{
 "cells": [
  {
   "cell_type": "code",
   "execution_count": 1,
   "metadata": {},
   "outputs": [
    {
     "name": "stderr",
     "output_type": "stream",
     "text": [
      "/home/morning/miniconda3/envs/f2ml/lib/python3.13/site-packages/tqdm/auto.py:21: TqdmWarning: IProgress not found. Please update jupyter and ipywidgets. See https://ipywidgets.readthedocs.io/en/stable/user_install.html\n",
      "  from .autonotebook import tqdm as notebook_tqdm\n"
     ]
    },
    {
     "name": "stdout",
     "output_type": "stream",
     "text": [
      "Warning: Looks like you're using an outdated `kagglehub` version (installed: 0.3.5), please consider upgrading to the latest version (0.3.6).\n",
      "Path to dataset files: /home/morning/.cache/kagglehub/datasets/rabieelkharoua/predict-liver-disease-1700-records-dataset/versions/1\n"
     ]
    }
   ],
   "source": [
    "import kagglehub\n",
    "\n",
    "# Download latest version\n",
    "path = kagglehub.dataset_download(\"rabieelkharoua/predict-liver-disease-1700-records-dataset\")\n",
    "\n",
    "print(\"Path to dataset files:\", path)"
   ]
  },
  {
   "cell_type": "code",
   "execution_count": 2,
   "metadata": {},
   "outputs": [
    {
     "data": {
      "text/plain": [
       "['Liver_disease_data.csv']"
      ]
     },
     "execution_count": 2,
     "metadata": {},
     "output_type": "execute_result"
    }
   ],
   "source": [
    "import os\n",
    "os.listdir(path)"
   ]
  },
  {
   "cell_type": "code",
   "execution_count": 3,
   "metadata": {},
   "outputs": [],
   "source": [
    "import pandas as pd\n",
    "import fairtl_statisticaltest as fl\n",
    "from sklearn.feature_selection import VarianceThreshold\n",
    "from sklearn.preprocessing import StandardScaler\n",
    "from sklearn.model_selection import KFold\n",
    "from sklearn.preprocessing import OrdinalEncoder, LabelEncoder\n",
    "from sklearn.preprocessing import OneHotEncoder"
   ]
  },
  {
   "cell_type": "code",
   "execution_count": 4,
   "metadata": {},
   "outputs": [
    {
     "data": {
      "text/html": [
       "<div>\n",
       "<style scoped>\n",
       "    .dataframe tbody tr th:only-of-type {\n",
       "        vertical-align: middle;\n",
       "    }\n",
       "\n",
       "    .dataframe tbody tr th {\n",
       "        vertical-align: top;\n",
       "    }\n",
       "\n",
       "    .dataframe thead th {\n",
       "        text-align: right;\n",
       "    }\n",
       "</style>\n",
       "<table border=\"1\" class=\"dataframe\">\n",
       "  <thead>\n",
       "    <tr style=\"text-align: right;\">\n",
       "      <th></th>\n",
       "      <th>Age</th>\n",
       "      <th>Gender</th>\n",
       "      <th>BMI</th>\n",
       "      <th>AlcoholConsumption</th>\n",
       "      <th>Smoking</th>\n",
       "      <th>GeneticRisk</th>\n",
       "      <th>PhysicalActivity</th>\n",
       "      <th>Diabetes</th>\n",
       "      <th>Hypertension</th>\n",
       "      <th>LiverFunctionTest</th>\n",
       "      <th>Diagnosis</th>\n",
       "    </tr>\n",
       "  </thead>\n",
       "  <tbody>\n",
       "    <tr>\n",
       "      <th>0</th>\n",
       "      <td>58</td>\n",
       "      <td>0</td>\n",
       "      <td>35.857584</td>\n",
       "      <td>17.272828</td>\n",
       "      <td>0</td>\n",
       "      <td>1</td>\n",
       "      <td>0.658940</td>\n",
       "      <td>0</td>\n",
       "      <td>0</td>\n",
       "      <td>42.734240</td>\n",
       "      <td>1</td>\n",
       "    </tr>\n",
       "    <tr>\n",
       "      <th>1</th>\n",
       "      <td>71</td>\n",
       "      <td>1</td>\n",
       "      <td>30.732470</td>\n",
       "      <td>2.201266</td>\n",
       "      <td>0</td>\n",
       "      <td>1</td>\n",
       "      <td>1.670557</td>\n",
       "      <td>1</td>\n",
       "      <td>0</td>\n",
       "      <td>67.309822</td>\n",
       "      <td>1</td>\n",
       "    </tr>\n",
       "    <tr>\n",
       "      <th>2</th>\n",
       "      <td>48</td>\n",
       "      <td>0</td>\n",
       "      <td>19.971407</td>\n",
       "      <td>18.500944</td>\n",
       "      <td>0</td>\n",
       "      <td>0</td>\n",
       "      <td>9.928308</td>\n",
       "      <td>0</td>\n",
       "      <td>0</td>\n",
       "      <td>63.738956</td>\n",
       "      <td>0</td>\n",
       "    </tr>\n",
       "    <tr>\n",
       "      <th>3</th>\n",
       "      <td>34</td>\n",
       "      <td>1</td>\n",
       "      <td>16.615417</td>\n",
       "      <td>12.632870</td>\n",
       "      <td>0</td>\n",
       "      <td>0</td>\n",
       "      <td>5.630129</td>\n",
       "      <td>0</td>\n",
       "      <td>0</td>\n",
       "      <td>64.555873</td>\n",
       "      <td>1</td>\n",
       "    </tr>\n",
       "    <tr>\n",
       "      <th>4</th>\n",
       "      <td>62</td>\n",
       "      <td>1</td>\n",
       "      <td>16.065830</td>\n",
       "      <td>1.087815</td>\n",
       "      <td>0</td>\n",
       "      <td>1</td>\n",
       "      <td>3.566218</td>\n",
       "      <td>1</td>\n",
       "      <td>0</td>\n",
       "      <td>77.868689</td>\n",
       "      <td>1</td>\n",
       "    </tr>\n",
       "  </tbody>\n",
       "</table>\n",
       "</div>"
      ],
      "text/plain": [
       "   Age  Gender        BMI  AlcoholConsumption  Smoking  GeneticRisk  \\\n",
       "0   58       0  35.857584           17.272828        0            1   \n",
       "1   71       1  30.732470            2.201266        0            1   \n",
       "2   48       0  19.971407           18.500944        0            0   \n",
       "3   34       1  16.615417           12.632870        0            0   \n",
       "4   62       1  16.065830            1.087815        0            1   \n",
       "\n",
       "   PhysicalActivity  Diabetes  Hypertension  LiverFunctionTest  Diagnosis  \n",
       "0          0.658940         0             0          42.734240          1  \n",
       "1          1.670557         1             0          67.309822          1  \n",
       "2          9.928308         0             0          63.738956          0  \n",
       "3          5.630129         0             0          64.555873          1  \n",
       "4          3.566218         1             0          77.868689          1  "
      ]
     },
     "execution_count": 4,
     "metadata": {},
     "output_type": "execute_result"
    }
   ],
   "source": [
    "df = pd.read_csv(f'{path}/Liver_disease_data.csv')\n",
    "df.head()"
   ]
  },
  {
   "cell_type": "code",
   "execution_count": 5,
   "metadata": {},
   "outputs": [
    {
     "data": {
      "text/plain": [
       "(1700, 11)"
      ]
     },
     "execution_count": 5,
     "metadata": {},
     "output_type": "execute_result"
    }
   ],
   "source": [
    "df.shape"
   ]
  },
  {
   "cell_type": "code",
   "execution_count": 6,
   "metadata": {},
   "outputs": [
    {
     "name": "stdout",
     "output_type": "stream",
     "text": [
      "<class 'pandas.core.frame.DataFrame'>\n",
      "RangeIndex: 1700 entries, 0 to 1699\n",
      "Data columns (total 11 columns):\n",
      " #   Column              Non-Null Count  Dtype  \n",
      "---  ------              --------------  -----  \n",
      " 0   Age                 1700 non-null   int64  \n",
      " 1   Gender              1700 non-null   int64  \n",
      " 2   BMI                 1700 non-null   float64\n",
      " 3   AlcoholConsumption  1700 non-null   float64\n",
      " 4   Smoking             1700 non-null   int64  \n",
      " 5   GeneticRisk         1700 non-null   int64  \n",
      " 6   PhysicalActivity    1700 non-null   float64\n",
      " 7   Diabetes            1700 non-null   int64  \n",
      " 8   Hypertension        1700 non-null   int64  \n",
      " 9   LiverFunctionTest   1700 non-null   float64\n",
      " 10  Diagnosis           1700 non-null   int64  \n",
      "dtypes: float64(4), int64(7)\n",
      "memory usage: 146.2 KB\n"
     ]
    }
   ],
   "source": [
    "df.info()"
   ]
  },
  {
   "cell_type": "code",
   "execution_count": 7,
   "metadata": {},
   "outputs": [
    {
     "data": {
      "text/plain": [
       "array([0, 1])"
      ]
     },
     "execution_count": 7,
     "metadata": {},
     "output_type": "execute_result"
    }
   ],
   "source": [
    "df['Gender'].unique()"
   ]
  },
  {
   "cell_type": "code",
   "execution_count": 8,
   "metadata": {},
   "outputs": [],
   "source": [
    "y = df['Diagnosis'].values\n",
    "X = df.drop('Diagnosis', axis=1)"
   ]
  },
  {
   "cell_type": "code",
   "execution_count": 9,
   "metadata": {},
   "outputs": [
    {
     "name": "stdout",
     "output_type": "stream",
     "text": [
      "(1700, 10)\n",
      "(1700, 10)\n"
     ]
    }
   ],
   "source": [
    "print(X.shape)\n",
    "selector = VarianceThreshold(threshold=0.1)\n",
    "X = selector.fit_transform(X)\n",
    "print(X.shape)"
   ]
  },
  {
   "cell_type": "code",
   "execution_count": 10,
   "metadata": {},
   "outputs": [
    {
     "name": "stdout",
     "output_type": "stream",
     "text": [
      "Female:  843\n",
      "Male:  857\n"
     ]
    }
   ],
   "source": [
    "# build mask\n",
    "gender_0_mask = df['Gender'] == 0\n",
    "gender_1_mask = df['Gender'] == 1\n",
    "\n",
    "count_gender_0 = gender_0_mask.sum()\n",
    "count_gender_1 = gender_1_mask.sum()\n",
    "\n",
    "print(\"Female: \", count_gender_0)\n",
    "print(\"Male: \", count_gender_1)\n",
    "\n",
    "scaler = StandardScaler()\n",
    "X_scaled = scaler.fit_transform(X)\n",
    "\n",
    "X_scaled_Gender_0 = X_scaled[gender_0_mask]\n",
    "X_scaled_Gender_1 = X_scaled[gender_1_mask]\n",
    "y_Gender_0 = y[gender_0_mask]\n",
    "y_Gender_1 = y[gender_1_mask]"
   ]
  },
  {
   "cell_type": "code",
   "execution_count": 11,
   "metadata": {},
   "outputs": [],
   "source": [
    "seed = 42\n",
    "models = fl.build_models(seed)\n",
    "\n",
    "results_list = []\n",
    "\n",
    "kf = KFold(n_splits=5, shuffle=True, random_state=seed)"
   ]
  },
  {
   "cell_type": "code",
   "execution_count": 12,
   "metadata": {},
   "outputs": [
    {
     "name": "stdout",
     "output_type": "stream",
     "text": [
      "Starting experiments for Female(0)\n",
      "Processing fold 1 for group Female\n",
      "Training and evaluating model: SVM\n",
      "Training and evaluating model: LR\n",
      "Training and evaluating model: KNN\n",
      "Training and evaluating model: RF\n",
      "Training and evaluating model: DT\n",
      "Training and evaluating model: ANN\n"
     ]
    },
    {
     "name": "stderr",
     "output_type": "stream",
     "text": [
      "/home/morning/miniconda3/envs/f2ml/lib/python3.13/site-packages/sklearn/neural_network/_multilayer_perceptron.py:691: ConvergenceWarning: Stochastic Optimizer: Maximum iterations (200) reached and the optimization hasn't converged yet.\n",
      "  warnings.warn(\n"
     ]
    },
    {
     "name": "stdout",
     "output_type": "stream",
     "text": [
      "Training and evaluating model: NB\n",
      "Processing fold 2 for group Female\n",
      "Training and evaluating model: SVM\n",
      "Training and evaluating model: LR\n",
      "Training and evaluating model: KNN\n",
      "Training and evaluating model: RF\n",
      "Training and evaluating model: DT\n",
      "Training and evaluating model: ANN\n"
     ]
    },
    {
     "name": "stderr",
     "output_type": "stream",
     "text": [
      "/home/morning/miniconda3/envs/f2ml/lib/python3.13/site-packages/sklearn/neural_network/_multilayer_perceptron.py:691: ConvergenceWarning: Stochastic Optimizer: Maximum iterations (200) reached and the optimization hasn't converged yet.\n",
      "  warnings.warn(\n"
     ]
    },
    {
     "name": "stdout",
     "output_type": "stream",
     "text": [
      "Training and evaluating model: NB\n",
      "Processing fold 3 for group Female\n",
      "Training and evaluating model: SVM\n",
      "Training and evaluating model: LR\n",
      "Training and evaluating model: KNN\n",
      "Training and evaluating model: RF\n",
      "Training and evaluating model: DT\n",
      "Training and evaluating model: ANN\n"
     ]
    },
    {
     "name": "stderr",
     "output_type": "stream",
     "text": [
      "/home/morning/miniconda3/envs/f2ml/lib/python3.13/site-packages/sklearn/neural_network/_multilayer_perceptron.py:691: ConvergenceWarning: Stochastic Optimizer: Maximum iterations (200) reached and the optimization hasn't converged yet.\n",
      "  warnings.warn(\n"
     ]
    },
    {
     "name": "stdout",
     "output_type": "stream",
     "text": [
      "Training and evaluating model: NB\n",
      "Processing fold 4 for group Female\n",
      "Training and evaluating model: SVM\n",
      "Training and evaluating model: LR\n",
      "Training and evaluating model: KNN\n",
      "Training and evaluating model: RF\n",
      "Training and evaluating model: DT\n",
      "Training and evaluating model: ANN\n"
     ]
    },
    {
     "name": "stderr",
     "output_type": "stream",
     "text": [
      "/home/morning/miniconda3/envs/f2ml/lib/python3.13/site-packages/sklearn/neural_network/_multilayer_perceptron.py:691: ConvergenceWarning: Stochastic Optimizer: Maximum iterations (200) reached and the optimization hasn't converged yet.\n",
      "  warnings.warn(\n"
     ]
    },
    {
     "name": "stdout",
     "output_type": "stream",
     "text": [
      "Training and evaluating model: NB\n",
      "Processing fold 5 for group Female\n",
      "Training and evaluating model: SVM\n",
      "Training and evaluating model: LR\n",
      "Training and evaluating model: KNN\n",
      "Training and evaluating model: RF\n",
      "Training and evaluating model: DT\n",
      "Training and evaluating model: ANN\n"
     ]
    },
    {
     "name": "stderr",
     "output_type": "stream",
     "text": [
      "/home/morning/miniconda3/envs/f2ml/lib/python3.13/site-packages/sklearn/neural_network/_multilayer_perceptron.py:691: ConvergenceWarning: Stochastic Optimizer: Maximum iterations (200) reached and the optimization hasn't converged yet.\n",
      "  warnings.warn(\n"
     ]
    },
    {
     "name": "stdout",
     "output_type": "stream",
     "text": [
      "Training and evaluating model: NB\n",
      "Starting experiments for Male(1)\n",
      "Processing fold 1 for group Male\n",
      "Training and evaluating model: SVM\n",
      "Training and evaluating model: LR\n",
      "Training and evaluating model: KNN\n",
      "Training and evaluating model: RF\n",
      "Training and evaluating model: DT\n",
      "Training and evaluating model: ANN\n"
     ]
    },
    {
     "name": "stderr",
     "output_type": "stream",
     "text": [
      "/home/morning/miniconda3/envs/f2ml/lib/python3.13/site-packages/sklearn/neural_network/_multilayer_perceptron.py:691: ConvergenceWarning: Stochastic Optimizer: Maximum iterations (200) reached and the optimization hasn't converged yet.\n",
      "  warnings.warn(\n"
     ]
    },
    {
     "name": "stdout",
     "output_type": "stream",
     "text": [
      "Training and evaluating model: NB\n",
      "Processing fold 2 for group Male\n",
      "Training and evaluating model: SVM\n",
      "Training and evaluating model: LR\n",
      "Training and evaluating model: KNN\n",
      "Training and evaluating model: RF\n",
      "Training and evaluating model: DT\n",
      "Training and evaluating model: ANN\n"
     ]
    },
    {
     "name": "stderr",
     "output_type": "stream",
     "text": [
      "/home/morning/miniconda3/envs/f2ml/lib/python3.13/site-packages/sklearn/neural_network/_multilayer_perceptron.py:691: ConvergenceWarning: Stochastic Optimizer: Maximum iterations (200) reached and the optimization hasn't converged yet.\n",
      "  warnings.warn(\n"
     ]
    },
    {
     "name": "stdout",
     "output_type": "stream",
     "text": [
      "Training and evaluating model: NB\n",
      "Processing fold 3 for group Male\n",
      "Training and evaluating model: SVM\n",
      "Training and evaluating model: LR\n",
      "Training and evaluating model: KNN\n",
      "Training and evaluating model: RF\n",
      "Training and evaluating model: DT\n",
      "Training and evaluating model: ANN\n"
     ]
    },
    {
     "name": "stderr",
     "output_type": "stream",
     "text": [
      "/home/morning/miniconda3/envs/f2ml/lib/python3.13/site-packages/sklearn/neural_network/_multilayer_perceptron.py:691: ConvergenceWarning: Stochastic Optimizer: Maximum iterations (200) reached and the optimization hasn't converged yet.\n",
      "  warnings.warn(\n"
     ]
    },
    {
     "name": "stdout",
     "output_type": "stream",
     "text": [
      "Training and evaluating model: NB\n",
      "Processing fold 4 for group Male\n",
      "Training and evaluating model: SVM\n",
      "Training and evaluating model: LR\n",
      "Training and evaluating model: KNN\n",
      "Training and evaluating model: RF\n",
      "Training and evaluating model: DT\n",
      "Training and evaluating model: ANN\n"
     ]
    },
    {
     "name": "stderr",
     "output_type": "stream",
     "text": [
      "/home/morning/miniconda3/envs/f2ml/lib/python3.13/site-packages/sklearn/neural_network/_multilayer_perceptron.py:691: ConvergenceWarning: Stochastic Optimizer: Maximum iterations (200) reached and the optimization hasn't converged yet.\n",
      "  warnings.warn(\n"
     ]
    },
    {
     "name": "stdout",
     "output_type": "stream",
     "text": [
      "Training and evaluating model: NB\n",
      "Processing fold 5 for group Male\n",
      "Training and evaluating model: SVM\n",
      "Training and evaluating model: LR\n",
      "Training and evaluating model: KNN\n",
      "Training and evaluating model: RF\n",
      "Training and evaluating model: DT\n",
      "Training and evaluating model: ANN\n",
      "Training and evaluating model: NB\n",
      "   Fold   Group   SVM_TPR   SVM_TNR   SVM_FPR   SVM_FNR  SVM_TP  SVM_TN  \\\n",
      "0     1  Female  0.851351  0.842105  0.157895  0.148649      63      80   \n",
      "1     2  Female  0.779221  0.913043  0.086957  0.220779      60      84   \n",
      "2     3  Female  0.835616  0.895833  0.104167  0.164384      61      86   \n",
      "3     4  Female  0.810127  0.797753  0.202247  0.189873      64      71   \n",
      "4     5  Female  0.790123  0.873563  0.126437  0.209877      64      76   \n",
      "5     1    Male  0.963636  0.725806  0.274194  0.036364     106      45   \n",
      "6     2    Male  0.913793  0.678571  0.321429  0.086207     106      38   \n",
      "7     3    Male  0.865385  0.701493  0.298507  0.134615      90      47   \n",
      "8     4    Male  0.907407  0.793651  0.206349  0.092593      98      50   \n",
      "9     5    Male  0.921053  0.719298  0.280702  0.078947     105      41   \n",
      "\n",
      "   SVM_FP  SVM_FN  ...  ANN_FP  ANN_FN    NB_TPR    NB_TNR    NB_FPR  \\\n",
      "0      15      11  ...      16      10  0.810811  0.821053  0.178947   \n",
      "1       8      17  ...       5      18  0.779221  0.869565  0.130435   \n",
      "2      10      12  ...      11      14  0.712329  0.875000  0.125000   \n",
      "3      18      15  ...      20      13  0.683544  0.797753  0.202247   \n",
      "4      11      17  ...      10      17  0.777778  0.850575  0.149425   \n",
      "5      17       4  ...      12       9  0.918182  0.677419  0.322581   \n",
      "6      18      10  ...      16      12  0.896552  0.660714  0.339286   \n",
      "7      20      14  ...      20      14  0.865385  0.671642  0.328358   \n",
      "8      13      10  ...      10       9  0.851852  0.777778  0.222222   \n",
      "9      16       9  ...      10      13  0.807018  0.736842  0.263158   \n",
      "\n",
      "     NB_FNR  NB_TP  NB_TN  NB_FP  NB_FN  \n",
      "0  0.189189     60     78     17     14  \n",
      "1  0.220779     60     80     12     17  \n",
      "2  0.287671     52     84     12     21  \n",
      "3  0.316456     54     71     18     25  \n",
      "4  0.222222     63     74     13     18  \n",
      "5  0.081818    101     42     20      9  \n",
      "6  0.103448    104     37     19     12  \n",
      "7  0.134615     90     45     22     14  \n",
      "8  0.148148     92     49     14     16  \n",
      "9  0.192982     92     42     15     22  \n",
      "\n",
      "[10 rows x 58 columns]\n"
     ]
    },
    {
     "name": "stderr",
     "output_type": "stream",
     "text": [
      "/home/morning/miniconda3/envs/f2ml/lib/python3.13/site-packages/sklearn/neural_network/_multilayer_perceptron.py:691: ConvergenceWarning: Stochastic Optimizer: Maximum iterations (200) reached and the optimization hasn't converged yet.\n",
      "  warnings.warn(\n"
     ]
    }
   ],
   "source": [
    "print(\"Starting experiments for Female(0)\")\n",
    "fl.run_experiment(kf, models, X_scaled_Gender_0, y_Gender_0, 'Female', results_list)\n",
    "\n",
    "print(\"Starting experiments for Male(1)\")\n",
    "fl.run_experiment(kf, models, X_scaled_Gender_1, y_Gender_1, 'Male', results_list)\n",
    "\n",
    "final_results_df = pd.concat(results_list, ignore_index=True)\n",
    "print(final_results_df)"
   ]
  },
  {
   "cell_type": "code",
   "execution_count": 13,
   "metadata": {},
   "outputs": [],
   "source": [
    "results_df = pd.concat(results_list, ignore_index=True)"
   ]
  },
  {
   "cell_type": "code",
   "execution_count": 14,
   "metadata": {},
   "outputs": [],
   "source": [
    "result_path = './results/K25_result.xlsx'\n",
    "results_df.to_excel(result_path, index=False)"
   ]
  },
  {
   "cell_type": "code",
   "execution_count": 15,
   "metadata": {},
   "outputs": [
    {
     "data": {
      "text/html": [
       "<div>\n",
       "<style scoped>\n",
       "    .dataframe tbody tr th:only-of-type {\n",
       "        vertical-align: middle;\n",
       "    }\n",
       "\n",
       "    .dataframe tbody tr th {\n",
       "        vertical-align: top;\n",
       "    }\n",
       "\n",
       "    .dataframe thead th {\n",
       "        text-align: right;\n",
       "    }\n",
       "</style>\n",
       "<table border=\"1\" class=\"dataframe\">\n",
       "  <thead>\n",
       "    <tr style=\"text-align: right;\">\n",
       "      <th></th>\n",
       "      <th>Fold</th>\n",
       "      <th>Group</th>\n",
       "      <th>SVM_TPR</th>\n",
       "      <th>SVM_TNR</th>\n",
       "      <th>SVM_FPR</th>\n",
       "      <th>SVM_FNR</th>\n",
       "      <th>SVM_TP</th>\n",
       "      <th>SVM_TN</th>\n",
       "      <th>SVM_FP</th>\n",
       "      <th>SVM_FN</th>\n",
       "      <th>...</th>\n",
       "      <th>ANN_FP</th>\n",
       "      <th>ANN_FN</th>\n",
       "      <th>NB_TPR</th>\n",
       "      <th>NB_TNR</th>\n",
       "      <th>NB_FPR</th>\n",
       "      <th>NB_FNR</th>\n",
       "      <th>NB_TP</th>\n",
       "      <th>NB_TN</th>\n",
       "      <th>NB_FP</th>\n",
       "      <th>NB_FN</th>\n",
       "    </tr>\n",
       "  </thead>\n",
       "  <tbody>\n",
       "    <tr>\n",
       "      <th>0</th>\n",
       "      <td>1</td>\n",
       "      <td>Female</td>\n",
       "      <td>0.851351</td>\n",
       "      <td>0.842105</td>\n",
       "      <td>0.157895</td>\n",
       "      <td>0.148649</td>\n",
       "      <td>63</td>\n",
       "      <td>80</td>\n",
       "      <td>15</td>\n",
       "      <td>11</td>\n",
       "      <td>...</td>\n",
       "      <td>16</td>\n",
       "      <td>10</td>\n",
       "      <td>0.810811</td>\n",
       "      <td>0.821053</td>\n",
       "      <td>0.178947</td>\n",
       "      <td>0.189189</td>\n",
       "      <td>60</td>\n",
       "      <td>78</td>\n",
       "      <td>17</td>\n",
       "      <td>14</td>\n",
       "    </tr>\n",
       "    <tr>\n",
       "      <th>1</th>\n",
       "      <td>2</td>\n",
       "      <td>Female</td>\n",
       "      <td>0.779221</td>\n",
       "      <td>0.913043</td>\n",
       "      <td>0.086957</td>\n",
       "      <td>0.220779</td>\n",
       "      <td>60</td>\n",
       "      <td>84</td>\n",
       "      <td>8</td>\n",
       "      <td>17</td>\n",
       "      <td>...</td>\n",
       "      <td>5</td>\n",
       "      <td>18</td>\n",
       "      <td>0.779221</td>\n",
       "      <td>0.869565</td>\n",
       "      <td>0.130435</td>\n",
       "      <td>0.220779</td>\n",
       "      <td>60</td>\n",
       "      <td>80</td>\n",
       "      <td>12</td>\n",
       "      <td>17</td>\n",
       "    </tr>\n",
       "    <tr>\n",
       "      <th>2</th>\n",
       "      <td>3</td>\n",
       "      <td>Female</td>\n",
       "      <td>0.835616</td>\n",
       "      <td>0.895833</td>\n",
       "      <td>0.104167</td>\n",
       "      <td>0.164384</td>\n",
       "      <td>61</td>\n",
       "      <td>86</td>\n",
       "      <td>10</td>\n",
       "      <td>12</td>\n",
       "      <td>...</td>\n",
       "      <td>11</td>\n",
       "      <td>14</td>\n",
       "      <td>0.712329</td>\n",
       "      <td>0.875000</td>\n",
       "      <td>0.125000</td>\n",
       "      <td>0.287671</td>\n",
       "      <td>52</td>\n",
       "      <td>84</td>\n",
       "      <td>12</td>\n",
       "      <td>21</td>\n",
       "    </tr>\n",
       "    <tr>\n",
       "      <th>3</th>\n",
       "      <td>4</td>\n",
       "      <td>Female</td>\n",
       "      <td>0.810127</td>\n",
       "      <td>0.797753</td>\n",
       "      <td>0.202247</td>\n",
       "      <td>0.189873</td>\n",
       "      <td>64</td>\n",
       "      <td>71</td>\n",
       "      <td>18</td>\n",
       "      <td>15</td>\n",
       "      <td>...</td>\n",
       "      <td>20</td>\n",
       "      <td>13</td>\n",
       "      <td>0.683544</td>\n",
       "      <td>0.797753</td>\n",
       "      <td>0.202247</td>\n",
       "      <td>0.316456</td>\n",
       "      <td>54</td>\n",
       "      <td>71</td>\n",
       "      <td>18</td>\n",
       "      <td>25</td>\n",
       "    </tr>\n",
       "    <tr>\n",
       "      <th>4</th>\n",
       "      <td>5</td>\n",
       "      <td>Female</td>\n",
       "      <td>0.790123</td>\n",
       "      <td>0.873563</td>\n",
       "      <td>0.126437</td>\n",
       "      <td>0.209877</td>\n",
       "      <td>64</td>\n",
       "      <td>76</td>\n",
       "      <td>11</td>\n",
       "      <td>17</td>\n",
       "      <td>...</td>\n",
       "      <td>10</td>\n",
       "      <td>17</td>\n",
       "      <td>0.777778</td>\n",
       "      <td>0.850575</td>\n",
       "      <td>0.149425</td>\n",
       "      <td>0.222222</td>\n",
       "      <td>63</td>\n",
       "      <td>74</td>\n",
       "      <td>13</td>\n",
       "      <td>18</td>\n",
       "    </tr>\n",
       "  </tbody>\n",
       "</table>\n",
       "<p>5 rows × 58 columns</p>\n",
       "</div>"
      ],
      "text/plain": [
       "   Fold   Group   SVM_TPR   SVM_TNR   SVM_FPR   SVM_FNR  SVM_TP  SVM_TN  \\\n",
       "0     1  Female  0.851351  0.842105  0.157895  0.148649      63      80   \n",
       "1     2  Female  0.779221  0.913043  0.086957  0.220779      60      84   \n",
       "2     3  Female  0.835616  0.895833  0.104167  0.164384      61      86   \n",
       "3     4  Female  0.810127  0.797753  0.202247  0.189873      64      71   \n",
       "4     5  Female  0.790123  0.873563  0.126437  0.209877      64      76   \n",
       "\n",
       "   SVM_FP  SVM_FN  ...  ANN_FP  ANN_FN    NB_TPR    NB_TNR    NB_FPR  \\\n",
       "0      15      11  ...      16      10  0.810811  0.821053  0.178947   \n",
       "1       8      17  ...       5      18  0.779221  0.869565  0.130435   \n",
       "2      10      12  ...      11      14  0.712329  0.875000  0.125000   \n",
       "3      18      15  ...      20      13  0.683544  0.797753  0.202247   \n",
       "4      11      17  ...      10      17  0.777778  0.850575  0.149425   \n",
       "\n",
       "     NB_FNR  NB_TP  NB_TN  NB_FP  NB_FN  \n",
       "0  0.189189     60     78     17     14  \n",
       "1  0.220779     60     80     12     17  \n",
       "2  0.287671     52     84     12     21  \n",
       "3  0.316456     54     71     18     25  \n",
       "4  0.222222     63     74     13     18  \n",
       "\n",
       "[5 rows x 58 columns]"
      ]
     },
     "execution_count": 15,
     "metadata": {},
     "output_type": "execute_result"
    }
   ],
   "source": [
    "df = pd.read_excel(result_path)\n",
    "df.head()"
   ]
  },
  {
   "cell_type": "code",
   "execution_count": 16,
   "metadata": {},
   "outputs": [
    {
     "name": "stdout",
     "output_type": "stream",
     "text": [
      "SVM -TPR: TtestResult(statistic=np.float64(-4.876247289028811), pvalue=np.float64(0.0012301924748186035), df=np.float64(8.0))\n",
      "SVM - FPR: TtestResult(statistic=np.float64(-5.001970209343365), pvalue=np.float64(0.001050238030800717), df=np.float64(8.0))\n",
      "SVM - FN/FP: TtestResult(statistic=np.float64(2.6777071113791857), pvalue=np.float64(0.028025418882360428), df=np.float64(8.0))\n",
      "DT -TPR: TtestResult(statistic=np.float64(-2.341908835128447), pvalue=np.float64(0.04727460998425441), df=np.float64(8.0))\n",
      "DT - FPR: TtestResult(statistic=np.float64(-2.041620271035891), pvalue=np.float64(0.07548377118988663), df=np.float64(8.0))\n",
      "DT - FN/FP: MannwhitneyuResult(statistic=np.float64(12.5), pvalue=np.float64(1.0))\n",
      "RF -TPR: TtestResult(statistic=np.float64(-2.933511109422888), pvalue=np.float64(0.018896327914488847), df=np.float64(8.0))\n",
      "RF - FPR: TtestResult(statistic=np.float64(-2.887370401915957), pvalue=np.float64(0.020280818929884484), df=np.float64(8.0))\n",
      "RF - FN/FP: TtestResult(statistic=np.float64(2.4485517710857776), pvalue=np.float64(0.040027035363634896), df=np.float64(8.0))\n",
      "LR -TPR: TtestResult(statistic=np.float64(-3.6012078402423056), pvalue=np.float64(0.006970061902011448), df=np.float64(8.0))\n",
      "LR - FPR: TtestResult(statistic=np.float64(-3.245056089488695), pvalue=np.float64(0.011788017417579118), df=np.float64(8.0))\n",
      "LR - FN/FP: MannwhitneyuResult(statistic=np.float64(18.0), pvalue=np.float64(0.30952380952380953))\n",
      "KNN -TPR: TtestResult(statistic=np.float64(-8.26380482495739), pvalue=np.float64(3.454769214175153e-05), df=np.float64(8.0))\n",
      "KNN - FPR: TtestResult(statistic=np.float64(-7.881960904046522), pvalue=np.float64(4.859231714057615e-05), df=np.float64(8.0))\n",
      "KNN - FN/FP: TtestResult(statistic=np.float64(3.5679980009937697), pvalue=np.float64(0.007314971751686198), df=np.float64(8.0))\n",
      "ANN -TPR: TtestResult(statistic=np.float64(-4.209585896154761), pvalue=np.float64(0.0029575423574163986), df=np.float64(8.0))\n",
      "ANN - FPR: TtestResult(statistic=np.float64(-2.129126582220851), pvalue=np.float64(0.06588249646972288), df=np.float64(8.0))\n",
      "ANN - FN/FP: TtestResult(statistic=np.float64(1.2376026509378057), pvalue=np.float64(0.2509532956834858), df=np.float64(8.0))\n",
      "NB -TPR: TtestResult(statistic=np.float64(-3.789217213184215), pvalue=np.float64(0.005317760551998468), df=np.float64(8.0))\n",
      "NB - FPR: TtestResult(statistic=np.float64(-5.128751530123685), pvalue=np.float64(0.0008974648424595659), df=np.float64(8.0))\n",
      "NB - FN/FP: TtestResult(statistic=np.float64(2.0210230327724905), pvalue=np.float64(0.07793486795660426), df=np.float64(8.0))\n"
     ]
    }
   ],
   "source": [
    "label = 'Female'\n",
    "\n",
    "fl.perform_t_tests(df, 'SVM', label)\n",
    "fl.perform_t_tests(df, 'DT', label)\n",
    "fl.perform_t_tests(df, 'RF', label)\n",
    "fl.perform_t_tests(df, 'LR', label)\n",
    "fl.perform_t_tests(df, 'KNN', label)\n",
    "fl.perform_t_tests(df, 'ANN', label)\n",
    "fl.perform_t_tests(df, 'NB', label)\n"
   ]
  }
 ],
 "metadata": {
  "kernelspec": {
   "display_name": "f2ml",
   "language": "python",
   "name": "python3"
  },
  "language_info": {
   "codemirror_mode": {
    "name": "ipython",
    "version": 3
   },
   "file_extension": ".py",
   "mimetype": "text/x-python",
   "name": "python",
   "nbconvert_exporter": "python",
   "pygments_lexer": "ipython3",
   "version": "3.13.1"
  }
 },
 "nbformat": 4,
 "nbformat_minor": 2
}
